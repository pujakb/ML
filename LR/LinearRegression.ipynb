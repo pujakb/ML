{
 "cells": [
  {
   "cell_type": "code",
   "execution_count": 626,
   "metadata": {},
   "outputs": [],
   "source": [
    "import pandas as pd\n",
    "from sklearn.cluster import KMeans\n",
    "import collections\n",
    "import matplotlib.pyplot as plt\n",
    "from matplotlib import colors\n",
    "import pylab as pl\n",
    "%matplotlib inline\n",
    "\n",
    "import scipy.stats as stats\n",
    "\n",
    "import sklearn\n",
    "import statsmodels.api as sm\n",
    "\n",
    "import seaborn as sns\n",
    "sns.set_style(\"whitegrid\")\n",
    "sns.set_context(\"poster\")\n",
    "\n",
    "#special matplotlib argument for improved plots\n",
    "from matplotlib import rcParams"
   ]
  },
  {
   "cell_type": "code",
   "execution_count": 627,
   "metadata": {},
   "outputs": [],
   "source": [
    "data = pd.read_csv(r'C:\\Users\\PB\\Downloads\\CarsNew.csv')\n",
    "data = data.loc[data['Year'].isin([2012, 2013])]"
   ]
  },
  {
   "cell_type": "code",
   "execution_count": 628,
   "metadata": {},
   "outputs": [
    {
     "data": {
      "text/html": [
       "<div>\n",
       "<style scoped>\n",
       "    .dataframe tbody tr th:only-of-type {\n",
       "        vertical-align: middle;\n",
       "    }\n",
       "\n",
       "    .dataframe tbody tr th {\n",
       "        vertical-align: top;\n",
       "    }\n",
       "\n",
       "    .dataframe thead th {\n",
       "        text-align: right;\n",
       "    }\n",
       "</style>\n",
       "<table border=\"1\" class=\"dataframe\">\n",
       "  <thead>\n",
       "    <tr style=\"text-align: right;\">\n",
       "      <th></th>\n",
       "      <th>Make</th>\n",
       "      <th>Model</th>\n",
       "      <th>Year</th>\n",
       "      <th>Engine Fuel Type</th>\n",
       "      <th>Engine HP</th>\n",
       "      <th>Engine Cylinders</th>\n",
       "      <th>Transmission Type</th>\n",
       "      <th>Driven_Wheels</th>\n",
       "      <th>Number of Doors</th>\n",
       "      <th>Market Category</th>\n",
       "      <th>Vehicle Size</th>\n",
       "      <th>Vehicle Style</th>\n",
       "      <th>highway MPG</th>\n",
       "      <th>city mpg</th>\n",
       "      <th>Popularity</th>\n",
       "      <th>MSRP</th>\n",
       "    </tr>\n",
       "  </thead>\n",
       "  <tbody>\n",
       "    <tr>\n",
       "      <th>5</th>\n",
       "      <td>BMW</td>\n",
       "      <td>1 Series</td>\n",
       "      <td>2012</td>\n",
       "      <td>premium unleaded (required)</td>\n",
       "      <td>230.0</td>\n",
       "      <td>6.0</td>\n",
       "      <td>MANUAL</td>\n",
       "      <td>rear wheel drive</td>\n",
       "      <td>2.0</td>\n",
       "      <td>Luxury,Performance</td>\n",
       "      <td>Compact</td>\n",
       "      <td>Coupe</td>\n",
       "      <td>28</td>\n",
       "      <td>18</td>\n",
       "      <td>3916</td>\n",
       "      <td>31200</td>\n",
       "    </tr>\n",
       "  </tbody>\n",
       "</table>\n",
       "</div>"
      ],
      "text/plain": [
       "  Make     Model  Year             Engine Fuel Type  Engine HP  \\\n",
       "5  BMW  1 Series  2012  premium unleaded (required)      230.0   \n",
       "\n",
       "   Engine Cylinders Transmission Type     Driven_Wheels  Number of Doors  \\\n",
       "5               6.0            MANUAL  rear wheel drive              2.0   \n",
       "\n",
       "      Market Category Vehicle Size Vehicle Style  highway MPG  city mpg  \\\n",
       "5  Luxury,Performance      Compact         Coupe           28        18   \n",
       "\n",
       "   Popularity   MSRP  \n",
       "5        3916  31200  "
      ]
     },
     "execution_count": 628,
     "metadata": {},
     "output_type": "execute_result"
    }
   ],
   "source": [
    "kmeans_data = data.fillna(0)\n",
    "kmeans_data.head(1)"
   ]
  },
  {
   "cell_type": "code",
   "execution_count": 629,
   "metadata": {},
   "outputs": [
    {
     "data": {
      "text/plain": [
       "(753, 16)"
      ]
     },
     "execution_count": 629,
     "metadata": {},
     "output_type": "execute_result"
    }
   ],
   "source": [
    "kmeans_data.shape"
   ]
  },
  {
   "cell_type": "code",
   "execution_count": 630,
   "metadata": {},
   "outputs": [
    {
     "data": {
      "text/plain": [
       "Index(['Make', 'Model', 'Year', 'Engine Fuel Type', 'Engine HP',\n",
       "       'Engine Cylinders', 'Transmission Type', 'Driven_Wheels',\n",
       "       'Number of Doors', 'Market Category', 'Vehicle Size', 'Vehicle Style',\n",
       "       'highway MPG', 'city mpg', 'Popularity', 'MSRP'],\n",
       "      dtype='object')"
      ]
     },
     "execution_count": 630,
     "metadata": {},
     "output_type": "execute_result"
    }
   ],
   "source": [
    "kmeans_data.keys()"
   ]
  },
  {
   "cell_type": "code",
   "execution_count": 631,
   "metadata": {},
   "outputs": [
    {
     "data": {
      "text/html": [
       "<div>\n",
       "<style scoped>\n",
       "    .dataframe tbody tr th:only-of-type {\n",
       "        vertical-align: middle;\n",
       "    }\n",
       "\n",
       "    .dataframe tbody tr th {\n",
       "        vertical-align: top;\n",
       "    }\n",
       "\n",
       "    .dataframe thead th {\n",
       "        text-align: right;\n",
       "    }\n",
       "</style>\n",
       "<table border=\"1\" class=\"dataframe\">\n",
       "  <thead>\n",
       "    <tr style=\"text-align: right;\">\n",
       "      <th></th>\n",
       "      <th>Make</th>\n",
       "      <th>Year</th>\n",
       "      <th>Engine HP</th>\n",
       "      <th>Engine Cylinders</th>\n",
       "      <th>highway MPG</th>\n",
       "      <th>city mpg</th>\n",
       "      <th>Popularity</th>\n",
       "      <th>MSRP</th>\n",
       "    </tr>\n",
       "  </thead>\n",
       "  <tbody>\n",
       "    <tr>\n",
       "      <th>5</th>\n",
       "      <td>BMW</td>\n",
       "      <td>2012</td>\n",
       "      <td>230.0</td>\n",
       "      <td>6.0</td>\n",
       "      <td>28</td>\n",
       "      <td>18</td>\n",
       "      <td>3916</td>\n",
       "      <td>31200</td>\n",
       "    </tr>\n",
       "    <tr>\n",
       "      <th>6</th>\n",
       "      <td>BMW</td>\n",
       "      <td>2012</td>\n",
       "      <td>300.0</td>\n",
       "      <td>6.0</td>\n",
       "      <td>26</td>\n",
       "      <td>17</td>\n",
       "      <td>3916</td>\n",
       "      <td>44100</td>\n",
       "    </tr>\n",
       "    <tr>\n",
       "      <th>7</th>\n",
       "      <td>BMW</td>\n",
       "      <td>2012</td>\n",
       "      <td>300.0</td>\n",
       "      <td>6.0</td>\n",
       "      <td>28</td>\n",
       "      <td>20</td>\n",
       "      <td>3916</td>\n",
       "      <td>39300</td>\n",
       "    </tr>\n",
       "    <tr>\n",
       "      <th>8</th>\n",
       "      <td>BMW</td>\n",
       "      <td>2012</td>\n",
       "      <td>230.0</td>\n",
       "      <td>6.0</td>\n",
       "      <td>28</td>\n",
       "      <td>18</td>\n",
       "      <td>3916</td>\n",
       "      <td>36900</td>\n",
       "    </tr>\n",
       "    <tr>\n",
       "      <th>9</th>\n",
       "      <td>BMW</td>\n",
       "      <td>2013</td>\n",
       "      <td>230.0</td>\n",
       "      <td>6.0</td>\n",
       "      <td>27</td>\n",
       "      <td>18</td>\n",
       "      <td>3916</td>\n",
       "      <td>37200</td>\n",
       "    </tr>\n",
       "  </tbody>\n",
       "</table>\n",
       "</div>"
      ],
      "text/plain": [
       "  Make  Year  Engine HP  Engine Cylinders  highway MPG  city mpg  Popularity  \\\n",
       "5  BMW  2012      230.0               6.0           28        18        3916   \n",
       "6  BMW  2012      300.0               6.0           26        17        3916   \n",
       "7  BMW  2012      300.0               6.0           28        20        3916   \n",
       "8  BMW  2012      230.0               6.0           28        18        3916   \n",
       "9  BMW  2013      230.0               6.0           27        18        3916   \n",
       "\n",
       "    MSRP  \n",
       "5  31200  \n",
       "6  44100  \n",
       "7  39300  \n",
       "8  36900  \n",
       "9  37200  "
      ]
     },
     "execution_count": 631,
     "metadata": {},
     "output_type": "execute_result"
    }
   ],
   "source": [
    "columns = ['Model', 'Engine Fuel Type','Transmission Type', 'Driven_Wheels','Number of Doors', 'Market Category', 'Vehicle Size', 'Vehicle Style']\n",
    "\n",
    "#remove white spaces in columns names:\n",
    "kmeans_data.columns = kmeans_data.columns.str.strip()\n",
    "\n",
    "#drop unwated columns:\n",
    "kmeans_data.drop(columns, inplace=True, axis=1)\n",
    "kmeans_data.head()\n"
   ]
  },
  {
   "cell_type": "code",
   "execution_count": 632,
   "metadata": {},
   "outputs": [
    {
     "data": {
      "text/html": [
       "<div>\n",
       "<style scoped>\n",
       "    .dataframe tbody tr th:only-of-type {\n",
       "        vertical-align: middle;\n",
       "    }\n",
       "\n",
       "    .dataframe tbody tr th {\n",
       "        vertical-align: top;\n",
       "    }\n",
       "\n",
       "    .dataframe thead th {\n",
       "        text-align: right;\n",
       "    }\n",
       "</style>\n",
       "<table border=\"1\" class=\"dataframe\">\n",
       "  <thead>\n",
       "    <tr style=\"text-align: right;\">\n",
       "      <th></th>\n",
       "      <th>Make</th>\n",
       "      <th>Year</th>\n",
       "      <th>Engine HP</th>\n",
       "      <th>Engine Cylinders</th>\n",
       "      <th>highway MPG</th>\n",
       "      <th>city mpg</th>\n",
       "      <th>Popularity</th>\n",
       "      <th>MSRP</th>\n",
       "      <th>Make_code</th>\n",
       "    </tr>\n",
       "  </thead>\n",
       "  <tbody>\n",
       "    <tr>\n",
       "      <th>5</th>\n",
       "      <td>BMW</td>\n",
       "      <td>2012</td>\n",
       "      <td>230.0</td>\n",
       "      <td>6.0</td>\n",
       "      <td>28</td>\n",
       "      <td>18</td>\n",
       "      <td>3916</td>\n",
       "      <td>31200</td>\n",
       "      <td>3</td>\n",
       "    </tr>\n",
       "    <tr>\n",
       "      <th>6</th>\n",
       "      <td>BMW</td>\n",
       "      <td>2012</td>\n",
       "      <td>300.0</td>\n",
       "      <td>6.0</td>\n",
       "      <td>26</td>\n",
       "      <td>17</td>\n",
       "      <td>3916</td>\n",
       "      <td>44100</td>\n",
       "      <td>3</td>\n",
       "    </tr>\n",
       "    <tr>\n",
       "      <th>7</th>\n",
       "      <td>BMW</td>\n",
       "      <td>2012</td>\n",
       "      <td>300.0</td>\n",
       "      <td>6.0</td>\n",
       "      <td>28</td>\n",
       "      <td>20</td>\n",
       "      <td>3916</td>\n",
       "      <td>39300</td>\n",
       "      <td>3</td>\n",
       "    </tr>\n",
       "    <tr>\n",
       "      <th>8</th>\n",
       "      <td>BMW</td>\n",
       "      <td>2012</td>\n",
       "      <td>230.0</td>\n",
       "      <td>6.0</td>\n",
       "      <td>28</td>\n",
       "      <td>18</td>\n",
       "      <td>3916</td>\n",
       "      <td>36900</td>\n",
       "      <td>3</td>\n",
       "    </tr>\n",
       "    <tr>\n",
       "      <th>9</th>\n",
       "      <td>BMW</td>\n",
       "      <td>2013</td>\n",
       "      <td>230.0</td>\n",
       "      <td>6.0</td>\n",
       "      <td>27</td>\n",
       "      <td>18</td>\n",
       "      <td>3916</td>\n",
       "      <td>37200</td>\n",
       "      <td>3</td>\n",
       "    </tr>\n",
       "  </tbody>\n",
       "</table>\n",
       "</div>"
      ],
      "text/plain": [
       "  Make  Year  Engine HP  Engine Cylinders  highway MPG  city mpg  Popularity  \\\n",
       "5  BMW  2012      230.0               6.0           28        18        3916   \n",
       "6  BMW  2012      300.0               6.0           26        17        3916   \n",
       "7  BMW  2012      300.0               6.0           28        20        3916   \n",
       "8  BMW  2012      230.0               6.0           28        18        3916   \n",
       "9  BMW  2013      230.0               6.0           27        18        3916   \n",
       "\n",
       "    MSRP  Make_code  \n",
       "5  31200          3  \n",
       "6  44100          3  \n",
       "7  39300          3  \n",
       "8  36900          3  \n",
       "9  37200          3  "
      ]
     },
     "execution_count": 632,
     "metadata": {},
     "output_type": "execute_result"
    }
   ],
   "source": [
    "kmeans_data.Make = pd.Categorical(kmeans_data.Make)\n",
    "kmeans_data['Make_code'] = kmeans_data.Make.cat.codes\n",
    "kmeans_data.head(5)"
   ]
  },
  {
   "cell_type": "code",
   "execution_count": 633,
   "metadata": {},
   "outputs": [
    {
     "data": {
      "text/plain": [
       "Index(['Make', 'Year', 'Engine HP', 'Engine Cylinders', 'highway MPG',\n",
       "       'city mpg', 'Popularity', 'MSRP', 'Make_code'],\n",
       "      dtype='object')"
      ]
     },
     "execution_count": 633,
     "metadata": {},
     "output_type": "execute_result"
    }
   ],
   "source": [
    "kmeans_data.keys()\n",
    "#kmeans_data.brand.cat.categories"
   ]
  },
  {
   "cell_type": "code",
   "execution_count": 634,
   "metadata": {},
   "outputs": [
    {
     "data": {
      "text/html": [
       "<div>\n",
       "<style scoped>\n",
       "    .dataframe tbody tr th:only-of-type {\n",
       "        vertical-align: middle;\n",
       "    }\n",
       "\n",
       "    .dataframe tbody tr th {\n",
       "        vertical-align: top;\n",
       "    }\n",
       "\n",
       "    .dataframe thead th {\n",
       "        text-align: right;\n",
       "    }\n",
       "</style>\n",
       "<table border=\"1\" class=\"dataframe\">\n",
       "  <thead>\n",
       "    <tr style=\"text-align: right;\">\n",
       "      <th></th>\n",
       "      <th>Year</th>\n",
       "      <th>Engine HP</th>\n",
       "      <th>Engine Cylinders</th>\n",
       "      <th>highway MPG</th>\n",
       "      <th>city mpg</th>\n",
       "      <th>Popularity</th>\n",
       "      <th>MSRP</th>\n",
       "    </tr>\n",
       "  </thead>\n",
       "  <tbody>\n",
       "    <tr>\n",
       "      <th>5</th>\n",
       "      <td>2012</td>\n",
       "      <td>230.0</td>\n",
       "      <td>6.0</td>\n",
       "      <td>28</td>\n",
       "      <td>18</td>\n",
       "      <td>3916</td>\n",
       "      <td>31200</td>\n",
       "    </tr>\n",
       "    <tr>\n",
       "      <th>6</th>\n",
       "      <td>2012</td>\n",
       "      <td>300.0</td>\n",
       "      <td>6.0</td>\n",
       "      <td>26</td>\n",
       "      <td>17</td>\n",
       "      <td>3916</td>\n",
       "      <td>44100</td>\n",
       "    </tr>\n",
       "    <tr>\n",
       "      <th>7</th>\n",
       "      <td>2012</td>\n",
       "      <td>300.0</td>\n",
       "      <td>6.0</td>\n",
       "      <td>28</td>\n",
       "      <td>20</td>\n",
       "      <td>3916</td>\n",
       "      <td>39300</td>\n",
       "    </tr>\n",
       "    <tr>\n",
       "      <th>8</th>\n",
       "      <td>2012</td>\n",
       "      <td>230.0</td>\n",
       "      <td>6.0</td>\n",
       "      <td>28</td>\n",
       "      <td>18</td>\n",
       "      <td>3916</td>\n",
       "      <td>36900</td>\n",
       "    </tr>\n",
       "    <tr>\n",
       "      <th>9</th>\n",
       "      <td>2013</td>\n",
       "      <td>230.0</td>\n",
       "      <td>6.0</td>\n",
       "      <td>27</td>\n",
       "      <td>18</td>\n",
       "      <td>3916</td>\n",
       "      <td>37200</td>\n",
       "    </tr>\n",
       "    <tr>\n",
       "      <th>10</th>\n",
       "      <td>2013</td>\n",
       "      <td>300.0</td>\n",
       "      <td>6.0</td>\n",
       "      <td>28</td>\n",
       "      <td>20</td>\n",
       "      <td>3916</td>\n",
       "      <td>39600</td>\n",
       "    </tr>\n",
       "    <tr>\n",
       "      <th>11</th>\n",
       "      <td>2013</td>\n",
       "      <td>230.0</td>\n",
       "      <td>6.0</td>\n",
       "      <td>28</td>\n",
       "      <td>19</td>\n",
       "      <td>3916</td>\n",
       "      <td>31500</td>\n",
       "    </tr>\n",
       "    <tr>\n",
       "      <th>12</th>\n",
       "      <td>2013</td>\n",
       "      <td>300.0</td>\n",
       "      <td>6.0</td>\n",
       "      <td>28</td>\n",
       "      <td>19</td>\n",
       "      <td>3916</td>\n",
       "      <td>44400</td>\n",
       "    </tr>\n",
       "  </tbody>\n",
       "</table>\n",
       "</div>"
      ],
      "text/plain": [
       "    Year  Engine HP  Engine Cylinders  highway MPG  city mpg  Popularity  \\\n",
       "5   2012      230.0               6.0           28        18        3916   \n",
       "6   2012      300.0               6.0           26        17        3916   \n",
       "7   2012      300.0               6.0           28        20        3916   \n",
       "8   2012      230.0               6.0           28        18        3916   \n",
       "9   2013      230.0               6.0           27        18        3916   \n",
       "10  2013      300.0               6.0           28        20        3916   \n",
       "11  2013      230.0               6.0           28        19        3916   \n",
       "12  2013      300.0               6.0           28        19        3916   \n",
       "\n",
       "     MSRP  \n",
       "5   31200  \n",
       "6   44100  \n",
       "7   39300  \n",
       "8   36900  \n",
       "9   37200  \n",
       "10  39600  \n",
       "11  31500  \n",
       "12  44400  "
      ]
     },
     "execution_count": 634,
     "metadata": {},
     "output_type": "execute_result"
    }
   ],
   "source": [
    "col1 = ['Year', 'Engine HP', 'Engine Cylinders', 'highway MPG',\n",
    "       'city mpg', 'Popularity', 'MSRP']\n",
    "selected = kmeans_data[col1]\n",
    "selected.head(8)"
   ]
  },
  {
   "cell_type": "code",
   "execution_count": 635,
   "metadata": {},
   "outputs": [
    {
     "name": "stdout",
     "output_type": "stream",
     "text": [
      "0\n",
      "1\n",
      "2\n",
      "3\n",
      "4\n",
      "5\n",
      "6\n",
      "7\n",
      "8\n"
     ]
    },
    {
     "data": {
      "text/plain": [
       "[<matplotlib.lines.Line2D at 0x101cd240>]"
      ]
     },
     "execution_count": 635,
     "metadata": {},
     "output_type": "execute_result"
    },
    {
     "data": {
      "image/png": "[encoded data removed]",
      "text/plain": [
       "<Figure size 432x288 with 1 Axes>"
      ]
     },
     "metadata": {},
     "output_type": "display_data"
    }
   ],
   "source": [
    "def optimal_clusters(df):\n",
    "    Nc = range(2, 20, 2)\n",
    "    data_km = df.values\n",
    "    kmeans = [KMeans(n_clusters=i) for i in Nc]\n",
    "    score = []\n",
    "    for i in range(len(kmeans)):\n",
    "        print(i)\n",
    "        score.append(kmeans[i].fit(data_km).score(data_km))\n",
    "    return Nc, score\n",
    "#Nc, score = optimal_clusters(df_kmeans)\n",
    "Nc, score = optimal_clusters(selected)\n",
    "pl.plot(Nc,score)"
   ]
  },
  {
   "cell_type": "code",
   "execution_count": 636,
   "metadata": {},
   "outputs": [
    {
     "name": "stdout",
     "output_type": "stream",
     "text": [
      "KMeans(algorithm='auto', copy_x=True, init='k-means++', max_iter=300,\n",
      "    n_clusters=6, n_init=10, n_jobs=1, precompute_distances='auto',\n",
      "    random_state=None, tol=0.0001, verbose=0)\n"
     ]
    }
   ],
   "source": [
    "    kmeans_model = KMeans(n_clusters=6)\n",
    "    kmeans_model.fit(selected)\n",
    "    kmeans_model = kmeans_model.fit(selected)\n",
    "    print(kmeans_model)"
   ]
  },
  {
   "cell_type": "code",
   "execution_count": 637,
   "metadata": {},
   "outputs": [
    {
     "data": {
      "text/plain": [
       "Counter({0: 520, 4: 165, 5: 20, 1: 42, 3: 5, 2: 1})"
      ]
     },
     "execution_count": 637,
     "metadata": {},
     "output_type": "execute_result"
    }
   ],
   "source": [
    "data_label = kmeans_model.predict(selected)\n",
    "collections.Counter(data_label)"
   ]
  },
  {
   "cell_type": "code",
   "execution_count": 661,
   "metadata": {},
   "outputs": [
    {
     "data": {
      "text/html": [
       "<div>\n",
       "<style scoped>\n",
       "    .dataframe tbody tr th:only-of-type {\n",
       "        vertical-align: middle;\n",
       "    }\n",
       "\n",
       "    .dataframe tbody tr th {\n",
       "        vertical-align: top;\n",
       "    }\n",
       "\n",
       "    .dataframe thead th {\n",
       "        text-align: right;\n",
       "    }\n",
       "</style>\n",
       "<table border=\"1\" class=\"dataframe\">\n",
       "  <thead>\n",
       "    <tr style=\"text-align: right;\">\n",
       "      <th></th>\n",
       "      <th>Year</th>\n",
       "      <th>Engine HP</th>\n",
       "      <th>Engine Cylinders</th>\n",
       "      <th>highway MPG</th>\n",
       "      <th>city mpg</th>\n",
       "      <th>Popularity</th>\n",
       "      <th>MSRP</th>\n",
       "    </tr>\n",
       "  </thead>\n",
       "  <tbody>\n",
       "    <tr>\n",
       "      <th>5</th>\n",
       "      <td>2012</td>\n",
       "      <td>230.0</td>\n",
       "      <td>6.0</td>\n",
       "      <td>28</td>\n",
       "      <td>18</td>\n",
       "      <td>3916</td>\n",
       "      <td>31200</td>\n",
       "    </tr>\n",
       "  </tbody>\n",
       "</table>\n",
       "</div>"
      ],
      "text/plain": [
       "   Year  Engine HP  Engine Cylinders  highway MPG  city mpg  Popularity   MSRP\n",
       "5  2012      230.0               6.0           28        18        3916  31200"
      ]
     },
     "execution_count": 661,
     "metadata": {},
     "output_type": "execute_result"
    }
   ],
   "source": [
    "selected.head(1)"
   ]
  },
  {
   "cell_type": "code",
   "execution_count": 681,
   "metadata": {},
   "outputs": [
    {
     "data": {
      "text/html": [
       "<div>\n",
       "<style scoped>\n",
       "    .dataframe tbody tr th:only-of-type {\n",
       "        vertical-align: middle;\n",
       "    }\n",
       "\n",
       "    .dataframe tbody tr th {\n",
       "        vertical-align: top;\n",
       "    }\n",
       "\n",
       "    .dataframe thead th {\n",
       "        text-align: right;\n",
       "    }\n",
       "</style>\n",
       "<table border=\"1\" class=\"dataframe\">\n",
       "  <thead>\n",
       "    <tr style=\"text-align: right;\">\n",
       "      <th></th>\n",
       "      <th>0</th>\n",
       "      <th>1</th>\n",
       "      <th>2</th>\n",
       "      <th>3</th>\n",
       "      <th>4</th>\n",
       "      <th>5</th>\n",
       "      <th>6</th>\n",
       "    </tr>\n",
       "  </thead>\n",
       "  <tbody>\n",
       "    <tr>\n",
       "      <th>0</th>\n",
       "      <td>0.0</td>\n",
       "      <td>0.314637</td>\n",
       "      <td>0.5</td>\n",
       "      <td>0.144444</td>\n",
       "      <td>0.065574</td>\n",
       "      <td>0.688551</td>\n",
       "      <td>0.012783</td>\n",
       "    </tr>\n",
       "    <tr>\n",
       "      <th>1</th>\n",
       "      <td>0.0</td>\n",
       "      <td>0.410397</td>\n",
       "      <td>0.5</td>\n",
       "      <td>0.122222</td>\n",
       "      <td>0.057377</td>\n",
       "      <td>0.688551</td>\n",
       "      <td>0.022206</td>\n",
       "    </tr>\n",
       "  </tbody>\n",
       "</table>\n",
       "</div>"
      ],
      "text/plain": [
       "     0         1    2         3         4         5         6\n",
       "0  0.0  0.314637  0.5  0.144444  0.065574  0.688551  0.012783\n",
       "1  0.0  0.410397  0.5  0.122222  0.057377  0.688551  0.022206"
      ]
     },
     "execution_count": 681,
     "metadata": {},
     "output_type": "execute_result"
    }
   ],
   "source": [
    "#Scaling of values\n",
    "from sklearn import preprocessing\n",
    "import pandas as pd\n",
    "\n",
    "x = selected.values #returns a numpy array\n",
    "min_max_scaler = preprocessing.MinMaxScaler()\n",
    "x_scaled = min_max_scaler.fit_transform(x)\n",
    "df = pd.DataFrame(x_scaled)\n",
    "df.head(2)\n"
   ]
  },
  {
   "cell_type": "code",
   "execution_count": 676,
   "metadata": {},
   "outputs": [
    {
     "data": {
      "text/html": [
       "<div>\n",
       "<style scoped>\n",
       "    .dataframe tbody tr th:only-of-type {\n",
       "        vertical-align: middle;\n",
       "    }\n",
       "\n",
       "    .dataframe tbody tr th {\n",
       "        vertical-align: top;\n",
       "    }\n",
       "\n",
       "    .dataframe thead th {\n",
       "        text-align: right;\n",
       "    }\n",
       "</style>\n",
       "<table border=\"1\" class=\"dataframe\">\n",
       "  <thead>\n",
       "    <tr style=\"text-align: right;\">\n",
       "      <th></th>\n",
       "      <th>Year</th>\n",
       "      <th>Engine HP</th>\n",
       "      <th>Engine Cylinders</th>\n",
       "      <th>highway MPG</th>\n",
       "      <th>city mpg</th>\n",
       "      <th>Popularity</th>\n",
       "      <th>MSRP</th>\n",
       "    </tr>\n",
       "  </thead>\n",
       "  <tbody>\n",
       "    <tr>\n",
       "      <th>5</th>\n",
       "      <td>2012</td>\n",
       "      <td>230.0</td>\n",
       "      <td>6.0</td>\n",
       "      <td>28</td>\n",
       "      <td>18</td>\n",
       "      <td>3916</td>\n",
       "      <td>31200</td>\n",
       "    </tr>\n",
       "  </tbody>\n",
       "</table>\n",
       "</div>"
      ],
      "text/plain": [
       "   Year  Engine HP  Engine Cylinders  highway MPG  city mpg  Popularity   MSRP\n",
       "5  2012      230.0               6.0           28        18        3916  31200"
      ]
     },
     "execution_count": 676,
     "metadata": {},
     "output_type": "execute_result"
    }
   ],
   "source": [
    "selected.head(1)"
   ]
  },
  {
   "cell_type": "code",
   "execution_count": 682,
   "metadata": {},
   "outputs": [
    {
     "name": "stdout",
     "output_type": "stream",
     "text": [
      "   Year  Engine HP  Engine Cylinders  highway MPG  city mpg  Popularity  \\\n",
      "0   0.0   0.314637               0.5     0.144444  0.065574    0.688551   \n",
      "1   0.0   0.410397               0.5     0.122222  0.057377    0.688551   \n",
      "2   0.0   0.410397               0.5     0.144444  0.081967    0.688551   \n",
      "3   0.0   0.314637               0.5     0.144444  0.065574    0.688551   \n",
      "4   1.0   0.314637               0.5     0.133333  0.065574    0.688551   \n",
      "\n",
      "       MSRP  \n",
      "0  0.012783  \n",
      "1  0.022206  \n",
      "2  0.018700  \n",
      "3  0.016947  \n",
      "4  0.017166  \n"
     ]
    }
   ],
   "source": [
    "df.columns = selected.columns\n",
    "print(df.head())"
   ]
  },
  {
   "cell_type": "code",
   "execution_count": 683,
   "metadata": {},
   "outputs": [
    {
     "data": {
      "image/png": "[encoded data removed]",
      "text/plain": [
       "<Figure size 800x640 with 1 Axes>"
      ]
     },
     "metadata": {},
     "output_type": "display_data"
    }
   ],
   "source": [
    "#HP Vs HighwayMPG\n",
    "\n",
    "from matplotlib.pyplot import figure\n",
    "\n",
    "figure(num=None, figsize=(10, 8), dpi=80, facecolor='w', edgecolor='k')\n",
    "color_map=['blue', 'red', 'black', 'orange', 'magenta', 'green']\n",
    "plt.scatter(df.iloc[:, 1], df.iloc[:, 3], c=data_label, s=20, cmap=colors.ListedColormap(color_map))\n",
    "#plt.scatter(kmeans_model.cluster_centers_[:,1],kmeans_model.cluster_centers_[:,3],s=100,marker='*',c='red',label='centroids')\n",
    "plt.ylim(0,0.4)\n",
    "plt.xlim(0,1)\n",
    "plt.grid()\n",
    "plt.show()"
   ]
  },
  {
   "cell_type": "code",
   "execution_count": 684,
   "metadata": {},
   "outputs": [
    {
     "data": {
      "image/png": "[encoded data removed]",
      "text/plain": [
       "<Figure size 800x640 with 1 Axes>"
      ]
     },
     "metadata": {},
     "output_type": "display_data"
    }
   ],
   "source": [
    "#HP VS CityMPG\n",
    "\n",
    "\n",
    "from matplotlib.pyplot import figure\n",
    "\n",
    "figure(num=None, figsize=(10, 8), dpi=80, facecolor='w', edgecolor='k')\n",
    "color_map=['blue', 'red', 'black', 'orange', 'magenta', 'green']\n",
    "plt.scatter(df.iloc[:, 1], df.iloc[:, 6], c=data_label, s=20, cmap=colors.ListedColormap(color_map))\n",
    "#plt.scatter(kmeans_model.cluster_centers_[:,1],kmeans_model.cluster_centers_[:,6],s=250,marker='*',c='red',label='centroids')\n",
    "plt.ylim(0,0.4)\n",
    "plt.xlim(0,1)\n",
    "plt.grid()\n",
    "plt.show()"
   ]
  },
  {
   "cell_type": "code",
   "execution_count": 685,
   "metadata": {},
   "outputs": [
    {
     "name": "stdout",
     "output_type": "stream",
     "text": [
      "             Year   Engine HP  Engine Cylinders  highway MPG    city mpg  \\\n",
      "count  753.000000  753.000000        753.000000   753.000000  753.000000   \n",
      "mean     0.486056    0.363351          0.476428     0.134396    0.082457   \n",
      "std      0.500138    0.168136          0.185214     0.079798    0.061760   \n",
      "min      0.000000    0.000000          0.000000     0.000000    0.000000   \n",
      "25%      0.000000    0.253078          0.333333     0.088889    0.057377   \n",
      "50%      0.000000    0.310534          0.416667     0.133333    0.073770   \n",
      "75%      1.000000    0.437756          0.500000     0.177778    0.098361   \n",
      "max      1.000000    1.000000          1.000000     1.000000    1.000000   \n",
      "\n",
      "       Popularity        MSRP  \n",
      "count  753.000000  753.000000  \n",
      "mean     0.188931    0.029626  \n",
      "std      0.205453    0.058345  \n",
      "min      0.000000    0.000000  \n",
      "25%      0.074061    0.008324  \n",
      "50%      0.144186    0.012645  \n",
      "75%      0.245438    0.023228  \n",
      "max      1.000000    1.000000  \n"
     ]
    }
   ],
   "source": [
    "print(df.describe())"
   ]
  },
  {
   "cell_type": "code",
   "execution_count": 686,
   "metadata": {},
   "outputs": [
    {
     "data": {
      "text/html": [
       "<div>\n",
       "<style scoped>\n",
       "    .dataframe tbody tr th:only-of-type {\n",
       "        vertical-align: middle;\n",
       "    }\n",
       "\n",
       "    .dataframe tbody tr th {\n",
       "        vertical-align: top;\n",
       "    }\n",
       "\n",
       "    .dataframe thead th {\n",
       "        text-align: right;\n",
       "    }\n",
       "</style>\n",
       "<table border=\"1\" class=\"dataframe\">\n",
       "  <thead>\n",
       "    <tr style=\"text-align: right;\">\n",
       "      <th></th>\n",
       "      <th>Year</th>\n",
       "      <th>Engine HP</th>\n",
       "      <th>Engine Cylinders</th>\n",
       "      <th>highway MPG</th>\n",
       "      <th>city mpg</th>\n",
       "      <th>Popularity</th>\n",
       "      <th>MSRP</th>\n",
       "    </tr>\n",
       "  </thead>\n",
       "  <tbody>\n",
       "    <tr>\n",
       "      <th>0</th>\n",
       "      <td>0.0</td>\n",
       "      <td>0.314637</td>\n",
       "      <td>0.5</td>\n",
       "      <td>0.144444</td>\n",
       "      <td>0.065574</td>\n",
       "      <td>0.688551</td>\n",
       "      <td>0.012783</td>\n",
       "    </tr>\n",
       "  </tbody>\n",
       "</table>\n",
       "</div>"
      ],
      "text/plain": [
       "   Year  Engine HP  Engine Cylinders  highway MPG  city mpg  Popularity  \\\n",
       "0   0.0   0.314637               0.5     0.144444  0.065574    0.688551   \n",
       "\n",
       "       MSRP  \n",
       "0  0.012783  "
      ]
     },
     "execution_count": 686,
     "metadata": {},
     "output_type": "execute_result"
    }
   ],
   "source": [
    "df.head(1)"
   ]
  },
  {
   "cell_type": "code",
   "execution_count": 687,
   "metadata": {},
   "outputs": [
    {
     "name": "stdout",
     "output_type": "stream",
     "text": [
      "(504, 6)\n",
      "(249, 6)\n",
      "(504,)\n",
      "(249,)\n"
     ]
    }
   ],
   "source": [
    "#Split training and testing data:\n",
    "#Y = Car Price\n",
    "#X = All other features\n",
    "\n",
    "import sklearn.cross_validation\n",
    "sklearn.model_selection.train_test_split\n",
    "\n",
    "X = df.drop('MSRP', axis = 1)\n",
    "Y = df['MSRP']\n",
    "\n",
    "\n",
    "X_train, X_test, Y_train, Y_test = sklearn.cross_validation.train_test_split(X, Y, test_size = 0.33, random_state = 5)\n",
    "print(X_train.shape)\n",
    "print(X_test.shape)\n",
    "print(Y_train.shape)\n",
    "print(Y_test.shape)\n",
    "\n"
   ]
  },
  {
   "cell_type": "code",
   "execution_count": 688,
   "metadata": {},
   "outputs": [
    {
     "name": "stdout",
     "output_type": "stream",
     "text": [
      "[ 0.02715731  0.06042074 -0.00343097  0.000678    0.1463001   0.03870505\n",
      "  0.17192133  0.00097154  0.03322528  0.03741203 -0.01824407  0.16525465\n",
      "  0.0202195   0.0291358  -0.00684273  0.04784218  0.000678   -0.00286644\n",
      "  0.02412907  0.04886724  0.16525465  0.16354741 -0.00286644  0.07199825\n",
      "  0.0015187   0.06690491 -0.01315582 -0.00577693  0.03044133  0.01523355\n",
      "  0.00536393 -0.01339276  0.00380425  0.02412907  0.01335205  0.00830455\n",
      " -0.00851637  0.03790572  0.09868964  0.06114056  0.00302667  0.01028842\n",
      "  0.07267261  0.04150151 -0.00551264  0.00116144  0.04166125  0.00380425\n",
      "  0.01012676  0.04702167  0.00380425  0.02715731  0.04168873  0.03773185\n",
      "  0.17192133  0.08931351  0.00082833  0.11877156  0.00476748  0.01167063\n",
      "  0.01028842 -0.01495975  0.04994936  0.02670368  0.00753691  0.08172127\n",
      "  0.07199825  0.06042074 -0.01376524 -0.01567831  0.00716218  0.06042074\n",
      "  0.13594188  0.0105901   0.00328179 -0.02820466  0.05440803  0.04846731\n",
      " -0.01800709  0.00082833  0.01028842  0.04378706  0.01335205  0.02087702\n",
      "  0.05440803  0.00080762  0.000678    0.08742855  0.15095758 -0.00919414\n",
      "  0.00211436  0.00518645  0.00425213  0.06342618  0.03322528 -0.00662592\n",
      "  0.01477605  0.06551408  0.13417878  0.01504595  0.05067117  0.01191241\n",
      "  0.00082833 -0.0020322   0.04383437  0.00716218  0.05614202  0.17051007\n",
      " -0.01376524  0.01719617 -0.01163616  0.00453088  0.01028842  0.00277547\n",
      "  0.06262619  0.0015187   0.00080762  0.02384343  0.00380425  0.02446445\n",
      "  0.08044447  0.000678   -0.00574275  0.04150151  0.0654488   0.16945328\n",
      "  0.06991036  0.00716218  0.00080762  0.0105901   0.000678    0.00534842\n",
      " -0.00986641 -0.00164379  0.00380425  0.05027124  0.01876906  0.00116144\n",
      "  0.04243662  0.02257204  0.12593152  0.01010848 -0.00565584  0.04438989\n",
      " -0.00818061  0.16792078  0.00716218  0.09337962  0.02384343  0.05031855\n",
      "  0.000678    0.06042074  0.01739009  0.15706324  0.00277547  0.00968289\n",
      "  0.01334459  0.01125166  0.04438989  0.01477605  0.08216746  0.01739009\n",
      "  0.00080762  0.06262619  0.07199825  0.04197951  0.00653058  0.01125166\n",
      "  0.04346518  0.01028842 -0.02024941  0.03910347  0.00068907  0.04814543\n",
      "  0.085143    0.01515598  0.01028842  0.00126561 -0.00532273  0.00097154\n",
      "  0.03790572  0.03870505  0.17523115 -0.0020322   0.12839686  0.05115278\n",
      "  0.00380425 -0.00532273  0.04466861  0.04665975  0.06262619  0.000678\n",
      "  0.04438989 -0.01623357  0.13594188  0.00686788  0.000678   -0.02067313\n",
      "  0.12721299  0.02234143 -0.02067313  0.03364149  0.04349266  0.00074143\n",
      "  0.00716218  0.00476748 -0.00851637  0.01028842  0.000678    0.06262619\n",
      "  0.08282934  0.00653058  0.05614202 -0.00532273  0.00518645  0.0739603\n",
      "  0.01101506  0.05896463  0.0173686   0.01028842  0.0094379   0.04304902\n",
      "  0.00116144 -0.00938621  0.00864721 -0.00370871 -0.00259509 -0.00532273\n",
      " -0.00259509  0.03495404  0.14971694  0.12897609  0.01167063  0.00829187\n",
      "  0.02171772  0.06551408  0.00800287  0.0015187   0.15970788  0.02348982\n",
      "  0.00444859  0.03592704  0.15316146  0.04438989 -0.00662592 -0.00259509\n",
      "  0.03562017  0.00097154 -0.00565584]\n"
     ]
    },
    {
     "data": {
      "text/plain": [
       "<Figure size 800x640 with 0 Axes>"
      ]
     },
     "metadata": {},
     "output_type": "display_data"
    }
   ],
   "source": [
    "#Linear Regression:\n",
    "\n",
    "from matplotlib.pyplot import figure\n",
    "\n",
    "figure(num=None, figsize=(10, 8), dpi=80, facecolor='w', edgecolor='k')\n",
    "from sklearn.linear_model import LinearRegression\n",
    "\n",
    "lm = LinearRegression()\n",
    "lm.fit(X_train, Y_train)\n",
    "\n",
    "Y_pred = lm.predict(X_test)\n",
    "print(Y_pred)\n",
    "\n"
   ]
  },
  {
   "cell_type": "code",
   "execution_count": 689,
   "metadata": {},
   "outputs": [
    {
     "data": {
      "image/png": "[encoded data removed]",
      "text/plain": [
       "<Figure size 800x640 with 1 Axes>"
      ]
     },
     "metadata": {},
     "output_type": "display_data"
    }
   ],
   "source": [
    "from matplotlib.pyplot import figure\n",
    "\n",
    "figure(num=None, figsize=(10, 8), dpi=80, facecolor='w', edgecolor='k')\n",
    "\n",
    "plt.scatter(Y_test, Y_pred)\n",
    "plt.xlabel(\"MSRP\")\n",
    "plt.ylabel(\"Predicted MSRP\")\n",
    "plt.title(\"Prices vs Predicted prices\");\n",
    "# plt.xlim(0,100000)\n",
    "# plt.ylim(0,100000)\n",
    "\n",
    "\n",
    "#plt.scatter(Y_test, Y_pred)"
   ]
  },
  {
   "cell_type": "code",
   "execution_count": 690,
   "metadata": {},
   "outputs": [
    {
     "name": "stderr",
     "output_type": "stream",
     "text": [
      "C:\\Users\\PB\\Anaconda3\\lib\\site-packages\\matplotlib\\axes\\_axes.py:6462: UserWarning: The 'normed' kwarg is deprecated, and has been replaced by the 'density' kwarg.\n",
      "  warnings.warn(\"The 'normed' kwarg is deprecated, and has been \"\n"
     ]
    },
    {
     "data": {
      "text/plain": [
       "<matplotlib.axes._subplots.AxesSubplot at 0xfe6d550>"
      ]
     },
     "execution_count": 690,
     "metadata": {},
     "output_type": "execute_result"
    },
    {
     "data": {
      "image/png": "[encoded data removed]",
      "text/plain": [
       "<Figure size 432x288 with 1 Axes>"
      ]
     },
     "metadata": {},
     "output_type": "display_data"
    }
   ],
   "source": [
    "sns.distplot((Y_test-Y_pred))"
   ]
  },
  {
   "cell_type": "code",
   "execution_count": 691,
   "metadata": {},
   "outputs": [
    {
     "name": "stdout",
     "output_type": "stream",
     "text": [
      "0.017778687031001876\n"
     ]
    }
   ],
   "source": [
    "#Mean Absolute Error (MAE) is the mean of the absolute value of the errors:\n",
    "#1n∑i=1n|yi−ŷ i|\n",
    "\n",
    "from sklearn import metrics\n",
    "print(metrics.mean_absolute_error(Y_test,Y_pred))"
   ]
  },
  {
   "cell_type": "code",
   "execution_count": 692,
   "metadata": {},
   "outputs": [
    {
     "name": "stdout",
     "output_type": "stream",
     "text": [
      "MSE: 0.0006991708629293388\n"
     ]
    }
   ],
   "source": [
    "# Mean Squared Error (MSE) is the mean of the squared errors:\n",
    "# 1n∑i=1n(yi−ŷ i)2\n",
    "\n",
    "print('MSE:', metrics.mean_squared_error(Y_test, Y_pred))"
   ]
  },
  {
   "cell_type": "code",
   "execution_count": 693,
   "metadata": {},
   "outputs": [
    {
     "name": "stdout",
     "output_type": "stream",
     "text": [
      "RMSE: 0.02644183925012288\n"
     ]
    }
   ],
   "source": [
    "# Root Mean Squared Error (RMSE) is the square root of the mean of the squared errors:\n",
    "# 1n∑i=1n(yi−ŷ i)2\n",
    "\n",
    "import numpy as np\n",
    "print('RMSE:', np.sqrt(metrics.mean_squared_error(Y_test, Y_pred)))"
   ]
  },
  {
   "cell_type": "code",
   "execution_count": 694,
   "metadata": {},
   "outputs": [],
   "source": [
    "# Comparing these metrics:\n",
    "# MAE is the easiest to understand, because it's the average error.\n",
    "# MSE is more popular than MAE, because MSE \"punishes\" larger errors, which tends to be useful in the real world.\n",
    "# RMSE is even more popular than MSE, because RMSE is interpretable in the \"y\" units. \n",
    "# All of these are loss functions, because we want to minimize them."
   ]
  }
 ],
 "metadata": {
  "kernelspec": {
   "display_name": "Python 3",
   "language": "python",
   "name": "python3"
  },
  "language_info": {
   "codemirror_mode": {
    "name": "ipython",
    "version": 3
   },
   "file_extension": ".py",
   "mimetype": "text/x-python",
   "name": "python",
   "nbconvert_exporter": "python",
   "pygments_lexer": "ipython3",
   "version": "3.6.5"
  }
 },
 "nbformat": 4,
 "nbformat_minor": 2
}
