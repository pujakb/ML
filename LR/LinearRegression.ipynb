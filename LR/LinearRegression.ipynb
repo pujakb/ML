{
 "cells": [
  {
   "cell_type": "code",
   "execution_count": 2,
   "metadata": {},
   "outputs": [],
   "source": [
    "import pandas as pd\n",
    "from sklearn.cluster import KMeans\n",
    "import collections\n",
    "import matplotlib.pyplot as plt\n",
    "from matplotlib import colors\n",
    "import pylab as pl\n",
    "%matplotlib inline\n",
    "\n",
    "import scipy.stats as stats\n",
    "\n",
    "import sklearn\n",
    "import statsmodels.api as sm\n",
    "\n",
    "import seaborn as sns\n",
    "sns.set_style(\"whitegrid\")\n",
    "sns.set_context(\"poster\")\n",
    "\n",
    "#special matplotlib argument for improved plots\n",
    "from matplotlib import rcParams"
   ]
  },
  {
   "cell_type": "code",
   "execution_count": 5,
   "metadata": {},
   "outputs": [],
   "source": [
    "data = pd.read_csv(r'C:\\Users\\PB\\Downloads\\CarsNew.csv')\n",
    "data = data.loc[data['Year'].isin([2012, 2013])]"
   ]
  },
  {
   "cell_type": "code",
   "execution_count": 6,
   "metadata": {},
   "outputs": [
    {
     "data": {
      "text/html": [
       "<div>\n",
       "<style scoped>\n",
       "    .dataframe tbody tr th:only-of-type {\n",
       "        vertical-align: middle;\n",
       "    }\n",
       "\n",
       "    .dataframe tbody tr th {\n",
       "        vertical-align: top;\n",
       "    }\n",
       "\n",
       "    .dataframe thead th {\n",
       "        text-align: right;\n",
       "    }\n",
       "</style>\n",
       "<table border=\"1\" class=\"dataframe\">\n",
       "  <thead>\n",
       "    <tr style=\"text-align: right;\">\n",
       "      <th></th>\n",
       "      <th>Make</th>\n",
       "      <th>Model</th>\n",
       "      <th>Year</th>\n",
       "      <th>Engine Fuel Type</th>\n",
       "      <th>Engine HP</th>\n",
       "      <th>Engine Cylinders</th>\n",
       "      <th>Transmission Type</th>\n",
       "      <th>Driven_Wheels</th>\n",
       "      <th>Number of Doors</th>\n",
       "      <th>Market Category</th>\n",
       "      <th>Vehicle Size</th>\n",
       "      <th>Vehicle Style</th>\n",
       "      <th>highway MPG</th>\n",
       "      <th>city mpg</th>\n",
       "      <th>Popularity</th>\n",
       "      <th>MSRP</th>\n",
       "    </tr>\n",
       "  </thead>\n",
       "  <tbody>\n",
       "    <tr>\n",
       "      <th>5</th>\n",
       "      <td>BMW</td>\n",
       "      <td>1 Series</td>\n",
       "      <td>2012</td>\n",
       "      <td>premium unleaded (required)</td>\n",
       "      <td>230.0</td>\n",
       "      <td>6.0</td>\n",
       "      <td>MANUAL</td>\n",
       "      <td>rear wheel drive</td>\n",
       "      <td>2.0</td>\n",
       "      <td>Luxury,Performance</td>\n",
       "      <td>Compact</td>\n",
       "      <td>Coupe</td>\n",
       "      <td>28</td>\n",
       "      <td>18</td>\n",
       "      <td>3916</td>\n",
       "      <td>31200</td>\n",
       "    </tr>\n",
       "  </tbody>\n",
       "</table>\n",
       "</div>"
      ],
      "text/plain": [
       "  Make     Model  Year             Engine Fuel Type  Engine HP  \\\n",
       "5  BMW  1 Series  2012  premium unleaded (required)      230.0   \n",
       "\n",
       "   Engine Cylinders Transmission Type     Driven_Wheels  Number of Doors  \\\n",
       "5               6.0            MANUAL  rear wheel drive              2.0   \n",
       "\n",
       "      Market Category Vehicle Size Vehicle Style  highway MPG  city mpg  \\\n",
       "5  Luxury,Performance      Compact         Coupe           28        18   \n",
       "\n",
       "   Popularity   MSRP  \n",
       "5        3916  31200  "
      ]
     },
     "execution_count": 6,
     "metadata": {},
     "output_type": "execute_result"
    }
   ],
   "source": [
    "kmeans_data = data.fillna(0)\n",
    "kmeans_data.head(1)"
   ]
  },
  {
   "cell_type": "code",
   "execution_count": 7,
   "metadata": {},
   "outputs": [
    {
     "data": {
      "text/plain": [
       "(753, 16)"
      ]
     },
     "execution_count": 7,
     "metadata": {},
     "output_type": "execute_result"
    }
   ],
   "source": [
    "kmeans_data.shape"
   ]
  },
  {
   "cell_type": "code",
   "execution_count": 8,
   "metadata": {},
   "outputs": [
    {
     "data": {
      "text/plain": [
       "Index(['Make', 'Model', 'Year', 'Engine Fuel Type', 'Engine HP',\n",
       "       'Engine Cylinders', 'Transmission Type', 'Driven_Wheels',\n",
       "       'Number of Doors', 'Market Category', 'Vehicle Size', 'Vehicle Style',\n",
       "       'highway MPG', 'city mpg', 'Popularity', 'MSRP'],\n",
       "      dtype='object')"
      ]
     },
     "execution_count": 8,
     "metadata": {},
     "output_type": "execute_result"
    }
   ],
   "source": [
    "kmeans_data.keys()"
   ]
  },
  {
   "cell_type": "code",
   "execution_count": 9,
   "metadata": {},
   "outputs": [
    {
     "data": {
      "text/html": [
       "<div>\n",
       "<style scoped>\n",
       "    .dataframe tbody tr th:only-of-type {\n",
       "        vertical-align: middle;\n",
       "    }\n",
       "\n",
       "    .dataframe tbody tr th {\n",
       "        vertical-align: top;\n",
       "    }\n",
       "\n",
       "    .dataframe thead th {\n",
       "        text-align: right;\n",
       "    }\n",
       "</style>\n",
       "<table border=\"1\" class=\"dataframe\">\n",
       "  <thead>\n",
       "    <tr style=\"text-align: right;\">\n",
       "      <th></th>\n",
       "      <th>Make</th>\n",
       "      <th>Year</th>\n",
       "      <th>Engine HP</th>\n",
       "      <th>Engine Cylinders</th>\n",
       "      <th>highway MPG</th>\n",
       "      <th>city mpg</th>\n",
       "      <th>Popularity</th>\n",
       "      <th>MSRP</th>\n",
       "    </tr>\n",
       "  </thead>\n",
       "  <tbody>\n",
       "    <tr>\n",
       "      <th>5</th>\n",
       "      <td>BMW</td>\n",
       "      <td>2012</td>\n",
       "      <td>230.0</td>\n",
       "      <td>6.0</td>\n",
       "      <td>28</td>\n",
       "      <td>18</td>\n",
       "      <td>3916</td>\n",
       "      <td>31200</td>\n",
       "    </tr>\n",
       "    <tr>\n",
       "      <th>6</th>\n",
       "      <td>BMW</td>\n",
       "      <td>2012</td>\n",
       "      <td>300.0</td>\n",
       "      <td>6.0</td>\n",
       "      <td>26</td>\n",
       "      <td>17</td>\n",
       "      <td>3916</td>\n",
       "      <td>44100</td>\n",
       "    </tr>\n",
       "    <tr>\n",
       "      <th>7</th>\n",
       "      <td>BMW</td>\n",
       "      <td>2012</td>\n",
       "      <td>300.0</td>\n",
       "      <td>6.0</td>\n",
       "      <td>28</td>\n",
       "      <td>20</td>\n",
       "      <td>3916</td>\n",
       "      <td>39300</td>\n",
       "    </tr>\n",
       "    <tr>\n",
       "      <th>8</th>\n",
       "      <td>BMW</td>\n",
       "      <td>2012</td>\n",
       "      <td>230.0</td>\n",
       "      <td>6.0</td>\n",
       "      <td>28</td>\n",
       "      <td>18</td>\n",
       "      <td>3916</td>\n",
       "      <td>36900</td>\n",
       "    </tr>\n",
       "    <tr>\n",
       "      <th>9</th>\n",
       "      <td>BMW</td>\n",
       "      <td>2013</td>\n",
       "      <td>230.0</td>\n",
       "      <td>6.0</td>\n",
       "      <td>27</td>\n",
       "      <td>18</td>\n",
       "      <td>3916</td>\n",
       "      <td>37200</td>\n",
       "    </tr>\n",
       "  </tbody>\n",
       "</table>\n",
       "</div>"
      ],
      "text/plain": [
       "  Make  Year  Engine HP  Engine Cylinders  highway MPG  city mpg  Popularity  \\\n",
       "5  BMW  2012      230.0               6.0           28        18        3916   \n",
       "6  BMW  2012      300.0               6.0           26        17        3916   \n",
       "7  BMW  2012      300.0               6.0           28        20        3916   \n",
       "8  BMW  2012      230.0               6.0           28        18        3916   \n",
       "9  BMW  2013      230.0               6.0           27        18        3916   \n",
       "\n",
       "    MSRP  \n",
       "5  31200  \n",
       "6  44100  \n",
       "7  39300  \n",
       "8  36900  \n",
       "9  37200  "
      ]
     },
     "execution_count": 9,
     "metadata": {},
     "output_type": "execute_result"
    }
   ],
   "source": [
    "columns = ['Model', 'Engine Fuel Type','Transmission Type', 'Driven_Wheels','Number of Doors', 'Market Category', 'Vehicle Size', 'Vehicle Style']\n",
    "\n",
    "#remove white spaces in columns names:\n",
    "kmeans_data.columns = kmeans_data.columns.str.strip()\n",
    "\n",
    "#drop unwated columns:\n",
    "kmeans_data.drop(columns, inplace=True, axis=1)\n",
    "kmeans_data.head()\n"
   ]
  },
  {
   "cell_type": "code",
   "execution_count": 10,
   "metadata": {},
   "outputs": [
    {
     "data": {
      "text/html": [
       "<div>\n",
       "<style scoped>\n",
       "    .dataframe tbody tr th:only-of-type {\n",
       "        vertical-align: middle;\n",
       "    }\n",
       "\n",
       "    .dataframe tbody tr th {\n",
       "        vertical-align: top;\n",
       "    }\n",
       "\n",
       "    .dataframe thead th {\n",
       "        text-align: right;\n",
       "    }\n",
       "</style>\n",
       "<table border=\"1\" class=\"dataframe\">\n",
       "  <thead>\n",
       "    <tr style=\"text-align: right;\">\n",
       "      <th></th>\n",
       "      <th>Make</th>\n",
       "      <th>Year</th>\n",
       "      <th>Engine HP</th>\n",
       "      <th>Engine Cylinders</th>\n",
       "      <th>highway MPG</th>\n",
       "      <th>city mpg</th>\n",
       "      <th>Popularity</th>\n",
       "      <th>MSRP</th>\n",
       "      <th>Make_code</th>\n",
       "    </tr>\n",
       "  </thead>\n",
       "  <tbody>\n",
       "    <tr>\n",
       "      <th>5</th>\n",
       "      <td>BMW</td>\n",
       "      <td>2012</td>\n",
       "      <td>230.0</td>\n",
       "      <td>6.0</td>\n",
       "      <td>28</td>\n",
       "      <td>18</td>\n",
       "      <td>3916</td>\n",
       "      <td>31200</td>\n",
       "      <td>3</td>\n",
       "    </tr>\n",
       "    <tr>\n",
       "      <th>6</th>\n",
       "      <td>BMW</td>\n",
       "      <td>2012</td>\n",
       "      <td>300.0</td>\n",
       "      <td>6.0</td>\n",
       "      <td>26</td>\n",
       "      <td>17</td>\n",
       "      <td>3916</td>\n",
       "      <td>44100</td>\n",
       "      <td>3</td>\n",
       "    </tr>\n",
       "    <tr>\n",
       "      <th>7</th>\n",
       "      <td>BMW</td>\n",
       "      <td>2012</td>\n",
       "      <td>300.0</td>\n",
       "      <td>6.0</td>\n",
       "      <td>28</td>\n",
       "      <td>20</td>\n",
       "      <td>3916</td>\n",
       "      <td>39300</td>\n",
       "      <td>3</td>\n",
       "    </tr>\n",
       "    <tr>\n",
       "      <th>8</th>\n",
       "      <td>BMW</td>\n",
       "      <td>2012</td>\n",
       "      <td>230.0</td>\n",
       "      <td>6.0</td>\n",
       "      <td>28</td>\n",
       "      <td>18</td>\n",
       "      <td>3916</td>\n",
       "      <td>36900</td>\n",
       "      <td>3</td>\n",
       "    </tr>\n",
       "    <tr>\n",
       "      <th>9</th>\n",
       "      <td>BMW</td>\n",
       "      <td>2013</td>\n",
       "      <td>230.0</td>\n",
       "      <td>6.0</td>\n",
       "      <td>27</td>\n",
       "      <td>18</td>\n",
       "      <td>3916</td>\n",
       "      <td>37200</td>\n",
       "      <td>3</td>\n",
       "    </tr>\n",
       "  </tbody>\n",
       "</table>\n",
       "</div>"
      ],
      "text/plain": [
       "  Make  Year  Engine HP  Engine Cylinders  highway MPG  city mpg  Popularity  \\\n",
       "5  BMW  2012      230.0               6.0           28        18        3916   \n",
       "6  BMW  2012      300.0               6.0           26        17        3916   \n",
       "7  BMW  2012      300.0               6.0           28        20        3916   \n",
       "8  BMW  2012      230.0               6.0           28        18        3916   \n",
       "9  BMW  2013      230.0               6.0           27        18        3916   \n",
       "\n",
       "    MSRP  Make_code  \n",
       "5  31200          3  \n",
       "6  44100          3  \n",
       "7  39300          3  \n",
       "8  36900          3  \n",
       "9  37200          3  "
      ]
     },
     "execution_count": 10,
     "metadata": {},
     "output_type": "execute_result"
    }
   ],
   "source": [
    "kmeans_data.Make = pd.Categorical(kmeans_data.Make)\n",
    "kmeans_data['Make_code'] = kmeans_data.Make.cat.codes\n",
    "kmeans_data.head(5)"
   ]
  },
  {
   "cell_type": "code",
   "execution_count": 11,
   "metadata": {},
   "outputs": [
    {
     "data": {
      "text/plain": [
       "Index(['Make', 'Year', 'Engine HP', 'Engine Cylinders', 'highway MPG',\n",
       "       'city mpg', 'Popularity', 'MSRP', 'Make_code'],\n",
       "      dtype='object')"
      ]
     },
     "execution_count": 11,
     "metadata": {},
     "output_type": "execute_result"
    }
   ],
   "source": [
    "kmeans_data.keys()\n",
    "#kmeans_data.brand.cat.categories"
   ]
  },
  {
   "cell_type": "code",
   "execution_count": 12,
   "metadata": {},
   "outputs": [
    {
     "data": {
      "text/html": [
       "<div>\n",
       "<style scoped>\n",
       "    .dataframe tbody tr th:only-of-type {\n",
       "        vertical-align: middle;\n",
       "    }\n",
       "\n",
       "    .dataframe tbody tr th {\n",
       "        vertical-align: top;\n",
       "    }\n",
       "\n",
       "    .dataframe thead th {\n",
       "        text-align: right;\n",
       "    }\n",
       "</style>\n",
       "<table border=\"1\" class=\"dataframe\">\n",
       "  <thead>\n",
       "    <tr style=\"text-align: right;\">\n",
       "      <th></th>\n",
       "      <th>Year</th>\n",
       "      <th>Engine HP</th>\n",
       "      <th>Engine Cylinders</th>\n",
       "      <th>highway MPG</th>\n",
       "      <th>city mpg</th>\n",
       "      <th>Popularity</th>\n",
       "      <th>MSRP</th>\n",
       "    </tr>\n",
       "  </thead>\n",
       "  <tbody>\n",
       "    <tr>\n",
       "      <th>5</th>\n",
       "      <td>2012</td>\n",
       "      <td>230.0</td>\n",
       "      <td>6.0</td>\n",
       "      <td>28</td>\n",
       "      <td>18</td>\n",
       "      <td>3916</td>\n",
       "      <td>31200</td>\n",
       "    </tr>\n",
       "    <tr>\n",
       "      <th>6</th>\n",
       "      <td>2012</td>\n",
       "      <td>300.0</td>\n",
       "      <td>6.0</td>\n",
       "      <td>26</td>\n",
       "      <td>17</td>\n",
       "      <td>3916</td>\n",
       "      <td>44100</td>\n",
       "    </tr>\n",
       "    <tr>\n",
       "      <th>7</th>\n",
       "      <td>2012</td>\n",
       "      <td>300.0</td>\n",
       "      <td>6.0</td>\n",
       "      <td>28</td>\n",
       "      <td>20</td>\n",
       "      <td>3916</td>\n",
       "      <td>39300</td>\n",
       "    </tr>\n",
       "    <tr>\n",
       "      <th>8</th>\n",
       "      <td>2012</td>\n",
       "      <td>230.0</td>\n",
       "      <td>6.0</td>\n",
       "      <td>28</td>\n",
       "      <td>18</td>\n",
       "      <td>3916</td>\n",
       "      <td>36900</td>\n",
       "    </tr>\n",
       "    <tr>\n",
       "      <th>9</th>\n",
       "      <td>2013</td>\n",
       "      <td>230.0</td>\n",
       "      <td>6.0</td>\n",
       "      <td>27</td>\n",
       "      <td>18</td>\n",
       "      <td>3916</td>\n",
       "      <td>37200</td>\n",
       "    </tr>\n",
       "    <tr>\n",
       "      <th>10</th>\n",
       "      <td>2013</td>\n",
       "      <td>300.0</td>\n",
       "      <td>6.0</td>\n",
       "      <td>28</td>\n",
       "      <td>20</td>\n",
       "      <td>3916</td>\n",
       "      <td>39600</td>\n",
       "    </tr>\n",
       "    <tr>\n",
       "      <th>11</th>\n",
       "      <td>2013</td>\n",
       "      <td>230.0</td>\n",
       "      <td>6.0</td>\n",
       "      <td>28</td>\n",
       "      <td>19</td>\n",
       "      <td>3916</td>\n",
       "      <td>31500</td>\n",
       "    </tr>\n",
       "    <tr>\n",
       "      <th>12</th>\n",
       "      <td>2013</td>\n",
       "      <td>300.0</td>\n",
       "      <td>6.0</td>\n",
       "      <td>28</td>\n",
       "      <td>19</td>\n",
       "      <td>3916</td>\n",
       "      <td>44400</td>\n",
       "    </tr>\n",
       "  </tbody>\n",
       "</table>\n",
       "</div>"
      ],
      "text/plain": [
       "    Year  Engine HP  Engine Cylinders  highway MPG  city mpg  Popularity  \\\n",
       "5   2012      230.0               6.0           28        18        3916   \n",
       "6   2012      300.0               6.0           26        17        3916   \n",
       "7   2012      300.0               6.0           28        20        3916   \n",
       "8   2012      230.0               6.0           28        18        3916   \n",
       "9   2013      230.0               6.0           27        18        3916   \n",
       "10  2013      300.0               6.0           28        20        3916   \n",
       "11  2013      230.0               6.0           28        19        3916   \n",
       "12  2013      300.0               6.0           28        19        3916   \n",
       "\n",
       "     MSRP  \n",
       "5   31200  \n",
       "6   44100  \n",
       "7   39300  \n",
       "8   36900  \n",
       "9   37200  \n",
       "10  39600  \n",
       "11  31500  \n",
       "12  44400  "
      ]
     },
     "execution_count": 12,
     "metadata": {},
     "output_type": "execute_result"
    }
   ],
   "source": [
    "col1 = ['Year', 'Engine HP', 'Engine Cylinders', 'highway MPG',\n",
    "       'city mpg', 'Popularity', 'MSRP']\n",
    "selected = kmeans_data[col1]\n",
    "selected.head(8)"
   ]
  },
  {
   "cell_type": "code",
   "execution_count": 13,
   "metadata": {},
   "outputs": [
    {
     "name": "stdout",
     "output_type": "stream",
     "text": [
      "0\n",
      "1\n",
      "2\n",
      "3\n",
      "4\n",
      "5\n",
      "6\n",
      "7\n",
      "8\n"
     ]
    },
    {
     "data": {
      "text/plain": [
       "[<matplotlib.lines.Line2D at 0xbcd4240>]"
      ]
     },
     "execution_count": 13,
     "metadata": {},
     "output_type": "execute_result"
    },
    {
     "data": {
      "image/png": "[encoded data removed]",
      "text/plain": [
       "<Figure size 432x288 with 1 Axes>"
      ]
     },
     "metadata": {},
     "output_type": "display_data"
    }
   ],
   "source": [
    "def optimal_clusters(df):\n",
    "    Nc = range(2, 20, 2)\n",
    "    data_km = df.values\n",
    "    kmeans = [KMeans(n_clusters=i) for i in Nc]\n",
    "    score = []\n",
    "    for i in range(len(kmeans)):\n",
    "        print(i)\n",
    "        score.append(kmeans[i].fit(data_km).score(data_km))\n",
    "    return Nc, score\n",
    "#Nc, score = optimal_clusters(df_kmeans)\n",
    "Nc, score = optimal_clusters(selected)\n",
    "pl.plot(Nc,score)"
   ]
  },
  {
   "cell_type": "code",
   "execution_count": 14,
   "metadata": {},
   "outputs": [
    {
     "name": "stdout",
     "output_type": "stream",
     "text": [
      "KMeans(algorithm='auto', copy_x=True, init='k-means++', max_iter=300,\n",
      "    n_clusters=6, n_init=10, n_jobs=1, precompute_distances='auto',\n",
      "    random_state=None, tol=0.0001, verbose=0)\n"
     ]
    }
   ],
   "source": [
    "    kmeans_model = KMeans(n_clusters=6)\n",
    "    kmeans_model.fit(selected)\n",
    "    kmeans_model = kmeans_model.fit(selected)\n",
    "    print(kmeans_model)"
   ]
  },
  {
   "cell_type": "code",
   "execution_count": 15,
   "metadata": {},
   "outputs": [
    {
     "data": {
      "text/plain": [
       "Counter({0: 520, 4: 165, 1: 20, 3: 42, 5: 5, 2: 1})"
      ]
     },
     "execution_count": 15,
     "metadata": {},
     "output_type": "execute_result"
    }
   ],
   "source": [
    "data_label = kmeans_model.predict(selected)\n",
    "collections.Counter(data_label)"
   ]
  },
  {
   "cell_type": "code",
   "execution_count": 16,
   "metadata": {},
   "outputs": [
    {
     "data": {
      "text/html": [
       "<div>\n",
       "<style scoped>\n",
       "    .dataframe tbody tr th:only-of-type {\n",
       "        vertical-align: middle;\n",
       "    }\n",
       "\n",
       "    .dataframe tbody tr th {\n",
       "        vertical-align: top;\n",
       "    }\n",
       "\n",
       "    .dataframe thead th {\n",
       "        text-align: right;\n",
       "    }\n",
       "</style>\n",
       "<table border=\"1\" class=\"dataframe\">\n",
       "  <thead>\n",
       "    <tr style=\"text-align: right;\">\n",
       "      <th></th>\n",
       "      <th>Year</th>\n",
       "      <th>Engine HP</th>\n",
       "      <th>Engine Cylinders</th>\n",
       "      <th>highway MPG</th>\n",
       "      <th>city mpg</th>\n",
       "      <th>Popularity</th>\n",
       "      <th>MSRP</th>\n",
       "    </tr>\n",
       "  </thead>\n",
       "  <tbody>\n",
       "    <tr>\n",
       "      <th>5</th>\n",
       "      <td>2012</td>\n",
       "      <td>230.0</td>\n",
       "      <td>6.0</td>\n",
       "      <td>28</td>\n",
       "      <td>18</td>\n",
       "      <td>3916</td>\n",
       "      <td>31200</td>\n",
       "    </tr>\n",
       "  </tbody>\n",
       "</table>\n",
       "</div>"
      ],
      "text/plain": [
       "   Year  Engine HP  Engine Cylinders  highway MPG  city mpg  Popularity   MSRP\n",
       "5  2012      230.0               6.0           28        18        3916  31200"
      ]
     },
     "execution_count": 16,
     "metadata": {},
     "output_type": "execute_result"
    }
   ],
   "source": [
    "selected.head(1)"
   ]
  },
  {
   "cell_type": "code",
   "execution_count": 17,
   "metadata": {},
   "outputs": [
    {
     "data": {
      "text/html": [
       "<div>\n",
       "<style scoped>\n",
       "    .dataframe tbody tr th:only-of-type {\n",
       "        vertical-align: middle;\n",
       "    }\n",
       "\n",
       "    .dataframe tbody tr th {\n",
       "        vertical-align: top;\n",
       "    }\n",
       "\n",
       "    .dataframe thead th {\n",
       "        text-align: right;\n",
       "    }\n",
       "</style>\n",
       "<table border=\"1\" class=\"dataframe\">\n",
       "  <thead>\n",
       "    <tr style=\"text-align: right;\">\n",
       "      <th></th>\n",
       "      <th>0</th>\n",
       "      <th>1</th>\n",
       "      <th>2</th>\n",
       "      <th>3</th>\n",
       "      <th>4</th>\n",
       "      <th>5</th>\n",
       "      <th>6</th>\n",
       "    </tr>\n",
       "  </thead>\n",
       "  <tbody>\n",
       "    <tr>\n",
       "      <th>0</th>\n",
       "      <td>0.0</td>\n",
       "      <td>0.314637</td>\n",
       "      <td>0.5</td>\n",
       "      <td>0.144444</td>\n",
       "      <td>0.065574</td>\n",
       "      <td>0.688551</td>\n",
       "      <td>0.012783</td>\n",
       "    </tr>\n",
       "    <tr>\n",
       "      <th>1</th>\n",
       "      <td>0.0</td>\n",
       "      <td>0.410397</td>\n",
       "      <td>0.5</td>\n",
       "      <td>0.122222</td>\n",
       "      <td>0.057377</td>\n",
       "      <td>0.688551</td>\n",
       "      <td>0.022206</td>\n",
       "    </tr>\n",
       "  </tbody>\n",
       "</table>\n",
       "</div>"
      ],
      "text/plain": [
       "     0         1    2         3         4         5         6\n",
       "0  0.0  0.314637  0.5  0.144444  0.065574  0.688551  0.012783\n",
       "1  0.0  0.410397  0.5  0.122222  0.057377  0.688551  0.022206"
      ]
     },
     "execution_count": 17,
     "metadata": {},
     "output_type": "execute_result"
    }
   ],
   "source": [
    "#Scaling of values\n",
    "from sklearn import preprocessing\n",
    "import pandas as pd\n",
    "\n",
    "x = selected.values #returns a numpy array\n",
    "min_max_scaler = preprocessing.MinMaxScaler()\n",
    "x_scaled = min_max_scaler.fit_transform(x)\n",
    "df = pd.DataFrame(x_scaled)\n",
    "df.head(2)\n"
   ]
  },
  {
   "cell_type": "code",
   "execution_count": 18,
   "metadata": {},
   "outputs": [
    {
     "data": {
      "text/html": [
       "<div>\n",
       "<style scoped>\n",
       "    .dataframe tbody tr th:only-of-type {\n",
       "        vertical-align: middle;\n",
       "    }\n",
       "\n",
       "    .dataframe tbody tr th {\n",
       "        vertical-align: top;\n",
       "    }\n",
       "\n",
       "    .dataframe thead th {\n",
       "        text-align: right;\n",
       "    }\n",
       "</style>\n",
       "<table border=\"1\" class=\"dataframe\">\n",
       "  <thead>\n",
       "    <tr style=\"text-align: right;\">\n",
       "      <th></th>\n",
       "      <th>Year</th>\n",
       "      <th>Engine HP</th>\n",
       "      <th>Engine Cylinders</th>\n",
       "      <th>highway MPG</th>\n",
       "      <th>city mpg</th>\n",
       "      <th>Popularity</th>\n",
       "      <th>MSRP</th>\n",
       "    </tr>\n",
       "  </thead>\n",
       "  <tbody>\n",
       "    <tr>\n",
       "      <th>5</th>\n",
       "      <td>2012</td>\n",
       "      <td>230.0</td>\n",
       "      <td>6.0</td>\n",
       "      <td>28</td>\n",
       "      <td>18</td>\n",
       "      <td>3916</td>\n",
       "      <td>31200</td>\n",
       "    </tr>\n",
       "  </tbody>\n",
       "</table>\n",
       "</div>"
      ],
      "text/plain": [
       "   Year  Engine HP  Engine Cylinders  highway MPG  city mpg  Popularity   MSRP\n",
       "5  2012      230.0               6.0           28        18        3916  31200"
      ]
     },
     "execution_count": 18,
     "metadata": {},
     "output_type": "execute_result"
    }
   ],
   "source": [
    "selected.head(1)"
   ]
  },
  {
   "cell_type": "code",
   "execution_count": 19,
   "metadata": {},
   "outputs": [
    {
     "name": "stdout",
     "output_type": "stream",
     "text": [
      "   Year  Engine HP  Engine Cylinders  highway MPG  city mpg  Popularity  \\\n",
      "0   0.0   0.314637               0.5     0.144444  0.065574    0.688551   \n",
      "1   0.0   0.410397               0.5     0.122222  0.057377    0.688551   \n",
      "2   0.0   0.410397               0.5     0.144444  0.081967    0.688551   \n",
      "3   0.0   0.314637               0.5     0.144444  0.065574    0.688551   \n",
      "4   1.0   0.314637               0.5     0.133333  0.065574    0.688551   \n",
      "\n",
      "       MSRP  \n",
      "0  0.012783  \n",
      "1  0.022206  \n",
      "2  0.018700  \n",
      "3  0.016947  \n",
      "4  0.017166  \n"
     ]
    }
   ],
   "source": [
    "df.columns = selected.columns\n",
    "print(df.head())"
   ]
  },
  {
   "cell_type": "code",
   "execution_count": 20,
   "metadata": {},
   "outputs": [
    {
     "data": {
      "image/png": "[encoded data removed]",
      "text/plain": [
       "<Figure size 800x640 with 1 Axes>"
      ]
     },
     "metadata": {},
     "output_type": "display_data"
    }
   ],
   "source": [
    "#HP Vs HighwayMPG\n",
    "\n",
    "from matplotlib.pyplot import figure\n",
    "\n",
    "figure(num=None, figsize=(10, 8), dpi=80, facecolor='w', edgecolor='k')\n",
    "color_map=['blue', 'red', 'black', 'orange', 'magenta', 'green']\n",
    "plt.scatter(df.iloc[:, 1], df.iloc[:, 3], c=data_label, s=20, cmap=colors.ListedColormap(color_map))\n",
    "#plt.scatter(kmeans_model.cluster_centers_[:,1],kmeans_model.cluster_centers_[:,3],s=100,marker='*',c='red',label='centroids')\n",
    "plt.ylim(0,0.4)\n",
    "plt.xlim(0,1)\n",
    "plt.grid()\n",
    "plt.show()"
   ]
  },
  {
   "cell_type": "code",
   "execution_count": 21,
   "metadata": {},
   "outputs": [
    {
     "data": {
      "image/png": "[encoded data removed]",
      "text/plain": [
       "<Figure size 800x640 with 1 Axes>"
      ]
     },
     "metadata": {},
     "output_type": "display_data"
    }
   ],
   "source": [
    "#HP VS CityMPG\n",
    "\n",
    "\n",
    "from matplotlib.pyplot import figure\n",
    "\n",
    "figure(num=None, figsize=(10, 8), dpi=80, facecolor='w', edgecolor='k')\n",
    "color_map=['blue', 'red', 'black', 'orange', 'magenta', 'green']\n",
    "plt.scatter(df.iloc[:, 1], df.iloc[:, 6], c=data_label, s=20, cmap=colors.ListedColormap(color_map))\n",
    "#plt.scatter(kmeans_model.cluster_centers_[:,1],kmeans_model.cluster_centers_[:,6],s=250,marker='*',c='red',label='centroids')\n",
    "plt.ylim(0,0.4)\n",
    "plt.xlim(0,1)\n",
    "plt.grid()\n",
    "plt.show()"
   ]
  },
  {
   "cell_type": "code",
   "execution_count": 22,
   "metadata": {},
   "outputs": [
    {
     "name": "stdout",
     "output_type": "stream",
     "text": [
      "             Year   Engine HP  Engine Cylinders  highway MPG    city mpg  \\\n",
      "count  753.000000  753.000000        753.000000   753.000000  753.000000   \n",
      "mean     0.486056    0.363351          0.476428     0.134396    0.082457   \n",
      "std      0.500138    0.168136          0.185214     0.079798    0.061760   \n",
      "min      0.000000    0.000000          0.000000     0.000000    0.000000   \n",
      "25%      0.000000    0.253078          0.333333     0.088889    0.057377   \n",
      "50%      0.000000    0.310534          0.416667     0.133333    0.073770   \n",
      "75%      1.000000    0.437756          0.500000     0.177778    0.098361   \n",
      "max      1.000000    1.000000          1.000000     1.000000    1.000000   \n",
      "\n",
      "       Popularity        MSRP  \n",
      "count  753.000000  753.000000  \n",
      "mean     0.188931    0.029626  \n",
      "std      0.205453    0.058345  \n",
      "min      0.000000    0.000000  \n",
      "25%      0.074061    0.008324  \n",
      "50%      0.144186    0.012645  \n",
      "75%      0.245438    0.023228  \n",
      "max      1.000000    1.000000  \n"
     ]
    }
   ],
   "source": [
    "print(df.describe())"
   ]
  },
  {
   "cell_type": "code",
   "execution_count": 23,
   "metadata": {},
   "outputs": [
    {
     "data": {
      "text/html": [
       "<div>\n",
       "<style scoped>\n",
       "    .dataframe tbody tr th:only-of-type {\n",
       "        vertical-align: middle;\n",
       "    }\n",
       "\n",
       "    .dataframe tbody tr th {\n",
       "        vertical-align: top;\n",
       "    }\n",
       "\n",
       "    .dataframe thead th {\n",
       "        text-align: right;\n",
       "    }\n",
       "</style>\n",
       "<table border=\"1\" class=\"dataframe\">\n",
       "  <thead>\n",
       "    <tr style=\"text-align: right;\">\n",
       "      <th></th>\n",
       "      <th>Year</th>\n",
       "      <th>Engine HP</th>\n",
       "      <th>Engine Cylinders</th>\n",
       "      <th>highway MPG</th>\n",
       "      <th>city mpg</th>\n",
       "      <th>Popularity</th>\n",
       "      <th>MSRP</th>\n",
       "    </tr>\n",
       "  </thead>\n",
       "  <tbody>\n",
       "    <tr>\n",
       "      <th>0</th>\n",
       "      <td>0.0</td>\n",
       "      <td>0.314637</td>\n",
       "      <td>0.5</td>\n",
       "      <td>0.144444</td>\n",
       "      <td>0.065574</td>\n",
       "      <td>0.688551</td>\n",
       "      <td>0.012783</td>\n",
       "    </tr>\n",
       "  </tbody>\n",
       "</table>\n",
       "</div>"
      ],
      "text/plain": [
       "   Year  Engine HP  Engine Cylinders  highway MPG  city mpg  Popularity  \\\n",
       "0   0.0   0.314637               0.5     0.144444  0.065574    0.688551   \n",
       "\n",
       "       MSRP  \n",
       "0  0.012783  "
      ]
     },
     "execution_count": 23,
     "metadata": {},
     "output_type": "execute_result"
    }
   ],
   "source": [
    "df.head(1)"
   ]
  },
  {
   "cell_type": "code",
   "execution_count": 39,
   "metadata": {},
   "outputs": [
    {
     "data": {
      "text/html": [
       "<div>\n",
       "<style scoped>\n",
       "    .dataframe tbody tr th:only-of-type {\n",
       "        vertical-align: middle;\n",
       "    }\n",
       "\n",
       "    .dataframe tbody tr th {\n",
       "        vertical-align: top;\n",
       "    }\n",
       "\n",
       "    .dataframe thead th {\n",
       "        text-align: right;\n",
       "    }\n",
       "</style>\n",
       "<table border=\"1\" class=\"dataframe\">\n",
       "  <thead>\n",
       "    <tr style=\"text-align: right;\">\n",
       "      <th></th>\n",
       "      <th>Engine HP</th>\n",
       "      <th>MSRP</th>\n",
       "    </tr>\n",
       "  </thead>\n",
       "  <tbody>\n",
       "    <tr>\n",
       "      <th>0</th>\n",
       "      <td>0.314637</td>\n",
       "      <td>0.012783</td>\n",
       "    </tr>\n",
       "    <tr>\n",
       "      <th>1</th>\n",
       "      <td>0.410397</td>\n",
       "      <td>0.022206</td>\n",
       "    </tr>\n",
       "    <tr>\n",
       "      <th>2</th>\n",
       "      <td>0.410397</td>\n",
       "      <td>0.018700</td>\n",
       "    </tr>\n",
       "    <tr>\n",
       "      <th>3</th>\n",
       "      <td>0.314637</td>\n",
       "      <td>0.016947</td>\n",
       "    </tr>\n",
       "    <tr>\n",
       "      <th>4</th>\n",
       "      <td>0.314637</td>\n",
       "      <td>0.017166</td>\n",
       "    </tr>\n",
       "    <tr>\n",
       "      <th>5</th>\n",
       "      <td>0.410397</td>\n",
       "      <td>0.018919</td>\n",
       "    </tr>\n",
       "    <tr>\n",
       "      <th>6</th>\n",
       "      <td>0.314637</td>\n",
       "      <td>0.013002</td>\n",
       "    </tr>\n",
       "    <tr>\n",
       "      <th>7</th>\n",
       "      <td>0.410397</td>\n",
       "      <td>0.022425</td>\n",
       "    </tr>\n",
       "  </tbody>\n",
       "</table>\n",
       "</div>"
      ],
      "text/plain": [
       "   Engine HP      MSRP\n",
       "0   0.314637  0.012783\n",
       "1   0.410397  0.022206\n",
       "2   0.410397  0.018700\n",
       "3   0.314637  0.016947\n",
       "4   0.314637  0.017166\n",
       "5   0.410397  0.018919\n",
       "6   0.314637  0.013002\n",
       "7   0.410397  0.022425"
      ]
     },
     "execution_count": 39,
     "metadata": {},
     "output_type": "execute_result"
    }
   ],
   "source": [
    "col2 = ['Engine HP','MSRP']\n",
    "df2 = df[col2]\n",
    "df2.head(8)"
   ]
  },
  {
   "cell_type": "code",
   "execution_count": 40,
   "metadata": {},
   "outputs": [
    {
     "name": "stdout",
     "output_type": "stream",
     "text": [
      "(504, 1)\n",
      "(249, 1)\n",
      "(504,)\n",
      "(249,)\n"
     ]
    }
   ],
   "source": [
    "#Split training and testing data:\n",
    "#Y = Car Price\n",
    "#X = All other features\n",
    "\n",
    "import sklearn.cross_validation\n",
    "sklearn.model_selection.train_test_split\n",
    "\n",
    "X = df2.drop('MSRP', axis = 1)\n",
    "Y = df2['MSRP']\n",
    "\n",
    "\n",
    "X_train, X_test, Y_train, Y_test = sklearn.cross_validation.train_test_split(X, Y, test_size = 0.33, random_state = 5)\n",
    "print(X_train.shape)\n",
    "print(X_test.shape)\n",
    "print(Y_train.shape)\n",
    "print(Y_test.shape)\n",
    "\n"
   ]
  },
  {
   "cell_type": "code",
   "execution_count": 41,
   "metadata": {},
   "outputs": [
    {
     "name": "stdout",
     "output_type": "stream",
     "text": [
      "[ 0.03128151  0.05195469 -0.02540303  0.00794081  0.11130674  0.03561621\n",
      "  0.14798497  0.00127204  0.03394901  0.04962062 -0.0060636   0.12897898\n",
      "  0.02661337  0.03394901 -0.02740366  0.05728971  0.00794081 -0.00939799\n",
      " -0.00206234  0.05128782  0.12897898  0.12531116 -0.00939799  0.05195469\n",
      "  0.00794081  0.05195469  0.00293924  0.00293924  0.02961431  0.01694365\n",
      "  0.00794081 -0.00339609  0.00794081 -0.00206234  0.02627993  0.01460958\n",
      " -0.00873111  0.04728655  0.12664491  0.06129097  0.03828372  0.00794081\n",
      "  0.09130043  0.04962062  0.00127204 -0.02606991  0.03461589  0.00794081\n",
      "  0.02461274  0.05628939  0.00794081  0.03128151  0.04128466  0.04228498\n",
      "  0.14798497  0.07996352 -0.01606676  0.1386487   0.00794081  0.01627678\n",
      "  0.00794081  0.00293924  0.03461589  0.02661337  0.00360611  0.12464428\n",
      "  0.05195469  0.05195469 -0.00339609 -0.00339609  0.00794081  0.05195469\n",
      "  0.13131305  0.01460958  0.0112752  -0.05874688  0.05062094  0.04962062\n",
      " -0.014733   -0.01606676  0.00794081  0.04962062  0.02627993  0.01694365\n",
      "  0.05062094  0.02961431  0.00794081  0.08129728  0.10463797 -0.00339609\n",
      "  0.02261211  0.01627678  0.04295185  0.07562882  0.03394901 -0.00506329\n",
      " -0.00206234  0.05195469  0.12797866  0.02828056  0.05128782  0.01460958\n",
      " -0.01606676 -0.00873111  0.05062094  0.00794081  0.04795343  0.1516528\n",
      " -0.00339609  0.01794397 -0.00939799 -0.01206549  0.00794081  0.00127204\n",
      "  0.04795343  0.00794081  0.02961431  0.03061463  0.00794081  0.02828056\n",
      "  0.07129412  0.00794081 -0.00939799  0.04962062  0.05195469  0.12897898\n",
      "  0.07562882  0.00794081  0.02961431  0.01460958  0.00794081  0.02194523\n",
      "  0.00293924 -0.0103983   0.00794081  0.04962062  0.01460958 -0.02606991\n",
      "  0.04328529  0.04128466  0.12464428  0.01460958 -0.01606676  0.04728655\n",
      " -0.01273237  0.1413162   0.00794081  0.08429822  0.03061463  0.05062094\n",
      "  0.00794081  0.05195469 -0.01206549  0.12531116  0.00127204  0.02794712\n",
      " -0.00206234  0.00794081  0.04728655 -0.00206234  0.12864554 -0.01206549\n",
      "  0.02961431  0.04795343  0.05195469  0.04295185  0.0112752   0.00794081\n",
      "  0.03461589  0.00794081 -0.00339609  0.01394271 -0.00939799  0.03461589\n",
      "  0.08129728  0.02627993  0.00794081  0.02894744 -0.02606991  0.00127204\n",
      "  0.04728655  0.03561621  0.14831841 -0.00873111  0.12531116  0.05128782\n",
      "  0.00794081 -0.02606991  0.05128782  0.04295185  0.04795343  0.00794081\n",
      "  0.04728655 -0.00806423  0.13131305  0.02627993  0.00794081  0.00160548\n",
      "  0.12797866  0.0112752   0.00160548  0.03128151  0.04128466 -0.00939799\n",
      "  0.00794081  0.00794081 -0.00873111  0.00794081  0.00794081  0.04795343\n",
      "  0.07996352  0.0112752   0.04795343 -0.02606991  0.01627678  0.07129412\n",
      " -0.01206549  0.05195469  0.06129097  0.00794081  0.02194523  0.04028435\n",
      " -0.02606991 -0.0060636   0.00827425  0.00127204  0.02127835 -0.02606991\n",
      "  0.02127835  0.04195154  0.0979692   0.13131305  0.01627678 -0.00206234\n",
      "  0.01694365  0.05195469  0.00794081  0.00794081  0.13031273  0.00927457\n",
      "  0.00827425  0.03128151  0.11130674  0.04728655 -0.00506329  0.02127835\n",
      "  0.04728655  0.00127204 -0.01606676]\n"
     ]
    },
    {
     "data": {
      "text/plain": [
       "<Figure size 800x640 with 0 Axes>"
      ]
     },
     "metadata": {},
     "output_type": "display_data"
    }
   ],
   "source": [
    "#Linear Regression:\n",
    "\n",
    "from matplotlib.pyplot import figure\n",
    "\n",
    "figure(num=None, figsize=(10, 8), dpi=80, facecolor='w', edgecolor='k')\n",
    "from sklearn.linear_model import LinearRegression\n",
    "\n",
    "lm = LinearRegression()\n",
    "lm.fit(X_train, Y_train)\n",
    "\n",
    "Y_pred = lm.predict(X_test)\n",
    "print(Y_pred)\n",
    "\n"
   ]
  },
  {
   "cell_type": "code",
   "execution_count": 42,
   "metadata": {},
   "outputs": [
    {
     "data": {
      "image/png": "[encoded data removed]",
      "text/plain": [
       "<Figure size 800x640 with 1 Axes>"
      ]
     },
     "metadata": {},
     "output_type": "display_data"
    }
   ],
   "source": [
    "from matplotlib.pyplot import figure\n",
    "\n",
    "figure(num=None, figsize=(10, 8), dpi=80, facecolor='w', edgecolor='k')\n",
    "\n",
    "plt.scatter(Y_test, Y_pred)\n",
    "plt.xlabel(\"Engine HP\")\n",
    "plt.ylabel(\"Price\")\n",
    "plt.title(\"Engine HP vs Price\");\n",
    "# plt.xlim(0,100000)\n",
    "# plt.ylim(0,100000)\n",
    "\n",
    "\n",
    "#plt.scatter(Y_test, Y_pred)"
   ]
  },
  {
   "cell_type": "code",
   "execution_count": 43,
   "metadata": {},
   "outputs": [
    {
     "name": "stderr",
     "output_type": "stream",
     "text": [
      "C:\\Users\\PB\\Anaconda3\\lib\\site-packages\\matplotlib\\axes\\_axes.py:6462: UserWarning: The 'normed' kwarg is deprecated, and has been replaced by the 'density' kwarg.\n",
      "  warnings.warn(\"The 'normed' kwarg is deprecated, and has been \"\n"
     ]
    },
    {
     "data": {
      "text/plain": [
       "<matplotlib.axes._subplots.AxesSubplot at 0x5783710>"
      ]
     },
     "execution_count": 43,
     "metadata": {},
     "output_type": "execute_result"
    },
    {
     "data": {
      "image/png": "[encoded data removed]",
      "text/plain": [
       "<Figure size 432x288 with 1 Axes>"
      ]
     },
     "metadata": {},
     "output_type": "display_data"
    }
   ],
   "source": [
    "#This plot gives us data for Engine HP Vs Price\n",
    "sns.distplot((Y_test-Y_pred))"
   ]
  },
  {
   "cell_type": "code",
   "execution_count": 46,
   "metadata": {},
   "outputs": [
    {
     "name": "stdout",
     "output_type": "stream",
     "text": [
      "MAE: 56169.11699282303\n",
      "MSE: 8128815855.220952\n",
      "RMSE: 90159.94595839636\n"
     ]
    }
   ],
   "source": [
    "#Mean Absolute Error (MAE) is the mean of the absolute value of the errors:\n",
    "#1n∑i=1n|yi−ŷ i|\n",
    "\n",
    "from sklearn import metrics\n",
    "print('MAE:', metrics.mean_absolute_error(Y_test,Y_pred))\n",
    "\n",
    "# Mean Squared Error (MSE) is the mean of the squared errors:\n",
    "# 1n∑i=1n(yi−ŷ i)2\n",
    "\n",
    "print('MSE:', metrics.mean_squared_error(Y_test, Y_pred))\n",
    "\n",
    "# Root Mean Squared Error (RMSE) is the square root of the mean of the squared errors:\n",
    "# 1n∑i=1n(yi−ŷ i)2\n",
    "\n",
    "import numpy as np\n",
    "print('RMSE:', np.sqrt(metrics.mean_squared_error(Y_test, Y_pred)))\n",
    "\n",
    "# Comparing these metrics:\n",
    "# MAE is the easiest to understand, because it's the average error.\n",
    "# MSE is more popular than MAE, because MSE \"punishes\" larger errors, which tends to be useful in the real world.\n",
    "# RMSE is even more popular than MSE, because RMSE is interpretable in the \"y\" units. \n",
    "# All of these are loss functions, because we want to minimize them."
   ]
  },
  {
   "cell_type": "code",
   "execution_count": 45,
   "metadata": {},
   "outputs": [
    {
     "name": "stdout",
     "output_type": "stream",
     "text": [
      "(504, 1)\n",
      "(249, 1)\n",
      "(504,)\n",
      "(249,)\n",
      "[73399.82425586 71727.67453255 49989.72812944 31596.08117296\n",
      " 46645.42868281 31596.08117296 51661.87785276 34940.3806196\n",
      " 63366.92591597 60022.62646933 33268.23089628 41628.97951286\n",
      " 36612.53034291 63366.92591597 38284.68006623 60022.62646933\n",
      " 31596.08117296 34940.3806196  31596.08117296 60022.62646933\n",
      " 41628.97951286 75071.97397918 34940.3806196  65039.07563928\n",
      " 31596.08117296 71727.67453255 71727.67453255 65039.07563928\n",
      " 60022.62646933 29923.93144965 46645.42868281 34940.3806196\n",
      " 31596.08117296 31596.08117296 66711.2253626  39956.82978954\n",
      " 34940.3806196  73399.82425586 73399.82425586 60022.62646933\n",
      " 44973.27895949 31596.08117296 78416.27342581 60022.62646933\n",
      " 34940.3806196  63366.92591597 81760.57287244 31596.08117296\n",
      " 63366.92591597 53334.02757607 31596.08117296 73399.82425586\n",
      " 81760.57287244 60022.62646933 51661.87785276 55006.17729939\n",
      " 38284.68006623 48317.57840612 31596.08117296 66711.2253626\n",
      " 31596.08117296 71727.67453255 81760.57287244 36612.53034291\n",
      " 55006.17729939 66711.2253626  65039.07563928 71727.67453255\n",
      " 34940.3806196  34940.3806196  31596.08117296 71727.67453255\n",
      " 58350.47674602 39956.82978954 31596.08117296 33268.23089628\n",
      " 60022.62646933 60022.62646933 33268.23089628 38284.68006623\n",
      " 31596.08117296 60022.62646933 66711.2253626  29923.93144965\n",
      " 60022.62646933 36612.53034291 31596.08117296 60022.62646933\n",
      " 80088.42314913 34940.3806196  49989.72812944 66711.2253626\n",
      " 36612.53034291 73399.82425586 63366.92591597 49989.72812944\n",
      " 31596.08117296 65039.07563928 58350.47674602 43301.12923618\n",
      " 60022.62646933 39956.82978954 38284.68006623 34940.3806196\n",
      " 60022.62646933 31596.08117296 71727.67453255 75071.97397918\n",
      " 34940.3806196  76744.12370249 34940.3806196  31596.08117296\n",
      " 31596.08117296 34940.3806196  71727.67453255 31596.08117296\n",
      " 36612.53034291 33268.23089628 31596.08117296 34940.3806196\n",
      " 60022.62646933 31596.08117296 34940.3806196  60022.62646933\n",
      " 73399.82425586 41628.97951286 73399.82425586 31596.08117296\n",
      " 36612.53034291 39956.82978954 31596.08117296 71727.67453255\n",
      " 65039.07563928 61694.77619265 31596.08117296 60022.62646933\n",
      " 39956.82978954 63366.92591597 55006.17729939 76744.12370249\n",
      " 58350.47674602 39956.82978954 38284.68006623 73399.82425586\n",
      " 61694.77619265 75071.97397918 31596.08117296 46645.42868281\n",
      " 33268.23089628 60022.62646933 31596.08117296 71727.67453255\n",
      " 31596.08117296 75071.97397918 34940.3806196  33268.23089628\n",
      " 31596.08117296 31596.08117296 73399.82425586 31596.08117296\n",
      " 68383.37508591 31596.08117296 36612.53034291 71727.67453255\n",
      " 65039.07563928 81760.57287244 31596.08117296 31596.08117296\n",
      " 81760.57287244 31596.08117296 34940.3806196  60022.62646933\n",
      " 61694.77619265 81760.57287244 60022.62646933 66711.2253626\n",
      " 31596.08117296 49989.72812944 63366.92591597 34940.3806196\n",
      " 73399.82425586 31596.08117296 75071.97397918 34940.3806196\n",
      " 55006.17729939 60022.62646933 31596.08117296 63366.92591597\n",
      " 60022.62646933 81760.57287244 71727.67453255 31596.08117296\n",
      " 73399.82425586 34940.3806196  58350.47674602 66711.2253626\n",
      " 31596.08117296 33268.23089628 58350.47674602 46645.42868281\n",
      " 33268.23089628 73399.82425586 81760.57287244 34940.3806196\n",
      " 31596.08117296 31596.08117296 34940.3806196  31596.08117296\n",
      " 31596.08117296 71727.67453255 55006.17729939 31596.08117296\n",
      " 71727.67453255 63366.92591597 66711.2253626  60022.62646933\n",
      " 31596.08117296 73399.82425586 78416.27342581 31596.08117296\n",
      " 71727.67453255 60022.62646933 63366.92591597 38284.68006623\n",
      " 81760.57287244 34940.3806196  56678.3270227  63366.92591597\n",
      " 56678.3270227  46645.42868281 80088.42314913 58350.47674602\n",
      " 66711.2253626  31596.08117296 29923.93144965 65039.07563928\n",
      " 31596.08117296 31596.08117296 75071.97397918 55006.17729939\n",
      " 81760.57287244 73399.82425586 80088.42314913 73399.82425586\n",
      " 49989.72812944 56678.3270227  73399.82425586 34940.3806196\n",
      " 38284.68006623]\n"
     ]
    },
    {
     "data": {
      "text/plain": [
       "<Figure size 800x640 with 0 Axes>"
      ]
     },
     "metadata": {},
     "output_type": "display_data"
    },
    {
     "data": {
      "image/png": "[encoded data removed]",
      "text/plain": [
       "<Figure size 800x640 with 1 Axes>"
      ]
     },
     "metadata": {},
     "output_type": "display_data"
    }
   ],
   "source": [
    "# col3 = ['Make_code','MSRP']\n",
    "# df3 = kmeans_data[col3]\n",
    "\n",
    "# import sklearn.cross_validation\n",
    "# sklearn.model_selection.train_test_split\n",
    "\n",
    "# X = df3.drop('MSRP', axis = 1)\n",
    "# Y = df3['MSRP']\n",
    "\n",
    "\n",
    "# X_train, X_test, Y_train, Y_test = sklearn.cross_validation.train_test_split(X, Y, test_size = 0.33, random_state = 5)\n",
    "# print(X_train.shape)\n",
    "# print(X_test.shape)\n",
    "# print(Y_train.shape)\n",
    "# print(Y_test.shape)\n",
    "\n",
    "# from matplotlib.pyplot import figure\n",
    "\n",
    "# figure(num=None, figsize=(10, 8), dpi=80, facecolor='w', edgecolor='k')\n",
    "# from sklearn.linear_model import LinearRegression\n",
    "\n",
    "# lm = LinearRegression()\n",
    "# lm.fit(X_train, Y_train)\n",
    "\n",
    "# Y_pred = lm.predict(X_test)\n",
    "# print(Y_pred)\n",
    "\n",
    "# from matplotlib.pyplot import figure\n",
    "\n",
    "# figure(num=None, figsize=(10, 8), dpi=80, facecolor='w', edgecolor='k')\n",
    "\n",
    "# plt.scatter(Y_test, Y_pred)\n",
    "# plt.xlabel(\"Make\")\n",
    "# plt.ylabel(\"Price\")\n",
    "# plt.title(\"Make vs Price\");"
   ]
  },
  {
   "cell_type": "code",
   "execution_count": 37,
   "metadata": {},
   "outputs": [
    {
     "name": "stdout",
     "output_type": "stream",
     "text": [
      "(504, 1)\n",
      "(249, 1)\n",
      "(504,)\n",
      "(249,)\n",
      "[  57464.60706601   69282.94018054   22009.60772243   37767.38520847\n",
      "   88980.16203809   61404.05143752   96859.05078111   45646.27395149\n",
      "   41706.82957998   73222.38455205   57464.60706601   77161.82892356\n",
      "   77161.82892356   49585.718323     14130.71897941   61404.05143752\n",
      "   37767.38520847   41706.82957998  -29203.16910719   65343.49580903\n",
      "   77161.82892356   85040.71766658   41706.82957998   69282.94018054\n",
      "   33827.94083696   69282.94018054   65343.49580903   61404.05143752\n",
      "   65343.49580903   45646.27395149   29888.49646545   57464.60706601\n",
      "   29888.49646545  -29203.16910719  100798.49515262   49585.718323\n",
      "   41706.82957998   53525.16269451   85040.71766658   33827.94083696\n",
      "   69282.94018054   29888.49646545   69282.94018054   65343.49580903\n",
      "   45646.27395149  -13445.39162115   49585.718323     29888.49646545\n",
      "   77161.82892356   57464.60706601   29888.49646545   57464.60706601\n",
      "   69282.94018054   77161.82892356   96859.05078111   69282.94018054\n",
      "   29888.49646545   73222.38455205   29888.49646545   92919.6064096\n",
      "   29888.49646545   69282.94018054   45646.27395149   77161.82892356\n",
      "   25949.05209394   69282.94018054   69282.94018054   69282.94018054\n",
      "   69282.94018054   61404.05143752   37767.38520847   69282.94018054\n",
      "   81101.27329507   45646.27395149   33827.94083696 -131628.72276644\n",
      "   53525.16269451   65343.49580903   33827.94083696   29888.49646545\n",
      "   29888.49646545   61404.05143752  100798.49515262   49585.718323\n",
      "   53525.16269451   61404.05143752   37767.38520847   65343.49580903\n",
      "   88980.16203809   61404.05143752   65343.49580903   92919.6064096\n",
      "   69282.94018054   88980.16203809   41706.82957998   53525.16269451\n",
      "   37767.38520847   69282.94018054   81101.27329507   73222.38455205\n",
      "   61404.05143752   41706.82957998   29888.49646545   41706.82957998\n",
      "   61404.05143752   37767.38520847   77161.82892356   85040.71766658\n",
      "   69282.94018054   49585.718323     45646.27395149    6251.83023639\n",
      "   29888.49646545   41706.82957998   77161.82892356   33827.94083696\n",
      "   61404.05143752   57464.60706601   29888.49646545   85040.71766658\n",
      "   81101.27329507   37767.38520847   33827.94083696   65343.49580903\n",
      "   69282.94018054   81101.27329507   88980.16203809   37767.38520847\n",
      "   61404.05143752   45646.27395149   37767.38520847   77161.82892356\n",
      "   69282.94018054   14130.71897941   29888.49646545   61404.05143752\n",
      "   29888.49646545  -13445.39162115   53525.16269451   49585.718323\n",
      "   81101.27329507   45646.27395149   29888.49646545   53525.16269451\n",
      "   37767.38520847   92919.6064096    37767.38520847   65343.49580903\n",
      "   57464.60706601   61404.05143752   37767.38520847   69282.94018054\n",
      "   -5566.50287814   85040.71766658   41706.82957998   81101.27329507\n",
      "   29888.49646545   29888.49646545   53525.16269451   37767.38520847\n",
      "   92919.6064096    -5566.50287814   61404.05143752   77161.82892356\n",
      "   69282.94018054   57464.60706601   29888.49646545   29888.49646545\n",
      "   45646.27395149   29888.49646545   69282.94018054   45646.27395149\n",
      "   10191.2746079    49585.718323     69282.94018054   96859.05078111\n",
      "   29888.49646545   61404.05143752  -13445.39162115   45646.27395149\n",
      "   53525.16269451   61404.05143752   85040.71766658   41706.82957998\n",
      "   96859.05078111   61404.05143752   29888.49646545  -13445.39162115\n",
      "   61404.05143752   61404.05143752   77161.82892356   37767.38520847\n",
      "   53525.16269451   69282.94018054   81101.27329507  100798.49515262\n",
      "   37767.38520847   57464.60706601   81101.27329507   69282.94018054\n",
      "   57464.60706601   57464.60706601   65343.49580903   33827.94083696\n",
      "   37767.38520847   29888.49646545   41706.82957998   29888.49646545\n",
      "   37767.38520847   77161.82892356   69282.94018054   29888.49646545\n",
      "   77161.82892356  -13445.39162115   92919.6064096    81101.27329507\n",
      "    6251.83023639   69282.94018054   61404.05143752   29888.49646545\n",
      "   69282.94018054   65343.49580903  -13445.39162115   49585.718323\n",
      "   41706.82957998   41706.82957998   65343.49580903  -13445.39162115\n",
      "   65343.49580903   77161.82892356   85040.71766658   81101.27329507\n",
      "   92919.6064096    37767.38520847   45646.27395149   69282.94018054\n",
      "   33827.94083696   33827.94083696   85040.71766658   53525.16269451\n",
      "   37767.38520847   53525.16269451   92919.6064096    53525.16269451\n",
      "   53525.16269451   65343.49580903   57464.60706601   45646.27395149\n",
      "   29888.49646545]\n"
     ]
    },
    {
     "data": {
      "text/plain": [
       "<Figure size 800x640 with 0 Axes>"
      ]
     },
     "metadata": {},
     "output_type": "display_data"
    },
    {
     "data": {
      "image/png": "[encoded data removed]",
      "text/plain": [
       "<Figure size 800x640 with 1 Axes>"
      ]
     },
     "metadata": {},
     "output_type": "display_data"
    }
   ],
   "source": [
    "# col4 = ['highway MPG','MSRP']\n",
    "# df4 = kmeans_data[col4]\n",
    "# df4.head(8)\n",
    "\n",
    "# import sklearn.cross_validation\n",
    "# sklearn.model_selection.train_test_split\n",
    "\n",
    "# X = df4.drop('MSRP', axis = 1)\n",
    "# Y = df4['MSRP']\n",
    "\n",
    "\n",
    "# X_train, X_test, Y_train, Y_test = sklearn.cross_validation.train_test_split(X, Y, test_size = 0.33, random_state = 5)\n",
    "# print(X_train.shape)\n",
    "# print(X_test.shape)\n",
    "# print(Y_train.shape)\n",
    "# print(Y_test.shape)\n",
    "\n",
    "# from matplotlib.pyplot import figure\n",
    "\n",
    "# figure(num=None, figsize=(10, 8), dpi=80, facecolor='w', edgecolor='k')\n",
    "# from sklearn.linear_model import LinearRegression\n",
    "\n",
    "# lm = LinearRegression()\n",
    "# lm.fit(X_train, Y_train)\n",
    "\n",
    "# Y_pred = lm.predict(X_test)\n",
    "# print(Y_pred)\n",
    "\n",
    "# from matplotlib.pyplot import figure\n",
    "\n",
    "# figure(num=None, figsize=(10, 8), dpi=80, facecolor='w', edgecolor='k')\n",
    "\n",
    "# plt.scatter(Y_test, Y_pred)\n",
    "# plt.xlabel(\"Highway MPG\")\n",
    "# plt.ylabel(\"Price\")\n",
    "# plt.title(\"Highway MPG vs Price\");"
   ]
  }
 ],
 "metadata": {
  "kernelspec": {
   "display_name": "Python 3",
   "language": "python",
   "name": "python3"
  },
  "language_info": {
   "codemirror_mode": {
    "name": "ipython",
    "version": 3
   },
   "file_extension": ".py",
   "mimetype": "text/x-python",
   "name": "python",
   "nbconvert_exporter": "python",
   "pygments_lexer": "ipython3",
   "version": "3.6.5"
  }
 },
 "nbformat": 4,
 "nbformat_minor": 2
}
