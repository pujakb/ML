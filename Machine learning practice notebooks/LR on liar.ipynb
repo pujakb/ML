{
 "cells": [
  {
   "cell_type": "code",
   "execution_count": null,
   "metadata": {},
   "outputs": [],
   "source": [
    "import numpy as np \n",
    "import pandas as pd\n",
    "import matplotlib.pyplot as plt\n",
    "header = [\"id\",\"label\",\"text\",\"subject\",\"speaker\",\"title\",\"state\",\"party\",\"barely true\",\"false\",\"half true\",\"mostly true\",\"pants on fire\",\"context\"]\n",
    "data = pd.read_csv('train.tsv' ,sep='\\t',encoding='Latin1', names=header)"
   ]
  },
  {
   "cell_type": "code",
   "execution_count": null,
   "metadata": {},
   "outputs": [],
   "source": [
    "data.head()"
   ]
  },
  {
   "cell_type": "code",
   "execution_count": null,
   "metadata": {},
   "outputs": [],
   "source": [
    "data.describe()"
   ]
  },
  {
   "cell_type": "code",
   "execution_count": null,
   "metadata": {},
   "outputs": [],
   "source": [
    "## normalize by min-max\n",
    "data['Barely_true'] = data['barely true'] / 70.0\n",
    "data['fully_false'] = data['false'] / 114.0\n",
    "data['half_true'] = data['half true'] / 160.0\n",
    "data['mostly_true'] = data['mostly true'] / 163.0\n",
    "data['pants_on_fire'] = data['pants on fire'] / 105\n",
    "### check if party if democrat or republican\n",
    "data['democrat'] = data['party'].apply(lambda x : 1 if (x == 'democrat') else 0)\n",
    "data['republican'] = data['party'].apply(lambda x : 1 if (x == 'republican') else 0)\n",
    "data['new_label'] = data['label'].apply(lambda x: 0 if (x=='false') else 1)\n",
    "data['interview'] = data['context'].apply(lambda x: 1 if \"interview\" in str(x) else 0)\n",
    "data['obama'] = data['speaker'].apply(lambda x: 1 if 'obama' in str(x) else 0)"
   ]
  },
  {
   "cell_type": "code",
   "execution_count": null,
   "metadata": {},
   "outputs": [],
   "source": [
    "features_used = ['obama','interview', 'democrat', 'republican','Barely_true','fully_false','half_true','mostly_true','pants_on_fire']"
   ]
  },
  {
   "cell_type": "code",
   "execution_count": null,
   "metadata": {},
   "outputs": [],
   "source": [
    "X = data[features_used]\n",
    "Y = data[['new_label']]"
   ]
  },
  {
   "cell_type": "code",
   "execution_count": null,
   "metadata": {},
   "outputs": [],
   "source": [
    "from sklearn.model_selection import train_test_split\n",
    "from sklearn import linear_model\n",
    "X = X.fillna(0);\n",
    "Y = Y.fillna(0);\n",
    "X_train, X_test, y_train, y_test = train_test_split(X, Y, test_size=0.4, random_state=0)\n",
    "lm = linear_model.LogisticRegression(verbose=1)\n",
    "model = lm.fit(X_train, y_train)\n",
    "print (model)\n",
    "predictions = lm.predict(X_test)\n",
    "\n",
    "print (\"Score:\", model.score(X_test, y_test))"
   ]
  },
  {
   "cell_type": "code",
   "execution_count": null,
   "metadata": {},
   "outputs": [],
   "source": [
    "for i in range(0,len(model.coef_[0])):\n",
    "    print (features_used[i], model.coef_[0][i])"
   ]
  },
  {
   "cell_type": "code",
   "execution_count": null,
   "metadata": {},
   "outputs": [],
   "source": [
    "## this shows statements from democrat (+0.17) are not likely fake news\n",
    "## this shows statments from republicans (-0.18) are likely fake news\n",
    "## interestingly even president obama was involved in fake news as shown by negative coefficient -0.66"
   ]
  }
 ],
 "metadata": {
  "kernelspec": {
   "display_name": "Python 3",
   "language": "python",
   "name": "python3"
  },
  "language_info": {
   "codemirror_mode": {
    "name": "ipython",
    "version": 3
   },
   "file_extension": ".py",
   "mimetype": "text/x-python",
   "name": "python",
   "nbconvert_exporter": "python",
   "pygments_lexer": "ipython3",
   "version": "3.6.5"
  }
 },
 "nbformat": 4,
 "nbformat_minor": 2
}
