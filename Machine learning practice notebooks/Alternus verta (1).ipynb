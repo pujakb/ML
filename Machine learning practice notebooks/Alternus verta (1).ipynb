{
 "cells": [
  {
   "cell_type": "markdown",
   "metadata": {
    "nbpresent": {
     "id": "130bb1e5-0be7-4ae8-9853-ceab8e69c4f4"
    },
    "slideshow": {
     "slide_type": "slide"
    }
   },
   "source": [
    "### Swetha Chandrasekar\n",
    "### Project Alternus verta\n",
    "### factor: party affliation\n",
    "Business problem: Party affliation of the news maker is an important factor in deciding the credibility of the news or statement.\n",
    "It is important to model the factor of Party affliation while fact checking the news.\n",
    "#### What is party affliation? \n",
    "Party refers to an organization, a formal or informal group of like minded members with similar policies and principles and stances on major political issues.\n",
    "Inferring the Party affliation of a person can help infer the person's stand on major political issues and principles.\n",
    "Example: \n",
    "1. republicans:  leaning right of the political spectrum with support to pro-life, free-market, lesser spending by government. \n",
    "2. democrats  leaning left of the political spectrum with explicit suppport to LGBT, relatively more spending by the government by increasing taxes.\n",
    "<b>Party affliation is not merely confined to the major two. Per LIAR-LIAR dataset, There are 23 different party affliations.</b>\n",
    "1. tea-party-member(sub wing within the republican party with fiscal conservative policies)\n",
    "2. talk-show-host\n",
    "3. state-official \n",
    "4. republican\n",
    "5. organization\n",
    "6. ocean-state-tea-party-action\n",
    "7. none\n",
    "8. newsmaker\n",
    "9. Moderate\n",
    "10. libertarian\n",
    "11. liberal-party-canada\n",
    "12. labor-leader\n",
    "13. journalist\n",
    "14. independent\n",
    "15. green\n",
    "16. government-body\n",
    "17. education-official\n",
    "18. democratic-farmer-labor\n",
    "19. democrat\n",
    "20. constitution-party\n",
    "21. columnist\n",
    "22. business-leader\n",
    "23. activist\n",
    "<br>\n",
    "Datasets used: <br>\n",
    "-1. Getting Real on Fake news Kaggle dataset, <br>\n",
    "-2. LIAR LIAR dataset,  <br>\n",
    "-3. million headlines dataset <br>\n",
    "Pretrained Language model: wikitext-103 (trained using fastai module)\n",
    "dataset for futher training language model specific to news: million headlines dataset"
   ]
  },
  {
   "cell_type": "code",
   "execution_count": 1,
   "metadata": {
    "nbpresent": {
     "id": "dac9edf2-8b25-4ffb-b164-6ce88724f0c1"
    },
    "slideshow": {
     "slide_type": "slide"
    }
   },
   "outputs": [],
   "source": [
    "%reload_ext autoreload\n",
    "%autoreload 2\n",
    "%matplotlib inline"
   ]
  },
  {
   "cell_type": "code",
   "execution_count": 2,
   "metadata": {
    "nbpresent": {
     "id": "09f4a11b-6f5a-4517-ac7c-f3e678f58215"
    }
   },
   "outputs": [],
   "source": [
    "from fastai import *\n",
    "from fastai.text import *"
   ]
  },
  {
   "cell_type": "markdown",
   "metadata": {},
   "source": [
    "<font color = \"green\">\n",
    "    <h1>Approach 1: (LDA + Word2vec, Doc2vec to model party affliation) </h1></font>\n",
    "<font color= \"blue\">\n",
    "\n",
    "<h3>Datasets: 1. million headlines dataset, 2. kaggle fake news dataset for LDA  and 3. LIAR LIAR dataset for modelling the party affliation </h3> </font>\n",
    "<b>Steps <br>\n",
    "0. Clean the datasets (standard NLP tokenization, stop word removal, lemmatization & stemming) <br>\n",
    "1. Perform LDA for distillation on million headlines dataset &  (initial distillation) <br>\n",
    "2. manually look into  the topics from LDA to create bag of words features and also use word2vec, doc2vec featuers to model the factor of party affliation <br> </b>\n",
    "<br>=========================================================================================== <br>\n",
    "<font color = \"green\">\n",
    "<h1>Approach 2: (Transfer learning + RNN to model the party affliation)</h1></font>\n",
    "<font color= \"blue\">\n",
    "<h3>Dataset: 1. million headlines dataset for transfer learning and 2. LIAR LIAR dataset for modelling the party affliation\n",
    "    </h3></font>\n",
    "  <b>Steps <br>\n",
    "0. Clean the datasets (standard NLP tokenization, stop word removal, lemmatization & stemming) <br>\n",
    "1. It is important for the model to understand general english. Start with a pre-trained wikitext RNN based Language model. <br>\n",
    "2. train an additional layer to produce language model specific to news headlines corpus <br>\n",
    "3. now train a RNN to predict a softmax score for each of the 23 party affliations <br> </b>"
   ]
  },
  {
   "cell_type": "markdown",
   "metadata": {
    "nbpresent": {
     "id": "e09c866b-dd6f-493e-bebb-48c271e9ca8d"
    }
   },
   "source": [
    "# 1.  LDA on NYTimes articles dataset from Kaggle (initial distillation) \n",
    "https://towardsdatascience.com/topic-modeling-and-latent-dirichlet-allocation-in-python-9bf156893c24\n",
    "1. Clean the dataset\n",
    "    1. Tokenization\n",
    "    2. Stopwords removal\n",
    "    3. Lemmatization\n",
    "    4. Stemming\n",
    "2. Perform LDA to find N=10 topics "
   ]
  },
  {
   "cell_type": "code",
   "execution_count": 152,
   "metadata": {
    "nbpresent": {
     "id": "ac90dafc-19f7-4a24-a059-ba31a10ede02"
    }
   },
   "outputs": [],
   "source": [
    "import pandas as pd\n",
    "data = pd.read_csv('NYT_headlines.txt', error_bad_lines=False, delimiter='\\t');\n",
    "data_text = data[['headline_text']]\n",
    "data_text['index'] = data_text.index\n",
    "documents = data_text\n",
    "nyt_headlines_dataset = documents.headline_text.tolist()"
   ]
  },
  {
   "cell_type": "markdown",
   "metadata": {
    "nbpresent": {
     "id": "69d06016-e83d-4755-ac6b-c52d7663e6e4"
    }
   },
   "source": [
    "### Loading gensim and nltk libraries \n",
    "### https://towardsdatascience.com/topic-modeling-and-latent-dirichlet-allocation-in-python-9bf156893c24\n"
   ]
  },
  {
   "cell_type": "code",
   "execution_count": 193,
   "metadata": {},
   "outputs": [
    {
     "name": "stdout",
     "output_type": "stream",
     "text": [
      "[nltk_data] Downloading package wordnet to /home/jupyter/nltk_data...\n",
      "[nltk_data]   Package wordnet is already up-to-date!\n"
     ]
    },
    {
     "data": {
      "text/plain": [
       "True"
      ]
     },
     "execution_count": 193,
     "metadata": {},
     "output_type": "execute_result"
    }
   ],
   "source": [
    "import gensim\n",
    "from gensim.utils import simple_preprocess\n",
    "from gensim.parsing.preprocessing import STOPWORDS\n",
    "from nltk.stem import WordNetLemmatizer, SnowballStemmer\n",
    "from nltk.stem.porter import *\n",
    "from fastai import *\n",
    "from fastai.tabular import *\n",
    "from fastai.text import *\n",
    "import numpy as np\n",
    "np.random.seed(2018)\n",
    "import nltk\n",
    "nltk.download('wordnet')\n"
   ]
  },
  {
   "cell_type": "code",
   "execution_count": 73,
   "metadata": {},
   "outputs": [],
   "source": [
    "from nltk import PorterStemmer \n",
    "stemmer = PorterStemmer()\n",
    "def lemmatize_stemming(text):\n",
    "    return text\n",
    "    return stemmer.stem(WordNetLemmatizer().lemmatize(text, pos='v'))\n",
    "def preprocess(text):\n",
    "    result = []\n",
    "    for token in gensim.utils.simple_preprocess(text):\n",
    "        if token not in gensim.parsing.preprocessing.STOPWORDS and len(token) > 3:\n",
    "            result.append(lemmatize_stemming(token))\n",
    "    return result\n"
   ]
  },
  {
   "cell_type": "code",
   "execution_count": 74,
   "metadata": {},
   "outputs": [
    {
     "name": "stdout",
     "output_type": "stream",
     "text": [
      "0 expansive\n",
      "1 finding\n",
      "2 forgotten\n",
      "3 niger\n",
      "4 people\n",
      "5 view\n",
      "6 curse\n",
      "7 dreaded\n",
      "8 trump\n",
      "9 descent\n",
      "10 dictatorship\n"
     ]
    },
    {
     "data": {
      "text/plain": [
       "[(30, 1)]"
      ]
     },
     "execution_count": 74,
     "metadata": {},
     "output_type": "execute_result"
    }
   ],
   "source": [
    "processed_docs = documents['headline_text'].map(preprocess)\n",
    "processed_docs[:10]\n",
    "dictionary = gensim.corpora.Dictionary(processed_docs)\n",
    "count = 0\n",
    "for k, v in dictionary.iteritems():\n",
    "    print(k, v)\n",
    "    count += 1\n",
    "    if count > 10:\n",
    "        break\n",
    "dictionary.filter_extremes(no_below=15, no_above=0.5, keep_n=100000)\n",
    "bow_corpus = [dictionary.doc2bow(doc) for doc in processed_docs]\n",
    "bow_corpus[4310]"
   ]
  },
  {
   "cell_type": "code",
   "execution_count": 75,
   "metadata": {},
   "outputs": [],
   "source": [
    "lda_model1 = gensim.models.LdaMulticore(bow_corpus, num_topics=10, id2word=dictionary, passes=50, workers=4)\n"
   ]
  },
  {
   "cell_type": "code",
   "execution_count": 76,
   "metadata": {},
   "outputs": [
    {
     "name": "stdout",
     "output_type": "stream",
     "text": [
      "Topic: 0 \n",
      "Words: 0.061*\"love\" + 0.051*\"city\" + 0.041*\"crisis\" + 0.039*\"american\" + 0.035*\"battle\" + 0.034*\"election\" + 0.032*\"wall\" + 0.031*\"young\" + 0.030*\"dies\" + 0.030*\"vote\"\n",
      "Topic: 1 \n",
      "Words: 0.382*\"trump\" + 0.078*\"president\" + 0.047*\"home\" + 0.037*\"world\" + 0.037*\"america\" + 0.032*\"year\" + 0.029*\"donald\" + 0.027*\"past\" + 0.024*\"save\" + 0.020*\"aide\"\n",
      "Topic: 2 \n",
      "Words: 0.059*\"north\" + 0.052*\"korea\" + 0.052*\"right\" + 0.048*\"race\" + 0.047*\"student\" + 0.038*\"heart\" + 0.036*\"rise\" + 0.034*\"vietnam\" + 0.033*\"rules\" + 0.025*\"anti\"\n",
      "Topic: 3 \n",
      "Words: 0.060*\"good\" + 0.056*\"black\" + 0.054*\"help\" + 0.037*\"years\" + 0.036*\"variety\" + 0.034*\"little\" + 0.034*\"food\" + 0.029*\"police\" + 0.029*\"students\" + 0.024*\"lead\"\n",
      "Topic: 4 \n",
      "Words: 0.090*\"season\" + 0.080*\"episode\" + 0.080*\"trade\" + 0.054*\"house\" + 0.036*\"going\" + 0.034*\"recap\" + 0.030*\"deal\" + 0.030*\"story\" + 0.028*\"times\" + 0.026*\"march\"\n",
      "Topic: 5 \n",
      "Words: 0.093*\"trump\" + 0.063*\"tariffs\" + 0.056*\"china\" + 0.042*\"chief\" + 0.040*\"fight\" + 0.035*\"power\" + 0.034*\"talk\" + 0.032*\"takes\" + 0.027*\"team\" + 0.025*\"book\"\n",
      "Topic: 6 \n",
      "Words: 0.085*\"teaching\" + 0.059*\"time\" + 0.046*\"activities\" + 0.039*\"kids\" + 0.038*\"homes\" + 0.035*\"brooklyn\" + 0.035*\"know\" + 0.035*\"family\" + 0.035*\"political\" + 0.032*\"money\"\n",
      "Topic: 7 \n",
      "Words: 0.075*\"york\" + 0.051*\"life\" + 0.046*\"today\" + 0.043*\"says\" + 0.034*\"women\" + 0.033*\"real\" + 0.033*\"democrats\" + 0.029*\"case\" + 0.025*\"britain\" + 0.024*\"think\"\n",
      "Topic: 8 \n",
      "Words: 0.077*\"trump\" + 0.052*\"health\" + 0.049*\"facebook\" + 0.046*\"plan\" + 0.038*\"state\" + 0.036*\"care\" + 0.032*\"school\" + 0.032*\"russia\" + 0.031*\"news\" + 0.027*\"control\"\n",
      "Topic: 9 \n",
      "Words: 0.728*\"unknown\" + 0.067*\"like\" + 0.020*\"high\" + 0.018*\"words\" + 0.017*\"modern\" + 0.016*\"teachers\" + 0.014*\"crossword\" + 0.012*\"hate\" + 0.011*\"coming\" + 0.010*\"supreme\"\n"
     ]
    }
   ],
   "source": [
    "for idx, topic in lda_model1.print_topics(-1):\n",
    "    print('Topic: {} \\nWords: {}'.format(idx, topic))"
   ]
  },
  {
   "cell_type": "markdown",
   "metadata": {},
   "source": [
    "# 2.  LDA on fake news dataset from Kaggle (initial distillation) \n",
    "1. Clean the dataset\n",
    "    1. Tokenization\n",
    "    2. Stopwords removal\n",
    "    3. Lemmatization\n",
    "    4. Stemming\n",
    "2. Perform LDA to find N=10 topics "
   ]
  },
  {
   "cell_type": "code",
   "execution_count": 161,
   "metadata": {
    "nbpresent": {
     "id": "2e1c136b-e911-43c4-bea9-d15ab75867ff"
    }
   },
   "outputs": [
    {
     "name": "stderr",
     "output_type": "stream",
     "text": [
      "/opt/anaconda3/lib/python3.7/site-packages/ipykernel_launcher.py:3: SettingWithCopyWarning: \n",
      "A value is trying to be set on a copy of a slice from a DataFrame.\n",
      "Try using .loc[row_indexer,col_indexer] = value instead\n",
      "\n",
      "See the caveats in the documentation: http://pandas.pydata.org/pandas-docs/stable/indexing.html#indexing-view-versus-copy\n",
      "  This is separate from the ipykernel package so we can avoid doing imports until\n"
     ]
    }
   ],
   "source": [
    "data = pd.read_csv('fake.csv', error_bad_lines=False);\n",
    "data_text = data[['title','text']]\n",
    "data_text['headline_text'] =  data[['title', 'text']].apply(lambda x: ''.join(str(x)).strip().lower().replace('title', '').replace('text',''), axis=1)\n",
    "data_text = data_text[['headline_text']]\n",
    "data_text['index'] = data_text.index\n",
    "\n",
    "documents = data_text\n",
    "documents.head()\n",
    "kaggle_fake_news_dataset = data.title.tolist()"
   ]
  },
  {
   "cell_type": "markdown",
   "metadata": {
    "nbpresent": {
     "id": "db948440-6629-41fd-b959-986f9e5ec09b"
    }
   },
   "source": [
    "#### Preprocess the document before applying LDA"
   ]
  },
  {
   "cell_type": "code",
   "execution_count": 68,
   "metadata": {},
   "outputs": [
    {
     "name": "stdout",
     "output_type": "stream",
     "text": [
      "0 busted\n",
      "1 dtype\n",
      "2 millions\n",
      "3 muslims\n",
      "4 object\n",
      "5 print\n",
      "6 stole\n",
      "7 attorney\n",
      "8 general\n",
      "9 loretta\n",
      "10 lynch\n"
     ]
    },
    {
     "data": {
      "text/plain": [
       "[(867, 3)]"
      ]
     },
     "execution_count": 68,
     "metadata": {},
     "output_type": "execute_result"
    }
   ],
   "source": [
    "processed_docs = documents['headline_text'].map(preprocess)\n",
    "processed_docs[:10]\n",
    "dictionary = gensim.corpora.Dictionary(processed_docs)\n",
    "count = 0\n",
    "for k, v in dictionary.iteritems():\n",
    "    print(k, v)\n",
    "    count += 1\n",
    "    if count > 10:\n",
    "        break\n",
    "dictionary.filter_extremes(no_below=15, no_above=0.5, keep_n=100000)\n",
    "bow_corpus = [dictionary.doc2bow(doc) for doc in processed_docs]\n",
    "bow_corpus[4310]"
   ]
  },
  {
   "cell_type": "markdown",
   "metadata": {},
   "source": [
    "##### Run LDA on fake _news dataset from kaggle"
   ]
  },
  {
   "cell_type": "code",
   "execution_count": 70,
   "metadata": {},
   "outputs": [
    {
     "name": "stdout",
     "output_type": "stream",
     "text": [
      "Topic: 0 \n",
      "Words: 0.071*\"october\" + 0.050*\"america\" + 0.027*\"gold\" + 0.025*\"syria\" + 0.025*\"november\" + 0.023*\"posted\" + 0.023*\"report\" + 0.021*\"state\" + 0.019*\"policy\" + 0.017*\"russian\"\n",
      "Topic: 1 \n",
      "Words: 0.068*\"world\" + 0.049*\"posted\" + 0.037*\"media\" + 0.029*\"home\" + 0.028*\"news\" + 0.027*\"like\" + 0.021*\"eddie\" + 0.020*\"voting\" + 0.018*\"real\" + 0.017*\"secret\"\n",
      "Topic: 2 \n",
      "Words: 0.037*\"black\" + 0.035*\"post\" + 0.029*\"vote\" + 0.026*\"john\" + 0.025*\"comey\" + 0.025*\"obama\" + 0.022*\"originally\" + 0.021*\"published\" + 0.021*\"email\" + 0.020*\"states\"\n",
      "Topic: 3 \n",
      "Words: 0.280*\"trump\" + 0.065*\"donald\" + 0.024*\"police\" + 0.023*\"know\" + 0.018*\"anti\" + 0.017*\"comments\" + 0.014*\"going\" + 0.013*\"email\" + 0.013*\"dakota\" + 0.012*\"israel\"\n",
      "Topic: 4 \n",
      "Words: 0.209*\"hillary\" + 0.187*\"clinton\" + 0.049*\"email\" + 0.028*\"campaign\" + 0.016*\"politics\" + 0.013*\"leaked\" + 0.013*\"presidential\" + 0.012*\"muslim\" + 0.011*\"investigation\" + 0.009*\"weiner\"\n",
      "Topic: 5 \n",
      "Words: 0.097*\"november\" + 0.037*\"putin\" + 0.036*\"people\" + 0.034*\"news\" + 0.032*\"american\" + 0.029*\"russia\" + 0.021*\"october\" + 0.017*\"michael\" + 0.017*\"daily\" + 0.017*\"paul\"\n",
      "Topic: 6 \n",
      "Words: 0.065*\"obama\" + 0.064*\"share\" + 0.051*\"russia\" + 0.051*\"facebook\" + 0.041*\"government\" + 0.035*\"time\" + 0.026*\"twitter\" + 0.021*\"soros\" + 0.018*\"comment\" + 0.016*\"good\"\n",
      "Topic: 7 \n",
      "Words: 0.035*\"watch\" + 0.030*\"says\" + 0.020*\"life\" + 0.019*\"want\" + 0.017*\"comment\" + 0.017*\"woman\" + 0.017*\"saudi\" + 0.017*\"support\" + 0.016*\"david\" + 0.015*\"interesting\"\n",
      "Topic: 8 \n",
      "Words: 0.056*\"video\" + 0.043*\"leave\" + 0.043*\"president\" + 0.041*\"reply\" + 0.028*\"americans\" + 0.027*\"white\" + 0.025*\"times\" + 0.020*\"november\" + 0.019*\"house\" + 0.018*\"voter\"\n",
      "Topic: 9 \n",
      "Words: 0.084*\"election\" + 0.056*\"breaking\" + 0.049*\"wikileaks\" + 0.039*\"right\" + 0.033*\"left\" + 0.028*\"change\" + 0.027*\"emails\" + 0.021*\"swipe\" + 0.019*\"home\" + 0.016*\"political\"\n"
     ]
    }
   ],
   "source": [
    "lda_model2 = gensim.models.LdaMulticore(bow_corpus, num_topics=10, id2word=dictionary, passes=50, workers=4)\n",
    "for idx, topic in lda_model2.print_topics(-1):\n",
    "    print('Topic: {} \\nWords: {}'.format(idx, topic))"
   ]
  },
  {
   "cell_type": "code",
   "execution_count": 293,
   "metadata": {
    "nbpresent": {
     "id": "2d234bc4-12c1-454a-bdd2-39b040aa0cb0"
    }
   },
   "outputs": [
    {
     "name": "stdout",
     "output_type": "stream",
     "text": [
      "14\n"
     ]
    },
    {
     "data": {
      "text/plain": [
       "0    Says the Annies List political group supports ...\n",
       "1    When did the decline of coal start? It started...\n",
       "2    Hillary Clinton agrees with John McCain \"by vo...\n",
       "3    Health care reform legislation is likely to ma...\n",
       "4    The economic turnaround started at the end of ...\n",
       "Name: statement, dtype: object"
      ]
     },
     "execution_count": 293,
     "metadata": {},
     "output_type": "execute_result"
    }
   ],
   "source": [
    "train_path = Path('.')\n",
    "import pandas as pd\n",
    "headers = ['id','label','statement','subject',\n",
    "           'speaker','job_title', 'state', \n",
    "           'affliation','barely_true','false',\n",
    "           'half_true', 'mostly_true','pants_on_fire', \n",
    "           'venue']\n",
    "print (len(headers))\n",
    "train_df = pd.read_csv('train.tsv', names=headers, delimiter='\\t')\n",
    "valid_df = pd.read_csv('valid.tsv', names=headers, delimiter='\\t')\n",
    "test_df = pd.read_csv('test.tsv',names=headers, delimiter='\\t')\n",
    "train_df['statement'].head()"
   ]
  },
  {
   "cell_type": "markdown",
   "metadata": {},
   "source": [
    "### Let us prepare training data to generate  custom embeddings word vectors from the following datasets\n",
    "1. training set of LIAR-LIAR dataset\n",
    "2. NY times articles\n",
    "3. fake news kaggle dataset"
   ]
  },
  {
   "cell_type": "code",
   "execution_count": null,
   "metadata": {},
   "outputs": [],
   "source": []
  },
  {
   "cell_type": "code",
   "execution_count": 294,
   "metadata": {},
   "outputs": [],
   "source": [
    "word_vector_input_dataset = []\n",
    "word_vector_input_dataset = train_df.statement.tolist() + nyt_headlines_dataset + kaggle_fake_news_dataset"
   ]
  },
  {
   "cell_type": "markdown",
   "metadata": {},
   "source": [
    "### let us train Doc2vec embeddings\n"
   ]
  },
  {
   "cell_type": "code",
   "execution_count": 295,
   "metadata": {},
   "outputs": [
    {
     "name": "stdout",
     "output_type": "stream",
     "text": [
      "Total number of custom documents: 31894\n"
     ]
    },
    {
     "name": "stderr",
     "output_type": "stream",
     "text": [
      "/opt/anaconda3/lib/python3.7/site-packages/gensim/models/doc2vec.py:570: UserWarning: The parameter `size` is deprecated, will be removed in 4.0.0, use `vector_size` instead.\n",
      "  warnings.warn(\"The parameter `size` is deprecated, will be removed in 4.0.0, use `vector_size` instead.\")\n"
     ]
    },
    {
     "name": "stdout",
     "output_type": "stream",
     "text": [
      "iteration 0\n"
     ]
    },
    {
     "name": "stderr",
     "output_type": "stream",
     "text": [
      "/opt/anaconda3/lib/python3.7/site-packages/ipykernel_launcher.py:29: DeprecationWarning: Call to deprecated `iter` (Attribute will be removed in 4.0.0, use self.epochs instead).\n"
     ]
    },
    {
     "name": "stdout",
     "output_type": "stream",
     "text": [
      "iteration 1\n",
      "iteration 2\n",
      "iteration 3\n",
      "iteration 4\n",
      "iteration 5\n",
      "iteration 6\n",
      "iteration 7\n",
      "iteration 8\n",
      "iteration 9\n",
      "Model Saved\n"
     ]
    }
   ],
   "source": [
    "from gensim.models.doc2vec import Doc2Vec, TaggedDocument\n",
    "from nltk.tokenize import word_tokenize\n",
    "data = word_vector_input_dataset\n",
    "tagged_data = []\n",
    "exception_count = 0\n",
    "for i, _d in enumerate(data):\n",
    "    try:\n",
    "        tagged_data.append(TaggedDocument(words=word_tokenize(_d.lower()), tags=[str(i)]))\n",
    "    except:\n",
    "        exception_count+=1\n",
    "### Train doc2vec embeddings \n",
    "print (\"Total number of custom documents:\",len(tagged_data))\n",
    "max_epochs = 10\n",
    "vec_size = 20\n",
    "alpha = 0.025\n",
    "\n",
    "model = Doc2Vec(size=vec_size,\n",
    "                alpha=alpha, \n",
    "                min_alpha=0.00025,\n",
    "                min_count=1,\n",
    "                dm =1)\n",
    "  \n",
    "model.build_vocab(tagged_data)\n",
    "\n",
    "for epoch in range(max_epochs):\n",
    "    print('iteration {0}'.format(epoch))\n",
    "    model.train(tagged_data,\n",
    "                total_examples=model.corpus_count,\n",
    "                epochs=model.iter)\n",
    "    # decrease the learning rate\n",
    "    model.alpha -= 0.0002\n",
    "    # fix the learning rate, no decay\n",
    "    model.min_alpha = model.alpha\n",
    "\n",
    "model.save(\"d2v.model\")\n",
    "print(\"Model Saved\")"
   ]
  },
  {
   "cell_type": "code",
   "execution_count": 429,
   "metadata": {},
   "outputs": [
    {
     "name": "stdout",
     "output_type": "stream",
     "text": [
      "[array([-0.039492,  0.298048,  0.169804, -0.076881,  0.002514, -0.027018, -0.057517, -0.055   ,  0.042183, -0.076397,\n",
      "       -0.04792 , -0.177854, -0.246954,  0.104159, -0.094935,  0.113077,  0.452412,  0.039571, -0.183771,  0.074001],\n",
      "      dtype=float32)]\n"
     ]
    }
   ],
   "source": [
    "text = \"republican says obama supports third trimester abortion\"\n",
    "dvmodel= Doc2Vec.load(\"d2v.model\")\n",
    "test_sentence= [dvmodel.infer_vector(word_tokenize(text))]\n",
    "print (test_sentence)"
   ]
  },
  {
   "cell_type": "markdown",
   "metadata": {
    "nbpresent": {
     "id": "dcca872b-c776-4a20-a234-ffd6b36b5464"
    }
   },
   "source": [
    "### let us try to train a multi layer neural network on these embeddings"
   ]
  },
  {
   "cell_type": "code",
   "execution_count": 484,
   "metadata": {},
   "outputs": [],
   "source": [
    "training_statements = train_df.statement.tolist()\n",
    "affliation = train_df.affliation.tolist()\n",
    "validation_statements = valid_df.statement.tolist()\n",
    "testing_statements = test_df.statement.tolist()\n",
    "training_statement_wv = []\n",
    "testing_statement_wv=[]\n",
    "validation_statement_wv = []\n",
    "for statement in training_statements:\n",
    "    training_statement_wv.append(dvmodel.infer_vector(word_tokenize(statement)))\n",
    "for statement in testing_statements:\n",
    "    testing_statement_wv.append(dvmodel.infer_vector(word_tokenize(statement)))\n",
    "for statement in validation_statements:\n",
    "    validation_statement_wv.append(dvmodel.infer_vector(word_tokenize(statement)))\n",
    "v_affliation = valid_df.affliation.tolist()\n",
    "t_affliation = test_df.affliation.tolist()"
   ]
  },
  {
   "cell_type": "code",
   "execution_count": 485,
   "metadata": {},
   "outputs": [],
   "source": [
    "## Training dataframe\n",
    "dataframe = pd.DataFrame(training_statement_wv)\n",
    "dataframe['affliation'] = pd.Series(affliation)\n",
    "dataframe['state'] = pd.Series(train_df.state)\n",
    "affliation = {}\n",
    "affliation['republican'] = 'republican'\n",
    "affliation['democrat'] = 'democrat'\n",
    "affliation['none'] ='no_affliation'\n",
    "getPartyAffliation = lambda x : affliation[str(x).lower()] if x in affliation else 'other'\n",
    "dataframe['coarse_party_affliation'] = dataframe['affliation'].apply(lambda x: getPartyAffliation(x))\n",
    "dataframe = dataframe[[0,1,2,3,4,5,6,7,8,9,10,11,12,13,14,15,16,17,18,19,'coarse_party_affliation','state']]\n",
    "## testing dataframe\n",
    "test_dataframe = pd.DataFrame(testing_statement_wv)\n",
    "test_dataframe['affliation']= pd.Series(t_affliation)\n",
    "test_dataframe['coarse_party_affliation'] = test_dataframe['affliation'].apply(lambda x: getPartyAffliation(x))\n",
    "test_dataframe['state'] = pd.Series(test_df.state)\n",
    "test_dataframe = test_dataframe[[0,1,2,3,4,5,6,7,8,9,10,11,12,13,14,15,16,17,18,19,'coarse_party_affliation','state']]\n"
   ]
  },
  {
   "cell_type": "code",
   "execution_count": 476,
   "metadata": {
    "nbpresent": {
     "id": "0fbf3734-9e0a-446c-9106-698b6957a56f"
    }
   },
   "outputs": [
    {
     "data": {
      "text/html": [
       "<div>\n",
       "<style scoped>\n",
       "    .dataframe tbody tr th:only-of-type {\n",
       "        vertical-align: middle;\n",
       "    }\n",
       "\n",
       "    .dataframe tbody tr th {\n",
       "        vertical-align: top;\n",
       "    }\n",
       "\n",
       "    .dataframe thead th {\n",
       "        text-align: right;\n",
       "    }\n",
       "</style>\n",
       "<table border=\"1\" class=\"dataframe\">\n",
       "  <thead>\n",
       "    <tr style=\"text-align: right;\">\n",
       "      <th></th>\n",
       "      <th>0</th>\n",
       "      <th>1</th>\n",
       "      <th>2</th>\n",
       "      <th>3</th>\n",
       "      <th>4</th>\n",
       "      <th>5</th>\n",
       "      <th>6</th>\n",
       "      <th>7</th>\n",
       "      <th>8</th>\n",
       "      <th>9</th>\n",
       "      <th>...</th>\n",
       "      <th>12</th>\n",
       "      <th>13</th>\n",
       "      <th>14</th>\n",
       "      <th>15</th>\n",
       "      <th>16</th>\n",
       "      <th>17</th>\n",
       "      <th>18</th>\n",
       "      <th>19</th>\n",
       "      <th>coarse_party_affliation</th>\n",
       "      <th>state</th>\n",
       "    </tr>\n",
       "  </thead>\n",
       "  <tbody>\n",
       "    <tr>\n",
       "      <th>1262</th>\n",
       "      <td>0.172824</td>\n",
       "      <td>0.054359</td>\n",
       "      <td>0.179925</td>\n",
       "      <td>-0.163061</td>\n",
       "      <td>-0.379715</td>\n",
       "      <td>-0.338151</td>\n",
       "      <td>0.097224</td>\n",
       "      <td>0.114499</td>\n",
       "      <td>0.077868</td>\n",
       "      <td>0.164311</td>\n",
       "      <td>...</td>\n",
       "      <td>-0.105779</td>\n",
       "      <td>0.095469</td>\n",
       "      <td>-0.245206</td>\n",
       "      <td>0.329054</td>\n",
       "      <td>-0.086412</td>\n",
       "      <td>0.342029</td>\n",
       "      <td>0.082759</td>\n",
       "      <td>0.019836</td>\n",
       "      <td>republican</td>\n",
       "      <td>Florida</td>\n",
       "    </tr>\n",
       "    <tr>\n",
       "      <th>1263</th>\n",
       "      <td>0.195295</td>\n",
       "      <td>-0.104173</td>\n",
       "      <td>-0.198341</td>\n",
       "      <td>0.159668</td>\n",
       "      <td>-0.148114</td>\n",
       "      <td>-0.007092</td>\n",
       "      <td>-0.004138</td>\n",
       "      <td>-0.045247</td>\n",
       "      <td>-0.037207</td>\n",
       "      <td>0.040901</td>\n",
       "      <td>...</td>\n",
       "      <td>0.007335</td>\n",
       "      <td>-0.108709</td>\n",
       "      <td>-0.094995</td>\n",
       "      <td>-0.089088</td>\n",
       "      <td>0.086084</td>\n",
       "      <td>0.176751</td>\n",
       "      <td>-0.005063</td>\n",
       "      <td>-0.132539</td>\n",
       "      <td>democrat</td>\n",
       "      <td>Missouri</td>\n",
       "    </tr>\n",
       "    <tr>\n",
       "      <th>1264</th>\n",
       "      <td>0.078644</td>\n",
       "      <td>0.225946</td>\n",
       "      <td>0.021954</td>\n",
       "      <td>-0.151033</td>\n",
       "      <td>0.054877</td>\n",
       "      <td>0.509519</td>\n",
       "      <td>-0.386489</td>\n",
       "      <td>0.003629</td>\n",
       "      <td>0.008377</td>\n",
       "      <td>0.011070</td>\n",
       "      <td>...</td>\n",
       "      <td>-0.035126</td>\n",
       "      <td>0.265015</td>\n",
       "      <td>-0.282586</td>\n",
       "      <td>-0.085154</td>\n",
       "      <td>0.092215</td>\n",
       "      <td>-0.218225</td>\n",
       "      <td>-0.070963</td>\n",
       "      <td>0.686584</td>\n",
       "      <td>other</td>\n",
       "      <td>Rhode Island</td>\n",
       "    </tr>\n",
       "    <tr>\n",
       "      <th>1265</th>\n",
       "      <td>0.367320</td>\n",
       "      <td>0.175357</td>\n",
       "      <td>-0.238609</td>\n",
       "      <td>0.340504</td>\n",
       "      <td>0.092238</td>\n",
       "      <td>-0.261777</td>\n",
       "      <td>-0.115289</td>\n",
       "      <td>-0.523844</td>\n",
       "      <td>-0.011647</td>\n",
       "      <td>-0.133110</td>\n",
       "      <td>...</td>\n",
       "      <td>-0.170212</td>\n",
       "      <td>-0.047784</td>\n",
       "      <td>0.388599</td>\n",
       "      <td>-0.105632</td>\n",
       "      <td>-0.102104</td>\n",
       "      <td>0.057657</td>\n",
       "      <td>0.224009</td>\n",
       "      <td>-0.239973</td>\n",
       "      <td>republican</td>\n",
       "      <td>Ohio</td>\n",
       "    </tr>\n",
       "    <tr>\n",
       "      <th>1266</th>\n",
       "      <td>0.103618</td>\n",
       "      <td>-0.326860</td>\n",
       "      <td>-0.569474</td>\n",
       "      <td>0.068963</td>\n",
       "      <td>-0.320888</td>\n",
       "      <td>0.275103</td>\n",
       "      <td>-0.509008</td>\n",
       "      <td>0.086543</td>\n",
       "      <td>-0.156778</td>\n",
       "      <td>0.394796</td>\n",
       "      <td>...</td>\n",
       "      <td>-0.018164</td>\n",
       "      <td>-0.073232</td>\n",
       "      <td>0.003307</td>\n",
       "      <td>-0.093392</td>\n",
       "      <td>-0.046636</td>\n",
       "      <td>0.160779</td>\n",
       "      <td>0.062954</td>\n",
       "      <td>-0.320199</td>\n",
       "      <td>democrat</td>\n",
       "      <td>NaN</td>\n",
       "    </tr>\n",
       "  </tbody>\n",
       "</table>\n",
       "<p>5 rows × 22 columns</p>\n",
       "</div>"
      ],
      "text/plain": [
       "             0         1         2         3         4         5         6  \\\n",
       "1262  0.172824  0.054359  0.179925 -0.163061 -0.379715 -0.338151  0.097224   \n",
       "1263  0.195295 -0.104173 -0.198341  0.159668 -0.148114 -0.007092 -0.004138   \n",
       "1264  0.078644  0.225946  0.021954 -0.151033  0.054877  0.509519 -0.386489   \n",
       "1265  0.367320  0.175357 -0.238609  0.340504  0.092238 -0.261777 -0.115289   \n",
       "1266  0.103618 -0.326860 -0.569474  0.068963 -0.320888  0.275103 -0.509008   \n",
       "\n",
       "             7         8         9      ...             12        13  \\\n",
       "1262  0.114499  0.077868  0.164311      ...      -0.105779  0.095469   \n",
       "1263 -0.045247 -0.037207  0.040901      ...       0.007335 -0.108709   \n",
       "1264  0.003629  0.008377  0.011070      ...      -0.035126  0.265015   \n",
       "1265 -0.523844 -0.011647 -0.133110      ...      -0.170212 -0.047784   \n",
       "1266  0.086543 -0.156778  0.394796      ...      -0.018164 -0.073232   \n",
       "\n",
       "            14        15        16        17        18        19  \\\n",
       "1262 -0.245206  0.329054 -0.086412  0.342029  0.082759  0.019836   \n",
       "1263 -0.094995 -0.089088  0.086084  0.176751 -0.005063 -0.132539   \n",
       "1264 -0.282586 -0.085154  0.092215 -0.218225 -0.070963  0.686584   \n",
       "1265  0.388599 -0.105632 -0.102104  0.057657  0.224009 -0.239973   \n",
       "1266  0.003307 -0.093392 -0.046636  0.160779  0.062954 -0.320199   \n",
       "\n",
       "      coarse_party_affliation         state  \n",
       "1262               republican       Florida  \n",
       "1263                 democrat      Missouri  \n",
       "1264                    other  Rhode Island  \n",
       "1265               republican          Ohio  \n",
       "1266                 democrat           NaN  \n",
       "\n",
       "[5 rows x 22 columns]"
      ]
     },
     "execution_count": 476,
     "metadata": {},
     "output_type": "execute_result"
    },
    {
     "data": {
      "image/png": "[encoded data removed]",
      "text/plain": [
       "<Figure size 432x288 with 1 Axes>"
      ]
     },
     "metadata": {
      "needs_background": "light"
     },
     "output_type": "display_data"
    }
   ],
   "source": [
    "#dataframe.affliation.value_counts().plot(kind='bar')\n",
    "test_dataframe.coarse_party_affliation.value_counts().plot(kind='bar')#(10)\n",
    "test_dataframe.tail()"
   ]
  },
  {
   "cell_type": "code",
   "execution_count": 490,
   "metadata": {},
   "outputs": [
    {
     "data": {
      "text/html": [
       "<div>\n",
       "<style scoped>\n",
       "    .dataframe tbody tr th:only-of-type {\n",
       "        vertical-align: middle;\n",
       "    }\n",
       "\n",
       "    .dataframe tbody tr th {\n",
       "        vertical-align: top;\n",
       "    }\n",
       "\n",
       "    .dataframe thead th {\n",
       "        text-align: right;\n",
       "    }\n",
       "</style>\n",
       "<table border=\"1\" class=\"dataframe\">\n",
       "  <thead>\n",
       "    <tr style=\"text-align: right;\">\n",
       "      <th></th>\n",
       "      <th>0</th>\n",
       "      <th>1</th>\n",
       "      <th>2</th>\n",
       "      <th>3</th>\n",
       "      <th>4</th>\n",
       "      <th>5</th>\n",
       "      <th>6</th>\n",
       "      <th>7</th>\n",
       "      <th>8</th>\n",
       "      <th>9</th>\n",
       "      <th>...</th>\n",
       "      <th>12</th>\n",
       "      <th>13</th>\n",
       "      <th>14</th>\n",
       "      <th>15</th>\n",
       "      <th>16</th>\n",
       "      <th>17</th>\n",
       "      <th>18</th>\n",
       "      <th>19</th>\n",
       "      <th>coarse_party_affliation</th>\n",
       "      <th>state</th>\n",
       "    </tr>\n",
       "  </thead>\n",
       "  <tbody>\n",
       "    <tr>\n",
       "      <th>0</th>\n",
       "      <td>-0.143619</td>\n",
       "      <td>-0.216212</td>\n",
       "      <td>-0.290813</td>\n",
       "      <td>0.051276</td>\n",
       "      <td>-0.223865</td>\n",
       "      <td>-0.371174</td>\n",
       "      <td>0.069065</td>\n",
       "      <td>0.132465</td>\n",
       "      <td>-0.230092</td>\n",
       "      <td>0.101802</td>\n",
       "      <td>...</td>\n",
       "      <td>0.004405</td>\n",
       "      <td>-0.427460</td>\n",
       "      <td>-0.066267</td>\n",
       "      <td>0.143366</td>\n",
       "      <td>-0.106228</td>\n",
       "      <td>0.066536</td>\n",
       "      <td>0.140502</td>\n",
       "      <td>-0.370254</td>\n",
       "      <td>republican</td>\n",
       "      <td>Texas</td>\n",
       "    </tr>\n",
       "    <tr>\n",
       "      <th>1</th>\n",
       "      <td>-0.053220</td>\n",
       "      <td>0.309012</td>\n",
       "      <td>0.146535</td>\n",
       "      <td>0.027153</td>\n",
       "      <td>-0.033411</td>\n",
       "      <td>-0.058263</td>\n",
       "      <td>0.178007</td>\n",
       "      <td>-0.117220</td>\n",
       "      <td>0.224724</td>\n",
       "      <td>0.498460</td>\n",
       "      <td>...</td>\n",
       "      <td>0.148538</td>\n",
       "      <td>-0.078412</td>\n",
       "      <td>0.277723</td>\n",
       "      <td>-0.096966</td>\n",
       "      <td>-0.559023</td>\n",
       "      <td>-0.300156</td>\n",
       "      <td>0.437579</td>\n",
       "      <td>-0.090232</td>\n",
       "      <td>democrat</td>\n",
       "      <td>Virginia</td>\n",
       "    </tr>\n",
       "    <tr>\n",
       "      <th>2</th>\n",
       "      <td>-0.073802</td>\n",
       "      <td>0.159426</td>\n",
       "      <td>-0.404452</td>\n",
       "      <td>-0.197545</td>\n",
       "      <td>-0.168435</td>\n",
       "      <td>-0.217475</td>\n",
       "      <td>-0.080099</td>\n",
       "      <td>-0.120278</td>\n",
       "      <td>-0.074218</td>\n",
       "      <td>0.182147</td>\n",
       "      <td>...</td>\n",
       "      <td>0.136587</td>\n",
       "      <td>-0.392777</td>\n",
       "      <td>0.056764</td>\n",
       "      <td>-0.198190</td>\n",
       "      <td>-0.323156</td>\n",
       "      <td>-0.499402</td>\n",
       "      <td>0.486976</td>\n",
       "      <td>-0.251353</td>\n",
       "      <td>democrat</td>\n",
       "      <td>Illinois</td>\n",
       "    </tr>\n",
       "    <tr>\n",
       "      <th>3</th>\n",
       "      <td>0.088686</td>\n",
       "      <td>-0.032666</td>\n",
       "      <td>-0.133462</td>\n",
       "      <td>0.050155</td>\n",
       "      <td>-0.048437</td>\n",
       "      <td>-0.176704</td>\n",
       "      <td>-0.105346</td>\n",
       "      <td>-0.018063</td>\n",
       "      <td>-0.010706</td>\n",
       "      <td>-0.040651</td>\n",
       "      <td>...</td>\n",
       "      <td>-0.196485</td>\n",
       "      <td>0.064489</td>\n",
       "      <td>-0.113267</td>\n",
       "      <td>-0.160550</td>\n",
       "      <td>-0.034638</td>\n",
       "      <td>0.033173</td>\n",
       "      <td>0.084144</td>\n",
       "      <td>0.173827</td>\n",
       "      <td>no_affliation</td>\n",
       "      <td>NaN</td>\n",
       "    </tr>\n",
       "    <tr>\n",
       "      <th>4</th>\n",
       "      <td>-0.064359</td>\n",
       "      <td>-0.000891</td>\n",
       "      <td>-0.404637</td>\n",
       "      <td>0.198261</td>\n",
       "      <td>-0.232511</td>\n",
       "      <td>-0.247655</td>\n",
       "      <td>0.046283</td>\n",
       "      <td>-0.016482</td>\n",
       "      <td>-0.120002</td>\n",
       "      <td>0.242610</td>\n",
       "      <td>...</td>\n",
       "      <td>-0.119005</td>\n",
       "      <td>-0.335411</td>\n",
       "      <td>0.075146</td>\n",
       "      <td>0.082305</td>\n",
       "      <td>-0.158520</td>\n",
       "      <td>-0.054074</td>\n",
       "      <td>0.090555</td>\n",
       "      <td>-0.295901</td>\n",
       "      <td>democrat</td>\n",
       "      <td>Florida</td>\n",
       "    </tr>\n",
       "  </tbody>\n",
       "</table>\n",
       "<p>5 rows × 22 columns</p>\n",
       "</div>"
      ],
      "text/plain": [
       "          0         1         2         3         4         5         6  \\\n",
       "0 -0.143619 -0.216212 -0.290813  0.051276 -0.223865 -0.371174  0.069065   \n",
       "1 -0.053220  0.309012  0.146535  0.027153 -0.033411 -0.058263  0.178007   \n",
       "2 -0.073802  0.159426 -0.404452 -0.197545 -0.168435 -0.217475 -0.080099   \n",
       "3  0.088686 -0.032666 -0.133462  0.050155 -0.048437 -0.176704 -0.105346   \n",
       "4 -0.064359 -0.000891 -0.404637  0.198261 -0.232511 -0.247655  0.046283   \n",
       "\n",
       "          7         8         9    ...           12        13        14  \\\n",
       "0  0.132465 -0.230092  0.101802    ...     0.004405 -0.427460 -0.066267   \n",
       "1 -0.117220  0.224724  0.498460    ...     0.148538 -0.078412  0.277723   \n",
       "2 -0.120278 -0.074218  0.182147    ...     0.136587 -0.392777  0.056764   \n",
       "3 -0.018063 -0.010706 -0.040651    ...    -0.196485  0.064489 -0.113267   \n",
       "4 -0.016482 -0.120002  0.242610    ...    -0.119005 -0.335411  0.075146   \n",
       "\n",
       "         15        16        17        18        19  coarse_party_affliation  \\\n",
       "0  0.143366 -0.106228  0.066536  0.140502 -0.370254               republican   \n",
       "1 -0.096966 -0.559023 -0.300156  0.437579 -0.090232                 democrat   \n",
       "2 -0.198190 -0.323156 -0.499402  0.486976 -0.251353                 democrat   \n",
       "3 -0.160550 -0.034638  0.033173  0.084144  0.173827            no_affliation   \n",
       "4  0.082305 -0.158520 -0.054074  0.090555 -0.295901                 democrat   \n",
       "\n",
       "      state  \n",
       "0     Texas  \n",
       "1  Virginia  \n",
       "2  Illinois  \n",
       "3       NaN  \n",
       "4   Florida  \n",
       "\n",
       "[5 rows x 22 columns]"
      ]
     },
     "execution_count": 490,
     "metadata": {},
     "output_type": "execute_result"
    },
    {
     "data": {
      "image/png": "[encoded data removed]",
      "text/plain": [
       "<Figure size 432x288 with 1 Axes>"
      ]
     },
     "metadata": {
      "needs_background": "light"
     },
     "output_type": "display_data"
    }
   ],
   "source": [
    "dataframe.coarse_party_affliation.value_counts().plot(kind='bar')\n",
    "dataframe.head()"
   ]
  },
  {
   "cell_type": "markdown",
   "metadata": {
    "nbpresent": {
     "id": "1f045635-51e2-4a7e-a855-f0f686e10f28"
    }
   },
   "source": [
    "print(\"hi\")"
   ]
  },
  {
   "cell_type": "code",
   "execution_count": 491,
   "metadata": {},
   "outputs": [
    {
     "name": "stdout",
     "output_type": "stream",
     "text": [
      "11507\n",
      "10240\n",
      "1267\n"
     ]
    },
    {
     "data": {
      "text/html": [
       "<div>\n",
       "<style scoped>\n",
       "    .dataframe tbody tr th:only-of-type {\n",
       "        vertical-align: middle;\n",
       "    }\n",
       "\n",
       "    .dataframe tbody tr th {\n",
       "        vertical-align: top;\n",
       "    }\n",
       "\n",
       "    .dataframe thead th {\n",
       "        text-align: right;\n",
       "    }\n",
       "</style>\n",
       "<table border=\"1\" class=\"dataframe\">\n",
       "  <thead>\n",
       "    <tr style=\"text-align: right;\">\n",
       "      <th></th>\n",
       "      <th>0</th>\n",
       "      <th>1</th>\n",
       "      <th>2</th>\n",
       "      <th>3</th>\n",
       "      <th>4</th>\n",
       "      <th>5</th>\n",
       "      <th>6</th>\n",
       "      <th>7</th>\n",
       "      <th>8</th>\n",
       "      <th>9</th>\n",
       "      <th>...</th>\n",
       "      <th>12</th>\n",
       "      <th>13</th>\n",
       "      <th>14</th>\n",
       "      <th>15</th>\n",
       "      <th>16</th>\n",
       "      <th>17</th>\n",
       "      <th>18</th>\n",
       "      <th>19</th>\n",
       "      <th>coarse_party_affliation</th>\n",
       "      <th>state</th>\n",
       "    </tr>\n",
       "  </thead>\n",
       "  <tbody>\n",
       "    <tr>\n",
       "      <th>0</th>\n",
       "      <td>0.028429</td>\n",
       "      <td>0.089552</td>\n",
       "      <td>0.155846</td>\n",
       "      <td>-0.153375</td>\n",
       "      <td>-0.174918</td>\n",
       "      <td>-0.038579</td>\n",
       "      <td>-0.020687</td>\n",
       "      <td>0.077130</td>\n",
       "      <td>-0.053375</td>\n",
       "      <td>0.283203</td>\n",
       "      <td>...</td>\n",
       "      <td>0.082695</td>\n",
       "      <td>0.155945</td>\n",
       "      <td>-0.068309</td>\n",
       "      <td>0.025655</td>\n",
       "      <td>-0.146420</td>\n",
       "      <td>0.031431</td>\n",
       "      <td>-0.202433</td>\n",
       "      <td>-0.050921</td>\n",
       "      <td>republican</td>\n",
       "      <td>Texas</td>\n",
       "    </tr>\n",
       "    <tr>\n",
       "      <th>1</th>\n",
       "      <td>0.158467</td>\n",
       "      <td>-0.071286</td>\n",
       "      <td>-0.028012</td>\n",
       "      <td>0.132037</td>\n",
       "      <td>-0.172780</td>\n",
       "      <td>-0.381861</td>\n",
       "      <td>0.108267</td>\n",
       "      <td>0.051249</td>\n",
       "      <td>-0.107917</td>\n",
       "      <td>-0.050178</td>\n",
       "      <td>...</td>\n",
       "      <td>0.129857</td>\n",
       "      <td>-0.371630</td>\n",
       "      <td>-0.163643</td>\n",
       "      <td>0.255207</td>\n",
       "      <td>-0.006722</td>\n",
       "      <td>0.116628</td>\n",
       "      <td>0.204690</td>\n",
       "      <td>-0.336670</td>\n",
       "      <td>democrat</td>\n",
       "      <td>Wisconsin</td>\n",
       "    </tr>\n",
       "    <tr>\n",
       "      <th>2</th>\n",
       "      <td>0.108558</td>\n",
       "      <td>-0.017118</td>\n",
       "      <td>0.003803</td>\n",
       "      <td>0.121097</td>\n",
       "      <td>0.090083</td>\n",
       "      <td>-0.007859</td>\n",
       "      <td>-0.019869</td>\n",
       "      <td>-0.018345</td>\n",
       "      <td>-0.136598</td>\n",
       "      <td>-0.023510</td>\n",
       "      <td>...</td>\n",
       "      <td>0.110063</td>\n",
       "      <td>-0.151571</td>\n",
       "      <td>-0.062186</td>\n",
       "      <td>-0.095369</td>\n",
       "      <td>-0.007899</td>\n",
       "      <td>0.088482</td>\n",
       "      <td>0.089172</td>\n",
       "      <td>0.160237</td>\n",
       "      <td>republican</td>\n",
       "      <td>New York</td>\n",
       "    </tr>\n",
       "    <tr>\n",
       "      <th>3</th>\n",
       "      <td>-0.120239</td>\n",
       "      <td>0.073868</td>\n",
       "      <td>-0.026789</td>\n",
       "      <td>-0.145718</td>\n",
       "      <td>-0.174701</td>\n",
       "      <td>-0.099545</td>\n",
       "      <td>-0.134129</td>\n",
       "      <td>0.075555</td>\n",
       "      <td>-0.108814</td>\n",
       "      <td>0.319961</td>\n",
       "      <td>...</td>\n",
       "      <td>0.004666</td>\n",
       "      <td>-0.154166</td>\n",
       "      <td>0.034104</td>\n",
       "      <td>-0.094976</td>\n",
       "      <td>-0.430535</td>\n",
       "      <td>0.039017</td>\n",
       "      <td>0.063961</td>\n",
       "      <td>0.020885</td>\n",
       "      <td>republican</td>\n",
       "      <td>Oregon</td>\n",
       "    </tr>\n",
       "    <tr>\n",
       "      <th>4</th>\n",
       "      <td>-0.269898</td>\n",
       "      <td>0.034153</td>\n",
       "      <td>0.180928</td>\n",
       "      <td>-0.057968</td>\n",
       "      <td>-0.241570</td>\n",
       "      <td>0.141744</td>\n",
       "      <td>-0.049819</td>\n",
       "      <td>-0.167029</td>\n",
       "      <td>0.182577</td>\n",
       "      <td>0.098084</td>\n",
       "      <td>...</td>\n",
       "      <td>0.103190</td>\n",
       "      <td>-0.084038</td>\n",
       "      <td>-0.078877</td>\n",
       "      <td>0.114770</td>\n",
       "      <td>-0.182745</td>\n",
       "      <td>-0.205095</td>\n",
       "      <td>-0.157053</td>\n",
       "      <td>-0.005502</td>\n",
       "      <td>democrat</td>\n",
       "      <td>Wisconsin</td>\n",
       "    </tr>\n",
       "  </tbody>\n",
       "</table>\n",
       "<p>5 rows × 22 columns</p>\n",
       "</div>"
      ],
      "text/plain": [
       "          0         1         2         3         4         5         6  \\\n",
       "0  0.028429  0.089552  0.155846 -0.153375 -0.174918 -0.038579 -0.020687   \n",
       "1  0.158467 -0.071286 -0.028012  0.132037 -0.172780 -0.381861  0.108267   \n",
       "2  0.108558 -0.017118  0.003803  0.121097  0.090083 -0.007859 -0.019869   \n",
       "3 -0.120239  0.073868 -0.026789 -0.145718 -0.174701 -0.099545 -0.134129   \n",
       "4 -0.269898  0.034153  0.180928 -0.057968 -0.241570  0.141744 -0.049819   \n",
       "\n",
       "          7         8         9    ...            12        13        14  \\\n",
       "0  0.077130 -0.053375  0.283203    ...      0.082695  0.155945 -0.068309   \n",
       "1  0.051249 -0.107917 -0.050178    ...      0.129857 -0.371630 -0.163643   \n",
       "2 -0.018345 -0.136598 -0.023510    ...      0.110063 -0.151571 -0.062186   \n",
       "3  0.075555 -0.108814  0.319961    ...      0.004666 -0.154166  0.034104   \n",
       "4 -0.167029  0.182577  0.098084    ...      0.103190 -0.084038 -0.078877   \n",
       "\n",
       "         15        16        17        18        19  coarse_party_affliation  \\\n",
       "0  0.025655 -0.146420  0.031431 -0.202433 -0.050921               republican   \n",
       "1  0.255207 -0.006722  0.116628  0.204690 -0.336670                 democrat   \n",
       "2 -0.095369 -0.007899  0.088482  0.089172  0.160237               republican   \n",
       "3 -0.094976 -0.430535  0.039017  0.063961  0.020885               republican   \n",
       "4  0.114770 -0.182745 -0.205095 -0.157053 -0.005502                 democrat   \n",
       "\n",
       "       state  \n",
       "0      Texas  \n",
       "1  Wisconsin  \n",
       "2   New York  \n",
       "3     Oregon  \n",
       "4  Wisconsin  \n",
       "\n",
       "[5 rows x 22 columns]"
      ]
     },
     "execution_count": 491,
     "metadata": {},
     "output_type": "execute_result"
    }
   ],
   "source": [
    "X = pd.concat([test_dataframe,dataframe])\n",
    "X.columns = ['0','1','2','3','4','5','6','7','8','9','10','11','12','13','14','15','16','17','18','19','coarse_party_affliation','state']\n",
    "print(len(X))\n",
    "print(len(dataframe))\n",
    "print(len(test_dataframe))\n",
    "test_dataframe.head()\n",
    "\n",
    "cat_names= []\n",
    "cont_names = ['0','1','2','3','4','5','6','7','8','9','10','11','12','13','14','15','16','17','18','19']\n",
    "\n",
    "test = TabularList.from_df(X.iloc[0:1267].copy(), path=path, cat_names=cat_names, cont_names=cont_names)\n",
    "X.head()"
   ]
  },
  {
   "cell_type": "code",
   "execution_count": 492,
   "metadata": {
    "nbpresent": {
     "id": "e563da45-3f05-46d1-88e7-1e11c85e08da"
    }
   },
   "outputs": [
    {
     "data": {
      "text/html": [
       "<table>  <col width='10px'>  <col width='10px'>  <col width='10px'>  <col width='10px'>  <col width='10px'>  <col width='10px'>  <col width='10px'>  <col width='10px'>  <col width='10px'>  <col width='10px'>  <col width='10px'>  <col width='10px'>  <col width='10px'>  <col width='10px'>  <col width='10px'>  <col width='10px'>  <col width='10px'>  <col width='10px'>  <col width='10px'>  <col width='10px'>  <col width='10px'>  <tr>\n",
       "    <th>0</th>\n",
       "    <th>1</th>\n",
       "    <th>2</th>\n",
       "    <th>3</th>\n",
       "    <th>4</th>\n",
       "    <th>5</th>\n",
       "    <th>6</th>\n",
       "    <th>7</th>\n",
       "    <th>8</th>\n",
       "    <th>9</th>\n",
       "    <th>10</th>\n",
       "    <th>11</th>\n",
       "    <th>12</th>\n",
       "    <th>13</th>\n",
       "    <th>14</th>\n",
       "    <th>15</th>\n",
       "    <th>16</th>\n",
       "    <th>17</th>\n",
       "    <th>18</th>\n",
       "    <th>19</th>\n",
       "    <th>target</th>\n",
       "  </tr>\n",
       "  <tr>\n",
       "    <th>1.7425</th>\n",
       "    <th>-0.2389</th>\n",
       "    <th>0.2362</th>\n",
       "    <th>-0.0345</th>\n",
       "    <th>-0.0581</th>\n",
       "    <th>0.5292</th>\n",
       "    <th>-0.6711</th>\n",
       "    <th>-0.8612</th>\n",
       "    <th>1.0757</th>\n",
       "    <th>0.8215</th>\n",
       "    <th>0.0720</th>\n",
       "    <th>0.4299</th>\n",
       "    <th>0.4103</th>\n",
       "    <th>1.1239</th>\n",
       "    <th>-0.4190</th>\n",
       "    <th>0.0042</th>\n",
       "    <th>-0.3432</th>\n",
       "    <th>-2.3358</th>\n",
       "    <th>0.9549</th>\n",
       "    <th>0.3615</th>\n",
       "    <th>republican</th>\n",
       "  </tr>\n",
       "  <tr>\n",
       "    <th>-0.3851</th>\n",
       "    <th>0.0941</th>\n",
       "    <th>-0.2017</th>\n",
       "    <th>-0.5467</th>\n",
       "    <th>0.2397</th>\n",
       "    <th>0.4327</th>\n",
       "    <th>0.2075</th>\n",
       "    <th>0.2148</th>\n",
       "    <th>0.0361</th>\n",
       "    <th>-0.8497</th>\n",
       "    <th>0.1395</th>\n",
       "    <th>0.1568</th>\n",
       "    <th>-0.9811</th>\n",
       "    <th>0.6486</th>\n",
       "    <th>-0.3371</th>\n",
       "    <th>0.3185</th>\n",
       "    <th>0.8133</th>\n",
       "    <th>0.4175</th>\n",
       "    <th>-0.5050</th>\n",
       "    <th>1.4286</th>\n",
       "    <th>republican</th>\n",
       "  </tr>\n",
       "  <tr>\n",
       "    <th>-0.4938</th>\n",
       "    <th>-0.5662</th>\n",
       "    <th>-0.2258</th>\n",
       "    <th>0.2300</th>\n",
       "    <th>-0.5408</th>\n",
       "    <th>-0.6669</th>\n",
       "    <th>0.7639</th>\n",
       "    <th>-0.3717</th>\n",
       "    <th>-0.1568</th>\n",
       "    <th>-0.0758</th>\n",
       "    <th>-0.6313</th>\n",
       "    <th>1.3683</th>\n",
       "    <th>-0.1194</th>\n",
       "    <th>-1.0069</th>\n",
       "    <th>0.1039</th>\n",
       "    <th>-0.3609</th>\n",
       "    <th>-0.7338</th>\n",
       "    <th>0.5241</th>\n",
       "    <th>0.7788</th>\n",
       "    <th>-0.0032</th>\n",
       "    <th>no_affliation</th>\n",
       "  </tr>\n",
       "  <tr>\n",
       "    <th>-0.4930</th>\n",
       "    <th>-1.2710</th>\n",
       "    <th>1.0198</th>\n",
       "    <th>-2.4201</th>\n",
       "    <th>0.6270</th>\n",
       "    <th>0.1588</th>\n",
       "    <th>-0.0570</th>\n",
       "    <th>2.0261</th>\n",
       "    <th>1.3075</th>\n",
       "    <th>-1.2070</th>\n",
       "    <th>-0.9349</th>\n",
       "    <th>-1.9268</th>\n",
       "    <th>0.7115</th>\n",
       "    <th>0.7828</th>\n",
       "    <th>-1.7827</th>\n",
       "    <th>-0.1797</th>\n",
       "    <th>1.4189</th>\n",
       "    <th>1.8294</th>\n",
       "    <th>-0.7857</th>\n",
       "    <th>1.2868</th>\n",
       "    <th>other</th>\n",
       "  </tr>\n",
       "  <tr>\n",
       "    <th>1.0307</th>\n",
       "    <th>-0.1590</th>\n",
       "    <th>-0.9578</th>\n",
       "    <th>1.7527</th>\n",
       "    <th>0.1500</th>\n",
       "    <th>-0.8598</th>\n",
       "    <th>0.4379</th>\n",
       "    <th>-0.8106</th>\n",
       "    <th>-0.8540</th>\n",
       "    <th>0.8592</th>\n",
       "    <th>-1.0316</th>\n",
       "    <th>-0.1719</th>\n",
       "    <th>-0.1835</th>\n",
       "    <th>-1.4949</th>\n",
       "    <th>1.1454</th>\n",
       "    <th>1.1383</th>\n",
       "    <th>-1.3550</th>\n",
       "    <th>-0.3428</th>\n",
       "    <th>0.8741</th>\n",
       "    <th>-2.5020</th>\n",
       "    <th>republican</th>\n",
       "  </tr>\n",
       "  <tr>\n",
       "    <th>0.0924</th>\n",
       "    <th>1.5111</th>\n",
       "    <th>1.0163</th>\n",
       "    <th>-0.8371</th>\n",
       "    <th>0.9369</th>\n",
       "    <th>0.7672</th>\n",
       "    <th>-0.3469</th>\n",
       "    <th>-0.3013</th>\n",
       "    <th>0.6025</th>\n",
       "    <th>-0.7010</th>\n",
       "    <th>-0.2760</th>\n",
       "    <th>-0.2480</th>\n",
       "    <th>-0.4730</th>\n",
       "    <th>1.3077</th>\n",
       "    <th>0.7851</th>\n",
       "    <th>-0.6095</th>\n",
       "    <th>1.9627</th>\n",
       "    <th>-0.3196</th>\n",
       "    <th>-0.0962</th>\n",
       "    <th>0.5085</th>\n",
       "    <th>no_affliation</th>\n",
       "  </tr>\n",
       "  <tr>\n",
       "    <th>-0.2042</th>\n",
       "    <th>-1.7039</th>\n",
       "    <th>-1.2361</th>\n",
       "    <th>1.0923</th>\n",
       "    <th>-0.2171</th>\n",
       "    <th>-0.9514</th>\n",
       "    <th>1.3384</th>\n",
       "    <th>0.6193</th>\n",
       "    <th>-1.8660</th>\n",
       "    <th>-0.8468</th>\n",
       "    <th>0.0573</th>\n",
       "    <th>1.1892</th>\n",
       "    <th>-0.0284</th>\n",
       "    <th>-1.5595</th>\n",
       "    <th>-0.5073</th>\n",
       "    <th>0.7192</th>\n",
       "    <th>0.5077</th>\n",
       "    <th>1.5749</th>\n",
       "    <th>-0.9226</th>\n",
       "    <th>-1.6650</th>\n",
       "    <th>democrat</th>\n",
       "  </tr>\n",
       "  <tr>\n",
       "    <th>-0.2742</th>\n",
       "    <th>0.2085</th>\n",
       "    <th>0.7861</th>\n",
       "    <th>0.1291</th>\n",
       "    <th>0.3495</th>\n",
       "    <th>2.1721</th>\n",
       "    <th>-0.2908</th>\n",
       "    <th>0.6035</th>\n",
       "    <th>0.5035</th>\n",
       "    <th>-1.1085</th>\n",
       "    <th>-0.9437</th>\n",
       "    <th>-0.2433</th>\n",
       "    <th>-0.0309</th>\n",
       "    <th>1.1441</th>\n",
       "    <th>-0.0647</th>\n",
       "    <th>0.3354</th>\n",
       "    <th>0.7054</th>\n",
       "    <th>-1.5033</th>\n",
       "    <th>-0.4617</th>\n",
       "    <th>0.7291</th>\n",
       "    <th>republican</th>\n",
       "  </tr>\n",
       "  <tr>\n",
       "    <th>-1.8321</th>\n",
       "    <th>0.6258</th>\n",
       "    <th>0.0162</th>\n",
       "    <th>-0.0666</th>\n",
       "    <th>1.0612</th>\n",
       "    <th>-1.0907</th>\n",
       "    <th>1.0733</th>\n",
       "    <th>0.2132</th>\n",
       "    <th>-0.6077</th>\n",
       "    <th>0.0202</th>\n",
       "    <th>0.3230</th>\n",
       "    <th>-0.6274</th>\n",
       "    <th>-0.5067</th>\n",
       "    <th>-0.2438</th>\n",
       "    <th>0.1230</th>\n",
       "    <th>-0.4688</th>\n",
       "    <th>0.4084</th>\n",
       "    <th>0.8951</th>\n",
       "    <th>-0.4759</th>\n",
       "    <th>-0.7933</th>\n",
       "    <th>democrat</th>\n",
       "  </tr>\n",
       "  <tr>\n",
       "    <th>1.3555</th>\n",
       "    <th>0.1695</th>\n",
       "    <th>-0.8096</th>\n",
       "    <th>1.1807</th>\n",
       "    <th>-0.2602</th>\n",
       "    <th>-2.3802</th>\n",
       "    <th>1.0714</th>\n",
       "    <th>0.0955</th>\n",
       "    <th>-1.0978</th>\n",
       "    <th>-0.1432</th>\n",
       "    <th>1.7183</th>\n",
       "    <th>-0.2404</th>\n",
       "    <th>-0.2794</th>\n",
       "    <th>-1.0357</th>\n",
       "    <th>-0.0311</th>\n",
       "    <th>0.9088</th>\n",
       "    <th>1.4977</th>\n",
       "    <th>2.3811</th>\n",
       "    <th>-0.9551</th>\n",
       "    <th>-0.2146</th>\n",
       "    <th>other</th>\n",
       "  </tr>\n",
       "</table>\n"
      ],
      "text/plain": [
       "<IPython.core.display.HTML object>"
      ]
     },
     "metadata": {},
     "output_type": "display_data"
    }
   ],
   "source": [
    "path = Path()\n",
    "procs = [FillMissing, Categorify, Normalize]\n",
    "dep_var = 'coarse_party_affliation'\n",
    "valid_idx = list(range(0,1267))\n",
    "DB = (TabularList.from_df(X, path=path, cat_names=cat_names, cont_names=cont_names, procs=procs)\n",
    "      .split_by_idx(valid_idx)\n",
    "      .label_from_df(cols=dep_var)\n",
    "      .add_test(test, label=0)\n",
    "      .databunch())\n",
    "DB.show_batch(rows=10)"
   ]
  },
  {
   "cell_type": "code",
   "execution_count": 532,
   "metadata": {},
   "outputs": [],
   "source": [
    "learn = tabular_learner(DB, layers=[20,10,4], metrics=accuracy,emb_drop=0.2)\n",
    "??tabular_learner"
   ]
  },
  {
   "cell_type": "code",
   "execution_count": 533,
   "metadata": {},
   "outputs": [
    {
     "data": {
      "text/plain": [
       "TabularModel(\n",
       "  (embeds): ModuleList()\n",
       "  (emb_drop): Dropout(p=0.2)\n",
       "  (bn_cont): BatchNorm1d(20, eps=1e-05, momentum=0.1, affine=True, track_running_stats=True)\n",
       "  (layers): Sequential(\n",
       "    (0): Linear(in_features=20, out_features=20, bias=True)\n",
       "    (1): ReLU(inplace)\n",
       "    (2): BatchNorm1d(20, eps=1e-05, momentum=0.1, affine=True, track_running_stats=True)\n",
       "    (3): Linear(in_features=20, out_features=10, bias=True)\n",
       "    (4): ReLU(inplace)\n",
       "    (5): BatchNorm1d(10, eps=1e-05, momentum=0.1, affine=True, track_running_stats=True)\n",
       "    (6): Linear(in_features=10, out_features=4, bias=True)\n",
       "    (7): ReLU(inplace)\n",
       "    (8): BatchNorm1d(4, eps=1e-05, momentum=0.1, affine=True, track_running_stats=True)\n",
       "    (9): Linear(in_features=4, out_features=4, bias=True)\n",
       "  )\n",
       ")"
      ]
     },
     "execution_count": 533,
     "metadata": {},
     "output_type": "execute_result"
    }
   ],
   "source": [
    "learn.model"
   ]
  },
  {
   "cell_type": "code",
   "execution_count": 534,
   "metadata": {},
   "outputs": [
    {
     "name": "stdout",
     "output_type": "stream",
     "text": [
      "Total time: 00:11\n",
      "epoch  train_loss  valid_loss  accuracy\n",
      "1      1.488690    1.520222    0.217837  (00:01)\n",
      "2      1.482500    1.520639    0.223362  (00:01)\n",
      "3      1.475947    1.521153    0.220994  (00:01)\n",
      "4      1.482888    1.519387    0.221784  (00:01)\n",
      "5      1.481273    1.516523    0.224152  (00:01)\n",
      "6      1.481591    1.508934    0.229676  (00:01)\n",
      "\n"
     ]
    }
   ],
   "source": [
    "learn.fit(6,1e-5)\n"
   ]
  },
  {
   "cell_type": "code",
   "execution_count": 503,
   "metadata": {},
   "outputs": [
    {
     "name": "stdout",
     "output_type": "stream",
     "text": [
      "LR Finder is complete, type {learner_name}.recorder.plot() to see the graph.\n"
     ]
    },
    {
     "data": {
      "image/png": "[encoded data removed]",
      "text/plain": [
       "<Figure size 432x288 with 1 Axes>"
      ]
     },
     "metadata": {
      "needs_background": "light"
     },
     "output_type": "display_data"
    }
   ],
   "source": [
    "learn.lr_find()\n",
    "learn.recorder.plot()\n",
    "learn.save(\"NN_model_to_predict_political_Affliation\")"
   ]
  },
  {
   "cell_type": "code",
   "execution_count": 504,
   "metadata": {},
   "outputs": [
    {
     "data": {
      "image/png": "[encoded data removed]",
      "text/plain": [
       "<Figure size 432x288 with 1 Axes>"
      ]
     },
     "metadata": {
      "needs_background": "light"
     },
     "output_type": "display_data"
    }
   ],
   "source": [
    "from fastai import *\n",
    "from fastai.vision import *\n",
    "interp = ClassificationInterpretation.from_learner(learn)\n",
    "interp.plot_confusion_matrix()\n"
   ]
  },
  {
   "cell_type": "code",
   "execution_count": null,
   "metadata": {},
   "outputs": [],
   "source": [
    "learn.le"
   ]
  },
  {
   "cell_type": "markdown",
   "metadata": {
    "nbpresent": {
     "id": "2897e46a-881e-485e-b0b8-b8e39d99ac4b"
    }
   },
   "source": [
    "### Tokenization"
   ]
  },
  {
   "cell_type": "markdown",
   "metadata": {
    "nbpresent": {
     "id": "2a374b1e-eca7-47c2-b88b-b33197600b82"
    }
   },
   "source": [
    "The first step of processing we make texts go through is to split the raw sentences into words, or more exactly tokens. The easiest way to do this would be to split the string on spaces, but we can be smarter:\n",
    "\n",
    "- we need to take care of punctuation\n",
    "- some words are contractions of two different words, like isn't or don't\n",
    "- we may need to clean some parts of our texts, if there's HTML code for instance\n",
    "\n",
    "To see what the tokenizer had done behind the scenes, let's have a look at a few texts in a batch."
   ]
  },
  {
   "cell_type": "code",
   "execution_count": 22,
   "metadata": {
    "nbpresent": {
     "id": "39fbfb38-4f07-48f2-b0f0-dba1f7405d4d"
    }
   },
   "outputs": [
    {
     "data": {
      "text/html": [
       "<table>  <col width='90%'>  <col width='10%'>  <tr>\n",
       "    <th>text</th>\n",
       "    <th>label</th>\n",
       "  </tr>\n",
       "  <tr>\n",
       "    <th>xxbos xxfld 1 raising victor vargas : a review \\n\\n you know , raising victor vargas is like sticking your hands into a big , xxunk bowl of xxunk . it 's warm and gooey , but you 're not sure if it feels right . try as i might</th>\n",
       "    <th>negative</th>\n",
       "  </tr>\n",
       "  <tr>\n",
       "    <th>xxbos xxfld 1 now that che(2008 ) has finished its relatively short australian cinema run ( extremely limited xxunk screen in xxunk , after xxunk ) , i can xxunk join both xxunk of \" at the movies \" in taking steven soderbergh to task . \\n\\n it 's usually</th>\n",
       "    <th>negative</th>\n",
       "  </tr>\n",
       "  <tr>\n",
       "    <th>xxbos xxfld 1 many xxunk that this is n't just a classic due to the fact that it 's the first xxup 3d game , or even the first xxunk - up . it 's also one of the first xxunk games , one of the xxunk definitely the first</th>\n",
       "    <th>positive</th>\n",
       "  </tr>\n",
       "  <tr>\n",
       "    <th>xxbos xxfld 1 i really wanted to love this show . i truly , honestly did . \\n\\n for the first time , gay viewers get their own version of the \" the bachelor \" . with the help of his obligatory \" hag \" xxunk , james , a</th>\n",
       "    <th>negative</th>\n",
       "  </tr>\n",
       "  <tr>\n",
       "    <th>xxbos xxfld 1 this film sat on my xxunk for weeks before i watched it . i xxunk a self - indulgent xxunk flick about relationships gone bad . i was wrong ; this was an xxunk xxunk into the xxunk - up xxunk of new xxunk . \\n\\n the</th>\n",
       "    <th>positive</th>\n",
       "  </tr>\n",
       "</table>\n"
      ],
      "text/plain": [
       "<IPython.core.display.HTML object>"
      ]
     },
     "metadata": {},
     "output_type": "display_data"
    }
   ],
   "source": [
    "data = TextClasDataBunch.load(path)\n",
    "data.show_batch()"
   ]
  },
  {
   "cell_type": "markdown",
   "metadata": {
    "nbpresent": {
     "id": "2a9e8732-2748-40cd-bf95-a11a5ad33700"
    }
   },
   "source": [
    "The texts are truncated at 100 tokens for more readability. We can see that it did more than just split on space and punctuation symbols: \n",
    "- the \"'s\" are grouped together in one token\n",
    "- the contractions are separated like his: \"did\", \"n't\"\n",
    "- content has been cleaned for any HTML symbol and lower cased\n",
    "- there are several special tokens (all those that begin by xx), to replace unkown tokens (see below) or to introduce different text fields (here we only have one)."
   ]
  },
  {
   "cell_type": "markdown",
   "metadata": {
    "nbpresent": {
     "id": "4722246a-f35f-4fe0-82ef-4596f3c65424"
    }
   },
   "source": [
    "### Numericalization"
   ]
  },
  {
   "cell_type": "markdown",
   "metadata": {
    "nbpresent": {
     "id": "19643710-b21f-4478-b285-39a0d172c1e2"
    }
   },
   "source": [
    "Once we have extracted tokens from our texts, we convert to integers by creating a list of all the words used. We only keep the ones that appear at list twice with a maximum vocabulary size of 60,000 (by default) and replace the ones that don't make the cut by the unknown token `UNK`.\n",
    "\n",
    "The correspondance from ids tokens is stored in the `vocab` attribute of our datasets, in a dictionary called `itos` (for int to string)."
   ]
  },
  {
   "cell_type": "code",
   "execution_count": 23,
   "metadata": {
    "nbpresent": {
     "id": "5c9d511d-55d8-430a-bb80-2f92a45fef35"
    }
   },
   "outputs": [
    {
     "data": {
      "text/plain": [
       "['xxunk', 'xxpad', 'the', ',', '.', 'and', 'a', 'of', 'to', 'is']"
      ]
     },
     "execution_count": 23,
     "metadata": {},
     "output_type": "execute_result"
    }
   ],
   "source": [
    "data.vocab.itos[:10]"
   ]
  },
  {
   "cell_type": "markdown",
   "metadata": {
    "nbpresent": {
     "id": "c8bfc58b-d505-41ca-abee-16c59d06ed43"
    }
   },
   "source": [
    "And if we look at what a what's in our datasets, we'll see the tokenized text as a representation:"
   ]
  },
  {
   "cell_type": "code",
   "execution_count": 24,
   "metadata": {
    "nbpresent": {
     "id": "cfd2c944-00b2-44f0-9ae7-4e59cabde820"
    }
   },
   "outputs": [
    {
     "data": {
      "text/plain": [
       "(Text xxbos xxfld 1 he now has a name , an identity , some memories and a a lost girlfriend . all he wanted was to disappear , but still , they xxunk him and destroyed the world he hardly built . now he wants some explanation , and to get ride of the people how made him what he is . yeah , jason bourne is back , and this time , he 's here with a vengeance . \n",
       " \n",
       "  xxup ok , this movie does n't have the most xxunk script in the world , but its thematics are very clever and ask some serious questions about our society . of course , like every xxunk movie since the end of the 90 's , \" the bourne xxunk \" is a super - heroes story . jason bourne is a captain - america project - like , who 's gone completely wrong . in the first movie , the hero discovered his abilities and he accepted them in the second one . he now fights against what he considers like evil , after a person close to him has been killed ( his girlfriend in \" xxunk \" ) by them . that 's all a part of the super - hero story , including a character with ( realistic but still impressive : he almost invincible ) super powers . \n",
       " \n",
       "  and the interesting point is that the evil he fights all across the world ( there 's no xxunk in the bourne 's movies , characters are going from one continent to another in the xxunk of an eye ) , is , as in the best seasons of \" 24 \" , an american enemy , who 's beliefs that he fight for the good of his country completely xxunk him . funny how \" mad patriots \" are now the xxup xxunk enemies of xxunk hollywood 's stories . \n",
       " \n",
       "  xxunk all those interesting thematics , the movie is n't flawless : the feminine character of xxunk xxunk is for now on completely useless and the direction is quite xxunk when it comes to dialogs scenes . but all that does n't really matter , for \" the bourne ultimatum \" is an action movie . and the action scenes are rather impressive . \n",
       " \n",
       "  everyone here is talking about the \" xxunk scene \" and the \" xxunk xxunk \" and everyone 's right . i particularly enjoyed the fight in xxunk , that reminds my in its exaggeration and xxunk the works of xxunk xxunk . visually inventive scenes , lots of intelligent action parts and a good reflection on american 's contemporary thematics : \" the bourne ultimatum \" is definitely the best movie of the series and a very interesting and original action flick .,\n",
       " Category positive)"
      ]
     },
     "execution_count": 24,
     "metadata": {},
     "output_type": "execute_result"
    }
   ],
   "source": [
    "data.train_ds[0]"
   ]
  },
  {
   "cell_type": "markdown",
   "metadata": {
    "nbpresent": {
     "id": "877eae5e-6c51-41d0-a2e5-727c5d0a68ca"
    }
   },
   "source": [
    "But the underlying data is all numbers"
   ]
  },
  {
   "cell_type": "code",
   "execution_count": 26,
   "metadata": {
    "nbpresent": {
     "id": "227de5f1-94ce-4a03-9a11-88399f41dfe9"
    }
   },
   "outputs": [
    {
     "data": {
      "text/plain": [
       "fastai.text.data.TextClasDataBunch"
      ]
     },
     "execution_count": 26,
     "metadata": {},
     "output_type": "execute_result"
    }
   ],
   "source": [
    "data.train_ds[0][0].data[:10]\n",
    "type(data)"
   ]
  },
  {
   "cell_type": "markdown",
   "metadata": {
    "nbpresent": {
     "id": "be3f34b7-969e-4719-9254-3e64110cf964"
    }
   },
   "source": [
    "### With the data block API"
   ]
  },
  {
   "cell_type": "markdown",
   "metadata": {
    "nbpresent": {
     "id": "433d5a9a-7883-40c1-b272-608f3a6fb19a"
    }
   },
   "source": [
    "We can use the data block API with NLP and have a lot more flexibility than what the default factory methods offer. In the previous example for instance, the data was randomly split between train and validation instead of reading the third column of the csv.\n",
    "\n",
    "With the data block API though, we have to manually call the tokenize and numericalize steps. This allows more flexibility, and if you're not using the defaults from fastai, the variaous arguments to pass will appear in the step they're revelant, so it'll be more readable."
   ]
  },
  {
   "cell_type": "code",
   "execution_count": 28,
   "metadata": {
    "nbpresent": {
     "id": "e629a3ce-bb41-4f03-bf8d-870d5eccc00e"
    }
   },
   "outputs": [
    {
     "name": "stdout",
     "output_type": "stream",
     "text": [
      "/home/jupyter/.fastai/data/imdb_sample\n"
     ]
    }
   ],
   "source": [
    "data1 = (TextList.from_csv(path, 'texts.csv', cols='text')\n",
    "                .split_from_df(col=2)\n",
    "                .label_from_df(cols=0)\n",
    "                .databunch())\n",
    "print (path)"
   ]
  },
  {
   "cell_type": "markdown",
   "metadata": {
    "nbpresent": {
     "id": "e960d509-439c-42d7-a021-b9804d225a91"
    }
   },
   "source": [
    "Now let's grab the full dataset for what follows."
   ]
  },
  {
   "cell_type": "code",
   "execution_count": 29,
   "metadata": {
    "nbpresent": {
     "id": "6c23abc4-46cf-42a3-9562-0562f2c8a046"
    }
   },
   "outputs": [
    {
     "data": {
      "text/plain": [
       "[PosixPath('/home/jupyter/.fastai/data/imdb/models'),\n",
       " PosixPath('/home/jupyter/.fastai/data/imdb/test'),\n",
       " PosixPath('/home/jupyter/.fastai/data/imdb/train'),\n",
       " PosixPath('/home/jupyter/.fastai/data/imdb/imdb.vocab'),\n",
       " PosixPath('/home/jupyter/.fastai/data/imdb/README'),\n",
       " PosixPath('/home/jupyter/.fastai/data/imdb/tmp_lm')]"
      ]
     },
     "execution_count": 29,
     "metadata": {},
     "output_type": "execute_result"
    }
   ],
   "source": [
    "path = untar_data(URLs.IMDB)\n",
    "path.ls()"
   ]
  },
  {
   "cell_type": "code",
   "execution_count": 30,
   "metadata": {
    "nbpresent": {
     "id": "46176b37-a35b-41d3-b173-eccd1143e1fb"
    }
   },
   "outputs": [
    {
     "data": {
      "text/plain": [
       "[PosixPath('/home/jupyter/.fastai/data/imdb/train/unsup'),\n",
       " PosixPath('/home/jupyter/.fastai/data/imdb/train/pos'),\n",
       " PosixPath('/home/jupyter/.fastai/data/imdb/train/unsupBow.feat'),\n",
       " PosixPath('/home/jupyter/.fastai/data/imdb/train/labeledBow.feat'),\n",
       " PosixPath('/home/jupyter/.fastai/data/imdb/train/neg')]"
      ]
     },
     "execution_count": 30,
     "metadata": {},
     "output_type": "execute_result"
    }
   ],
   "source": [
    "(path/'train').ls()"
   ]
  },
  {
   "cell_type": "markdown",
   "metadata": {
    "nbpresent": {
     "id": "5ebac4f6-1411-44d9-a572-8dd44cdcefd9"
    }
   },
   "source": [
    "The reviews are in a training and test set following an imagenet structure. The only difference is that there is an `unsup` folder in `train` that contains the unlabelled data."
   ]
  },
  {
   "cell_type": "markdown",
   "metadata": {
    "nbpresent": {
     "id": "3bb0056b-4d29-41af-b8ca-ba3bdbfd4a91"
    }
   },
   "source": [
    "## Language model"
   ]
  },
  {
   "cell_type": "markdown",
   "metadata": {
    "nbpresent": {
     "id": "bdf6fb5a-0ad4-46e7-a2da-e4e19d163936"
    }
   },
   "source": [
    "We're not going to train a model that classifies the reviews from scratch. Like in computer vision, we'll use a model pretrained on a bigger dataset (a cleaned subset of wikipeia called [wikitext-103](https://einstein.ai/research/blog/the-wikitext-long-term-dependency-language-modeling-dataset)). That model has been trained to guess what the next word, its input being all the previous words. It has a recurrent structure and a hidden state that is updated each time it sees a new word. This hidden state thus contains information about the sentence up to that point.\n",
    "\n",
    "We are going to use that 'knowledge' of the English language to build our classifier, but first, like for computer vision, we need to fine-tune the pretrained model to our particular dataset. Because the English of the reviex lefts by people on IMDB isn't the same as the English of wikipedia, we'll need to adjust a little bit the parameters of our model. Plus there might be some words extremely common in that dataset that were barely present in wikipedia, and therefore might no be part of the vocabulary the model was trained on.\n",
    "\n",
    "Note that language models can use a lot of GPU, so you may need to decrease batchsize here."
   ]
  },
  {
   "cell_type": "code",
   "execution_count": 31,
   "metadata": {
    "nbpresent": {
     "id": "12bbeda3-398d-4319-a795-8c8eb8606211"
    }
   },
   "outputs": [
    {
     "name": "stdout",
     "output_type": "stream",
     "text": [
      "/home/jupyter/.fastai/data/imdb\n"
     ]
    }
   ],
   "source": [
    "print(path)\n",
    "bs=48"
   ]
  },
  {
   "cell_type": "markdown",
   "metadata": {
    "nbpresent": {
     "id": "d722bd0b-5cbd-4857-b115-04d5ce011ea7"
    }
   },
   "source": [
    "This is where the unlabelled data is going to be useful to us, as we can use it to fine-tune our model. Let's create our data object with the data block API (next line takes a few minutes)."
   ]
  },
  {
   "cell_type": "code",
   "execution_count": 32,
   "metadata": {
    "nbpresent": {
     "id": "7c5bfaab-9cb7-49c9-a365-5c8b5cd252b8"
    }
   },
   "outputs": [],
   "source": [
    "data_lm = (TextList.from_folder(path)\n",
    "           #Inputs: all the text files in path\n",
    "            .filter_by_folder(include=['train', 'test']) \n",
    "           #We may have other temp folders that contain text files so we only keep what's in train and test\n",
    "            .random_split_by_pct(0.1)\n",
    "           #We randomly split and keep 10% (10,000 reviews) for validation\n",
    "            .label_for_lm()           \n",
    "           #We want to do a language model so we label accordingly\n",
    "            .databunch(bs=bs))\n",
    "data_lm.save('tmp_lm')\n",
    "\n",
    "data = TextList.from_csv("
   ]
  },
  {
   "cell_type": "markdown",
   "metadata": {
    "nbpresent": {
     "id": "f9cb34bf-6675-4478-a9d4-29307f898909"
    }
   },
   "source": [
    "We have to use a special kind of `TextDataBunch` for the language model, that ignores the labels (that's why we put 0 everywhere), will shuffle the texts at each epoch before concatenating them all together (only for training, we don't shuffle for the validation set) and will send batches that read that text in order with targets that are the next word in the sentence.\n",
    "\n",
    "The line before being a bit long, we want to load quickly the final ids by using the following cell."
   ]
  },
  {
   "cell_type": "code",
   "execution_count": 33,
   "metadata": {
    "nbpresent": {
     "id": "8f86bb52-3718-4a90-beb2-a6cf6ed2d44f"
    }
   },
   "outputs": [],
   "source": [
    "data_lm = TextLMDataBunch.load(path, 'tmp_lm', bs=bs)"
   ]
  },
  {
   "cell_type": "code",
   "execution_count": null,
   "metadata": {
    "nbpresent": {
     "id": "53186d0d-a296-4821-90d9-35dfc82fe21f"
    }
   },
   "outputs": [
    {
     "data": {
      "text/html": [
       "<table>  <col width='5%'>  <col width='95%'>  <tr>\n",
       "    <th>idx</th>\n",
       "    <th>text</th>\n",
       "  </tr>\n",
       "  <tr>\n",
       "    <th>0</th>\n",
       "    <th>xxbos after seeing the truman show , i wanted to see the other films by weir . i would say this is a good one to start with . the plot : \\n\\n the wife of a doctor ( who is trying to impress his bosses , so he can get xxunk trying to finish her written course , while he s at work . but one day a strange man , who says that he s a plumber , tells her he s been called out to repair some pipes in there flat .</th>\n",
       "  </tr>\n",
       "  <tr>\n",
       "    <th>1</th>\n",
       "    <th>and turn to the wisdom of homeless people & ghosts . that 's a good plan . i would never recommend this movie ; partly because the sexual content is unnecessarily graphic , but also because it really does n't offer any valuable insight . check out \" yentl \" if you want to see a much more useful treatment of jewish tradition at odds with society . xxbos creep is the story of kate ( potente ) , an intensely unlikeable bourgeois bitch that finds herself somehow sleeping through the noise of the last</th>\n",
       "  </tr>\n",
       "  <tr>\n",
       "    <th>2</th>\n",
       "    <th>been done before but there is something about the way its done here that lifts it up from the rest of the pack . \\n\\n 8 out of 10 for dinosaur / monster lovers . xxbos i rented this movie to see how the sony xxunk camera shoots , ( i recently purchased the same camera ) and was blown away by the story and the acting . the directing , acting , editing was all above what i expected from what appeared at first glance to be a \" low budget \" type of</th>\n",
       "  </tr>\n",
       "  <tr>\n",
       "    <th>3</th>\n",
       "    <th>troubles . nigel and xxunk are the perfect team , i 'd watch their show any day ! i was so crushed when they removed it , and anytime they had it on xxup tv after that i was over the moon ! they put it on on demand one summer ( only the first eight episodes or so ) and i 'd spend whole afternoons watching them one after the other ... but the worst part ? it is now back on a channel called xxunk - and xxup it xxup 's xxup on</th>\n",
       "  </tr>\n",
       "  <tr>\n",
       "    <th>4</th>\n",
       "    <th>movie ! ) the movie is about edward , a obsessive - compulsive , nice guy , who happens to be a film editor . he is then lent to another department in the building , and he is sent to the posh yet violent world of sam campbell , the splatter and gore department . sam campbell , eddy 's new boss , is telling eddy about the big break on his movies , the gruesome loose limbs series , and he needs eddy to make the movie somewhat less violent so they can</th>\n",
       "  </tr>\n",
       "  <tr>\n",
       "    <th>5</th>\n",
       "    <th>incredible action ( especially the finale featuring an excellent dragon ) and a generally brilliant cast . beowulf throws down the gauntlet to film - makers to show what can be done with xxup 3d and is an indication of the potential . it 's not all the way there yet , but it 's a damn good start . xxbos freeman gives his most powerful performance here . i 've seen almost all of morgan 's films but i think this is his most outstanding performance . fast black is one juicy character and</th>\n",
       "  </tr>\n",
       "  <tr>\n",
       "    <th>6</th>\n",
       "    <th>his terms . a better title for the film would be \" it came from the planet of plot contrivances . \" the plot is excessively silly and nearly nonexistent . the humans are all given magical macguffins that conform to a tortuous series of unlikely restrictions just to move the bare plot . any thought to the passage of time is ignored . now it 's a couple days after meeting the alien , then xxup bam ! all of a sudden there 's only a couple hours left until zero hour . do</th>\n",
       "  </tr>\n",
       "  <tr>\n",
       "    <th>7</th>\n",
       "    <th>do n't know who 's the hero or who 's the villian because everyone is so stupid that no one even cares . there is only one scene in this movie that 's good , where the nerd is trying to impress a girl and gets onto his motor powered trashy bike and crashed into a wall ! the nerd does try to be funny at times ( in a freddy krueger type of way ) but notice i say \" try \" . the music is tasteless , and so is the script .</th>\n",
       "  </tr>\n",
       "  <tr>\n",
       "    <th>8</th>\n",
       "    <th>, to talk or to make lots of thing ! my conclusion is that this movie is not funny in a good way , but in a really stupid way ! xxbos just saw coronado ... around here the only line they came up with to sell it is \" from the xxup fx team behind independence day \" . i think that says a great deal . no talk about writers , directors , actors ... \\n\\n it 's a cute little adventure story set in a banana republic in mid america , but</th>\n",
       "  </tr>\n",
       "  <tr>\n",
       "    <th>9</th>\n",
       "    <th>xxup of xxup the xxup brave tackles the 18th century struggle for the control of quebec ( an all of canada ) between the british and the french with sidebars form the new america . it has the makings of a sweeping epic of fascination , but sadly in the hands of writer pierre xxunk ( whose script deserves a razzie award for worst of the season ) and the scattered , unfocused , and confusing direction by jean xxunk this film is a dud - a two and a quarter hour tedious mess of</th>\n",
       "  </tr>\n",
       "</table>\n"
      ],
      "text/plain": [
       "<IPython.core.display.HTML object>"
      ]
     },
     "metadata": {},
     "output_type": "display_data"
    }
   ],
   "source": [
    "data_lm.show_batch()"
   ]
  },
  {
   "cell_type": "markdown",
   "metadata": {
    "nbpresent": {
     "id": "2f265b71-e5f6-47b2-b702-540c05f59540"
    }
   },
   "source": [
    "We can then put this in a learner object very easily with a model loaded with the pretrained weights. They'll be downloaded the first time you'll execute the following line and stored in './fastai/models/' (or elsewhere if you specified different paths in your config file)."
   ]
  },
  {
   "cell_type": "code",
   "execution_count": null,
   "metadata": {
    "nbpresent": {
     "id": "62c58c65-7daa-4220-8ad1-824cec53c369"
    }
   },
   "outputs": [],
   "source": [
    "learn = language_model_learner(data_lm, pretrained_model=URLs.WT103, drop_mult=0.3)"
   ]
  },
  {
   "cell_type": "code",
   "execution_count": null,
   "metadata": {
    "nbpresent": {
     "id": "052c3f09-7c5d-41bd-b253-da06a3fb52b9"
    }
   },
   "outputs": [
    {
     "name": "stdout",
     "output_type": "stream",
     "text": [
      "LR Finder is complete, type {learner_name}.recorder.plot() to see the graph.\n"
     ]
    }
   ],
   "source": [
    "learn.lr_find()"
   ]
  },
  {
   "cell_type": "code",
   "execution_count": null,
   "metadata": {
    "nbpresent": {
     "id": "6ac4ce16-a25e-4cdf-8fa4-f8062578b3b2"
    }
   },
   "outputs": [
    {
     "data": {
      "image/png": "[encoded data removed]",
      "text/plain": [
       "<Figure size 432x288 with 1 Axes>"
      ]
     },
     "metadata": {
      "needs_background": "light"
     },
     "output_type": "display_data"
    }
   ],
   "source": [
    "learn.recorder.plot(skip_end=15)"
   ]
  },
  {
   "cell_type": "code",
   "execution_count": null,
   "metadata": {
    "nbpresent": {
     "id": "fc8edb68-97b1-40f8-9d1c-d1564337b267"
    }
   },
   "outputs": [
    {
     "name": "stdout",
     "output_type": "stream",
     "text": [
      "Total time: 12:42\n",
      "epoch  train_loss  valid_loss  accuracy\n",
      "1      4.591534    4.429290    0.251909  (12:42)\n",
      "\n"
     ]
    }
   ],
   "source": [
    "learn.fit_one_cycle(1, 1e-2, moms=(0.8,0.7))"
   ]
  },
  {
   "cell_type": "code",
   "execution_count": null,
   "metadata": {
    "nbpresent": {
     "id": "217bd605-1d6a-4090-8abf-eb0b1823821e"
    }
   },
   "outputs": [],
   "source": [
    "learn.save('fit_head')"
   ]
  },
  {
   "cell_type": "code",
   "execution_count": null,
   "metadata": {
    "nbpresent": {
     "id": "934156cf-7794-4356-a807-87cb5ec54089"
    }
   },
   "outputs": [],
   "source": [
    "learn.load('fit_head');"
   ]
  },
  {
   "cell_type": "markdown",
   "metadata": {
    "nbpresent": {
     "id": "71115515-7e9a-43d0-be15-2a530c6b79c1"
    }
   },
   "source": [
    "To complete the fine-tuning, we can then unfeeze and launch a new training."
   ]
  },
  {
   "cell_type": "code",
   "execution_count": null,
   "metadata": {
    "nbpresent": {
     "id": "7e9ca7de-f993-4925-a931-334a7c937929"
    }
   },
   "outputs": [
    {
     "name": "stdout",
     "output_type": "stream",
     "text": [
      "Total time: 2:22:17\n",
      "epoch  train_loss  valid_loss  accuracy\n",
      "1      4.307920    4.245430    0.271067  (14:14)\n",
      "2      4.253745    4.162714    0.281017  (14:13)\n",
      "3      4.166390    4.114120    0.287092  (14:14)\n",
      "4      4.099329    4.068735    0.292060  (14:10)\n",
      "5      4.048801    4.035339    0.295645  (14:12)\n",
      "6      3.980410    4.009860    0.298551  (14:12)\n",
      "7      3.947437    3.991286    0.300850  (14:14)\n",
      "8      3.897383    3.977569    0.302463  (14:15)\n",
      "9      3.866736    3.972447    0.303147  (14:14)\n",
      "10     3.847952    3.972852    0.303105  (14:15)\n",
      "\n"
     ]
    }
   ],
   "source": [
    "learn.unfreeze()\n",
    "learn.fit_one_cycle(10, 1e-3, moms=(0.8,0.7))"
   ]
  },
  {
   "cell_type": "code",
   "execution_count": null,
   "metadata": {
    "nbpresent": {
     "id": "8e461435-3221-4302-8ee1-72db0336da06"
    }
   },
   "outputs": [],
   "source": [
    "learn.save('fine_tuned')"
   ]
  },
  {
   "cell_type": "markdown",
   "metadata": {
    "nbpresent": {
     "id": "93e6965d-ef32-4398-94d2-eaf0496e4202"
    }
   },
   "source": [
    "How good is our model? Well let's try to see what it predicts after a few given words."
   ]
  },
  {
   "cell_type": "code",
   "execution_count": null,
   "metadata": {
    "nbpresent": {
     "id": "eacc5517-34be-461c-b19a-aefed3a32852"
    }
   },
   "outputs": [],
   "source": [
    "learn.load('fine_tuned');"
   ]
  },
  {
   "cell_type": "code",
   "execution_count": null,
   "metadata": {
    "nbpresent": {
     "id": "27f6a6f4-3b43-4484-abc8-8871d62ac9d9"
    }
   },
   "outputs": [
    {
     "name": "stdout",
     "output_type": "stream",
     "text": [
      "Total time: 00:10\n",
      "\n"
     ]
    },
    {
     "data": {
      "text/plain": [
       "'I liked this movie because  of course after yeah funny later that the world reason settings - the movie that perfect the kill of the same plot - a mention of the most of course . do xxup diamonds and the \" xxup disappeared kill of course and the movie niece , from the care more the story of the let character , \" i was a lot \\'s the little performance is not only . the excellent for the most of course , with the minutes night on the into movies ( ! , in the movie its the first ever ! \\n\\n a'"
      ]
     },
     "execution_count": null,
     "metadata": {},
     "output_type": "execute_result"
    }
   ],
   "source": [
    "learn.predict('I liked this movie because ', 100, temperature=1.1, min_p=0.001)"
   ]
  },
  {
   "cell_type": "markdown",
   "metadata": {
    "nbpresent": {
     "id": "9250bbe4-a26b-449d-96ee-34c1ea692057"
    }
   },
   "source": [
    "We have to save the model but also it's encoder, the part that's responsible for creating and updating the hidden state. For the next part, we don't care about the part that tries to guess the next word."
   ]
  },
  {
   "cell_type": "code",
   "execution_count": null,
   "metadata": {
    "nbpresent": {
     "id": "2c0ee3a2-2bf1-4b86-a169-45a0c52dca80"
    }
   },
   "outputs": [],
   "source": [
    "learn.save_encoder('fine_tuned_enc')"
   ]
  },
  {
   "cell_type": "markdown",
   "metadata": {
    "nbpresent": {
     "id": "e39e4f7e-2ebd-4cc7-a8c6-df0218b1aec6"
    }
   },
   "source": [
    "## Classifier"
   ]
  },
  {
   "cell_type": "markdown",
   "metadata": {
    "nbpresent": {
     "id": "b75a290e-7cbd-4290-adb5-fcddb939109e"
    }
   },
   "source": [
    "Now, we'll create a new data object that only grabs the labelled data and keeps those labels. Again, this line takes a bit of time."
   ]
  },
  {
   "cell_type": "code",
   "execution_count": null,
   "metadata": {
    "nbpresent": {
     "id": "a69bab16-8523-49f0-8dba-358912c30db2"
    }
   },
   "outputs": [
    {
     "data": {
      "text/plain": [
       "[PosixPath('/home/jhoward/.fastai/data/imdb/imdb.vocab'),\n",
       " PosixPath('/home/jhoward/.fastai/data/imdb/models'),\n",
       " PosixPath('/home/jhoward/.fastai/data/imdb/tmp_lm'),\n",
       " PosixPath('/home/jhoward/.fastai/data/imdb/train'),\n",
       " PosixPath('/home/jhoward/.fastai/data/imdb/test'),\n",
       " PosixPath('/home/jhoward/.fastai/data/imdb/README'),\n",
       " PosixPath('/home/jhoward/.fastai/data/imdb/tmp_clas')]"
      ]
     },
     "execution_count": null,
     "metadata": {},
     "output_type": "execute_result"
    }
   ],
   "source": [
    "path = untar_data(URLs.IMDB)\n",
    "path.ls()"
   ]
  },
  {
   "cell_type": "code",
   "execution_count": null,
   "metadata": {
    "nbpresent": {
     "id": "47aa0821-0393-40f7-91a8-5db549e2de70"
    }
   },
   "outputs": [
    {
     "data": {
      "text/plain": [
       "[PosixPath('/home/jhoward/.fastai/data/imdb/train/pos'),\n",
       " PosixPath('/home/jhoward/.fastai/data/imdb/train/unsup'),\n",
       " PosixPath('/home/jhoward/.fastai/data/imdb/train/unsupBow.feat'),\n",
       " PosixPath('/home/jhoward/.fastai/data/imdb/train/labeledBow.feat'),\n",
       " PosixPath('/home/jhoward/.fastai/data/imdb/train/neg')]"
      ]
     },
     "execution_count": null,
     "metadata": {},
     "output_type": "execute_result"
    }
   ],
   "source": [
    "(path/'train').ls()"
   ]
  },
  {
   "cell_type": "code",
   "execution_count": 81,
   "metadata": {
    "nbpresent": {
     "id": "99d1c26e-1899-4e87-9eab-ae77452bbe8f"
    }
   },
   "outputs": [
    {
     "ename": "IndexError",
     "evalue": "index 0 is out of bounds for axis 0 with size 0",
     "output_type": "error",
     "traceback": [
      "\u001b[0;31m---------------------------------------------------------------------------\u001b[0m",
      "\u001b[0;31mIndexError\u001b[0m                                Traceback (most recent call last)",
      "\u001b[0;32m<ipython-input-81-ef1d6c6e4867>\u001b[0m in \u001b[0;36m<module>\u001b[0;34m\u001b[0m\n\u001b[1;32m      3\u001b[0m              \u001b[0;34m.\u001b[0m\u001b[0msplit_by_folder\u001b[0m\u001b[0;34m(\u001b[0m\u001b[0mvalid\u001b[0m\u001b[0;34m=\u001b[0m\u001b[0;34m'test'\u001b[0m\u001b[0;34m)\u001b[0m\u001b[0;34m\u001b[0m\u001b[0m\n\u001b[1;32m      4\u001b[0m              \u001b[0;31m#split by train and valid folder (that only keeps 'train' and 'test' so no need to filter)\u001b[0m\u001b[0;34m\u001b[0m\u001b[0;34m\u001b[0m\u001b[0m\n\u001b[0;32m----> 5\u001b[0;31m              \u001b[0;34m.\u001b[0m\u001b[0mlabel_from_folder\u001b[0m\u001b[0;34m(\u001b[0m\u001b[0mclasses\u001b[0m\u001b[0;34m=\u001b[0m\u001b[0;34m[\u001b[0m\u001b[0;34m'neg'\u001b[0m\u001b[0;34m,\u001b[0m \u001b[0;34m'pos'\u001b[0m\u001b[0;34m]\u001b[0m\u001b[0;34m)\u001b[0m\u001b[0;34m\u001b[0m\u001b[0m\n\u001b[0m\u001b[1;32m      6\u001b[0m              \u001b[0;31m#remove docs with labels not in above list (i.e. 'unsup')\u001b[0m\u001b[0;34m\u001b[0m\u001b[0;34m\u001b[0m\u001b[0m\n\u001b[1;32m      7\u001b[0m              \u001b[0;34m.\u001b[0m\u001b[0mfilter_missing_y\u001b[0m\u001b[0;34m(\u001b[0m\u001b[0;34m)\u001b[0m\u001b[0;34m\u001b[0m\u001b[0m\n",
      "\u001b[0;32m/opt/anaconda3/lib/python3.7/site-packages/fastai/data_block.py\u001b[0m in \u001b[0;36m_inner\u001b[0;34m(*args, **kwargs)\u001b[0m\n\u001b[1;32m    312\u001b[0m         \u001b[0;32massert\u001b[0m \u001b[0misinstance\u001b[0m\u001b[0;34m(\u001b[0m\u001b[0mfv\u001b[0m\u001b[0;34m,\u001b[0m \u001b[0mCallable\u001b[0m\u001b[0;34m)\u001b[0m\u001b[0;34m\u001b[0m\u001b[0m\n\u001b[1;32m    313\u001b[0m         \u001b[0;32mdef\u001b[0m \u001b[0m_inner\u001b[0m\u001b[0;34m(\u001b[0m\u001b[0;34m*\u001b[0m\u001b[0margs\u001b[0m\u001b[0;34m,\u001b[0m \u001b[0;34m**\u001b[0m\u001b[0mkwargs\u001b[0m\u001b[0;34m)\u001b[0m\u001b[0;34m:\u001b[0m\u001b[0;34m\u001b[0m\u001b[0m\n\u001b[0;32m--> 314\u001b[0;31m             \u001b[0mself\u001b[0m\u001b[0;34m.\u001b[0m\u001b[0mtrain\u001b[0m \u001b[0;34m=\u001b[0m \u001b[0mft\u001b[0m\u001b[0;34m(\u001b[0m\u001b[0;34m*\u001b[0m\u001b[0margs\u001b[0m\u001b[0;34m,\u001b[0m \u001b[0;34m**\u001b[0m\u001b[0mkwargs\u001b[0m\u001b[0;34m)\u001b[0m\u001b[0;34m\u001b[0m\u001b[0m\n\u001b[0m\u001b[1;32m    315\u001b[0m             \u001b[0;32massert\u001b[0m \u001b[0misinstance\u001b[0m\u001b[0;34m(\u001b[0m\u001b[0mself\u001b[0m\u001b[0;34m.\u001b[0m\u001b[0mtrain\u001b[0m\u001b[0;34m,\u001b[0m \u001b[0mLabelList\u001b[0m\u001b[0;34m)\u001b[0m\u001b[0;34m\u001b[0m\u001b[0m\n\u001b[1;32m    316\u001b[0m             \u001b[0mself\u001b[0m\u001b[0;34m.\u001b[0m\u001b[0mvalid\u001b[0m \u001b[0;34m=\u001b[0m \u001b[0mfv\u001b[0m\u001b[0;34m(\u001b[0m\u001b[0;34m*\u001b[0m\u001b[0margs\u001b[0m\u001b[0;34m,\u001b[0m \u001b[0;34m**\u001b[0m\u001b[0mkwargs\u001b[0m\u001b[0;34m)\u001b[0m\u001b[0;34m\u001b[0m\u001b[0m\n",
      "\u001b[0;32m/opt/anaconda3/lib/python3.7/site-packages/fastai/data_block.py\u001b[0m in \u001b[0;36mlabel_from_folder\u001b[0;34m(self, **kwargs)\u001b[0m\n\u001b[1;32m    199\u001b[0m     \u001b[0;32mdef\u001b[0m \u001b[0mlabel_from_folder\u001b[0m\u001b[0;34m(\u001b[0m\u001b[0mself\u001b[0m\u001b[0;34m,\u001b[0m \u001b[0;34m**\u001b[0m\u001b[0mkwargs\u001b[0m\u001b[0;34m)\u001b[0m\u001b[0;34m->\u001b[0m\u001b[0;34m'LabelList'\u001b[0m\u001b[0;34m:\u001b[0m\u001b[0;34m\u001b[0m\u001b[0m\n\u001b[1;32m    200\u001b[0m         \u001b[0;34m\"Give a label to each filename depending on its folder.\"\u001b[0m\u001b[0;34m\u001b[0m\u001b[0m\n\u001b[0;32m--> 201\u001b[0;31m         \u001b[0;32mreturn\u001b[0m \u001b[0mself\u001b[0m\u001b[0;34m.\u001b[0m\u001b[0mlabel_from_func\u001b[0m\u001b[0;34m(\u001b[0m\u001b[0mfunc\u001b[0m\u001b[0;34m=\u001b[0m\u001b[0;32mlambda\u001b[0m \u001b[0mo\u001b[0m\u001b[0;34m:\u001b[0m \u001b[0mo\u001b[0m\u001b[0;34m.\u001b[0m\u001b[0mparts\u001b[0m\u001b[0;34m[\u001b[0m\u001b[0;34m-\u001b[0m\u001b[0;36m2\u001b[0m\u001b[0;34m]\u001b[0m\u001b[0;34m,\u001b[0m \u001b[0;34m**\u001b[0m\u001b[0mkwargs\u001b[0m\u001b[0;34m)\u001b[0m\u001b[0;34m\u001b[0m\u001b[0m\n\u001b[0m\u001b[1;32m    202\u001b[0m \u001b[0;34m\u001b[0m\u001b[0m\n\u001b[1;32m    203\u001b[0m     \u001b[0;32mdef\u001b[0m \u001b[0mlabel_from_re\u001b[0m\u001b[0;34m(\u001b[0m\u001b[0mself\u001b[0m\u001b[0;34m,\u001b[0m \u001b[0mpat\u001b[0m\u001b[0;34m:\u001b[0m\u001b[0mstr\u001b[0m\u001b[0;34m,\u001b[0m \u001b[0mfull_path\u001b[0m\u001b[0;34m:\u001b[0m\u001b[0mbool\u001b[0m\u001b[0;34m=\u001b[0m\u001b[0;32mFalse\u001b[0m\u001b[0;34m,\u001b[0m \u001b[0;34m**\u001b[0m\u001b[0mkwargs\u001b[0m\u001b[0;34m)\u001b[0m\u001b[0;34m->\u001b[0m\u001b[0;34m'LabelList'\u001b[0m\u001b[0;34m:\u001b[0m\u001b[0;34m\u001b[0m\u001b[0m\n",
      "\u001b[0;32m/opt/anaconda3/lib/python3.7/site-packages/fastai/data_block.py\u001b[0m in \u001b[0;36mlabel_from_func\u001b[0;34m(self, func, **kwargs)\u001b[0m\n\u001b[1;32m    195\u001b[0m     \u001b[0;32mdef\u001b[0m \u001b[0mlabel_from_func\u001b[0m\u001b[0;34m(\u001b[0m\u001b[0mself\u001b[0m\u001b[0;34m,\u001b[0m \u001b[0mfunc\u001b[0m\u001b[0;34m:\u001b[0m\u001b[0mCallable\u001b[0m\u001b[0;34m,\u001b[0m \u001b[0;34m**\u001b[0m\u001b[0mkwargs\u001b[0m\u001b[0;34m)\u001b[0m\u001b[0;34m->\u001b[0m\u001b[0;34m'LabelList'\u001b[0m\u001b[0;34m:\u001b[0m\u001b[0;34m\u001b[0m\u001b[0m\n\u001b[1;32m    196\u001b[0m         \u001b[0;34m\"Apply `func` to every input to get its label.\"\u001b[0m\u001b[0;34m\u001b[0m\u001b[0m\n\u001b[0;32m--> 197\u001b[0;31m         \u001b[0;32mreturn\u001b[0m \u001b[0mself\u001b[0m\u001b[0;34m.\u001b[0m\u001b[0mlabel_from_list\u001b[0m\u001b[0;34m(\u001b[0m\u001b[0;34m[\u001b[0m\u001b[0mfunc\u001b[0m\u001b[0;34m(\u001b[0m\u001b[0mo\u001b[0m\u001b[0;34m)\u001b[0m \u001b[0;32mfor\u001b[0m \u001b[0mo\u001b[0m \u001b[0;32min\u001b[0m \u001b[0mself\u001b[0m\u001b[0;34m.\u001b[0m\u001b[0mitems\u001b[0m\u001b[0;34m]\u001b[0m\u001b[0;34m,\u001b[0m \u001b[0;34m**\u001b[0m\u001b[0mkwargs\u001b[0m\u001b[0;34m)\u001b[0m\u001b[0;34m\u001b[0m\u001b[0m\n\u001b[0m\u001b[1;32m    198\u001b[0m \u001b[0;34m\u001b[0m\u001b[0m\n\u001b[1;32m    199\u001b[0m     \u001b[0;32mdef\u001b[0m \u001b[0mlabel_from_folder\u001b[0m\u001b[0;34m(\u001b[0m\u001b[0mself\u001b[0m\u001b[0;34m,\u001b[0m \u001b[0;34m**\u001b[0m\u001b[0mkwargs\u001b[0m\u001b[0;34m)\u001b[0m\u001b[0;34m->\u001b[0m\u001b[0;34m'LabelList'\u001b[0m\u001b[0;34m:\u001b[0m\u001b[0;34m\u001b[0m\u001b[0m\n",
      "\u001b[0;32m/opt/anaconda3/lib/python3.7/site-packages/fastai/data_block.py\u001b[0m in \u001b[0;36mlabel_from_list\u001b[0;34m(self, labels, **kwargs)\u001b[0m\n\u001b[1;32m    179\u001b[0m         \u001b[0;34m\"Label `self.items` with `labels` using `label_cls`\"\u001b[0m\u001b[0;34m\u001b[0m\u001b[0m\n\u001b[1;32m    180\u001b[0m         \u001b[0mlabels\u001b[0m \u001b[0;34m=\u001b[0m \u001b[0marray\u001b[0m\u001b[0;34m(\u001b[0m\u001b[0mlabels\u001b[0m\u001b[0;34m,\u001b[0m \u001b[0mdtype\u001b[0m\u001b[0;34m=\u001b[0m\u001b[0mobject\u001b[0m\u001b[0;34m)\u001b[0m\u001b[0;34m\u001b[0m\u001b[0m\n\u001b[0;32m--> 181\u001b[0;31m         \u001b[0mlabel_cls\u001b[0m \u001b[0;34m=\u001b[0m \u001b[0mself\u001b[0m\u001b[0;34m.\u001b[0m\u001b[0mget_label_cls\u001b[0m\u001b[0;34m(\u001b[0m\u001b[0mlabels\u001b[0m\u001b[0;34m,\u001b[0m \u001b[0;34m**\u001b[0m\u001b[0mkwargs\u001b[0m\u001b[0;34m)\u001b[0m\u001b[0;34m\u001b[0m\u001b[0m\n\u001b[0m\u001b[1;32m    182\u001b[0m         \u001b[0my\u001b[0m \u001b[0;34m=\u001b[0m \u001b[0mlabel_cls\u001b[0m\u001b[0;34m(\u001b[0m\u001b[0mlabels\u001b[0m\u001b[0;34m,\u001b[0m \u001b[0mpath\u001b[0m\u001b[0;34m=\u001b[0m\u001b[0mself\u001b[0m\u001b[0;34m.\u001b[0m\u001b[0mpath\u001b[0m\u001b[0;34m,\u001b[0m \u001b[0;34m**\u001b[0m\u001b[0mkwargs\u001b[0m\u001b[0;34m)\u001b[0m\u001b[0;34m\u001b[0m\u001b[0m\n\u001b[1;32m    183\u001b[0m         \u001b[0mres\u001b[0m \u001b[0;34m=\u001b[0m \u001b[0mself\u001b[0m\u001b[0;34m.\u001b[0m\u001b[0m_label_list\u001b[0m\u001b[0;34m(\u001b[0m\u001b[0mx\u001b[0m\u001b[0;34m=\u001b[0m\u001b[0mself\u001b[0m\u001b[0;34m,\u001b[0m \u001b[0my\u001b[0m\u001b[0;34m=\u001b[0m\u001b[0my\u001b[0m\u001b[0;34m)\u001b[0m\u001b[0;34m\u001b[0m\u001b[0m\n",
      "\u001b[0;32m/opt/anaconda3/lib/python3.7/site-packages/fastai/data_block.py\u001b[0m in \u001b[0;36mget_label_cls\u001b[0;34m(self, labels, label_cls, sep, **kwargs)\u001b[0m\n\u001b[1;32m    169\u001b[0m         \u001b[0;32mif\u001b[0m \u001b[0mlabel_cls\u001b[0m \u001b[0;32mis\u001b[0m \u001b[0;32mnot\u001b[0m \u001b[0;32mNone\u001b[0m\u001b[0;34m:\u001b[0m               \u001b[0;32mreturn\u001b[0m \u001b[0mlabel_cls\u001b[0m\u001b[0;34m\u001b[0m\u001b[0m\n\u001b[1;32m    170\u001b[0m         \u001b[0;32mif\u001b[0m \u001b[0mself\u001b[0m\u001b[0;34m.\u001b[0m\u001b[0mlabel_cls\u001b[0m \u001b[0;32mis\u001b[0m \u001b[0;32mnot\u001b[0m \u001b[0;32mNone\u001b[0m\u001b[0;34m:\u001b[0m          \u001b[0;32mreturn\u001b[0m \u001b[0mself\u001b[0m\u001b[0;34m.\u001b[0m\u001b[0mlabel_cls\u001b[0m\u001b[0;34m\u001b[0m\u001b[0m\n\u001b[0;32m--> 171\u001b[0;31m         \u001b[0mit\u001b[0m \u001b[0;34m=\u001b[0m \u001b[0mindex_row\u001b[0m\u001b[0;34m(\u001b[0m\u001b[0mlabels\u001b[0m\u001b[0;34m,\u001b[0m\u001b[0;36m0\u001b[0m\u001b[0;34m)\u001b[0m\u001b[0;34m\u001b[0m\u001b[0m\n\u001b[0m\u001b[1;32m    172\u001b[0m         \u001b[0;32mif\u001b[0m \u001b[0msep\u001b[0m \u001b[0;32mis\u001b[0m \u001b[0;32mnot\u001b[0m \u001b[0;32mNone\u001b[0m\u001b[0;34m:\u001b[0m                     \u001b[0;32mreturn\u001b[0m \u001b[0mMultiCategoryList\u001b[0m\u001b[0;34m\u001b[0m\u001b[0m\n\u001b[1;32m    173\u001b[0m         \u001b[0;32mif\u001b[0m \u001b[0misinstance\u001b[0m\u001b[0;34m(\u001b[0m\u001b[0mit\u001b[0m\u001b[0;34m,\u001b[0m \u001b[0;34m(\u001b[0m\u001b[0mfloat\u001b[0m\u001b[0;34m,\u001b[0m \u001b[0mnp\u001b[0m\u001b[0;34m.\u001b[0m\u001b[0mfloat32\u001b[0m\u001b[0;34m)\u001b[0m\u001b[0;34m)\u001b[0m\u001b[0;34m:\u001b[0m \u001b[0;32mreturn\u001b[0m \u001b[0mFloatList\u001b[0m\u001b[0;34m\u001b[0m\u001b[0m\n",
      "\u001b[0;32m/opt/anaconda3/lib/python3.7/site-packages/fastai/core.py\u001b[0m in \u001b[0;36mindex_row\u001b[0;34m(a, idxs)\u001b[0m\n\u001b[1;32m    201\u001b[0m         \u001b[0;32mif\u001b[0m \u001b[0misinstance\u001b[0m\u001b[0;34m(\u001b[0m\u001b[0mres\u001b[0m\u001b[0;34m,\u001b[0m\u001b[0;34m(\u001b[0m\u001b[0mpd\u001b[0m\u001b[0;34m.\u001b[0m\u001b[0mDataFrame\u001b[0m\u001b[0;34m,\u001b[0m\u001b[0mpd\u001b[0m\u001b[0;34m.\u001b[0m\u001b[0mSeries\u001b[0m\u001b[0;34m)\u001b[0m\u001b[0;34m)\u001b[0m\u001b[0;34m:\u001b[0m \u001b[0;32mreturn\u001b[0m \u001b[0mres\u001b[0m\u001b[0;34m.\u001b[0m\u001b[0mcopy\u001b[0m\u001b[0;34m(\u001b[0m\u001b[0;34m)\u001b[0m\u001b[0;34m\u001b[0m\u001b[0m\n\u001b[1;32m    202\u001b[0m         \u001b[0;32mreturn\u001b[0m \u001b[0mres\u001b[0m\u001b[0;34m\u001b[0m\u001b[0m\n\u001b[0;32m--> 203\u001b[0;31m     \u001b[0;32mreturn\u001b[0m \u001b[0ma\u001b[0m\u001b[0;34m[\u001b[0m\u001b[0midxs\u001b[0m\u001b[0;34m]\u001b[0m\u001b[0;34m\u001b[0m\u001b[0m\n\u001b[0m\u001b[1;32m    204\u001b[0m \u001b[0;34m\u001b[0m\u001b[0m\n\u001b[1;32m    205\u001b[0m \u001b[0;32mdef\u001b[0m \u001b[0mfunc_args\u001b[0m\u001b[0;34m(\u001b[0m\u001b[0mfunc\u001b[0m\u001b[0;34m)\u001b[0m\u001b[0;34m->\u001b[0m\u001b[0mbool\u001b[0m\u001b[0;34m:\u001b[0m\u001b[0;34m\u001b[0m\u001b[0m\n",
      "\u001b[0;31mIndexError\u001b[0m: index 0 is out of bounds for axis 0 with size 0"
     ]
    }
   ],
   "source": [
    "data_clas = (TextList.from_folder(path, vocab=data_lm.vocab)\n",
    "             #grab all the text files in path\n",
    "             .split_by_folder(valid='test')\n",
    "             #split by train and valid folder (that only keeps 'train' and 'test' so no need to filter)\n",
    "             .label_from_folder(classes=['neg', 'pos'])\n",
    "             #remove docs with labels not in above list (i.e. 'unsup')\n",
    "             .filter_missing_y()\n",
    "             #label them all with their folders\n",
    "             .databunch(bs=bs))\n",
    "data_clas.save('tmp_clas')"
   ]
  },
  {
   "cell_type": "code",
   "execution_count": null,
   "metadata": {
    "nbpresent": {
     "id": "ee9d2070-6fae-46e9-ad8b-307b82337ec8"
    }
   },
   "outputs": [
    {
     "data": {
      "text/plain": [
       "75000"
      ]
     },
     "execution_count": null,
     "metadata": {},
     "output_type": "execute_result"
    }
   ],
   "source": [
    "len(data_clas.train_ds)"
   ]
  },
  {
   "cell_type": "code",
   "execution_count": null,
   "metadata": {
    "nbpresent": {
     "id": "b29f16d2-5d0b-4bc8-a5c6-04a12013f8e8"
    }
   },
   "outputs": [
    {
     "data": {
      "text/html": [
       "<table>  <col width='90%'>  <col width='10%'>  <tr>\n",
       "    <th>text</th>\n",
       "    <th>label</th>\n",
       "  </tr>\n",
       "  <tr>\n",
       "    <th>xxfld 1 match 1 : tag team table match bubba ray and spike dudley vs eddie guerrero and chris benoit bubba ray and spike dudley started things off with a tag team table match against eddie guerrero and chris benoit . according to the rules of the match , both</th>\n",
       "    <th>pos</th>\n",
       "  </tr>\n",
       "  <tr>\n",
       "    <th>xxfld 1 i have never seen any of spike lee 's prior films , as their trailers never caught my interest . i have seen , and admire denzel washington , and jodie foster 's work , and have several of their dvds . i was , however , entirely</th>\n",
       "    <th>neg</th>\n",
       "  </tr>\n",
       "  <tr>\n",
       "    <th>xxfld 1 pier paolo pasolini , or pee - pee - pee as i prefer to call him ( due to his love of showing male genitals ) , is perhaps xxup the most overrated european marxist director - and they are thick on the ground . how anyone can</th>\n",
       "    <th>neg</th>\n",
       "  </tr>\n",
       "  <tr>\n",
       "    <th>xxfld 1 chris rock deserves better than he gives himself in \" down to earth . \" as directed by brothers chris & paul weitz of \" american pie \" fame , this uninspired remake of warren beatty 's 1978 fantasy \" heaven can wait , \" itself a rehash</th>\n",
       "    <th>neg</th>\n",
       "  </tr>\n",
       "  <tr>\n",
       "    <th>xxfld 1 yesterday , i went to the monthly antique flea market that comes to town . i really have no interest in such things , but i went for the fellowship of friends who do have such an interest . looking over the hundreds of vendor , passing many</th>\n",
       "    <th>pos</th>\n",
       "  </tr>\n",
       "</table>\n"
      ],
      "text/plain": [
       "<IPython.core.display.HTML object>"
      ]
     },
     "metadata": {},
     "output_type": "display_data"
    }
   ],
   "source": [
    "data_clas = TextClasDataBunch.load(path, 'tmp_clas', bs=bs)\n",
    "data_clas.show_batch()"
   ]
  },
  {
   "cell_type": "markdown",
   "metadata": {
    "nbpresent": {
     "id": "eab253bf-2e6e-46ef-a582-28ff27e564ee"
    }
   },
   "source": [
    "We can then create a model to classify those reviews and load the encoder we saved before."
   ]
  },
  {
   "cell_type": "code",
   "execution_count": 80,
   "metadata": {
    "nbpresent": {
     "id": "06568a4b-cc66-414b-8a32-e5199dc86c5b"
    }
   },
   "outputs": [],
   "source": [
    "#learn = text_classifier_learner(data_clas, drop_mult=0.5)\n",
    "#learn.load_encoder('fine_tuned_enc')\n",
    "#learn.freeze()\n",
    "??text_classifier_learner"
   ]
  },
  {
   "cell_type": "code",
   "execution_count": null,
   "metadata": {
    "nbpresent": {
     "id": "b75e8ffe-b7ff-4a81-9fc5-ca555d4dec63"
    }
   },
   "outputs": [
    {
     "name": "stdout",
     "output_type": "stream",
     "text": [
      "LR Finder is complete, type {learner_name}.recorder.plot() to see the graph.\n"
     ]
    }
   ],
   "source": [
    "learn.lr_find()"
   ]
  },
  {
   "cell_type": "code",
   "execution_count": null,
   "metadata": {
    "nbpresent": {
     "id": "8ddb6575-ff14-4e77-8da6-3ce0f2c1bfdf"
    }
   },
   "outputs": [
    {
     "data": {
      "image/png": "[encoded data removed]",
      "text/plain": [
       "<Figure size 432x288 with 1 Axes>"
      ]
     },
     "metadata": {
      "needs_background": "light"
     },
     "output_type": "display_data"
    }
   ],
   "source": [
    "learn.recorder.plot()"
   ]
  },
  {
   "cell_type": "code",
   "execution_count": null,
   "metadata": {
    "nbpresent": {
     "id": "7f5dd7e7-b73d-45fd-b014-e83b155a52d5"
    }
   },
   "outputs": [
    {
     "name": "stdout",
     "output_type": "stream",
     "text": [
      "Total time: 02:46\n",
      "epoch  train_loss  valid_loss  accuracy\n",
      "1      0.294225    0.210385    0.918960  (02:46)\n",
      "\n"
     ]
    }
   ],
   "source": [
    "learn.fit_one_cycle(1, 2e-2, moms=(0.8,0.7))"
   ]
  },
  {
   "cell_type": "code",
   "execution_count": null,
   "metadata": {
    "nbpresent": {
     "id": "d17bc0fc-2063-4f8d-bd0e-84f327fc95ba"
    }
   },
   "outputs": [],
   "source": [
    "learn.save('first')"
   ]
  },
  {
   "cell_type": "code",
   "execution_count": null,
   "metadata": {
    "nbpresent": {
     "id": "0de38633-d01e-4dc0-886d-43492f50b043"
    }
   },
   "outputs": [],
   "source": [
    "learn.load('first');"
   ]
  },
  {
   "cell_type": "code",
   "execution_count": null,
   "metadata": {
    "nbpresent": {
     "id": "77165be9-f9ee-4b5f-9a84-a3b167ac1993"
    }
   },
   "outputs": [
    {
     "name": "stdout",
     "output_type": "stream",
     "text": [
      "Total time: 03:03\n",
      "epoch  train_loss  valid_loss  accuracy\n",
      "1      0.268781    0.180993    0.930760  (03:03)\n",
      "\n"
     ]
    }
   ],
   "source": [
    "learn.freeze_to(-2)\n",
    "learn.fit_one_cycle(1, slice(1e-2/(2.6**4),1e-2), moms=(0.8,0.7))"
   ]
  },
  {
   "cell_type": "code",
   "execution_count": null,
   "metadata": {
    "nbpresent": {
     "id": "39862200-9e4d-4099-b005-3ec2e79d23f7"
    }
   },
   "outputs": [],
   "source": [
    "learn.save('second')"
   ]
  },
  {
   "cell_type": "code",
   "execution_count": null,
   "metadata": {
    "nbpresent": {
     "id": "5fa2c47c-1577-4834-a0da-d3af9e79e481"
    }
   },
   "outputs": [],
   "source": [
    "learn.load('second');"
   ]
  },
  {
   "cell_type": "code",
   "execution_count": null,
   "metadata": {
    "nbpresent": {
     "id": "cbf9d6a2-c077-4233-8437-261ffbf3ccb2"
    }
   },
   "outputs": [
    {
     "name": "stdout",
     "output_type": "stream",
     "text": [
      "Total time: 04:06\n",
      "epoch  train_loss  valid_loss  accuracy\n",
      "1      0.211133    0.161494    0.941280  (04:06)\n",
      "\n"
     ]
    }
   ],
   "source": [
    "learn.freeze_to(-3)\n",
    "learn.fit_one_cycle(1, slice(5e-3/(2.6**4),5e-3), moms=(0.8,0.7))"
   ]
  },
  {
   "cell_type": "code",
   "execution_count": null,
   "metadata": {
    "nbpresent": {
     "id": "3d91b427-a361-465a-bf1d-c9fca3f20764"
    }
   },
   "outputs": [],
   "source": [
    "learn.save('third')"
   ]
  },
  {
   "cell_type": "code",
   "execution_count": null,
   "metadata": {
    "nbpresent": {
     "id": "7c6a0f4c-1c90-4b28-9dd7-dc1af7599f07"
    }
   },
   "outputs": [],
   "source": [
    "learn.load('third');"
   ]
  },
  {
   "cell_type": "code",
   "execution_count": null,
   "metadata": {
    "nbpresent": {
     "id": "d04181b5-ea17-4ca9-9a89-1ea7c2790a87"
    }
   },
   "outputs": [
    {
     "name": "stdout",
     "output_type": "stream",
     "text": [
      "Total time: 10:01\n",
      "epoch  train_loss  valid_loss  accuracy\n",
      "1      0.188145    0.155038    0.942480  (05:00)\n",
      "2      0.159475    0.153531    0.944040  (05:01)\n",
      "\n"
     ]
    }
   ],
   "source": [
    "learn.unfreeze()\n",
    "learn.fit_one_cycle(2, slice(1e-3/(2.6**4),1e-3), moms=(0.8,0.7))"
   ]
  },
  {
   "cell_type": "code",
   "execution_count": null,
   "metadata": {
    "nbpresent": {
     "id": "34b991bd-1648-4184-96d3-390036655d8b"
    }
   },
   "outputs": [
    {
     "data": {
      "text/plain": [
       "('pos', tensor(0), tensor([[9.9999e-01, 1.1991e-05]]))"
      ]
     },
     "execution_count": null,
     "metadata": {},
     "output_type": "execute_result"
    }
   ],
   "source": [
    "learn.predict(\"I really loved that movie, it was awesome!\")"
   ]
  },
  {
   "cell_type": "code",
   "execution_count": null,
   "metadata": {
    "nbpresent": {
     "id": "9b972c8a-c0bf-473a-9e3d-484c60adaafc"
    }
   },
   "outputs": [],
   "source": []
  }
 ],
 "metadata": {
  "kernelspec": {
   "display_name": "Python 3",
   "language": "python",
   "name": "python3"
  },
  "language_info": {
   "codemirror_mode": {
    "name": "ipython",
    "version": 3
   },
   "file_extension": ".py",
   "mimetype": "text/x-python",
   "name": "python",
   "nbconvert_exporter": "python",
   "pygments_lexer": "ipython3",
   "version": "3.7.0"
  },
  "nbpresent": {
   "slides": {},
   "themes": {
    "default": "e949219a-1a0c-41b7-856c-f4b24ba3924f",
    "theme": {
     "e949219a-1a0c-41b7-856c-f4b24ba3924f": {
      "backgrounds": {
       "dc7afa04-bf90-40b1-82a5-726e3cff5267": {
        "background-color": "31af15d2-7e15-44c5-ab5e-e04b16a89eff",
        "id": "dc7afa04-bf90-40b1-82a5-726e3cff5267"
       }
      },
      "id": "e949219a-1a0c-41b7-856c-f4b24ba3924f",
      "palette": {
       "19cc588f-0593-49c9-9f4b-e4d7cc113b1c": {
        "id": "19cc588f-0593-49c9-9f4b-e4d7cc113b1c",
        "rgb": [
         252,
         252,
         252
        ]
       },
       "31af15d2-7e15-44c5-ab5e-e04b16a89eff": {
        "id": "31af15d2-7e15-44c5-ab5e-e04b16a89eff",
        "rgb": [
         68,
         68,
         68
        ]
       },
       "50f92c45-a630-455b-aec3-788680ec7410": {
        "id": "50f92c45-a630-455b-aec3-788680ec7410",
        "rgb": [
         197,
         226,
         245
        ]
       },
       "c5cc3653-2ee1-402a-aba2-7caae1da4f6c": {
        "id": "c5cc3653-2ee1-402a-aba2-7caae1da4f6c",
        "rgb": [
         43,
         126,
         184
        ]
       },
       "efa7f048-9acb-414c-8b04-a26811511a21": {
        "id": "efa7f048-9acb-414c-8b04-a26811511a21",
        "rgb": [
         25.118061674008803,
         73.60176211453744,
         107.4819383259912
        ]
       }
      },
      "rules": {
       "a": {
        "color": "19cc588f-0593-49c9-9f4b-e4d7cc113b1c"
       },
       "blockquote": {
        "color": "50f92c45-a630-455b-aec3-788680ec7410",
        "font-size": 3
       },
       "code": {
        "font-family": "Anonymous Pro"
       },
       "h1": {
        "color": "19cc588f-0593-49c9-9f4b-e4d7cc113b1c",
        "font-family": "Merriweather",
        "font-size": 8
       },
       "h2": {
        "color": "19cc588f-0593-49c9-9f4b-e4d7cc113b1c",
        "font-family": "Merriweather",
        "font-size": 6
       },
       "h3": {
        "color": "50f92c45-a630-455b-aec3-788680ec7410",
        "font-family": "Lato",
        "font-size": 5.5
       },
       "h4": {
        "color": "c5cc3653-2ee1-402a-aba2-7caae1da4f6c",
        "font-family": "Lato",
        "font-size": 5
       },
       "h5": {
        "font-family": "Lato"
       },
       "h6": {
        "font-family": "Lato"
       },
       "h7": {
        "font-family": "Lato"
       },
       "li": {
        "color": "50f92c45-a630-455b-aec3-788680ec7410",
        "font-size": 3.25
       },
       "pre": {
        "font-family": "Anonymous Pro",
        "font-size": 4
       }
      },
      "text-base": {
       "color": "19cc588f-0593-49c9-9f4b-e4d7cc113b1c",
       "font-family": "Lato",
       "font-size": 4
      }
     }
    }
   }
  }
 },
 "nbformat": 4,
 "nbformat_minor": 2
}
