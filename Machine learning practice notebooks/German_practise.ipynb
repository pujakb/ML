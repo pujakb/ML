{
 "cells": [
  {
   "cell_type": "code",
   "execution_count": 278,
   "metadata": {},
   "outputs": [],
   "source": [
    "import pydotplus\n",
    "import numpy as np\n",
    "import seaborn as sns\n",
    "from sklearn import tree\n",
    "from IPython.display import Image, display\n",
    "import pandas as pd\n",
    "from sklearn.cluster import KMeans\n",
    "import collections\n",
    "import matplotlib.pyplot as plt\n",
    "from matplotlib import colors\n",
    "import pylab as pl\n",
    "from IPython.display import Image, display\n",
    "from subprocess import call\n",
    "\n",
    "from sklearn.model_selection import train_test_split     \n",
    "from sklearn.metrics import accuracy_score,classification_report "
   ]
  },
  {
   "cell_type": "code",
   "execution_count": 279,
   "metadata": {},
   "outputs": [],
   "source": [
    "# dataset = pd.read_csv('german1-data-numeric_copy.csv',names = ['chk_acc_status', 'duration_month','credit_history',\n",
    "#                                                                'purpose', 'credit_amt', 'emp_dur','inst_rate','status_sex',\n",
    "#          'debtors_guarantors', 'res_since', 'property','age', 'C13', 'C14', 'C15',\n",
    "#          'C16', 'C17','C18', 'C19','C20', 'C21','C22','C23','C24','C25','C26'])"
   ]
  },
  {
   "cell_type": "markdown",
   "metadata": {},
   "source": [
    "## Load the data "
   ]
  },
  {
   "cell_type": "code",
   "execution_count": 280,
   "metadata": {},
   "outputs": [
    {
     "data": {
      "text/html": [
       "<div>\n",
       "<style scoped>\n",
       "    .dataframe tbody tr th:only-of-type {\n",
       "        vertical-align: middle;\n",
       "    }\n",
       "\n",
       "    .dataframe tbody tr th {\n",
       "        vertical-align: top;\n",
       "    }\n",
       "\n",
       "    .dataframe thead th {\n",
       "        text-align: right;\n",
       "    }\n",
       "</style>\n",
       "<table border=\"1\" class=\"dataframe\">\n",
       "  <thead>\n",
       "    <tr style=\"text-align: right;\">\n",
       "      <th></th>\n",
       "      <th>chk_acc_status</th>\n",
       "      <th>duration_month</th>\n",
       "      <th>credit_history</th>\n",
       "      <th>purpose</th>\n",
       "      <th>credit_amt</th>\n",
       "      <th>sav_acc_bond</th>\n",
       "      <th>emp_since</th>\n",
       "      <th>inst_rate</th>\n",
       "      <th>status_sex</th>\n",
       "      <th>debtors_guarantors</th>\n",
       "      <th>...</th>\n",
       "      <th>property</th>\n",
       "      <th>Age</th>\n",
       "      <th>inst_plans</th>\n",
       "      <th>housing</th>\n",
       "      <th>existing_credit</th>\n",
       "      <th>job</th>\n",
       "      <th>peoplel_liable</th>\n",
       "      <th>telephone</th>\n",
       "      <th>foreign_worker</th>\n",
       "      <th>cost_matrix</th>\n",
       "    </tr>\n",
       "  </thead>\n",
       "  <tbody>\n",
       "    <tr>\n",
       "      <th>0</th>\n",
       "      <td>A11</td>\n",
       "      <td>6</td>\n",
       "      <td>A34</td>\n",
       "      <td>A43</td>\n",
       "      <td>1169</td>\n",
       "      <td>A65</td>\n",
       "      <td>A75</td>\n",
       "      <td>4</td>\n",
       "      <td>A93</td>\n",
       "      <td>A101</td>\n",
       "      <td>...</td>\n",
       "      <td>A121</td>\n",
       "      <td>67</td>\n",
       "      <td>A143</td>\n",
       "      <td>A152</td>\n",
       "      <td>2</td>\n",
       "      <td>A173</td>\n",
       "      <td>1</td>\n",
       "      <td>A192</td>\n",
       "      <td>A201</td>\n",
       "      <td>1</td>\n",
       "    </tr>\n",
       "    <tr>\n",
       "      <th>1</th>\n",
       "      <td>A12</td>\n",
       "      <td>48</td>\n",
       "      <td>A32</td>\n",
       "      <td>A43</td>\n",
       "      <td>5951</td>\n",
       "      <td>A61</td>\n",
       "      <td>A73</td>\n",
       "      <td>2</td>\n",
       "      <td>A92</td>\n",
       "      <td>A101</td>\n",
       "      <td>...</td>\n",
       "      <td>A121</td>\n",
       "      <td>22</td>\n",
       "      <td>A143</td>\n",
       "      <td>A152</td>\n",
       "      <td>1</td>\n",
       "      <td>A173</td>\n",
       "      <td>1</td>\n",
       "      <td>A191</td>\n",
       "      <td>A201</td>\n",
       "      <td>2</td>\n",
       "    </tr>\n",
       "    <tr>\n",
       "      <th>2</th>\n",
       "      <td>A14</td>\n",
       "      <td>12</td>\n",
       "      <td>A34</td>\n",
       "      <td>A46</td>\n",
       "      <td>2096</td>\n",
       "      <td>A61</td>\n",
       "      <td>A74</td>\n",
       "      <td>2</td>\n",
       "      <td>A93</td>\n",
       "      <td>A101</td>\n",
       "      <td>...</td>\n",
       "      <td>A121</td>\n",
       "      <td>49</td>\n",
       "      <td>A143</td>\n",
       "      <td>A152</td>\n",
       "      <td>1</td>\n",
       "      <td>A172</td>\n",
       "      <td>2</td>\n",
       "      <td>A191</td>\n",
       "      <td>A201</td>\n",
       "      <td>1</td>\n",
       "    </tr>\n",
       "    <tr>\n",
       "      <th>3</th>\n",
       "      <td>A11</td>\n",
       "      <td>42</td>\n",
       "      <td>A32</td>\n",
       "      <td>A42</td>\n",
       "      <td>7882</td>\n",
       "      <td>A61</td>\n",
       "      <td>A74</td>\n",
       "      <td>2</td>\n",
       "      <td>A93</td>\n",
       "      <td>A103</td>\n",
       "      <td>...</td>\n",
       "      <td>A122</td>\n",
       "      <td>45</td>\n",
       "      <td>A143</td>\n",
       "      <td>A153</td>\n",
       "      <td>1</td>\n",
       "      <td>A173</td>\n",
       "      <td>2</td>\n",
       "      <td>A191</td>\n",
       "      <td>A201</td>\n",
       "      <td>1</td>\n",
       "    </tr>\n",
       "    <tr>\n",
       "      <th>4</th>\n",
       "      <td>A11</td>\n",
       "      <td>24</td>\n",
       "      <td>A33</td>\n",
       "      <td>A40</td>\n",
       "      <td>4870</td>\n",
       "      <td>A61</td>\n",
       "      <td>A73</td>\n",
       "      <td>3</td>\n",
       "      <td>A93</td>\n",
       "      <td>A101</td>\n",
       "      <td>...</td>\n",
       "      <td>A124</td>\n",
       "      <td>53</td>\n",
       "      <td>A143</td>\n",
       "      <td>A153</td>\n",
       "      <td>2</td>\n",
       "      <td>A173</td>\n",
       "      <td>2</td>\n",
       "      <td>A191</td>\n",
       "      <td>A201</td>\n",
       "      <td>2</td>\n",
       "    </tr>\n",
       "    <tr>\n",
       "      <th>5</th>\n",
       "      <td>A14</td>\n",
       "      <td>36</td>\n",
       "      <td>A32</td>\n",
       "      <td>A46</td>\n",
       "      <td>9055</td>\n",
       "      <td>A65</td>\n",
       "      <td>A73</td>\n",
       "      <td>2</td>\n",
       "      <td>A93</td>\n",
       "      <td>A101</td>\n",
       "      <td>...</td>\n",
       "      <td>A124</td>\n",
       "      <td>35</td>\n",
       "      <td>A143</td>\n",
       "      <td>A153</td>\n",
       "      <td>1</td>\n",
       "      <td>A172</td>\n",
       "      <td>2</td>\n",
       "      <td>A192</td>\n",
       "      <td>A201</td>\n",
       "      <td>1</td>\n",
       "    </tr>\n",
       "    <tr>\n",
       "      <th>6</th>\n",
       "      <td>A14</td>\n",
       "      <td>24</td>\n",
       "      <td>A32</td>\n",
       "      <td>A42</td>\n",
       "      <td>2835</td>\n",
       "      <td>A63</td>\n",
       "      <td>A75</td>\n",
       "      <td>3</td>\n",
       "      <td>A93</td>\n",
       "      <td>A101</td>\n",
       "      <td>...</td>\n",
       "      <td>A122</td>\n",
       "      <td>53</td>\n",
       "      <td>A143</td>\n",
       "      <td>A152</td>\n",
       "      <td>1</td>\n",
       "      <td>A173</td>\n",
       "      <td>1</td>\n",
       "      <td>A191</td>\n",
       "      <td>A201</td>\n",
       "      <td>1</td>\n",
       "    </tr>\n",
       "    <tr>\n",
       "      <th>7</th>\n",
       "      <td>A12</td>\n",
       "      <td>36</td>\n",
       "      <td>A32</td>\n",
       "      <td>A41</td>\n",
       "      <td>6948</td>\n",
       "      <td>A61</td>\n",
       "      <td>A73</td>\n",
       "      <td>2</td>\n",
       "      <td>A93</td>\n",
       "      <td>A101</td>\n",
       "      <td>...</td>\n",
       "      <td>A123</td>\n",
       "      <td>35</td>\n",
       "      <td>A143</td>\n",
       "      <td>A151</td>\n",
       "      <td>1</td>\n",
       "      <td>A174</td>\n",
       "      <td>1</td>\n",
       "      <td>A192</td>\n",
       "      <td>A201</td>\n",
       "      <td>1</td>\n",
       "    </tr>\n",
       "    <tr>\n",
       "      <th>8</th>\n",
       "      <td>A14</td>\n",
       "      <td>12</td>\n",
       "      <td>A32</td>\n",
       "      <td>A43</td>\n",
       "      <td>3059</td>\n",
       "      <td>A64</td>\n",
       "      <td>A74</td>\n",
       "      <td>2</td>\n",
       "      <td>A91</td>\n",
       "      <td>A101</td>\n",
       "      <td>...</td>\n",
       "      <td>A121</td>\n",
       "      <td>61</td>\n",
       "      <td>A143</td>\n",
       "      <td>A152</td>\n",
       "      <td>1</td>\n",
       "      <td>A172</td>\n",
       "      <td>1</td>\n",
       "      <td>A191</td>\n",
       "      <td>A201</td>\n",
       "      <td>1</td>\n",
       "    </tr>\n",
       "    <tr>\n",
       "      <th>9</th>\n",
       "      <td>A12</td>\n",
       "      <td>30</td>\n",
       "      <td>A34</td>\n",
       "      <td>A40</td>\n",
       "      <td>5234</td>\n",
       "      <td>A61</td>\n",
       "      <td>A71</td>\n",
       "      <td>4</td>\n",
       "      <td>A94</td>\n",
       "      <td>A101</td>\n",
       "      <td>...</td>\n",
       "      <td>A123</td>\n",
       "      <td>28</td>\n",
       "      <td>A143</td>\n",
       "      <td>A152</td>\n",
       "      <td>2</td>\n",
       "      <td>A174</td>\n",
       "      <td>1</td>\n",
       "      <td>A191</td>\n",
       "      <td>A201</td>\n",
       "      <td>2</td>\n",
       "    </tr>\n",
       "  </tbody>\n",
       "</table>\n",
       "<p>10 rows × 21 columns</p>\n",
       "</div>"
      ],
      "text/plain": [
       "  chk_acc_status  duration_month credit_history purpose  credit_amt  \\\n",
       "0            A11               6            A34     A43        1169   \n",
       "1            A12              48            A32     A43        5951   \n",
       "2            A14              12            A34     A46        2096   \n",
       "3            A11              42            A32     A42        7882   \n",
       "4            A11              24            A33     A40        4870   \n",
       "5            A14              36            A32     A46        9055   \n",
       "6            A14              24            A32     A42        2835   \n",
       "7            A12              36            A32     A41        6948   \n",
       "8            A14              12            A32     A43        3059   \n",
       "9            A12              30            A34     A40        5234   \n",
       "\n",
       "  sav_acc_bond emp_since  inst_rate status_sex debtors_guarantors     ...      \\\n",
       "0          A65       A75          4        A93               A101     ...       \n",
       "1          A61       A73          2        A92               A101     ...       \n",
       "2          A61       A74          2        A93               A101     ...       \n",
       "3          A61       A74          2        A93               A103     ...       \n",
       "4          A61       A73          3        A93               A101     ...       \n",
       "5          A65       A73          2        A93               A101     ...       \n",
       "6          A63       A75          3        A93               A101     ...       \n",
       "7          A61       A73          2        A93               A101     ...       \n",
       "8          A64       A74          2        A91               A101     ...       \n",
       "9          A61       A71          4        A94               A101     ...       \n",
       "\n",
       "   property Age  inst_plans housing existing_credit   job peoplel_liable  \\\n",
       "0      A121  67        A143    A152               2  A173              1   \n",
       "1      A121  22        A143    A152               1  A173              1   \n",
       "2      A121  49        A143    A152               1  A172              2   \n",
       "3      A122  45        A143    A153               1  A173              2   \n",
       "4      A124  53        A143    A153               2  A173              2   \n",
       "5      A124  35        A143    A153               1  A172              2   \n",
       "6      A122  53        A143    A152               1  A173              1   \n",
       "7      A123  35        A143    A151               1  A174              1   \n",
       "8      A121  61        A143    A152               1  A172              1   \n",
       "9      A123  28        A143    A152               2  A174              1   \n",
       "\n",
       "   telephone foreign_worker cost_matrix  \n",
       "0       A192           A201           1  \n",
       "1       A191           A201           2  \n",
       "2       A191           A201           1  \n",
       "3       A191           A201           1  \n",
       "4       A191           A201           2  \n",
       "5       A192           A201           1  \n",
       "6       A191           A201           1  \n",
       "7       A192           A201           1  \n",
       "8       A191           A201           1  \n",
       "9       A191           A201           2  \n",
       "\n",
       "[10 rows x 21 columns]"
      ]
     },
     "execution_count": 280,
     "metadata": {},
     "output_type": "execute_result"
    }
   ],
   "source": [
    "#importing the dataset\n",
    "# dataset = pd.read_csv('german1-data-numeric_copy.csv',names = ['C1', 'C2','C3', 'C4', 'C5', 'C6','C7','C8',\n",
    "#          'C9', 'C10', 'C11','C12', 'C13', 'C14', 'C15',\n",
    "#          'C16', 'C17','C18', 'C19','C20', 'C21','C22','C23','C24','C25','C26'])\n",
    "\n",
    "\n",
    "\n",
    "# dataset = pd.read_csv('german1-data-numeric_copy.csv',names = ['chk_acc_status', 'duration_month','credit_history',\n",
    "#                                                                'purpose', 'credit_amt', 'sav_acc_bond','emp_since',\n",
    "#                                                                'inst_rate',\n",
    "#          'status_sex', 'debtors_guarantors', 'residence_since','property', 'Age', 'inst_plans', 'housing',\n",
    "#          'existing_credit', 'job','peoplel_liable', 'telephone','foreign_worker', 'cost_matrix','C22','C23','C24','C25','C26'])\n",
    "\n",
    "#print(dataset['age'])\n",
    "dataset = pd.read_csv('german_creditdata.csv')\n",
    "\n",
    "\n",
    "\n",
    "\n",
    "dataset.head(10)"
   ]
  },
  {
   "cell_type": "code",
   "execution_count": 281,
   "metadata": {},
   "outputs": [
    {
     "data": {
      "text/plain": [
       "Index(['chk_acc_status', 'duration_month', 'credit_history', 'purpose',\n",
       "       'credit_amt', 'sav_acc_bond', 'emp_since', 'inst_rate', 'status_sex',\n",
       "       'debtors_guarantors', 'residence_since', 'property', 'Age',\n",
       "       'inst_plans', 'housing', 'existing_credit', 'job', 'peoplel_liable',\n",
       "       'telephone', 'foreign_worker', 'cost_matrix'],\n",
       "      dtype='object')"
      ]
     },
     "execution_count": 281,
     "metadata": {},
     "output_type": "execute_result"
    }
   ],
   "source": [
    "dataset.keys()"
   ]
  },
  {
   "cell_type": "code",
   "execution_count": 282,
   "metadata": {},
   "outputs": [],
   "source": [
    "# rem_columns = ['duration_month', 'credit_history', 'purpose',\n",
    "#        'credit_amt', 'sav_acc_bond', 'emp_since', 'inst_rate', 'status_sex',\n",
    "#        'debtors_guarantors', 'residence_since', 'property', 'Age',\n",
    "#        'inst_plans', 'housing', 'existing_credit', 'job', 'peoplel_liable',\n",
    "#        'telephone', 'foreign_worker', 'cost_matrix']\n",
    "# dataset = dataset[rem_columns]"
   ]
  },
  {
   "cell_type": "code",
   "execution_count": 283,
   "metadata": {},
   "outputs": [
    {
     "data": {
      "text/html": [
       "<div>\n",
       "<style scoped>\n",
       "    .dataframe tbody tr th:only-of-type {\n",
       "        vertical-align: middle;\n",
       "    }\n",
       "\n",
       "    .dataframe tbody tr th {\n",
       "        vertical-align: top;\n",
       "    }\n",
       "\n",
       "    .dataframe thead th {\n",
       "        text-align: right;\n",
       "    }\n",
       "</style>\n",
       "<table border=\"1\" class=\"dataframe\">\n",
       "  <thead>\n",
       "    <tr style=\"text-align: right;\">\n",
       "      <th></th>\n",
       "      <th>chk_acc_status</th>\n",
       "      <th>duration_month</th>\n",
       "      <th>credit_history</th>\n",
       "      <th>purpose</th>\n",
       "      <th>credit_amt</th>\n",
       "      <th>sav_acc_bond</th>\n",
       "      <th>emp_since</th>\n",
       "      <th>inst_rate</th>\n",
       "      <th>status_sex</th>\n",
       "      <th>debtors_guarantors</th>\n",
       "      <th>...</th>\n",
       "      <th>property</th>\n",
       "      <th>Age</th>\n",
       "      <th>inst_plans</th>\n",
       "      <th>housing</th>\n",
       "      <th>existing_credit</th>\n",
       "      <th>job</th>\n",
       "      <th>peoplel_liable</th>\n",
       "      <th>telephone</th>\n",
       "      <th>foreign_worker</th>\n",
       "      <th>cost_matrix</th>\n",
       "    </tr>\n",
       "  </thead>\n",
       "  <tbody>\n",
       "    <tr>\n",
       "      <th>0</th>\n",
       "      <td>A11</td>\n",
       "      <td>6</td>\n",
       "      <td>A34</td>\n",
       "      <td>A43</td>\n",
       "      <td>1169</td>\n",
       "      <td>A65</td>\n",
       "      <td>A75</td>\n",
       "      <td>4</td>\n",
       "      <td>A93</td>\n",
       "      <td>A101</td>\n",
       "      <td>...</td>\n",
       "      <td>A121</td>\n",
       "      <td>67</td>\n",
       "      <td>A143</td>\n",
       "      <td>A152</td>\n",
       "      <td>2</td>\n",
       "      <td>A173</td>\n",
       "      <td>1</td>\n",
       "      <td>A192</td>\n",
       "      <td>A201</td>\n",
       "      <td>1</td>\n",
       "    </tr>\n",
       "    <tr>\n",
       "      <th>1</th>\n",
       "      <td>A12</td>\n",
       "      <td>48</td>\n",
       "      <td>A32</td>\n",
       "      <td>A43</td>\n",
       "      <td>5951</td>\n",
       "      <td>A61</td>\n",
       "      <td>A73</td>\n",
       "      <td>2</td>\n",
       "      <td>A92</td>\n",
       "      <td>A101</td>\n",
       "      <td>...</td>\n",
       "      <td>A121</td>\n",
       "      <td>22</td>\n",
       "      <td>A143</td>\n",
       "      <td>A152</td>\n",
       "      <td>1</td>\n",
       "      <td>A173</td>\n",
       "      <td>1</td>\n",
       "      <td>A191</td>\n",
       "      <td>A201</td>\n",
       "      <td>2</td>\n",
       "    </tr>\n",
       "    <tr>\n",
       "      <th>2</th>\n",
       "      <td>A14</td>\n",
       "      <td>12</td>\n",
       "      <td>A34</td>\n",
       "      <td>A46</td>\n",
       "      <td>2096</td>\n",
       "      <td>A61</td>\n",
       "      <td>A74</td>\n",
       "      <td>2</td>\n",
       "      <td>A93</td>\n",
       "      <td>A101</td>\n",
       "      <td>...</td>\n",
       "      <td>A121</td>\n",
       "      <td>49</td>\n",
       "      <td>A143</td>\n",
       "      <td>A152</td>\n",
       "      <td>1</td>\n",
       "      <td>A172</td>\n",
       "      <td>2</td>\n",
       "      <td>A191</td>\n",
       "      <td>A201</td>\n",
       "      <td>1</td>\n",
       "    </tr>\n",
       "    <tr>\n",
       "      <th>3</th>\n",
       "      <td>A11</td>\n",
       "      <td>42</td>\n",
       "      <td>A32</td>\n",
       "      <td>A42</td>\n",
       "      <td>7882</td>\n",
       "      <td>A61</td>\n",
       "      <td>A74</td>\n",
       "      <td>2</td>\n",
       "      <td>A93</td>\n",
       "      <td>A103</td>\n",
       "      <td>...</td>\n",
       "      <td>A122</td>\n",
       "      <td>45</td>\n",
       "      <td>A143</td>\n",
       "      <td>A153</td>\n",
       "      <td>1</td>\n",
       "      <td>A173</td>\n",
       "      <td>2</td>\n",
       "      <td>A191</td>\n",
       "      <td>A201</td>\n",
       "      <td>1</td>\n",
       "    </tr>\n",
       "    <tr>\n",
       "      <th>4</th>\n",
       "      <td>A11</td>\n",
       "      <td>24</td>\n",
       "      <td>A33</td>\n",
       "      <td>A40</td>\n",
       "      <td>4870</td>\n",
       "      <td>A61</td>\n",
       "      <td>A73</td>\n",
       "      <td>3</td>\n",
       "      <td>A93</td>\n",
       "      <td>A101</td>\n",
       "      <td>...</td>\n",
       "      <td>A124</td>\n",
       "      <td>53</td>\n",
       "      <td>A143</td>\n",
       "      <td>A153</td>\n",
       "      <td>2</td>\n",
       "      <td>A173</td>\n",
       "      <td>2</td>\n",
       "      <td>A191</td>\n",
       "      <td>A201</td>\n",
       "      <td>2</td>\n",
       "    </tr>\n",
       "  </tbody>\n",
       "</table>\n",
       "<p>5 rows × 21 columns</p>\n",
       "</div>"
      ],
      "text/plain": [
       "  chk_acc_status  duration_month credit_history purpose  credit_amt  \\\n",
       "0            A11               6            A34     A43        1169   \n",
       "1            A12              48            A32     A43        5951   \n",
       "2            A14              12            A34     A46        2096   \n",
       "3            A11              42            A32     A42        7882   \n",
       "4            A11              24            A33     A40        4870   \n",
       "\n",
       "  sav_acc_bond emp_since  inst_rate status_sex debtors_guarantors     ...      \\\n",
       "0          A65       A75          4        A93               A101     ...       \n",
       "1          A61       A73          2        A92               A101     ...       \n",
       "2          A61       A74          2        A93               A101     ...       \n",
       "3          A61       A74          2        A93               A103     ...       \n",
       "4          A61       A73          3        A93               A101     ...       \n",
       "\n",
       "   property Age  inst_plans housing existing_credit   job peoplel_liable  \\\n",
       "0      A121  67        A143    A152               2  A173              1   \n",
       "1      A121  22        A143    A152               1  A173              1   \n",
       "2      A121  49        A143    A152               1  A172              2   \n",
       "3      A122  45        A143    A153               1  A173              2   \n",
       "4      A124  53        A143    A153               2  A173              2   \n",
       "\n",
       "   telephone foreign_worker cost_matrix  \n",
       "0       A192           A201           1  \n",
       "1       A191           A201           2  \n",
       "2       A191           A201           1  \n",
       "3       A191           A201           1  \n",
       "4       A191           A201           2  \n",
       "\n",
       "[5 rows x 21 columns]"
      ]
     },
     "execution_count": 283,
     "metadata": {},
     "output_type": "execute_result"
    }
   ],
   "source": [
    "dataset.head()"
   ]
  },
  {
   "cell_type": "markdown",
   "metadata": {},
   "source": [
    "### The Variable types"
   ]
  },
  {
   "cell_type": "code",
   "execution_count": 284,
   "metadata": {},
   "outputs": [
    {
     "name": "stdout",
     "output_type": "stream",
     "text": [
      "<class 'pandas.core.frame.DataFrame'>\n",
      "RangeIndex: 1000 entries, 0 to 999\n",
      "Data columns (total 21 columns):\n",
      "chk_acc_status        1000 non-null object\n",
      "duration_month        1000 non-null int64\n",
      "credit_history        1000 non-null object\n",
      "purpose               1000 non-null object\n",
      "credit_amt            1000 non-null int64\n",
      "sav_acc_bond          1000 non-null object\n",
      "emp_since             1000 non-null object\n",
      "inst_rate             1000 non-null int64\n",
      "status_sex            1000 non-null object\n",
      "debtors_guarantors    1000 non-null object\n",
      "residence_since       1000 non-null int64\n",
      "property              1000 non-null object\n",
      "Age                   1000 non-null int64\n",
      "inst_plans            1000 non-null object\n",
      "housing               1000 non-null object\n",
      "existing_credit       1000 non-null int64\n",
      "job                   1000 non-null object\n",
      "peoplel_liable        1000 non-null int64\n",
      "telephone             1000 non-null object\n",
      "foreign_worker        1000 non-null object\n",
      "cost_matrix           1000 non-null int64\n",
      "dtypes: int64(8), object(13)\n",
      "memory usage: 164.1+ KB\n"
     ]
    }
   ],
   "source": [
    "dataset.info()"
   ]
  },
  {
   "cell_type": "markdown",
   "metadata": {},
   "source": [
    "### Unique Values"
   ]
  },
  {
   "cell_type": "code",
   "execution_count": 285,
   "metadata": {},
   "outputs": [
    {
     "name": "stdout",
     "output_type": "stream",
     "text": [
      "chk_acc_status          4\n",
      "duration_month         33\n",
      "credit_history          5\n",
      "purpose                10\n",
      "credit_amt            921\n",
      "sav_acc_bond            5\n",
      "emp_since               5\n",
      "inst_rate               4\n",
      "status_sex              4\n",
      "debtors_guarantors      3\n",
      "residence_since         4\n",
      "property                4\n",
      "Age                    53\n",
      "inst_plans              3\n",
      "housing                 3\n",
      "existing_credit         4\n",
      "job                     4\n",
      "peoplel_liable          2\n",
      "telephone               2\n",
      "foreign_worker          2\n",
      "cost_matrix             2\n",
      "dtype: int64\n"
     ]
    }
   ],
   "source": [
    "print(dataset.nunique())"
   ]
  },
  {
   "cell_type": "markdown",
   "metadata": {},
   "source": [
    "### Check for Null columns"
   ]
  },
  {
   "cell_type": "code",
   "execution_count": 286,
   "metadata": {},
   "outputs": [
    {
     "name": "stdout",
     "output_type": "stream",
     "text": [
      "Empty DataFrame\n",
      "Columns: []\n",
      "Index: []\n"
     ]
    }
   ],
   "source": [
    "null_columns=dataset.columns[dataset.isnull().any()]\n",
    "print(dataset[dataset.isnull().any(axis=1)][null_columns].head())"
   ]
  },
  {
   "cell_type": "markdown",
   "metadata": {},
   "source": [
    "### Modifying status indicator\n",
    "Changing the credit status variable to 0 and 1 for conventional classification represenations. 0 indicates good credit and 1 indicates bad credit."
   ]
  },
  {
   "cell_type": "code",
   "execution_count": 287,
   "metadata": {},
   "outputs": [],
   "source": [
    "dataset['cost_matrix'] = dataset['cost_matrix']-1 "
   ]
  },
  {
   "cell_type": "code",
   "execution_count": 288,
   "metadata": {},
   "outputs": [
    {
     "data": {
      "text/plain": [
       "0    700\n",
       "1    300\n",
       "Name: cost_matrix, dtype: int64"
      ]
     },
     "execution_count": 288,
     "metadata": {},
     "output_type": "execute_result"
    }
   ],
   "source": [
    "dataset['cost_matrix'].value_counts()\n"
   ]
  },
  {
   "cell_type": "code",
   "execution_count": 289,
   "metadata": {},
   "outputs": [
    {
     "data": {
      "image/png": "[encoded data removed]",
      "text/plain": [
       "<Figure size 432x288 with 1 Axes>"
      ]
     },
     "metadata": {},
     "output_type": "display_data"
    }
   ],
   "source": [
    "dataset['cost_matrix'].astype(int).plot.hist();"
   ]
  },
  {
   "cell_type": "code",
   "execution_count": 290,
   "metadata": {},
   "outputs": [
    {
     "data": {
      "text/html": [
       "<div>\n",
       "<style scoped>\n",
       "    .dataframe tbody tr th:only-of-type {\n",
       "        vertical-align: middle;\n",
       "    }\n",
       "\n",
       "    .dataframe tbody tr th {\n",
       "        vertical-align: top;\n",
       "    }\n",
       "\n",
       "    .dataframe thead th {\n",
       "        text-align: right;\n",
       "    }\n",
       "</style>\n",
       "<table border=\"1\" class=\"dataframe\">\n",
       "  <thead>\n",
       "    <tr style=\"text-align: right;\">\n",
       "      <th></th>\n",
       "      <th>cost_matrix</th>\n",
       "      <th>credit_amt</th>\n",
       "      <th>inst_rate</th>\n",
       "      <th>residence_since</th>\n",
       "      <th>Age</th>\n",
       "    </tr>\n",
       "  </thead>\n",
       "  <tbody>\n",
       "    <tr>\n",
       "      <th>cost_matrix</th>\n",
       "      <td>1.000000</td>\n",
       "      <td>0.154739</td>\n",
       "      <td>0.072404</td>\n",
       "      <td>0.002967</td>\n",
       "      <td>-0.091127</td>\n",
       "    </tr>\n",
       "    <tr>\n",
       "      <th>credit_amt</th>\n",
       "      <td>0.154739</td>\n",
       "      <td>1.000000</td>\n",
       "      <td>-0.271316</td>\n",
       "      <td>0.028926</td>\n",
       "      <td>0.032716</td>\n",
       "    </tr>\n",
       "    <tr>\n",
       "      <th>inst_rate</th>\n",
       "      <td>0.072404</td>\n",
       "      <td>-0.271316</td>\n",
       "      <td>1.000000</td>\n",
       "      <td>0.049302</td>\n",
       "      <td>0.058266</td>\n",
       "    </tr>\n",
       "    <tr>\n",
       "      <th>residence_since</th>\n",
       "      <td>0.002967</td>\n",
       "      <td>0.028926</td>\n",
       "      <td>0.049302</td>\n",
       "      <td>1.000000</td>\n",
       "      <td>0.266419</td>\n",
       "    </tr>\n",
       "    <tr>\n",
       "      <th>Age</th>\n",
       "      <td>-0.091127</td>\n",
       "      <td>0.032716</td>\n",
       "      <td>0.058266</td>\n",
       "      <td>0.266419</td>\n",
       "      <td>1.000000</td>\n",
       "    </tr>\n",
       "  </tbody>\n",
       "</table>\n",
       "</div>"
      ],
      "text/plain": [
       "                 cost_matrix  credit_amt  inst_rate  residence_since       Age\n",
       "cost_matrix         1.000000    0.154739   0.072404         0.002967 -0.091127\n",
       "credit_amt          0.154739    1.000000  -0.271316         0.028926  0.032716\n",
       "inst_rate           0.072404   -0.271316   1.000000         0.049302  0.058266\n",
       "residence_since     0.002967    0.028926   0.049302         1.000000  0.266419\n",
       "Age                -0.091127    0.032716   0.058266         0.266419  1.000000"
      ]
     },
     "execution_count": 290,
     "metadata": {},
     "output_type": "execute_result"
    }
   ],
   "source": [
    "# Extract the EXT_SOURCE variables and show correlations\n",
    "ext_data = dataset[['cost_matrix', 'credit_amt', 'inst_rate', 'residence_since', 'Age']]\n",
    "ext_data_corrs = ext_data.corr()\n",
    "ext_data_corrs"
   ]
  },
  {
   "cell_type": "code",
   "execution_count": 291,
   "metadata": {},
   "outputs": [
    {
     "data": {
      "image/png": "[encoded data removed]",
      "text/plain": [
       "<Figure size 576x432 with 2 Axes>"
      ]
     },
     "metadata": {},
     "output_type": "display_data"
    }
   ],
   "source": [
    "plt.figure(figsize = (8, 6))\n",
    "\n",
    "# Heatmap of correlations\n",
    "sns.heatmap(ext_data_corrs, cmap = plt.cm.RdYlBu_r, vmin = -0.25, annot = True, vmax = 0.6)\n",
    "plt.title('Correlation Heatmap');"
   ]
  },
  {
   "cell_type": "markdown",
   "metadata": {},
   "source": [
    "### Dist Plot"
   ]
  },
  {
   "cell_type": "code",
   "execution_count": 292,
   "metadata": {},
   "outputs": [
    {
     "name": "stderr",
     "output_type": "stream",
     "text": [
      "/anaconda3/lib/python3.6/site-packages/matplotlib/axes/_axes.py:6462: UserWarning: The 'normed' kwarg is deprecated, and has been replaced by the 'density' kwarg.\n",
      "  warnings.warn(\"The 'normed' kwarg is deprecated, and has been \"\n"
     ]
    },
    {
     "data": {
      "text/plain": [
       "Text(0,0.5,'Frequency')"
      ]
     },
     "execution_count": 292,
     "metadata": {},
     "output_type": "execute_result"
    },
    {
     "data": {
      "image/png": "[encoded data removed]",
      "text/plain": [
       "<Figure size 432x288 with 1 Axes>"
      ]
     },
     "metadata": {},
     "output_type": "display_data"
    }
   ],
   "source": [
    "sns.distplot( dataset.credit_amt, kde = False )\n",
    "plt.title( \"Histogram of Credit Amount Disbursed\", fontsize = 15)\n",
    "plt.ylabel( \"Frequency\")"
   ]
  },
  {
   "cell_type": "markdown",
   "metadata": {},
   "source": [
    "### Note: Most of the credit amounts are less than 5000 with some higher credit amounts. The largest amount disbursed is as high as 18000"
   ]
  },
  {
   "cell_type": "code",
   "execution_count": 293,
   "metadata": {},
   "outputs": [
    {
     "data": {
      "text/plain": [
       "count     1000.000000\n",
       "mean      3271.258000\n",
       "std       2822.736876\n",
       "min        250.000000\n",
       "25%       1365.500000\n",
       "50%       2319.500000\n",
       "75%       3972.250000\n",
       "max      18424.000000\n",
       "Name: credit_amt, dtype: float64"
      ]
     },
     "execution_count": 293,
     "metadata": {},
     "output_type": "execute_result"
    }
   ],
   "source": [
    "dataset.credit_amt.describe()"
   ]
  },
  {
   "cell_type": "code",
   "execution_count": 294,
   "metadata": {},
   "outputs": [
    {
     "data": {
      "text/plain": [
       "Text(0.5,1,'Boxplot of Credit Amount Disbursed')"
      ]
     },
     "execution_count": 294,
     "metadata": {},
     "output_type": "execute_result"
    },
    {
     "data": {
      "image/png": "[encoded data removed]",
      "text/plain": [
       "<Figure size 432x288 with 1 Axes>"
      ]
     },
     "metadata": {},
     "output_type": "display_data"
    }
   ],
   "source": [
    "sns.boxplot( dataset.credit_amt, orient = 'v' )\n",
    "plt.title( \"Boxplot of Credit Amount Disbursed\", fontsize = 15)"
   ]
  },
  {
   "cell_type": "markdown",
   "metadata": {},
   "source": [
    "### Note: The middle 50% of the population lies between 1300 to 3900"
   ]
  },
  {
   "cell_type": "code",
   "execution_count": 295,
   "metadata": {},
   "outputs": [
    {
     "data": {
      "text/plain": [
       "Text(0.5,1,'Boxplot of Credit Amount Disbursed by Credit Status')"
      ]
     },
     "execution_count": 295,
     "metadata": {},
     "output_type": "execute_result"
    },
    {
     "data": {
      "image/png": "[encoded data removed]",
      "text/plain": [
       "<Figure size 432x288 with 1 Axes>"
      ]
     },
     "metadata": {},
     "output_type": "display_data"
    }
   ],
   "source": [
    "sns.boxplot( x = 'cost_matrix', y = 'credit_amt', data = dataset, orient = 'v' )\n",
    "plt.title( \"Boxplot of Credit Amount Disbursed by Credit Status\", fontsize = 15)"
   ]
  },
  {
   "cell_type": "markdown",
   "metadata": {},
   "source": [
    "### Note: Lot of higher credit amounts seem to have been defaulted"
   ]
  },
  {
   "cell_type": "markdown",
   "metadata": {},
   "source": [
    "### Pair Plotting"
   ]
  },
  {
   "cell_type": "code",
   "execution_count": 296,
   "metadata": {},
   "outputs": [
    {
     "data": {
      "text/plain": [
       "<seaborn.axisgrid.PairGrid at 0x1c26f07b70>"
      ]
     },
     "execution_count": 296,
     "metadata": {},
     "output_type": "execute_result"
    },
    {
     "data": {
      "image/png": "[encoded data removed]",
      "text/plain": [
       "<Figure size 1260x1260 with 56 Axes>"
      ]
     },
     "metadata": {},
     "output_type": "display_data"
    }
   ],
   "source": [
    "sns.pairplot( dataset.select_dtypes(include = ['float64', 'int64']).iloc[:, :-1] )"
   ]
  },
  {
   "cell_type": "code",
   "execution_count": 297,
   "metadata": {},
   "outputs": [
    {
     "data": {
      "text/plain": [
       "(1000, 21)"
      ]
     },
     "execution_count": 297,
     "metadata": {},
     "output_type": "execute_result"
    }
   ],
   "source": [
    "dataset.shape"
   ]
  },
  {
   "cell_type": "code",
   "execution_count": 298,
   "metadata": {},
   "outputs": [
    {
     "data": {
      "text/html": [
       "<div>\n",
       "<style scoped>\n",
       "    .dataframe tbody tr th:only-of-type {\n",
       "        vertical-align: middle;\n",
       "    }\n",
       "\n",
       "    .dataframe tbody tr th {\n",
       "        vertical-align: top;\n",
       "    }\n",
       "\n",
       "    .dataframe thead th {\n",
       "        text-align: right;\n",
       "    }\n",
       "</style>\n",
       "<table border=\"1\" class=\"dataframe\">\n",
       "  <thead>\n",
       "    <tr style=\"text-align: right;\">\n",
       "      <th></th>\n",
       "      <th>chk_acc_status</th>\n",
       "      <th>duration_month</th>\n",
       "      <th>credit_history</th>\n",
       "      <th>purpose</th>\n",
       "      <th>credit_amt</th>\n",
       "      <th>sav_acc_bond</th>\n",
       "    </tr>\n",
       "  </thead>\n",
       "  <tbody>\n",
       "    <tr>\n",
       "      <th>0</th>\n",
       "      <td>A11</td>\n",
       "      <td>6</td>\n",
       "      <td>A34</td>\n",
       "      <td>A43</td>\n",
       "      <td>1169</td>\n",
       "      <td>A65</td>\n",
       "    </tr>\n",
       "    <tr>\n",
       "      <th>1</th>\n",
       "      <td>A12</td>\n",
       "      <td>48</td>\n",
       "      <td>A32</td>\n",
       "      <td>A43</td>\n",
       "      <td>5951</td>\n",
       "      <td>A61</td>\n",
       "    </tr>\n",
       "    <tr>\n",
       "      <th>2</th>\n",
       "      <td>A14</td>\n",
       "      <td>12</td>\n",
       "      <td>A34</td>\n",
       "      <td>A46</td>\n",
       "      <td>2096</td>\n",
       "      <td>A61</td>\n",
       "    </tr>\n",
       "    <tr>\n",
       "      <th>3</th>\n",
       "      <td>A11</td>\n",
       "      <td>42</td>\n",
       "      <td>A32</td>\n",
       "      <td>A42</td>\n",
       "      <td>7882</td>\n",
       "      <td>A61</td>\n",
       "    </tr>\n",
       "    <tr>\n",
       "      <th>4</th>\n",
       "      <td>A11</td>\n",
       "      <td>24</td>\n",
       "      <td>A33</td>\n",
       "      <td>A40</td>\n",
       "      <td>4870</td>\n",
       "      <td>A61</td>\n",
       "    </tr>\n",
       "  </tbody>\n",
       "</table>\n",
       "</div>"
      ],
      "text/plain": [
       "  chk_acc_status  duration_month credit_history purpose  credit_amt  \\\n",
       "0            A11               6            A34     A43        1169   \n",
       "1            A12              48            A32     A43        5951   \n",
       "2            A14              12            A34     A46        2096   \n",
       "3            A11              42            A32     A42        7882   \n",
       "4            A11              24            A33     A40        4870   \n",
       "\n",
       "  sav_acc_bond  \n",
       "0          A65  \n",
       "1          A61  \n",
       "2          A61  \n",
       "3          A61  \n",
       "4          A61  "
      ]
     },
     "execution_count": 298,
     "metadata": {},
     "output_type": "execute_result"
    }
   ],
   "source": [
    "dataset[['chk_acc_status', 'duration_month','credit_history','purpose', 'credit_amt', 'sav_acc_bond']].head()"
   ]
  },
  {
   "cell_type": "code",
   "execution_count": 299,
   "metadata": {},
   "outputs": [
    {
     "data": {
      "text/html": [
       "<div>\n",
       "<style scoped>\n",
       "    .dataframe tbody tr th:only-of-type {\n",
       "        vertical-align: middle;\n",
       "    }\n",
       "\n",
       "    .dataframe tbody tr th {\n",
       "        vertical-align: top;\n",
       "    }\n",
       "\n",
       "    .dataframe thead th {\n",
       "        text-align: right;\n",
       "    }\n",
       "</style>\n",
       "<table border=\"1\" class=\"dataframe\">\n",
       "  <thead>\n",
       "    <tr style=\"text-align: right;\">\n",
       "      <th></th>\n",
       "      <th>emp_since</th>\n",
       "      <th>inst_rate</th>\n",
       "      <th>status_sex</th>\n",
       "      <th>debtors_guarantors</th>\n",
       "      <th>residence_since</th>\n",
       "      <th>property</th>\n",
       "      <th>Age</th>\n",
       "    </tr>\n",
       "  </thead>\n",
       "  <tbody>\n",
       "    <tr>\n",
       "      <th>0</th>\n",
       "      <td>A75</td>\n",
       "      <td>4</td>\n",
       "      <td>A93</td>\n",
       "      <td>A101</td>\n",
       "      <td>4</td>\n",
       "      <td>A121</td>\n",
       "      <td>67</td>\n",
       "    </tr>\n",
       "    <tr>\n",
       "      <th>1</th>\n",
       "      <td>A73</td>\n",
       "      <td>2</td>\n",
       "      <td>A92</td>\n",
       "      <td>A101</td>\n",
       "      <td>2</td>\n",
       "      <td>A121</td>\n",
       "      <td>22</td>\n",
       "    </tr>\n",
       "    <tr>\n",
       "      <th>2</th>\n",
       "      <td>A74</td>\n",
       "      <td>2</td>\n",
       "      <td>A93</td>\n",
       "      <td>A101</td>\n",
       "      <td>3</td>\n",
       "      <td>A121</td>\n",
       "      <td>49</td>\n",
       "    </tr>\n",
       "    <tr>\n",
       "      <th>3</th>\n",
       "      <td>A74</td>\n",
       "      <td>2</td>\n",
       "      <td>A93</td>\n",
       "      <td>A103</td>\n",
       "      <td>4</td>\n",
       "      <td>A122</td>\n",
       "      <td>45</td>\n",
       "    </tr>\n",
       "    <tr>\n",
       "      <th>4</th>\n",
       "      <td>A73</td>\n",
       "      <td>3</td>\n",
       "      <td>A93</td>\n",
       "      <td>A101</td>\n",
       "      <td>4</td>\n",
       "      <td>A124</td>\n",
       "      <td>53</td>\n",
       "    </tr>\n",
       "  </tbody>\n",
       "</table>\n",
       "</div>"
      ],
      "text/plain": [
       "  emp_since  inst_rate status_sex debtors_guarantors  residence_since  \\\n",
       "0       A75          4        A93               A101                4   \n",
       "1       A73          2        A92               A101                2   \n",
       "2       A74          2        A93               A101                3   \n",
       "3       A74          2        A93               A103                4   \n",
       "4       A73          3        A93               A101                4   \n",
       "\n",
       "  property  Age  \n",
       "0     A121   67  \n",
       "1     A121   22  \n",
       "2     A121   49  \n",
       "3     A122   45  \n",
       "4     A124   53  "
      ]
     },
     "execution_count": 299,
     "metadata": {},
     "output_type": "execute_result"
    }
   ],
   "source": [
    "dataset[['emp_since','inst_rate',\n",
    "         'status_sex', 'debtors_guarantors', 'residence_since','property', 'Age',]].head()"
   ]
  },
  {
   "cell_type": "code",
   "execution_count": 300,
   "metadata": {},
   "outputs": [
    {
     "data": {
      "text/html": [
       "<div>\n",
       "<style scoped>\n",
       "    .dataframe tbody tr th:only-of-type {\n",
       "        vertical-align: middle;\n",
       "    }\n",
       "\n",
       "    .dataframe tbody tr th {\n",
       "        vertical-align: top;\n",
       "    }\n",
       "\n",
       "    .dataframe thead th {\n",
       "        text-align: right;\n",
       "    }\n",
       "</style>\n",
       "<table border=\"1\" class=\"dataframe\">\n",
       "  <thead>\n",
       "    <tr style=\"text-align: right;\">\n",
       "      <th></th>\n",
       "      <th>inst_plans</th>\n",
       "      <th>housing</th>\n",
       "      <th>existing_credit</th>\n",
       "      <th>job</th>\n",
       "      <th>peoplel_liable</th>\n",
       "      <th>telephone</th>\n",
       "      <th>foreign_worker</th>\n",
       "      <th>cost_matrix</th>\n",
       "    </tr>\n",
       "  </thead>\n",
       "  <tbody>\n",
       "    <tr>\n",
       "      <th>0</th>\n",
       "      <td>A143</td>\n",
       "      <td>A152</td>\n",
       "      <td>2</td>\n",
       "      <td>A173</td>\n",
       "      <td>1</td>\n",
       "      <td>A192</td>\n",
       "      <td>A201</td>\n",
       "      <td>0</td>\n",
       "    </tr>\n",
       "    <tr>\n",
       "      <th>1</th>\n",
       "      <td>A143</td>\n",
       "      <td>A152</td>\n",
       "      <td>1</td>\n",
       "      <td>A173</td>\n",
       "      <td>1</td>\n",
       "      <td>A191</td>\n",
       "      <td>A201</td>\n",
       "      <td>1</td>\n",
       "    </tr>\n",
       "    <tr>\n",
       "      <th>2</th>\n",
       "      <td>A143</td>\n",
       "      <td>A152</td>\n",
       "      <td>1</td>\n",
       "      <td>A172</td>\n",
       "      <td>2</td>\n",
       "      <td>A191</td>\n",
       "      <td>A201</td>\n",
       "      <td>0</td>\n",
       "    </tr>\n",
       "    <tr>\n",
       "      <th>3</th>\n",
       "      <td>A143</td>\n",
       "      <td>A153</td>\n",
       "      <td>1</td>\n",
       "      <td>A173</td>\n",
       "      <td>2</td>\n",
       "      <td>A191</td>\n",
       "      <td>A201</td>\n",
       "      <td>0</td>\n",
       "    </tr>\n",
       "    <tr>\n",
       "      <th>4</th>\n",
       "      <td>A143</td>\n",
       "      <td>A153</td>\n",
       "      <td>2</td>\n",
       "      <td>A173</td>\n",
       "      <td>2</td>\n",
       "      <td>A191</td>\n",
       "      <td>A201</td>\n",
       "      <td>1</td>\n",
       "    </tr>\n",
       "  </tbody>\n",
       "</table>\n",
       "</div>"
      ],
      "text/plain": [
       "  inst_plans housing  existing_credit   job  peoplel_liable telephone  \\\n",
       "0       A143    A152                2  A173               1      A192   \n",
       "1       A143    A152                1  A173               1      A191   \n",
       "2       A143    A152                1  A172               2      A191   \n",
       "3       A143    A153                1  A173               2      A191   \n",
       "4       A143    A153                2  A173               2      A191   \n",
       "\n",
       "  foreign_worker  cost_matrix  \n",
       "0           A201            0  \n",
       "1           A201            1  \n",
       "2           A201            0  \n",
       "3           A201            0  \n",
       "4           A201            1  "
      ]
     },
     "execution_count": 300,
     "metadata": {},
     "output_type": "execute_result"
    }
   ],
   "source": [
    "dataset[['inst_plans', 'housing',\n",
    "         'existing_credit', 'job','peoplel_liable', 'telephone','foreign_worker', 'cost_matrix']].head()"
   ]
  },
  {
   "cell_type": "markdown",
   "metadata": {},
   "source": [
    "## to categorise using categorical "
   ]
  },
  {
   "cell_type": "code",
   "execution_count": null,
   "metadata": {},
   "outputs": [],
   "source": [
    "# from sklearn import preprocessing\n",
    "# import pandas as pd\n",
    "# from sklearn.preprocessing import LabelEncoder\n",
    "\n",
    "# le=LabelEncoder()\n",
    "# for col in dataset.columns.values:\n",
    "#        # Encoding only categorical variables\n",
    "#        if dataset[col].dtypes=='object':\n",
    "#        # Using whole data to form an exhaustive list of levels\n",
    "#            data123=dataset[col].append(dataset[col])\n",
    "#            le.fit(data123.values)\n",
    "#            dataset[col]=le.transform(dataset[col])\n",
    "    \n",
    "# dataset.head(2)"
   ]
  },
  {
   "cell_type": "markdown",
   "metadata": {},
   "source": [
    "### SCALING AND PCA"
   ]
  },
  {
   "cell_type": "markdown",
   "metadata": {},
   "source": [
    "### X = all values except last column\n",
    "#### Y =  last column"
   ]
  },
  {
   "cell_type": "code",
   "execution_count": null,
   "metadata": {},
   "outputs": [],
   "source": [
    "X = dataset.iloc[:,:24]\n",
    "y = dataset.iloc[:,24]"
   ]
  },
  {
   "cell_type": "code",
   "execution_count": null,
   "metadata": {},
   "outputs": [],
   "source": [
    "# the data is unbalanced, so should do feature scaling,\n",
    "# otherwise the larger features will dominate the others in clustering, etc.\n",
    "\n",
    "from sklearn import preprocessing\n",
    "\n",
    "scaler = preprocessing.StandardScaler()\n",
    "\n",
    "scaler.fit(X)\n",
    "X_scaled_array = scaler.transform(X)\n",
    "X_scaled = pd.DataFrame(X_scaled_array, columns = X.columns)\n",
    "\n",
    "X_scaled.sample(5)"
   ]
  },
  {
   "cell_type": "code",
   "execution_count": null,
   "metadata": {},
   "outputs": [],
   "source": [
    "from sklearn.decomposition import PCA\n",
    "\n",
    "ndimensions = 2\n",
    "\n",
    "pca = PCA(n_components=ndimensions, random_state=seed)\n",
    "pca.fit(X_scaled)\n",
    "X_pca_array = pca.transform(X_scaled)\n",
    "X_pca = pd.DataFrame(X_pca_array, columns=['credit_amt','Age']) # PC=principal component\n",
    "X_pca.sample(5)"
   ]
  },
  {
   "cell_type": "code",
   "execution_count": 301,
   "metadata": {},
   "outputs": [],
   "source": []
  },
  {
   "cell_type": "code",
   "execution_count": 302,
   "metadata": {},
   "outputs": [],
   "source": [
    "# from matplotlib.patches import Ellipse\n",
    "# import numpy as np\n",
    "# def draw_ellipse(position, covariance, ax=None, **kwargs):\n",
    "#     \"\"\"Draw an ellipse with a given position and covariance\"\"\"\n",
    "#     ax = ax or plt.gca()\n",
    "    \n",
    "#     # Convert covariance to principal axes\n",
    "#     if covariance.shape == (2, 2):\n",
    "#         U, s, Vt = np.linalg.svd(covariance)\n",
    "#         angle = np.degrees(np.arctan2(U[1, 0], U[0, 0]))\n",
    "#         width, height = 2 * np.sqrt(s)\n",
    "#     else:\n",
    "#         angle = 0\n",
    "#         width, height = 2 * np.sqrt(covariance)\n",
    "    \n",
    "#     # Draw the Ellipse\n",
    "#     for nsig in range(1, 4):\n",
    "#         ax.add_patch(Ellipse(position, nsig * width, nsig * height,\n",
    "#                              angle, **kwargs))\n",
    "        \n",
    "# def plot_gmm(gmm, X, label=True, ax=None):\n",
    "#     ax = ax or plt.gca()\n",
    "#     labels = gmm.fit(X).predict(X)\n",
    "#     if label:\n",
    "#             ax.scatter(X[:, 0], X[:, 1], c=labels, s=40, cmap='viridis', zorder=2)\n",
    "#     else:\n",
    "#         ax.scatter(X[:, 0], X[:, 1], s=40, zorder=2)\n",
    "#     ax.axis('equal')\n",
    "    \n",
    "#     w_factor = 0.2 / gmm.weights_.max()\n",
    "#     for pos, covar, w in zip(gmm.means_, gmm.covariances_, gmm.weights_):\n",
    "#         draw_ellipse(pos, covar, alpha=w * w_factor)"
   ]
  },
  {
   "cell_type": "code",
   "execution_count": 303,
   "metadata": {},
   "outputs": [],
   "source": [
    "# number_of_components=4\n",
    "# from sklearn.mixture import GaussianMixture\n",
    "# gmm = GaussianMixture(n_components=number_of_components,covariance_type='full',verbose=0,verbose_interval=10,max_iter=5000).fit(dataset.values)\n",
    "# labels = gmm.predict(dataset.values)\n",
    "# test_features= ['Age','credit_amt']\n",
    "# X = dataset[test_features].values\n",
    "\n",
    "# plt.scatter(X[:, 0], X[:, 1], c=labels, s=10, cmap='viridis');\n",
    "# plt.title(\"GMM for car dataset n_components=4\")\n",
    "# plot_gmm(gmm,X)"
   ]
  },
  {
   "cell_type": "code",
   "execution_count": 322,
   "metadata": {},
   "outputs": [
    {
     "data": {
      "text/html": [
       "<div>\n",
       "<style scoped>\n",
       "    .dataframe tbody tr th:only-of-type {\n",
       "        vertical-align: middle;\n",
       "    }\n",
       "\n",
       "    .dataframe tbody tr th {\n",
       "        vertical-align: top;\n",
       "    }\n",
       "\n",
       "    .dataframe thead th {\n",
       "        text-align: right;\n",
       "    }\n",
       "</style>\n",
       "<table border=\"1\" class=\"dataframe\">\n",
       "  <thead>\n",
       "    <tr style=\"text-align: right;\">\n",
       "      <th></th>\n",
       "      <th>chk_acc_status</th>\n",
       "      <th>duration_month</th>\n",
       "      <th>credit_history</th>\n",
       "      <th>purpose</th>\n",
       "      <th>credit_amt</th>\n",
       "      <th>sav_acc_bond</th>\n",
       "      <th>emp_since</th>\n",
       "      <th>inst_rate</th>\n",
       "      <th>status_sex</th>\n",
       "      <th>debtors_guarantors</th>\n",
       "      <th>...</th>\n",
       "      <th>property</th>\n",
       "      <th>Age</th>\n",
       "      <th>inst_plans</th>\n",
       "      <th>housing</th>\n",
       "      <th>existing_credit</th>\n",
       "      <th>job</th>\n",
       "      <th>peoplel_liable</th>\n",
       "      <th>telephone</th>\n",
       "      <th>foreign_worker</th>\n",
       "      <th>cost_matrix</th>\n",
       "    </tr>\n",
       "  </thead>\n",
       "  <tbody>\n",
       "    <tr>\n",
       "      <th>0</th>\n",
       "      <td>A11</td>\n",
       "      <td>6</td>\n",
       "      <td>A34</td>\n",
       "      <td>A43</td>\n",
       "      <td>1169</td>\n",
       "      <td>A65</td>\n",
       "      <td>A75</td>\n",
       "      <td>4</td>\n",
       "      <td>A93</td>\n",
       "      <td>A101</td>\n",
       "      <td>...</td>\n",
       "      <td>A121</td>\n",
       "      <td>67</td>\n",
       "      <td>A143</td>\n",
       "      <td>A152</td>\n",
       "      <td>2</td>\n",
       "      <td>A173</td>\n",
       "      <td>1</td>\n",
       "      <td>A192</td>\n",
       "      <td>A201</td>\n",
       "      <td>0</td>\n",
       "    </tr>\n",
       "    <tr>\n",
       "      <th>1</th>\n",
       "      <td>A12</td>\n",
       "      <td>48</td>\n",
       "      <td>A32</td>\n",
       "      <td>A43</td>\n",
       "      <td>5951</td>\n",
       "      <td>A61</td>\n",
       "      <td>A73</td>\n",
       "      <td>2</td>\n",
       "      <td>A92</td>\n",
       "      <td>A101</td>\n",
       "      <td>...</td>\n",
       "      <td>A121</td>\n",
       "      <td>22</td>\n",
       "      <td>A143</td>\n",
       "      <td>A152</td>\n",
       "      <td>1</td>\n",
       "      <td>A173</td>\n",
       "      <td>1</td>\n",
       "      <td>A191</td>\n",
       "      <td>A201</td>\n",
       "      <td>1</td>\n",
       "    </tr>\n",
       "    <tr>\n",
       "      <th>2</th>\n",
       "      <td>A14</td>\n",
       "      <td>12</td>\n",
       "      <td>A34</td>\n",
       "      <td>A46</td>\n",
       "      <td>2096</td>\n",
       "      <td>A61</td>\n",
       "      <td>A74</td>\n",
       "      <td>2</td>\n",
       "      <td>A93</td>\n",
       "      <td>A101</td>\n",
       "      <td>...</td>\n",
       "      <td>A121</td>\n",
       "      <td>49</td>\n",
       "      <td>A143</td>\n",
       "      <td>A152</td>\n",
       "      <td>1</td>\n",
       "      <td>A172</td>\n",
       "      <td>2</td>\n",
       "      <td>A191</td>\n",
       "      <td>A201</td>\n",
       "      <td>0</td>\n",
       "    </tr>\n",
       "    <tr>\n",
       "      <th>3</th>\n",
       "      <td>A11</td>\n",
       "      <td>42</td>\n",
       "      <td>A32</td>\n",
       "      <td>A42</td>\n",
       "      <td>7882</td>\n",
       "      <td>A61</td>\n",
       "      <td>A74</td>\n",
       "      <td>2</td>\n",
       "      <td>A93</td>\n",
       "      <td>A103</td>\n",
       "      <td>...</td>\n",
       "      <td>A122</td>\n",
       "      <td>45</td>\n",
       "      <td>A143</td>\n",
       "      <td>A153</td>\n",
       "      <td>1</td>\n",
       "      <td>A173</td>\n",
       "      <td>2</td>\n",
       "      <td>A191</td>\n",
       "      <td>A201</td>\n",
       "      <td>0</td>\n",
       "    </tr>\n",
       "    <tr>\n",
       "      <th>4</th>\n",
       "      <td>A11</td>\n",
       "      <td>24</td>\n",
       "      <td>A33</td>\n",
       "      <td>A40</td>\n",
       "      <td>4870</td>\n",
       "      <td>A61</td>\n",
       "      <td>A73</td>\n",
       "      <td>3</td>\n",
       "      <td>A93</td>\n",
       "      <td>A101</td>\n",
       "      <td>...</td>\n",
       "      <td>A124</td>\n",
       "      <td>53</td>\n",
       "      <td>A143</td>\n",
       "      <td>A153</td>\n",
       "      <td>2</td>\n",
       "      <td>A173</td>\n",
       "      <td>2</td>\n",
       "      <td>A191</td>\n",
       "      <td>A201</td>\n",
       "      <td>1</td>\n",
       "    </tr>\n",
       "  </tbody>\n",
       "</table>\n",
       "<p>5 rows × 21 columns</p>\n",
       "</div>"
      ],
      "text/plain": [
       "  chk_acc_status  duration_month credit_history purpose  credit_amt  \\\n",
       "0            A11               6            A34     A43        1169   \n",
       "1            A12              48            A32     A43        5951   \n",
       "2            A14              12            A34     A46        2096   \n",
       "3            A11              42            A32     A42        7882   \n",
       "4            A11              24            A33     A40        4870   \n",
       "\n",
       "  sav_acc_bond emp_since  inst_rate status_sex debtors_guarantors     ...      \\\n",
       "0          A65       A75          4        A93               A101     ...       \n",
       "1          A61       A73          2        A92               A101     ...       \n",
       "2          A61       A74          2        A93               A101     ...       \n",
       "3          A61       A74          2        A93               A103     ...       \n",
       "4          A61       A73          3        A93               A101     ...       \n",
       "\n",
       "   property Age  inst_plans housing existing_credit   job peoplel_liable  \\\n",
       "0      A121  67        A143    A152               2  A173              1   \n",
       "1      A121  22        A143    A152               1  A173              1   \n",
       "2      A121  49        A143    A152               1  A172              2   \n",
       "3      A122  45        A143    A153               1  A173              2   \n",
       "4      A124  53        A143    A153               2  A173              2   \n",
       "\n",
       "   telephone foreign_worker cost_matrix  \n",
       "0       A192           A201           0  \n",
       "1       A191           A201           1  \n",
       "2       A191           A201           0  \n",
       "3       A191           A201           0  \n",
       "4       A191           A201           1  \n",
       "\n",
       "[5 rows x 21 columns]"
      ]
     },
     "execution_count": 322,
     "metadata": {},
     "output_type": "execute_result"
    }
   ],
   "source": [
    "dataset.head()"
   ]
  },
  {
   "cell_type": "markdown",
   "metadata": {},
   "source": [
    "## Linear regression\n",
    "The following steps are applied in linear regression modeling in industry:\n",
    "\n",
    "### Missing value and outlier treatment\n",
    "### Correlation check of independent variables\n",
    "### Train and test random classification\n",
    "### Fit the model on train data\n",
    "### Evaluate model on test data"
   ]
  },
  {
   "cell_type": "code",
   "execution_count": 323,
   "metadata": {},
   "outputs": [],
   "source": [
    "from sklearn.model_selection import train_test_split     \n",
    "from sklearn.metrics import r2_score \n",
    "from scipy import stats\n",
    "import statsmodels.api as sm\n",
    "import statsmodels.formula.api as smf\n",
    "from sklearn.linear_model import LinearRegression"
   ]
  },
  {
   "cell_type": "code",
   "execution_count": 324,
   "metadata": {},
   "outputs": [],
   "source": [
    "x_train,x_test,y_train,y_test = train_test_split (dataset ['credit_amt'], dataset[\"Age\"],test_size = 0.2,random_state=42)"
   ]
  },
  {
   "cell_type": "code",
   "execution_count": 325,
   "metadata": {},
   "outputs": [
    {
     "name": "stdout",
     "output_type": "stream",
     "text": [
      "(800, 1)\n",
      "(800, 1)\n"
     ]
    }
   ],
   "source": [
    "c"
   ]
  },
  {
   "cell_type": "code",
   "execution_count": 326,
   "metadata": {},
   "outputs": [
    {
     "name": "stdout",
     "output_type": "stream",
     "text": [
      "                            OLS Regression Results                            \n",
      "==============================================================================\n",
      "Dep. Variable:             credit_amt   R-squared:                       0.498\n",
      "Model:                            OLS   Adj. R-squared:                  0.496\n",
      "Method:                 Least Squares   F-statistic:                     329.3\n",
      "Date:                Tue, 16 Oct 2018   Prob (F-statistic):          1.68e-148\n",
      "Time:                        09:50:47   Log-Likelihood:                -9019.4\n",
      "No. Observations:                1000   AIC:                         1.805e+04\n",
      "Df Residuals:                     996   BIC:                         1.807e+04\n",
      "Df Model:                           3                                         \n",
      "Covariance Type:            nonrobust                                         \n",
      "==============================================================================\n",
      "                 coef    std err          t      P>|t|      [0.025      0.975]\n",
      "------------------------------------------------------------------------------\n",
      "const       1851.8434    281.091      6.588      0.000    1300.244    2403.443\n",
      "x1           152.6093      5.275     28.933      0.000     142.259     162.960\n",
      "x2          -818.5972     56.915    -14.383      0.000    -930.285    -706.909\n",
      "x3            18.6550      5.585      3.340      0.001       7.695      29.615\n",
      "==============================================================================\n",
      "Omnibus:                      413.910   Durbin-Watson:                   2.027\n",
      "Prob(Omnibus):                  0.000   Jarque-Bera (JB):             2324.882\n",
      "Skew:                           1.826   Prob(JB):                         0.00\n",
      "Kurtosis:                       9.517   Cond. No.                         191.\n",
      "==============================================================================\n",
      "\n",
      "Warnings:\n",
      "[1] Standard Errors assume that the covariance matrix of the errors is correctly specified.\n"
     ]
    }
   ],
   "source": [
    "x1= dataset['duration_month']\n",
    "x2 = dataset['inst_rate']\n",
    "x3 = dataset['Age']\n",
    "\n",
    "y = dataset['credit_amt']\n",
    "x = np.column_stack((x1,x2,x3))\n",
    "x = sm.add_constant(x, prepend=True)\n",
    "\n",
    "results = smf.OLS(y,x).fit()\n",
    "\n",
    "print(results.summary())"
   ]
  },
  {
   "cell_type": "markdown",
   "metadata": {},
   "source": [
    "## Using - Scipy stats.. calculate errors/accuracies"
   ]
  },
  {
   "cell_type": "code",
   "execution_count": 327,
   "metadata": {},
   "outputs": [],
   "source": [
    "gradient,intercept,r_value,p_value,std_err=stats.linregress(dataset ['credit_amt'],dataset[\"Age\"])"
   ]
  },
  {
   "cell_type": "code",
   "execution_count": 328,
   "metadata": {},
   "outputs": [
    {
     "name": "stdout",
     "output_type": "stream",
     "text": [
      "Gradient and intercept 0.00013184529270566654 35.11470003147424\n"
     ]
    }
   ],
   "source": [
    "print(\"Gradient and intercept\",gradient,intercept)"
   ]
  },
  {
   "cell_type": "code",
   "execution_count": 329,
   "metadata": {},
   "outputs": [
    {
     "name": "stdout",
     "output_type": "stream",
     "text": [
      "R-squared 0.0010703639194272123\n"
     ]
    }
   ],
   "source": [
    "print (\"R-squared\",r_value**2)"
   ]
  },
  {
   "cell_type": "code",
   "execution_count": 330,
   "metadata": {},
   "outputs": [
    {
     "name": "stdout",
     "output_type": "stream",
     "text": [
      "p-value 0.30133879995606827\n"
     ]
    }
   ],
   "source": [
    "print (\"p-value\",p_value)"
   ]
  },
  {
   "cell_type": "markdown",
   "metadata": {},
   "source": [
    "with a beta of 0.00013184529270566654 and an R-Squared value of 0.0010703639194272123, we see that the movements of the credit amt are not highly correlated with that of the age."
   ]
  },
  {
   "cell_type": "markdown",
   "metadata": {},
   "source": [
    "use the numpy and scipy libraries to be able to conduct regression analysis on two arrays (x and y) in order to determine the intercept and slope, along with the p-value, R-Squared value, and standard error."
   ]
  },
  {
   "cell_type": "markdown",
   "metadata": {},
   "source": [
    "From the test R-squared value, we can conclude that there is no strong relationship between credit_amt and age variables in the data, as R-squared is less than 0.7."
   ]
  },
  {
   "cell_type": "code",
   "execution_count": 334,
   "metadata": {},
   "outputs": [
    {
     "name": "stdout",
     "output_type": "stream",
     "text": [
      "[35.13761277]\n",
      "[[0.00012532]]\n"
     ]
    }
   ],
   "source": [
    "# define true and predicted response values\n",
    "# y_true = [100, 50, 30, 20]\n",
    "# y_pred = [90, 50, 50, 30]\n",
    "\n",
    "lm2 = LinearRegression()\n",
    "lm2.fit(x_train, y_train)\n",
    "y_pred = lm2.predict(x_test)\n",
    "# print the coefficients\n",
    "print(lm2.intercept_)\n",
    "print(lm2.coef_)\n",
    "\n"
   ]
  },
  {
   "cell_type": "markdown",
   "metadata": {},
   "source": [
    "# RMSE - lesser value is better, close to zero is better"
   ]
  },
  {
   "cell_type": "code",
   "execution_count": 335,
   "metadata": {},
   "outputs": [
    {
     "name": "stdout",
     "output_type": "stream",
     "text": [
      "RMSE -> 11.222747\n",
      "8.881532944681947\n",
      "125.95005198999523\n",
      "mean_squared_error--> 11.222747078589771\n"
     ]
    }
   ],
   "source": [
    "from statsmodels.tools.eval_measures import rmse\n",
    "print (\"RMSE -> %f\" % rmse(y_pred, y_test))\n",
    "\n",
    "\n",
    "# calculate MAE, MSE, RMSE\n",
    "print(metrics.mean_absolute_error(y_test, y_pred))\n",
    "print(metrics.mean_squared_error(y_test, y_pred))\n",
    "print(\"mean_squared_error-->\",np.sqrt(metrics.mean_squared_error(y_test, y_pred)))"
   ]
  },
  {
   "cell_type": "code",
   "execution_count": 338,
   "metadata": {},
   "outputs": [
    {
     "data": {
      "text/html": [
       "<div>\n",
       "<style scoped>\n",
       "    .dataframe tbody tr th:only-of-type {\n",
       "        vertical-align: middle;\n",
       "    }\n",
       "\n",
       "    .dataframe tbody tr th {\n",
       "        vertical-align: top;\n",
       "    }\n",
       "\n",
       "    .dataframe thead th {\n",
       "        text-align: right;\n",
       "    }\n",
       "</style>\n",
       "<table border=\"1\" class=\"dataframe\">\n",
       "  <thead>\n",
       "    <tr style=\"text-align: right;\">\n",
       "      <th></th>\n",
       "      <th>Age</th>\n",
       "    </tr>\n",
       "  </thead>\n",
       "  <tbody>\n",
       "    <tr>\n",
       "      <th>521</th>\n",
       "      <td>24</td>\n",
       "    </tr>\n",
       "    <tr>\n",
       "      <th>737</th>\n",
       "      <td>35</td>\n",
       "    </tr>\n",
       "    <tr>\n",
       "      <th>740</th>\n",
       "      <td>32</td>\n",
       "    </tr>\n",
       "    <tr>\n",
       "      <th>660</th>\n",
       "      <td>23</td>\n",
       "    </tr>\n",
       "    <tr>\n",
       "      <th>411</th>\n",
       "      <td>35</td>\n",
       "    </tr>\n",
       "  </tbody>\n",
       "</table>\n",
       "</div>"
      ],
      "text/plain": [
       "     Age\n",
       "521   24\n",
       "737   35\n",
       "740   32\n",
       "660   23\n",
       "411   35"
      ]
     },
     "execution_count": 338,
     "metadata": {},
     "output_type": "execute_result"
    }
   ],
   "source": [
    "y_test.head()"
   ]
  },
  {
   "cell_type": "code",
   "execution_count": 337,
   "metadata": {},
   "outputs": [
    {
     "data": {
      "image/png": "[encoded data removed]",
      "text/plain": [
       "<Figure size 640x480 with 1 Axes>"
      ]
     },
     "metadata": {},
     "output_type": "display_data"
    }
   ],
   "source": [
    "from matplotlib.pyplot import figure\n",
    "\n",
    "figure(num=None, figsize=(8, 6), dpi=80, facecolor='w', edgecolor='k')\n",
    "\n",
    "plt.scatter(x_test, y_test, c='g')\n",
    "#plt.scatter(X_train, y_train)\n",
    "plt.plot(x_test, y_pred, c='r')\n",
    "plt.title(\"Linear Regression - Regressor\")\n",
    "plt.xlabel(\"credit_amt\")\n",
    "plt.ylabel(\"Age  in years\")\n",
    "plt.show()"
   ]
  },
  {
   "cell_type": "markdown",
   "metadata": {},
   "source": [
    "## multivariate X "
   ]
  },
  {
   "cell_type": "code",
   "execution_count": 340,
   "metadata": {},
   "outputs": [],
   "source": [
    "x_train,x_test,y_train,y_test = train_test_split (dataset [['credit_amt','duration_month']], dataset[\"Age\"],test_size = 0.2,random_state=42)"
   ]
  },
  {
   "cell_type": "code",
   "execution_count": 341,
   "metadata": {},
   "outputs": [
    {
     "name": "stdout",
     "output_type": "stream",
     "text": [
      "(800, 2)\n",
      "(800, 1)\n"
     ]
    }
   ],
   "source": [
    "x_train = pd.DataFrame(x_train);\n",
    "x_test = pd.DataFrame(x_test) \n",
    "y_train = pd.DataFrame(y_train);\n",
    "y_test = pd.DataFrame(y_test) \n",
    "print(x_train.shape)\n",
    "#y_train.shape\n",
    "print(y_train.shape)"
   ]
  },
  {
   "cell_type": "code",
   "execution_count": 342,
   "metadata": {},
   "outputs": [
    {
     "name": "stdout",
     "output_type": "stream",
     "text": [
      "[36.46635843]\n",
      "[[ 0.00039619 -0.10614104]]\n"
     ]
    }
   ],
   "source": [
    "lm2 = LinearRegression()\n",
    "lm2.fit(x_train, y_train)\n",
    "y_pred = lm2.predict(x_test)\n",
    "# print the coefficients\n",
    "print(lm2.intercept_)\n",
    "print(lm2.coef_)"
   ]
  },
  {
   "cell_type": "code",
   "execution_count": 345,
   "metadata": {},
   "outputs": [
    {
     "data": {
      "image/png": "[encoded data removed]",
      "text/plain": [
       "<Figure size 800x640 with 1 Axes>"
      ]
     },
     "metadata": {},
     "output_type": "display_data"
    }
   ],
   "source": [
    "# from matplotlib.pyplot import figure\n",
    "\n",
    "# figure(num=None, figsize=(8, 6), dpi=80, facecolor='w', edgecolor='k')\n",
    "\n",
    "# plt.scatter(x_test, y_test, c='g')\n",
    "# #plt.scatter(X_train, y_train)\n",
    "# plt.plot(x_test, y_pred, c='r')\n",
    "# plt.title(\"Linear Regression - Regressor\")\n",
    "# plt.xlabel(\"credit_amt\")\n",
    "# plt.ylabel(\"Age  in years\")\n",
    "# plt.show()\n",
    "\n",
    "\n",
    "\n",
    "from matplotlib.pyplot import figure\n",
    "\n",
    "figure(num=None, figsize=(10, 8), dpi=80, facecolor='w', edgecolor='k')\n",
    "\n",
    "plt.scatter(y_test, y_pred, c='g')\n",
    "#plt.scatter(X_train, y_train)\n",
    "#plt.plot(X_dis_test, pred_mul, c='r')\n",
    "plt.title(\"Linear Regression - Salary vs Experience, District\")\n",
    "plt.xlabel(\"Salary\")\n",
    "plt.ylabel(\"Predicted Salary in $\")\n",
    "plt.show()"
   ]
  },
  {
   "cell_type": "markdown",
   "metadata": {},
   "source": [
    "## Logistic Regression"
   ]
  },
  {
   "cell_type": "markdown",
   "metadata": {},
   "source": [
    "### Calculate Information Value"
   ]
  },
  {
   "cell_type": "code",
   "execution_count": 195,
   "metadata": {},
   "outputs": [],
   "source": [
    "def IV_calc(data,var): \n",
    "    if data[var].dtypes == \"object\": \n",
    "        dataf = data.groupby([var])['cost_matrix'].agg(['count','sum']) \n",
    "        dataf.columns = [\"Total\",\"bad\"]     \n",
    "        dataf[\"good\"] = dataf[\"Total\"] - dataf[\"bad\"] \n",
    "        dataf[\"bad_per\"] = dataf[\"bad\"]/dataf[\"bad\"].sum() \n",
    "        dataf[\"good_per\"] = dataf[\"good\"]/dataf[\"good\"].sum() \n",
    "        dataf[\"I_V\"] = (dataf[\"good_per\"] - dataf[\"bad_per\"]) * np.log(dataf[\"good_per\"]/dataf[\"bad_per\"]) \n",
    "        return dataf \n",
    "    else: \n",
    "            data['bin_var'] = pd.qcut(data[var].rank(method='first'),10)\n",
    "            dataf = data.groupby(['bin_var'])['cost_matrix'].agg(['count','sum']) \n",
    "            dataf.columns = [\"Total\",\"bad\"]     \n",
    "            dataf[\"good\"] = dataf[\"Total\"] - dataf[\"bad\"] \n",
    "            dataf[\"bad_per\"] = dataf[\"bad\"]/dataf[\"bad\"].sum() \n",
    "            dataf[\"good_per\"] = dataf[\"good\"]/dataf[\"good\"].sum() \n",
    "            dataf[\"I_V\"] = (dataf[\"good_per\"] - dataf[\"bad_per\"]) * np.log(dataf[\"good_per\"]/dataf[\"bad_per\"]) \n",
    "    return dataf \n"
   ]
  },
  {
   "cell_type": "code",
   "execution_count": 196,
   "metadata": {},
   "outputs": [
    {
     "name": "stdout",
     "output_type": "stream",
     "text": [
      "\n",
      "\n",
      "Credit History - Information Value\n",
      "\n"
     ]
    }
   ],
   "source": [
    "print (\"\\n\\nCredit History - Information Value\\n\")"
   ]
  },
  {
   "cell_type": "code",
   "execution_count": 197,
   "metadata": {},
   "outputs": [
    {
     "name": "stdout",
     "output_type": "stream",
     "text": [
      "                Total  bad  good   bad_per  good_per       I_V\n",
      "credit_history                                                \n",
      "A30                40   25    15  0.083333  0.021429  0.084074\n",
      "A31                49   28    21  0.093333  0.030000  0.071882\n",
      "A32               530  169   361  0.563333  0.515714  0.004206\n",
      "A33                88   28    60  0.093333  0.085714  0.000649\n",
      "A34               293   50   243  0.166667  0.347143  0.132423\n"
     ]
    }
   ],
   "source": [
    "print (IV_calc(dataset,'credit_history'))"
   ]
  },
  {
   "cell_type": "code",
   "execution_count": 198,
   "metadata": {},
   "outputs": [],
   "source": [
    "dataf = dataset.groupby(['Age'])['cost_matrix'].agg(['count','sum'])\n",
    "#dataf"
   ]
  },
  {
   "cell_type": "code",
   "execution_count": 199,
   "metadata": {},
   "outputs": [
    {
     "name": "stdout",
     "output_type": "stream",
     "text": [
      "\n",
      "\n",
      "Credit History - Duration in month\n",
      "\n",
      "                 Total  bad  good   bad_per  good_per       I_V\n",
      "bin_var                                                        \n",
      "(0.999, 100.9]     100   11    89  0.036667  0.127143  0.112502\n",
      "(100.9, 200.8]     100   20    80  0.066667  0.114286  0.025667\n",
      "(200.8, 300.7]     100   27    73  0.090000  0.104286  0.002105\n",
      "(300.7, 400.6]     100   25    75  0.083333  0.107143  0.005984\n",
      "(400.6, 500.5]     100   26    74  0.086667  0.105714  0.003784\n",
      "(500.5, 600.4]     100   38    62  0.126667  0.088571  0.013629\n",
      "(600.4, 700.3]     100   32    68  0.106667  0.097143  0.000891\n",
      "(700.3, 800.2]     100   31    69  0.103333  0.098571  0.000225\n",
      "(800.2, 900.1]     100   42    58  0.140000  0.082857  0.029973\n",
      "(900.1, 1000.0]    100   48    52  0.160000  0.074286  0.065765\n"
     ]
    }
   ],
   "source": [
    "print (\"\\n\\nCredit History - Duration in month\\n\")\n",
    "print (IV_calc(dataset,'duration_month'))"
   ]
  },
  {
   "cell_type": "code",
   "execution_count": 200,
   "metadata": {},
   "outputs": [
    {
     "data": {
      "text/plain": [
       "Index(['chk_acc_status', 'duration_month', 'credit_history', 'purpose',\n",
       "       'credit_amt', 'sav_acc_bond', 'emp_since', 'inst_rate', 'status_sex',\n",
       "       'debtors_guarantors', 'residence_since', 'property', 'Age',\n",
       "       'inst_plans', 'housing', 'existing_credit', 'job', 'peoplel_liable',\n",
       "       'telephone', 'foreign_worker', 'cost_matrix', 'bin_var'],\n",
       "      dtype='object')"
      ]
     },
     "execution_count": 200,
     "metadata": {},
     "output_type": "execute_result"
    }
   ],
   "source": [
    "dataset.keys()"
   ]
  },
  {
   "cell_type": "code",
   "execution_count": 201,
   "metadata": {},
   "outputs": [
    {
     "name": "stdout",
     "output_type": "stream",
     "text": [
      "0.666 , chk_acc_status ,type = object\n",
      "0.293 , credit_history ,type = object\n",
      "0.261 , duration_month ,type = int64\n",
      "0.196 , sav_acc_bond ,type = object\n",
      "0.169 , purpose ,type = object\n",
      "0.113 , property ,type = object\n",
      "0.113 , credit_amt ,type = int64\n",
      "0.103 , Age ,type = int64\n",
      "0.098 , existing_credit ,type = int64\n",
      "0.086 , emp_since ,type = object\n",
      "0.083 , housing ,type = object\n",
      "0.062 , inst_rate ,type = int64\n",
      "0.058 , inst_plans ,type = object\n",
      "0.049 , residence_since ,type = int64\n",
      "0.045 , status_sex ,type = object\n",
      "0.044 , foreign_worker ,type = object\n",
      "0.034 , peoplel_liable ,type = int64\n",
      "0.032 , debtors_guarantors ,type = object\n",
      "0.009 , job ,type = object\n",
      "0.006 , telephone ,type = object\n"
     ]
    }
   ],
   "source": [
    "discrete_columns = ['chk_acc_status', 'credit_history', 'purpose', 'sav_acc_bond','emp_since', 'status_sex', 'debtors_guarantors','property','inst_plans', 'housing', 'job', 'telephone', 'foreign_worker']\n",
    "continuous_columns = ['duration_month', 'credit_amt', 'inst_rate', 'residence_since', 'Age','existing_credit', 'peoplel_liable']\n",
    "total_columns = discrete_columns + continuous_columns\n",
    "# List of IV values\n",
    "Iv_list = []\n",
    "for col in total_columns:\n",
    "    assigned_data = IV_calc(data = dataset,var = col)\n",
    "    iv_val = round(assigned_data[\"I_V\"].sum(),3)\n",
    "    dt_type = dataset[col].dtypes\n",
    "    Iv_list.append((iv_val,col,dt_type))\n",
    "    \n",
    "Iv_list = sorted(Iv_list,reverse = True)\n",
    "for i in range(len(Iv_list)):\n",
    "    print (Iv_list[i][0],\",\",Iv_list[i][1],\",type =\",Iv_list[i][2])"
   ]
  },
  {
   "cell_type": "code",
   "execution_count": 202,
   "metadata": {},
   "outputs": [],
   "source": [
    "dummy_stseca = pd.get_dummies(dataset['chk_acc_status'], prefix='status_exs_accnt')\n",
    "dummy_ch = pd.get_dummies(dataset['credit_history'], prefix='cred_hist')\n",
    "dummy_purpose = pd.get_dummies(dataset['purpose'], prefix='purpose')\n",
    "dummy_savacc = pd.get_dummies(dataset['sav_acc_bond'], prefix='sav_acc')\n",
    "dummy_presc = pd.get_dummies(dataset['emp_since'], prefix='pre_emp_snc')\n",
    "dummy_perssx = pd.get_dummies(dataset['status_sex'], prefix='per_stat_sx')\n",
    "dummy_property = pd.get_dummies(dataset['property'], prefix='property')\n",
    "dummy_othinstpln = pd.get_dummies(dataset['inst_plans'], prefix='oth_inst_pln')\n",
    "dummy_forgnwrkr = pd.get_dummies(dataset['foreign_worker'], prefix='forgn_wrkr')\n",
    "dummy_othdts = pd.get_dummies(dataset['debtors_guarantors'], prefix='oth_debtors')\n",
    "\n",
    "continuous_columns = ['duration_month', 'credit_amt', 'inst_rate', 'Age', 'existing_credit' ]\n",
    "\n",
    "credit_continuous = dataset[continuous_columns]\n",
    "credit_data_new = pd.concat([dummy_stseca,dummy_ch, dummy_purpose,dummy_savacc, dummy_presc,dummy_perssx, dummy_property, dummy_othinstpln,dummy_othdts, dummy_forgnwrkr,credit_continuous,dataset['cost_matrix']],axis=1)"
   ]
  },
  {
   "cell_type": "code",
   "execution_count": 203,
   "metadata": {},
   "outputs": [
    {
     "data": {
      "text/html": [
       "<div>\n",
       "<style scoped>\n",
       "    .dataframe tbody tr th:only-of-type {\n",
       "        vertical-align: middle;\n",
       "    }\n",
       "\n",
       "    .dataframe tbody tr th {\n",
       "        vertical-align: top;\n",
       "    }\n",
       "\n",
       "    .dataframe thead th {\n",
       "        text-align: right;\n",
       "    }\n",
       "</style>\n",
       "<table border=\"1\" class=\"dataframe\">\n",
       "  <thead>\n",
       "    <tr style=\"text-align: right;\">\n",
       "      <th></th>\n",
       "      <th>status_exs_accnt_A11</th>\n",
       "      <th>status_exs_accnt_A12</th>\n",
       "      <th>status_exs_accnt_A13</th>\n",
       "      <th>status_exs_accnt_A14</th>\n",
       "      <th>cred_hist_A30</th>\n",
       "      <th>cred_hist_A31</th>\n",
       "      <th>cred_hist_A32</th>\n",
       "      <th>cred_hist_A33</th>\n",
       "      <th>cred_hist_A34</th>\n",
       "      <th>purpose_A40</th>\n",
       "      <th>...</th>\n",
       "      <th>oth_debtors_A102</th>\n",
       "      <th>oth_debtors_A103</th>\n",
       "      <th>forgn_wrkr_A201</th>\n",
       "      <th>forgn_wrkr_A202</th>\n",
       "      <th>duration_month</th>\n",
       "      <th>credit_amt</th>\n",
       "      <th>inst_rate</th>\n",
       "      <th>Age</th>\n",
       "      <th>existing_credit</th>\n",
       "      <th>cost_matrix</th>\n",
       "    </tr>\n",
       "  </thead>\n",
       "  <tbody>\n",
       "    <tr>\n",
       "      <th>0</th>\n",
       "      <td>1</td>\n",
       "      <td>0</td>\n",
       "      <td>0</td>\n",
       "      <td>0</td>\n",
       "      <td>0</td>\n",
       "      <td>0</td>\n",
       "      <td>0</td>\n",
       "      <td>0</td>\n",
       "      <td>1</td>\n",
       "      <td>0</td>\n",
       "      <td>...</td>\n",
       "      <td>0</td>\n",
       "      <td>0</td>\n",
       "      <td>1</td>\n",
       "      <td>0</td>\n",
       "      <td>6</td>\n",
       "      <td>1169</td>\n",
       "      <td>4</td>\n",
       "      <td>67</td>\n",
       "      <td>2</td>\n",
       "      <td>0</td>\n",
       "    </tr>\n",
       "    <tr>\n",
       "      <th>1</th>\n",
       "      <td>0</td>\n",
       "      <td>1</td>\n",
       "      <td>0</td>\n",
       "      <td>0</td>\n",
       "      <td>0</td>\n",
       "      <td>0</td>\n",
       "      <td>1</td>\n",
       "      <td>0</td>\n",
       "      <td>0</td>\n",
       "      <td>0</td>\n",
       "      <td>...</td>\n",
       "      <td>0</td>\n",
       "      <td>0</td>\n",
       "      <td>1</td>\n",
       "      <td>0</td>\n",
       "      <td>48</td>\n",
       "      <td>5951</td>\n",
       "      <td>2</td>\n",
       "      <td>22</td>\n",
       "      <td>1</td>\n",
       "      <td>1</td>\n",
       "    </tr>\n",
       "    <tr>\n",
       "      <th>2</th>\n",
       "      <td>0</td>\n",
       "      <td>0</td>\n",
       "      <td>0</td>\n",
       "      <td>1</td>\n",
       "      <td>0</td>\n",
       "      <td>0</td>\n",
       "      <td>0</td>\n",
       "      <td>0</td>\n",
       "      <td>1</td>\n",
       "      <td>0</td>\n",
       "      <td>...</td>\n",
       "      <td>0</td>\n",
       "      <td>0</td>\n",
       "      <td>1</td>\n",
       "      <td>0</td>\n",
       "      <td>12</td>\n",
       "      <td>2096</td>\n",
       "      <td>2</td>\n",
       "      <td>49</td>\n",
       "      <td>1</td>\n",
       "      <td>0</td>\n",
       "    </tr>\n",
       "    <tr>\n",
       "      <th>3</th>\n",
       "      <td>1</td>\n",
       "      <td>0</td>\n",
       "      <td>0</td>\n",
       "      <td>0</td>\n",
       "      <td>0</td>\n",
       "      <td>0</td>\n",
       "      <td>1</td>\n",
       "      <td>0</td>\n",
       "      <td>0</td>\n",
       "      <td>0</td>\n",
       "      <td>...</td>\n",
       "      <td>0</td>\n",
       "      <td>1</td>\n",
       "      <td>1</td>\n",
       "      <td>0</td>\n",
       "      <td>42</td>\n",
       "      <td>7882</td>\n",
       "      <td>2</td>\n",
       "      <td>45</td>\n",
       "      <td>1</td>\n",
       "      <td>0</td>\n",
       "    </tr>\n",
       "    <tr>\n",
       "      <th>4</th>\n",
       "      <td>1</td>\n",
       "      <td>0</td>\n",
       "      <td>0</td>\n",
       "      <td>0</td>\n",
       "      <td>0</td>\n",
       "      <td>0</td>\n",
       "      <td>0</td>\n",
       "      <td>1</td>\n",
       "      <td>0</td>\n",
       "      <td>1</td>\n",
       "      <td>...</td>\n",
       "      <td>0</td>\n",
       "      <td>0</td>\n",
       "      <td>1</td>\n",
       "      <td>0</td>\n",
       "      <td>24</td>\n",
       "      <td>4870</td>\n",
       "      <td>3</td>\n",
       "      <td>53</td>\n",
       "      <td>2</td>\n",
       "      <td>1</td>\n",
       "    </tr>\n",
       "  </tbody>\n",
       "</table>\n",
       "<p>5 rows × 51 columns</p>\n",
       "</div>"
      ],
      "text/plain": [
       "   status_exs_accnt_A11  status_exs_accnt_A12  status_exs_accnt_A13  \\\n",
       "0                     1                     0                     0   \n",
       "1                     0                     1                     0   \n",
       "2                     0                     0                     0   \n",
       "3                     1                     0                     0   \n",
       "4                     1                     0                     0   \n",
       "\n",
       "   status_exs_accnt_A14  cred_hist_A30  cred_hist_A31  cred_hist_A32  \\\n",
       "0                     0              0              0              0   \n",
       "1                     0              0              0              1   \n",
       "2                     1              0              0              0   \n",
       "3                     0              0              0              1   \n",
       "4                     0              0              0              0   \n",
       "\n",
       "   cred_hist_A33  cred_hist_A34  purpose_A40     ...       oth_debtors_A102  \\\n",
       "0              0              1            0     ...                      0   \n",
       "1              0              0            0     ...                      0   \n",
       "2              0              1            0     ...                      0   \n",
       "3              0              0            0     ...                      0   \n",
       "4              1              0            1     ...                      0   \n",
       "\n",
       "   oth_debtors_A103  forgn_wrkr_A201  forgn_wrkr_A202  duration_month  \\\n",
       "0                 0                1                0               6   \n",
       "1                 0                1                0              48   \n",
       "2                 0                1                0              12   \n",
       "3                 1                1                0              42   \n",
       "4                 0                1                0              24   \n",
       "\n",
       "   credit_amt  inst_rate  Age  existing_credit  cost_matrix  \n",
       "0        1169          4   67                2            0  \n",
       "1        5951          2   22                1            1  \n",
       "2        2096          2   49                1            0  \n",
       "3        7882          2   45                1            0  \n",
       "4        4870          3   53                2            1  \n",
       "\n",
       "[5 rows x 51 columns]"
      ]
     },
     "execution_count": 203,
     "metadata": {},
     "output_type": "execute_result"
    }
   ],
   "source": [
    "credit_data_new.head()"
   ]
  },
  {
   "cell_type": "code",
   "execution_count": 204,
   "metadata": {},
   "outputs": [
    {
     "data": {
      "text/plain": [
       "(1000, 51)"
      ]
     },
     "execution_count": 204,
     "metadata": {},
     "output_type": "execute_result"
    }
   ],
   "source": [
    "credit_data_new.shape"
   ]
  },
  {
   "cell_type": "code",
   "execution_count": 205,
   "metadata": {},
   "outputs": [
    {
     "name": "stderr",
     "output_type": "stream",
     "text": [
      "/anaconda3/lib/python3.6/site-packages/sklearn/model_selection/_split.py:2026: FutureWarning: From version 0.21, test_size will always complement train_size unless both are specified.\n",
      "  FutureWarning)\n"
     ]
    }
   ],
   "source": [
    "x_train,x_test,y_train,y_test = train_test_split( credit_data_new.drop(['cost_matrix'] ,axis=1),credit_data_new['cost_matrix'],train_size = 0.7,random_state=42)\n",
    "\n",
    "y_train = pd.DataFrame(y_train) \n",
    "y_test = pd.DataFrame(y_test)"
   ]
  },
  {
   "cell_type": "code",
   "execution_count": 219,
   "metadata": {},
   "outputs": [
    {
     "data": {
      "text/html": [
       "<div>\n",
       "<style scoped>\n",
       "    .dataframe tbody tr th:only-of-type {\n",
       "        vertical-align: middle;\n",
       "    }\n",
       "\n",
       "    .dataframe tbody tr th {\n",
       "        vertical-align: top;\n",
       "    }\n",
       "\n",
       "    .dataframe thead th {\n",
       "        text-align: right;\n",
       "    }\n",
       "</style>\n",
       "<table border=\"1\" class=\"dataframe\">\n",
       "  <thead>\n",
       "    <tr style=\"text-align: right;\">\n",
       "      <th></th>\n",
       "      <th>status_exs_accnt_A11</th>\n",
       "      <th>status_exs_accnt_A12</th>\n",
       "      <th>status_exs_accnt_A13</th>\n",
       "      <th>status_exs_accnt_A14</th>\n",
       "      <th>cred_hist_A30</th>\n",
       "      <th>cred_hist_A31</th>\n",
       "      <th>cred_hist_A32</th>\n",
       "      <th>cred_hist_A33</th>\n",
       "      <th>cred_hist_A34</th>\n",
       "      <th>purpose_A40</th>\n",
       "      <th>...</th>\n",
       "      <th>oth_debtors_A102</th>\n",
       "      <th>oth_debtors_A103</th>\n",
       "      <th>forgn_wrkr_A201</th>\n",
       "      <th>forgn_wrkr_A202</th>\n",
       "      <th>duration_month</th>\n",
       "      <th>credit_amt</th>\n",
       "      <th>inst_rate</th>\n",
       "      <th>Age</th>\n",
       "      <th>existing_credit</th>\n",
       "      <th>cost_matrix</th>\n",
       "    </tr>\n",
       "  </thead>\n",
       "  <tbody>\n",
       "    <tr>\n",
       "      <th>0</th>\n",
       "      <td>1</td>\n",
       "      <td>0</td>\n",
       "      <td>0</td>\n",
       "      <td>0</td>\n",
       "      <td>0</td>\n",
       "      <td>0</td>\n",
       "      <td>0</td>\n",
       "      <td>0</td>\n",
       "      <td>1</td>\n",
       "      <td>0</td>\n",
       "      <td>...</td>\n",
       "      <td>0</td>\n",
       "      <td>0</td>\n",
       "      <td>1</td>\n",
       "      <td>0</td>\n",
       "      <td>6</td>\n",
       "      <td>1169</td>\n",
       "      <td>4</td>\n",
       "      <td>67</td>\n",
       "      <td>2</td>\n",
       "      <td>0</td>\n",
       "    </tr>\n",
       "    <tr>\n",
       "      <th>1</th>\n",
       "      <td>0</td>\n",
       "      <td>1</td>\n",
       "      <td>0</td>\n",
       "      <td>0</td>\n",
       "      <td>0</td>\n",
       "      <td>0</td>\n",
       "      <td>1</td>\n",
       "      <td>0</td>\n",
       "      <td>0</td>\n",
       "      <td>0</td>\n",
       "      <td>...</td>\n",
       "      <td>0</td>\n",
       "      <td>0</td>\n",
       "      <td>1</td>\n",
       "      <td>0</td>\n",
       "      <td>48</td>\n",
       "      <td>5951</td>\n",
       "      <td>2</td>\n",
       "      <td>22</td>\n",
       "      <td>1</td>\n",
       "      <td>1</td>\n",
       "    </tr>\n",
       "    <tr>\n",
       "      <th>2</th>\n",
       "      <td>0</td>\n",
       "      <td>0</td>\n",
       "      <td>0</td>\n",
       "      <td>1</td>\n",
       "      <td>0</td>\n",
       "      <td>0</td>\n",
       "      <td>0</td>\n",
       "      <td>0</td>\n",
       "      <td>1</td>\n",
       "      <td>0</td>\n",
       "      <td>...</td>\n",
       "      <td>0</td>\n",
       "      <td>0</td>\n",
       "      <td>1</td>\n",
       "      <td>0</td>\n",
       "      <td>12</td>\n",
       "      <td>2096</td>\n",
       "      <td>2</td>\n",
       "      <td>49</td>\n",
       "      <td>1</td>\n",
       "      <td>0</td>\n",
       "    </tr>\n",
       "    <tr>\n",
       "      <th>3</th>\n",
       "      <td>1</td>\n",
       "      <td>0</td>\n",
       "      <td>0</td>\n",
       "      <td>0</td>\n",
       "      <td>0</td>\n",
       "      <td>0</td>\n",
       "      <td>1</td>\n",
       "      <td>0</td>\n",
       "      <td>0</td>\n",
       "      <td>0</td>\n",
       "      <td>...</td>\n",
       "      <td>0</td>\n",
       "      <td>1</td>\n",
       "      <td>1</td>\n",
       "      <td>0</td>\n",
       "      <td>42</td>\n",
       "      <td>7882</td>\n",
       "      <td>2</td>\n",
       "      <td>45</td>\n",
       "      <td>1</td>\n",
       "      <td>0</td>\n",
       "    </tr>\n",
       "    <tr>\n",
       "      <th>4</th>\n",
       "      <td>1</td>\n",
       "      <td>0</td>\n",
       "      <td>0</td>\n",
       "      <td>0</td>\n",
       "      <td>0</td>\n",
       "      <td>0</td>\n",
       "      <td>0</td>\n",
       "      <td>1</td>\n",
       "      <td>0</td>\n",
       "      <td>1</td>\n",
       "      <td>...</td>\n",
       "      <td>0</td>\n",
       "      <td>0</td>\n",
       "      <td>1</td>\n",
       "      <td>0</td>\n",
       "      <td>24</td>\n",
       "      <td>4870</td>\n",
       "      <td>3</td>\n",
       "      <td>53</td>\n",
       "      <td>2</td>\n",
       "      <td>1</td>\n",
       "    </tr>\n",
       "  </tbody>\n",
       "</table>\n",
       "<p>5 rows × 51 columns</p>\n",
       "</div>"
      ],
      "text/plain": [
       "   status_exs_accnt_A11  status_exs_accnt_A12  status_exs_accnt_A13  \\\n",
       "0                     1                     0                     0   \n",
       "1                     0                     1                     0   \n",
       "2                     0                     0                     0   \n",
       "3                     1                     0                     0   \n",
       "4                     1                     0                     0   \n",
       "\n",
       "   status_exs_accnt_A14  cred_hist_A30  cred_hist_A31  cred_hist_A32  \\\n",
       "0                     0              0              0              0   \n",
       "1                     0              0              0              1   \n",
       "2                     1              0              0              0   \n",
       "3                     0              0              0              1   \n",
       "4                     0              0              0              0   \n",
       "\n",
       "   cred_hist_A33  cred_hist_A34  purpose_A40     ...       oth_debtors_A102  \\\n",
       "0              0              1            0     ...                      0   \n",
       "1              0              0            0     ...                      0   \n",
       "2              0              1            0     ...                      0   \n",
       "3              0              0            0     ...                      0   \n",
       "4              1              0            1     ...                      0   \n",
       "\n",
       "   oth_debtors_A103  forgn_wrkr_A201  forgn_wrkr_A202  duration_month  \\\n",
       "0                 0                1                0               6   \n",
       "1                 0                1                0              48   \n",
       "2                 0                1                0              12   \n",
       "3                 1                1                0              42   \n",
       "4                 0                1                0              24   \n",
       "\n",
       "   credit_amt  inst_rate  Age  existing_credit  cost_matrix  \n",
       "0        1169          4   67                2            0  \n",
       "1        5951          2   22                1            1  \n",
       "2        2096          2   49                1            0  \n",
       "3        7882          2   45                1            0  \n",
       "4        4870          3   53                2            1  \n",
       "\n",
       "[5 rows x 51 columns]"
      ]
     },
     "execution_count": 219,
     "metadata": {},
     "output_type": "execute_result"
    }
   ],
   "source": [
    "credit_data_new.head()"
   ]
  },
  {
   "cell_type": "code",
   "execution_count": 207,
   "metadata": {},
   "outputs": [],
   "source": [
    "remove_cols_extra_dummy = ['status_exs_accnt_A11', 'cred_hist_A30', 'purpose_A40', 'sav_acc_A61','pre_emp_snc_A71','per_stat_sx_A91', 'oth_debtors_A101','property_A121', 'oth_inst_pln_A141','forgn_wrkr_A201']"
   ]
  },
  {
   "cell_type": "code",
   "execution_count": 208,
   "metadata": {},
   "outputs": [],
   "source": [
    "remove_cols_insig = ['oth_debtors_A102','pre_emp_snc_A73','cred_hist_A31','per_stat_sx_A94']\n",
    "remove_cols = list(set(remove_cols_extra_dummy+remove_cols_insig))"
   ]
  },
  {
   "cell_type": "code",
   "execution_count": 209,
   "metadata": {},
   "outputs": [
    {
     "name": "stdout",
     "output_type": "stream",
     "text": [
      "Optimization terminated successfully.\n",
      "         Current function value: 0.456205\n",
      "         Iterations 7\n",
      "                           Logit Regression Results                           \n",
      "==============================================================================\n",
      "Dep. Variable:            cost_matrix   No. Observations:                  700\n",
      "Model:                          Logit   Df Residuals:                      662\n",
      "Method:                           MLE   Df Model:                           37\n",
      "Date:                Tue, 16 Oct 2018   Pseudo R-squ.:                  0.2517\n",
      "Time:                        01:41:42   Log-Likelihood:                -319.34\n",
      "converged:                       True   LL-Null:                       -426.75\n",
      "                                        LLR p-value:                 6.253e-27\n",
      "========================================================================================\n",
      "                           coef    std err          z      P>|z|      [0.025      0.975]\n",
      "----------------------------------------------------------------------------------------\n",
      "const                    0.8431      0.903      0.934      0.351      -0.927       2.613\n",
      "status_exs_accnt_A12    -0.3317      0.260     -1.274      0.203      -0.842       0.179\n",
      "status_exs_accnt_A13    -1.0027      0.454     -2.207      0.027      -1.893      -0.112\n",
      "status_exs_accnt_A14    -1.5546      0.274     -5.680      0.000      -2.091      -1.018\n",
      "cred_hist_A32           -0.4909      0.346     -1.418      0.156      -1.169       0.188\n",
      "cred_hist_A33           -1.0965      0.444     -2.467      0.014      -1.968      -0.225\n",
      "cred_hist_A34           -1.5360      0.391     -3.928      0.000      -2.303      -0.770\n",
      "purpose_A41             -1.6089      0.424     -3.795      0.000      -2.440      -0.778\n",
      "purpose_A410            -1.0278      0.794     -1.295      0.195      -2.583       0.528\n",
      "purpose_A42             -1.0354      0.318     -3.252      0.001      -1.659      -0.411\n",
      "purpose_A43             -1.0459      0.291     -3.589      0.000      -1.617      -0.475\n",
      "purpose_A44             -0.6320      0.773     -0.817      0.414      -2.148       0.884\n",
      "purpose_A45             -0.7063      0.644     -1.097      0.273      -1.968       0.556\n",
      "purpose_A46              0.1534      0.495      0.310      0.757      -0.817       1.124\n",
      "purpose_A48             -2.0451      1.198     -1.708      0.088      -4.392       0.302\n",
      "purpose_A49             -0.5954      0.389     -1.532      0.126      -1.357       0.166\n",
      "sav_acc_A62             -0.2606      0.337     -0.774      0.439      -0.921       0.399\n",
      "sav_acc_A63             -0.6550      0.479     -1.366      0.172      -1.595       0.285\n",
      "sav_acc_A64             -1.0592      0.610     -1.735      0.083      -2.255       0.137\n",
      "sav_acc_A65             -0.6437      0.295     -2.180      0.029      -1.222      -0.065\n",
      "pre_emp_snc_A72          0.1021      0.280      0.364      0.716      -0.447       0.651\n",
      "pre_emp_snc_A74         -0.3017      0.294     -1.026      0.305      -0.878       0.275\n",
      "pre_emp_snc_A75         -0.1780      0.284     -0.626      0.531      -0.735       0.379\n",
      "per_stat_sx_A92         -0.1446      0.492     -0.294      0.769      -1.108       0.819\n",
      "per_stat_sx_A93         -0.6201      0.485     -1.280      0.201      -1.570       0.330\n",
      "per_stat_sx_A94         -0.1278      0.575     -0.222      0.824      -1.255       0.999\n",
      "property_A122            0.3976      0.298      1.332      0.183      -0.187       0.983\n",
      "property_A123            0.2302      0.279      0.825      0.409      -0.317       0.777\n",
      "property_A124            0.8419      0.367      2.294      0.022       0.123       1.561\n",
      "oth_inst_pln_A142       -0.1760      0.533     -0.330      0.741      -1.220       0.868\n",
      "oth_inst_pln_A143       -0.5052      0.285     -1.773      0.076      -1.064       0.053\n",
      "oth_debtors_A103        -0.7098      0.466     -1.523      0.128      -1.623       0.203\n",
      "forgn_wrkr_A202         -1.3182      0.741     -1.779      0.075      -2.771       0.134\n",
      "duration_month           0.0197      0.011      1.820      0.069      -0.002       0.041\n",
      "credit_amt               0.0001   4.74e-05      2.356      0.018    1.87e-05       0.000\n",
      "inst_rate                0.3334      0.103      3.235      0.001       0.131       0.535\n",
      "Age                     -0.0305      0.011     -2.801      0.005      -0.052      -0.009\n",
      "existing_credit          0.3388      0.215      1.576      0.115      -0.082       0.760\n",
      "========================================================================================\n"
     ]
    }
   ],
   "source": [
    "import statsmodels.api as sm\n",
    "logistic_model = sm.Logit(y_train, sm.add_constant(x_train.drop( remove_cols, axis=1))).fit()\n",
    "print (logistic_model.summary())"
   ]
  },
  {
   "cell_type": "code",
   "execution_count": 353,
   "metadata": {},
   "outputs": [
    {
     "name": "stdout",
     "output_type": "stream",
     "text": [
      "[[-9.02321343e-04 -3.13170669e-01]\n",
      " [-3.93825721e-04 -4.85023563e-02]\n",
      " [-1.46931912e-04  1.71977820e-02]\n",
      " [-2.67926434e-04 -2.20057534e-02]\n",
      " [ 6.20464038e-05 -5.07643586e-02]\n",
      " [-3.64073747e-05  1.19289732e-02]\n",
      " [-9.66462660e-05 -1.16932908e-03]\n",
      " [-1.07276102e-04  9.29871386e-03]\n",
      " [-6.03024527e-05  3.52343117e-03]\n",
      " [-5.11939737e-05 -5.52741080e-03]\n",
      " [ 6.26007821e-05 -2.04196956e-02]\n",
      " [ 4.95469867e-05 -5.36079632e-03]\n",
      " [ 1.90216356e-05  5.54128961e-03]\n",
      " [ 1.23014732e-05 -8.93436255e-03]\n",
      " [-2.12447922e-04 -1.52643069e-02]\n",
      " [-7.39208198e-05  5.05015828e-03]\n",
      " [ 1.32971571e-05 -4.55904961e-02]\n",
      " [-5.17421165e-05 -7.01275111e-03]\n",
      " [ 4.57456277e-05 -1.44285121e-02]\n",
      " [ 3.99551607e-05 -3.34173508e-02]\n",
      " [ 5.14381720e-05 -4.93875022e-02]\n",
      " [-3.35730549e-05 -3.83003529e-02]\n",
      " [-1.27981712e-04 -5.78007246e-03]\n",
      " [ 2.47576848e-05 -1.12720928e-02]\n",
      " [ 4.80628583e-05 -5.30288331e-02]\n",
      " [ 2.28821404e-04 -1.07297754e-01]\n",
      " [ 1.87499418e-04 -7.46154709e-02]\n",
      " [-2.73824034e-04 -3.31909649e-03]\n",
      " [-5.83253570e-05 -1.45513211e-02]\n",
      " [ 1.40495919e-04 -8.83978617e-02]\n",
      " [-6.13903803e-06 -1.00882298e-01]\n",
      " [-2.06891363e-04 -2.05730355e-02]\n",
      " [ 7.76547972e-05 -1.29889669e-01]\n",
      " [-2.10435209e-04 -2.35978915e-01]\n",
      " [ 1.19544085e-04 -9.98959104e-02]\n",
      " [-2.53989180e-04 -1.12952023e-02]\n",
      " [ 3.07325989e-05 -1.40337415e-01]\n",
      " [-7.23422465e-04 -9.65192562e-02]\n",
      " [ 4.09187875e-05 -6.61023412e-02]\n",
      " [ 6.07023585e-05 -6.19231704e-02]\n",
      " [-2.55402794e-06 -1.22904796e-01]\n",
      " [ 4.55363734e-05 -4.14295969e-02]\n",
      " [-1.08889042e-03 -3.41645357e-02]\n",
      " [-4.23163438e-04 -2.51689225e-01]\n",
      " [ 8.42040691e-06 -1.10446488e-02]\n",
      " [-1.79016205e-04 -3.40600495e-01]\n",
      " [-1.59149259e-03  2.00034249e-02]\n",
      " [-1.33089857e-03 -2.12001840e-01]\n",
      " [-1.13993420e-04 -3.65258279e-01]\n",
      " [ 4.40721667e-05 -2.78946853e-01]\n",
      " [ 2.51003835e-04 -6.38619956e-01]\n",
      " [ 1.58764238e-04 -3.32022380e-01]\n",
      " [ 8.11766540e-05 -3.20948960e-01]]\n"
     ]
    },
    {
     "name": "stderr",
     "output_type": "stream",
     "text": [
      "/anaconda3/lib/python3.6/site-packages/sklearn/utils/validation.py:578: DataConversionWarning: A column-vector y was passed when a 1d array was expected. Please change the shape of y to (n_samples, ), for example using ravel().\n",
      "  y = column_or_1d(y, warn=True)\n"
     ]
    },
    {
     "ename": "ValueError",
     "evalue": "Length of passed values is 53, index implies 2",
     "output_type": "error",
     "traceback": [
      "\u001b[0;31m---------------------------------------------------------------------------\u001b[0m",
      "\u001b[0;31mValueError\u001b[0m                                Traceback (most recent call last)",
      "\u001b[0;32m<ipython-input-353-ca5d23498c5e>\u001b[0m in \u001b[0;36m<module>\u001b[0;34m()\u001b[0m\n\u001b[1;32m      8\u001b[0m \u001b[0;31m# Those values, however, will show that the second parameter\u001b[0m\u001b[0;34m\u001b[0m\u001b[0;34m\u001b[0m\u001b[0m\n\u001b[1;32m      9\u001b[0m \u001b[0;31m# is more influential\u001b[0m\u001b[0;34m\u001b[0m\u001b[0;34m\u001b[0m\u001b[0m\n\u001b[0;32m---> 10\u001b[0;31m \u001b[0mprint\u001b[0m\u001b[0;34m(\u001b[0m\u001b[0mnp\u001b[0m\u001b[0;34m.\u001b[0m\u001b[0mstd\u001b[0m\u001b[0;34m(\u001b[0m\u001b[0mx_train\u001b[0m\u001b[0;34m,\u001b[0m \u001b[0;36m0\u001b[0m\u001b[0;34m)\u001b[0m\u001b[0;34m*\u001b[0m\u001b[0mm\u001b[0m\u001b[0;34m.\u001b[0m\u001b[0mcoef_\u001b[0m\u001b[0;34m)\u001b[0m\u001b[0;34m\u001b[0m\u001b[0m\n\u001b[0m\u001b[1;32m     11\u001b[0m \u001b[0;34m\u001b[0m\u001b[0m\n\u001b[1;32m     12\u001b[0m \u001b[0;34m\u001b[0m\u001b[0m\n",
      "\u001b[0;32m/anaconda3/lib/python3.6/site-packages/pandas/core/ops.py\u001b[0m in \u001b[0;36mwrapper\u001b[0;34m(left, right)\u001b[0m\n\u001b[1;32m   1066\u001b[0m         \u001b[0mresult\u001b[0m \u001b[0;34m=\u001b[0m \u001b[0msafe_na_op\u001b[0m\u001b[0;34m(\u001b[0m\u001b[0mlvalues\u001b[0m\u001b[0;34m,\u001b[0m \u001b[0mrvalues\u001b[0m\u001b[0;34m)\u001b[0m\u001b[0;34m\u001b[0m\u001b[0m\n\u001b[1;32m   1067\u001b[0m         return construct_result(left, result,\n\u001b[0;32m-> 1068\u001b[0;31m                                 index=left.index, name=res_name, dtype=None)\n\u001b[0m\u001b[1;32m   1069\u001b[0m \u001b[0;34m\u001b[0m\u001b[0m\n\u001b[1;32m   1070\u001b[0m     \u001b[0;32mreturn\u001b[0m \u001b[0mwrapper\u001b[0m\u001b[0;34m\u001b[0m\u001b[0m\n",
      "\u001b[0;32m/anaconda3/lib/python3.6/site-packages/pandas/core/ops.py\u001b[0m in \u001b[0;36m_construct_result\u001b[0;34m(left, result, index, name, dtype)\u001b[0m\n\u001b[1;32m    975\u001b[0m     \u001b[0;32mnot\u001b[0m \u001b[0mbe\u001b[0m \u001b[0menough\u001b[0m\u001b[0;34m;\u001b[0m \u001b[0mwe\u001b[0m \u001b[0mstill\u001b[0m \u001b[0mneed\u001b[0m \u001b[0mto\u001b[0m \u001b[0moverride\u001b[0m \u001b[0mthe\u001b[0m \u001b[0mname\u001b[0m \u001b[0mattribute\u001b[0m\u001b[0;34m.\u001b[0m\u001b[0;34m\u001b[0m\u001b[0m\n\u001b[1;32m    976\u001b[0m     \"\"\"\n\u001b[0;32m--> 977\u001b[0;31m     \u001b[0mout\u001b[0m \u001b[0;34m=\u001b[0m \u001b[0mleft\u001b[0m\u001b[0;34m.\u001b[0m\u001b[0m_constructor\u001b[0m\u001b[0;34m(\u001b[0m\u001b[0mresult\u001b[0m\u001b[0;34m,\u001b[0m \u001b[0mindex\u001b[0m\u001b[0;34m=\u001b[0m\u001b[0mindex\u001b[0m\u001b[0;34m,\u001b[0m \u001b[0mdtype\u001b[0m\u001b[0;34m=\u001b[0m\u001b[0mdtype\u001b[0m\u001b[0;34m)\u001b[0m\u001b[0;34m\u001b[0m\u001b[0m\n\u001b[0m\u001b[1;32m    978\u001b[0m \u001b[0;34m\u001b[0m\u001b[0m\n\u001b[1;32m    979\u001b[0m     \u001b[0mout\u001b[0m\u001b[0;34m.\u001b[0m\u001b[0mname\u001b[0m \u001b[0;34m=\u001b[0m \u001b[0mname\u001b[0m\u001b[0;34m\u001b[0m\u001b[0m\n",
      "\u001b[0;32m/anaconda3/lib/python3.6/site-packages/pandas/core/series.py\u001b[0m in \u001b[0;36m__init__\u001b[0;34m(self, data, index, dtype, name, copy, fastpath)\u001b[0m\n\u001b[1;32m    259\u001b[0m                             \u001b[0;34m'Length of passed values is {val}, '\u001b[0m\u001b[0;34m\u001b[0m\u001b[0m\n\u001b[1;32m    260\u001b[0m                             \u001b[0;34m'index implies {ind}'\u001b[0m\u001b[0;34m\u001b[0m\u001b[0m\n\u001b[0;32m--> 261\u001b[0;31m                             .format(val=len(data), ind=len(index)))\n\u001b[0m\u001b[1;32m    262\u001b[0m                 \u001b[0;32mexcept\u001b[0m \u001b[0mTypeError\u001b[0m\u001b[0;34m:\u001b[0m\u001b[0;34m\u001b[0m\u001b[0m\n\u001b[1;32m    263\u001b[0m                     \u001b[0;32mpass\u001b[0m\u001b[0;34m\u001b[0m\u001b[0m\n",
      "\u001b[0;31mValueError\u001b[0m: Length of passed values is 53, index implies 2"
     ]
    }
   ],
   "source": [
    "# from sklearn.linear_model import LogisticRegression\n",
    "# m = LogisticRegression()`\n",
    "# m.fit(x_train, y_train)\n",
    "\n",
    "# # The estimated coefficients will all be around 1:\n",
    "# print(m.coef_)\n",
    "\n",
    "# # Those values, however, will show that the second parameter\n",
    "# # is more influential\n",
    "# print(np.std(x_train, 0)*m.coef_)\n",
    "\n",
    "\n",
    "\n",
    "predictors = ['status_exs_accnt_A11', 'status_exs_accnt_A12', 'status_exs_accnt_A13',\n",
    "       'status_exs_accnt_A14', 'cred_hist_A31', 'cred_hist_A32',\n",
    "       'cred_hist_A33', 'cred_hist_A34', 'purpose_A41', 'purpose_A410',\n",
    "       'purpose_A42', 'purpose_A43', 'purpose_A44', 'purpose_A45',\n",
    "       'purpose_A46', 'purpose_A48', 'purpose_A49', 'sav_acc_A62',\n",
    "       'sav_acc_A63', 'sav_acc_A64', 'sav_acc_A65', 'pre_emp_snc_A72',\n",
    "       'pre_emp_snc_A73', 'pre_emp_snc_A74', 'pre_emp_snc_A75',\n",
    "       'per_stat_sx_A92', 'per_stat_sx_A93', 'per_stat_sx_A94',\n",
    "       'property_A122', 'property_A123', 'property_A124', 'oth_inst_pln_A142',\n",
    "       'oth_inst_pln_A143', 'duration_month', 'credit_amt', 'inst_rate', 'Age',\n",
    "       'existing_credit']\n",
    "tmp = pd.DataFrame({'Feature': predictors, 'Feature Importance': logistic_model.feature_importances_ })\n",
    "tmp = tmp.sort_values(by='Feature Importance', ascending= False)\n",
    "plt.Figure(figsize= (7,4))\n",
    "plt.title('Feature Importance', fontsize = 14)\n",
    "s = sns.barplot(x = 'Feature', y = 'Feature Importance', data = tmp)\n",
    "s.set_xticklabels(s.get_xticklabels(), rotation = 90)\n",
    "plt.show()"
   ]
  },
  {
   "cell_type": "code",
   "execution_count": 210,
   "metadata": {},
   "outputs": [
    {
     "data": {
      "text/html": [
       "<div>\n",
       "<style scoped>\n",
       "    .dataframe tbody tr th:only-of-type {\n",
       "        vertical-align: middle;\n",
       "    }\n",
       "\n",
       "    .dataframe tbody tr th {\n",
       "        vertical-align: top;\n",
       "    }\n",
       "\n",
       "    .dataframe thead th {\n",
       "        text-align: right;\n",
       "    }\n",
       "</style>\n",
       "<table border=\"1\" class=\"dataframe\">\n",
       "  <thead>\n",
       "    <tr style=\"text-align: right;\">\n",
       "      <th></th>\n",
       "      <th>status_exs_accnt_A11</th>\n",
       "      <th>status_exs_accnt_A12</th>\n",
       "      <th>status_exs_accnt_A13</th>\n",
       "      <th>status_exs_accnt_A14</th>\n",
       "      <th>cred_hist_A30</th>\n",
       "      <th>cred_hist_A31</th>\n",
       "      <th>cred_hist_A32</th>\n",
       "      <th>cred_hist_A33</th>\n",
       "      <th>cred_hist_A34</th>\n",
       "      <th>purpose_A40</th>\n",
       "      <th>...</th>\n",
       "      <th>oth_debtors_A101</th>\n",
       "      <th>oth_debtors_A102</th>\n",
       "      <th>oth_debtors_A103</th>\n",
       "      <th>forgn_wrkr_A201</th>\n",
       "      <th>forgn_wrkr_A202</th>\n",
       "      <th>duration_month</th>\n",
       "      <th>credit_amt</th>\n",
       "      <th>inst_rate</th>\n",
       "      <th>Age</th>\n",
       "      <th>existing_credit</th>\n",
       "    </tr>\n",
       "  </thead>\n",
       "  <tbody>\n",
       "    <tr>\n",
       "      <th>541</th>\n",
       "      <td>0</td>\n",
       "      <td>0</td>\n",
       "      <td>0</td>\n",
       "      <td>1</td>\n",
       "      <td>0</td>\n",
       "      <td>0</td>\n",
       "      <td>0</td>\n",
       "      <td>1</td>\n",
       "      <td>0</td>\n",
       "      <td>1</td>\n",
       "      <td>...</td>\n",
       "      <td>1</td>\n",
       "      <td>0</td>\n",
       "      <td>0</td>\n",
       "      <td>1</td>\n",
       "      <td>0</td>\n",
       "      <td>24</td>\n",
       "      <td>2032</td>\n",
       "      <td>4</td>\n",
       "      <td>60</td>\n",
       "      <td>2</td>\n",
       "    </tr>\n",
       "    <tr>\n",
       "      <th>440</th>\n",
       "      <td>0</td>\n",
       "      <td>0</td>\n",
       "      <td>0</td>\n",
       "      <td>1</td>\n",
       "      <td>0</td>\n",
       "      <td>0</td>\n",
       "      <td>1</td>\n",
       "      <td>0</td>\n",
       "      <td>0</td>\n",
       "      <td>1</td>\n",
       "      <td>...</td>\n",
       "      <td>1</td>\n",
       "      <td>0</td>\n",
       "      <td>0</td>\n",
       "      <td>1</td>\n",
       "      <td>0</td>\n",
       "      <td>12</td>\n",
       "      <td>1884</td>\n",
       "      <td>4</td>\n",
       "      <td>39</td>\n",
       "      <td>1</td>\n",
       "    </tr>\n",
       "    <tr>\n",
       "      <th>482</th>\n",
       "      <td>1</td>\n",
       "      <td>0</td>\n",
       "      <td>0</td>\n",
       "      <td>0</td>\n",
       "      <td>0</td>\n",
       "      <td>0</td>\n",
       "      <td>1</td>\n",
       "      <td>0</td>\n",
       "      <td>0</td>\n",
       "      <td>0</td>\n",
       "      <td>...</td>\n",
       "      <td>1</td>\n",
       "      <td>0</td>\n",
       "      <td>0</td>\n",
       "      <td>1</td>\n",
       "      <td>0</td>\n",
       "      <td>30</td>\n",
       "      <td>3622</td>\n",
       "      <td>4</td>\n",
       "      <td>57</td>\n",
       "      <td>2</td>\n",
       "    </tr>\n",
       "    <tr>\n",
       "      <th>422</th>\n",
       "      <td>0</td>\n",
       "      <td>1</td>\n",
       "      <td>0</td>\n",
       "      <td>0</td>\n",
       "      <td>0</td>\n",
       "      <td>0</td>\n",
       "      <td>0</td>\n",
       "      <td>0</td>\n",
       "      <td>1</td>\n",
       "      <td>1</td>\n",
       "      <td>...</td>\n",
       "      <td>1</td>\n",
       "      <td>0</td>\n",
       "      <td>0</td>\n",
       "      <td>1</td>\n",
       "      <td>0</td>\n",
       "      <td>12</td>\n",
       "      <td>958</td>\n",
       "      <td>2</td>\n",
       "      <td>47</td>\n",
       "      <td>2</td>\n",
       "    </tr>\n",
       "    <tr>\n",
       "      <th>778</th>\n",
       "      <td>0</td>\n",
       "      <td>0</td>\n",
       "      <td>0</td>\n",
       "      <td>1</td>\n",
       "      <td>0</td>\n",
       "      <td>0</td>\n",
       "      <td>0</td>\n",
       "      <td>0</td>\n",
       "      <td>1</td>\n",
       "      <td>0</td>\n",
       "      <td>...</td>\n",
       "      <td>1</td>\n",
       "      <td>0</td>\n",
       "      <td>0</td>\n",
       "      <td>1</td>\n",
       "      <td>0</td>\n",
       "      <td>36</td>\n",
       "      <td>5711</td>\n",
       "      <td>4</td>\n",
       "      <td>38</td>\n",
       "      <td>2</td>\n",
       "    </tr>\n",
       "  </tbody>\n",
       "</table>\n",
       "<p>5 rows × 50 columns</p>\n",
       "</div>"
      ],
      "text/plain": [
       "     status_exs_accnt_A11  status_exs_accnt_A12  status_exs_accnt_A13  \\\n",
       "541                     0                     0                     0   \n",
       "440                     0                     0                     0   \n",
       "482                     1                     0                     0   \n",
       "422                     0                     1                     0   \n",
       "778                     0                     0                     0   \n",
       "\n",
       "     status_exs_accnt_A14  cred_hist_A30  cred_hist_A31  cred_hist_A32  \\\n",
       "541                     1              0              0              0   \n",
       "440                     1              0              0              1   \n",
       "482                     0              0              0              1   \n",
       "422                     0              0              0              0   \n",
       "778                     1              0              0              0   \n",
       "\n",
       "     cred_hist_A33  cred_hist_A34  purpose_A40       ...         \\\n",
       "541              1              0            1       ...          \n",
       "440              0              0            1       ...          \n",
       "482              0              0            0       ...          \n",
       "422              0              1            1       ...          \n",
       "778              0              1            0       ...          \n",
       "\n",
       "     oth_debtors_A101  oth_debtors_A102  oth_debtors_A103  forgn_wrkr_A201  \\\n",
       "541                 1                 0                 0                1   \n",
       "440                 1                 0                 0                1   \n",
       "482                 1                 0                 0                1   \n",
       "422                 1                 0                 0                1   \n",
       "778                 1                 0                 0                1   \n",
       "\n",
       "     forgn_wrkr_A202  duration_month  credit_amt  inst_rate  Age  \\\n",
       "541                0              24        2032          4   60   \n",
       "440                0              12        1884          4   39   \n",
       "482                0              30        3622          4   57   \n",
       "422                0              12         958          2   47   \n",
       "778                0              36        5711          4   38   \n",
       "\n",
       "     existing_credit  \n",
       "541                2  \n",
       "440                1  \n",
       "482                2  \n",
       "422                2  \n",
       "778                2  \n",
       "\n",
       "[5 rows x 50 columns]"
      ]
     },
     "execution_count": 210,
     "metadata": {},
     "output_type": "execute_result"
    }
   ],
   "source": [
    "x_train.head()"
   ]
  },
  {
   "cell_type": "code",
   "execution_count": 211,
   "metadata": {},
   "outputs": [],
   "source": [
    "#oth_debtors_A102        -0.0164      0.495     -0.033      0.974 "
   ]
  },
  {
   "cell_type": "code",
   "execution_count": 212,
   "metadata": {},
   "outputs": [],
   "source": [
    "# print (\"\\nVariance Inflation Factor\")\n",
    "# cnames = x_train.drop(remove_cols,axis=1).columns\n",
    "# for i in np.arange(0,len(cnames)):\n",
    "#     xvars = list(cnames)\n",
    "#     yvar = xvars.pop(i)\n",
    "#     mod = sm.OLS(x_train.drop(remove_cols,axis=1)[yvar], sm.add_constant( x_train.drop (remove_cols,axis=1)[xvars]))\n",
    "#     res = mod.fit()\n",
    "#     vif = 1/(1-res.rsquared)\n",
    "#     print (yvar,round(vif,3))\n",
    "      "
   ]
  },
  {
   "cell_type": "code",
   "execution_count": 213,
   "metadata": {},
   "outputs": [],
   "source": [
    "y_pred = pd.DataFrame (logistic_model. predict(sm.add_constant (x_train.drop (remove_cols,axis=1))))\n",
    "y_pred.columns = [\"probs\"]\n",
    "both = pd.concat([y_train,y_pred],axis=1)"
   ]
  },
  {
   "cell_type": "markdown",
   "metadata": {},
   "source": []
  },
  {
   "cell_type": "code",
   "execution_count": 214,
   "metadata": {},
   "outputs": [
    {
     "data": {
      "image/png": "[encoded data removed]",
      "text/plain": [
       "<Figure size 432x288 with 1 Axes>"
      ]
     },
     "metadata": {},
     "output_type": "display_data"
    }
   ],
   "source": [
    "import matplotlib.pyplot as plt \n",
    "from sklearn import metrics \n",
    "from sklearn.metrics import auc \n",
    "fpr, tpr, thresholds = metrics.roc_curve(both['cost_matrix'],both['probs'], pos_label=1) \n",
    " \n",
    "roc_auc = auc(fpr,tpr) \n",
    "plt.figure() \n",
    "lw = 2 \n",
    "plt.plot(fpr, tpr, color='darkorange', lw=lw, label='ROC curve (area = %0.2f)' % roc_auc) \n",
    "plt.plot([0, 1], [0, 1], color='navy', lw=lw, linestyle='--') \n",
    "plt.xlim([0.0, 1.0]) \n",
    "plt.ylim([0.0, 1.05]) \n",
    "plt.xlabel('False Positive Rate (1-Specificity)') \n",
    "plt.ylabel('True Positive Rate') \n",
    "plt.title('ROC Curve - German Credit Data') \n",
    "plt.legend(loc=\"lower right\") \n",
    "plt.show() "
   ]
  },
  {
   "cell_type": "code",
   "execution_count": 215,
   "metadata": {},
   "outputs": [
    {
     "name": "stdout",
     "output_type": "stream",
     "text": [
      "Threshold 0.0 Train Accuracy: 0.2986\n",
      "Threshold 0.1 Train Accuracy: 0.5486\n",
      "Threshold 0.2 Train Accuracy: 0.68\n",
      "Threshold 0.30000000000000004 Train Accuracy: 0.7514\n",
      "Threshold 0.4 Train Accuracy: 0.7743\n",
      "Threshold 0.5 Train Accuracy: 0.7814\n",
      "Threshold 0.6000000000000001 Train Accuracy: 0.7729\n",
      "Threshold 0.7000000000000001 Train Accuracy: 0.76\n",
      "Threshold 0.8 Train Accuracy: 0.7314\n",
      "Threshold 0.9 Train Accuracy: 0.7043\n"
     ]
    }
   ],
   "source": [
    "for i in list(np.arange(0,1,0.1)):\n",
    "    both[\"y_pred\"] = 0\n",
    "    both.loc[both[\"probs\"] > i, 'y_pred'] = 1\n",
    "    print (\"Threshold\",i,\"Train Accuracy:\", round(accuracy_score(both['cost_matrix'], both['y_pred']),4))"
   ]
  },
  {
   "cell_type": "code",
   "execution_count": 216,
   "metadata": {},
   "outputs": [
    {
     "name": "stdout",
     "output_type": "stream",
     "text": [
      "\n",
      "Train Confusion Matrix\n",
      "\n",
      " Predicted    0    1\n",
      "Actuall            \n",
      "0          438   53\n",
      "1          100  109\n",
      "\n",
      "Train Accuracy: 0.7814\n"
     ]
    }
   ],
   "source": [
    "both[\"y_pred\"] = 0\n",
    "both.loc[both[\"probs\"] > 0.5, 'y_pred'] = 1\n",
    "print (\"\\nTrain Confusion Matrix\\n\\n\", pd.crosstab(both['cost_matrix'], both['y_pred'], rownames = [\"Actuall\"],colnames = [\"Predicted\"]))\n",
    "print (\"\\nTrain Accuracy:\",round(accuracy_score(both['cost_matrix'],both['y_pred']),4))"
   ]
  },
  {
   "cell_type": "code",
   "execution_count": 217,
   "metadata": {},
   "outputs": [
    {
     "name": "stdout",
     "output_type": "stream",
     "text": [
      "\n",
      "Test Confusion Matrix\n",
      "\n",
      " Predicted    0   1\n",
      "Actuall           \n",
      "0          190  19\n",
      "1           44  47\n",
      "\n",
      "Test Accuracy: 0.79\n"
     ]
    }
   ],
   "source": [
    "y_pred_test = pd.DataFrame( logistic_model.predict( sm.add_constant( x_test.drop(remove_cols,axis=1))))\n",
    "y_pred_test.columns = [\"probs\"]\n",
    "both_test = pd.concat([y_test,y_pred_test],axis=1)\n",
    "both_test[\"y_pred\"] = 0\n",
    "both_test.loc[both_test[\"probs\"] > 0.5, 'y_pred'] = 1\n",
    "print (\"\\nTest Confusion Matrix\\n\\n\", pd.crosstab( both_test['cost_matrix'],both_test['y_pred'],rownames = [\"Actuall\"],colnames = [\"Predicted\"]))\n",
    "print (\"\\nTest Accuracy:\", round(accuracy_score( both_test['cost_matrix'], both_test['y_pred']),4))"
   ]
  },
  {
   "cell_type": "code",
   "execution_count": 218,
   "metadata": {},
   "outputs": [],
   "source": [
    "remove_cols_insig = ['pre_emp_snc_A73']"
   ]
  },
  {
   "cell_type": "markdown",
   "metadata": {},
   "source": [
    "## KNN And Random Forest"
   ]
  },
  {
   "cell_type": "code",
   "execution_count": 91,
   "metadata": {},
   "outputs": [
    {
     "data": {
      "text/html": [
       "<div>\n",
       "<style scoped>\n",
       "    .dataframe tbody tr th:only-of-type {\n",
       "        vertical-align: middle;\n",
       "    }\n",
       "\n",
       "    .dataframe tbody tr th {\n",
       "        vertical-align: top;\n",
       "    }\n",
       "\n",
       "    .dataframe thead th {\n",
       "        text-align: right;\n",
       "    }\n",
       "</style>\n",
       "<table border=\"1\" class=\"dataframe\">\n",
       "  <thead>\n",
       "    <tr style=\"text-align: right;\">\n",
       "      <th></th>\n",
       "      <th>chk_acc_status</th>\n",
       "      <th>duration_month</th>\n",
       "      <th>credit_history</th>\n",
       "      <th>purpose</th>\n",
       "      <th>credit_amt</th>\n",
       "      <th>sav_acc_bond</th>\n",
       "      <th>emp_since</th>\n",
       "      <th>inst_rate</th>\n",
       "      <th>status_sex</th>\n",
       "      <th>debtors_guarantors</th>\n",
       "      <th>...</th>\n",
       "      <th>property</th>\n",
       "      <th>Age</th>\n",
       "      <th>inst_plans</th>\n",
       "      <th>housing</th>\n",
       "      <th>existing_credit</th>\n",
       "      <th>job</th>\n",
       "      <th>peoplel_liable</th>\n",
       "      <th>telephone</th>\n",
       "      <th>foreign_worker</th>\n",
       "      <th>cost_matrix</th>\n",
       "    </tr>\n",
       "  </thead>\n",
       "  <tbody>\n",
       "    <tr>\n",
       "      <th>0</th>\n",
       "      <td>A11</td>\n",
       "      <td>6</td>\n",
       "      <td>A34</td>\n",
       "      <td>A43</td>\n",
       "      <td>1169</td>\n",
       "      <td>A65</td>\n",
       "      <td>A75</td>\n",
       "      <td>4</td>\n",
       "      <td>A93</td>\n",
       "      <td>A101</td>\n",
       "      <td>...</td>\n",
       "      <td>A121</td>\n",
       "      <td>67</td>\n",
       "      <td>A143</td>\n",
       "      <td>A152</td>\n",
       "      <td>2</td>\n",
       "      <td>A173</td>\n",
       "      <td>1</td>\n",
       "      <td>A192</td>\n",
       "      <td>A201</td>\n",
       "      <td>0</td>\n",
       "    </tr>\n",
       "    <tr>\n",
       "      <th>1</th>\n",
       "      <td>A12</td>\n",
       "      <td>48</td>\n",
       "      <td>A32</td>\n",
       "      <td>A43</td>\n",
       "      <td>5951</td>\n",
       "      <td>A61</td>\n",
       "      <td>A73</td>\n",
       "      <td>2</td>\n",
       "      <td>A92</td>\n",
       "      <td>A101</td>\n",
       "      <td>...</td>\n",
       "      <td>A121</td>\n",
       "      <td>22</td>\n",
       "      <td>A143</td>\n",
       "      <td>A152</td>\n",
       "      <td>1</td>\n",
       "      <td>A173</td>\n",
       "      <td>1</td>\n",
       "      <td>A191</td>\n",
       "      <td>A201</td>\n",
       "      <td>1</td>\n",
       "    </tr>\n",
       "    <tr>\n",
       "      <th>2</th>\n",
       "      <td>A14</td>\n",
       "      <td>12</td>\n",
       "      <td>A34</td>\n",
       "      <td>A46</td>\n",
       "      <td>2096</td>\n",
       "      <td>A61</td>\n",
       "      <td>A74</td>\n",
       "      <td>2</td>\n",
       "      <td>A93</td>\n",
       "      <td>A101</td>\n",
       "      <td>...</td>\n",
       "      <td>A121</td>\n",
       "      <td>49</td>\n",
       "      <td>A143</td>\n",
       "      <td>A152</td>\n",
       "      <td>1</td>\n",
       "      <td>A172</td>\n",
       "      <td>2</td>\n",
       "      <td>A191</td>\n",
       "      <td>A201</td>\n",
       "      <td>0</td>\n",
       "    </tr>\n",
       "    <tr>\n",
       "      <th>3</th>\n",
       "      <td>A11</td>\n",
       "      <td>42</td>\n",
       "      <td>A32</td>\n",
       "      <td>A42</td>\n",
       "      <td>7882</td>\n",
       "      <td>A61</td>\n",
       "      <td>A74</td>\n",
       "      <td>2</td>\n",
       "      <td>A93</td>\n",
       "      <td>A103</td>\n",
       "      <td>...</td>\n",
       "      <td>A122</td>\n",
       "      <td>45</td>\n",
       "      <td>A143</td>\n",
       "      <td>A153</td>\n",
       "      <td>1</td>\n",
       "      <td>A173</td>\n",
       "      <td>2</td>\n",
       "      <td>A191</td>\n",
       "      <td>A201</td>\n",
       "      <td>0</td>\n",
       "    </tr>\n",
       "    <tr>\n",
       "      <th>4</th>\n",
       "      <td>A11</td>\n",
       "      <td>24</td>\n",
       "      <td>A33</td>\n",
       "      <td>A40</td>\n",
       "      <td>4870</td>\n",
       "      <td>A61</td>\n",
       "      <td>A73</td>\n",
       "      <td>3</td>\n",
       "      <td>A93</td>\n",
       "      <td>A101</td>\n",
       "      <td>...</td>\n",
       "      <td>A124</td>\n",
       "      <td>53</td>\n",
       "      <td>A143</td>\n",
       "      <td>A153</td>\n",
       "      <td>2</td>\n",
       "      <td>A173</td>\n",
       "      <td>2</td>\n",
       "      <td>A191</td>\n",
       "      <td>A201</td>\n",
       "      <td>1</td>\n",
       "    </tr>\n",
       "  </tbody>\n",
       "</table>\n",
       "<p>5 rows × 21 columns</p>\n",
       "</div>"
      ],
      "text/plain": [
       "  chk_acc_status  duration_month credit_history purpose  credit_amt  \\\n",
       "0            A11               6            A34     A43        1169   \n",
       "1            A12              48            A32     A43        5951   \n",
       "2            A14              12            A34     A46        2096   \n",
       "3            A11              42            A32     A42        7882   \n",
       "4            A11              24            A33     A40        4870   \n",
       "\n",
       "  sav_acc_bond emp_since  inst_rate status_sex debtors_guarantors     ...      \\\n",
       "0          A65       A75          4        A93               A101     ...       \n",
       "1          A61       A73          2        A92               A101     ...       \n",
       "2          A61       A74          2        A93               A101     ...       \n",
       "3          A61       A74          2        A93               A103     ...       \n",
       "4          A61       A73          3        A93               A101     ...       \n",
       "\n",
       "   property Age  inst_plans housing existing_credit   job peoplel_liable  \\\n",
       "0      A121  67        A143    A152               2  A173              1   \n",
       "1      A121  22        A143    A152               1  A173              1   \n",
       "2      A121  49        A143    A152               1  A172              2   \n",
       "3      A122  45        A143    A153               1  A173              2   \n",
       "4      A124  53        A143    A153               2  A173              2   \n",
       "\n",
       "   telephone foreign_worker cost_matrix  \n",
       "0       A192           A201           0  \n",
       "1       A191           A201           1  \n",
       "2       A191           A201           0  \n",
       "3       A191           A201           0  \n",
       "4       A191           A201           1  \n",
       "\n",
       "[5 rows x 21 columns]"
      ]
     },
     "execution_count": 91,
     "metadata": {},
     "output_type": "execute_result"
    }
   ],
   "source": [
    "dataset.head()\n"
   ]
  },
  {
   "cell_type": "code",
   "execution_count": 92,
   "metadata": {},
   "outputs": [],
   "source": [
    "dummy_stseca = pd.get_dummies(dataset['chk_acc_status'], prefix='status_exs_accnt')\n",
    "dummy_ch = pd.get_dummies(dataset['credit_history'], prefix='cred_hist')\n",
    "dummy_purpose = pd.get_dummies(dataset['purpose'], prefix='purpose')\n",
    "dummy_savacc = pd.get_dummies(dataset['sav_acc_bond'], prefix='sav_acc')\n",
    "dummy_presc = pd.get_dummies(dataset['emp_since'], prefix='pre_emp_snc')\n",
    "dummy_perssx = pd.get_dummies(dataset['status_sex'], prefix='per_stat_sx')\n",
    "dummy_property = pd.get_dummies(dataset['property'], prefix='property')\n",
    "dummy_othinstpln = pd.get_dummies(dataset['inst_plans'], prefix='oth_inst_pln')\n",
    "dummy_forgnwrkr = pd.get_dummies(dataset['foreign_worker'], prefix='forgn_wrkr')\n",
    "dummy_othdts = pd.get_dummies(dataset['debtors_guarantors'], prefix='oth_debtors')\n",
    "\n",
    "continuous_columns = ['duration_month', 'credit_amt', 'inst_rate', 'Age', 'existing_credit' ]\n",
    "\n",
    "credit_continuous = dataset[continuous_columns]\n",
    "credit_data_new = pd.concat([dummy_stseca,dummy_ch, dummy_purpose,dummy_savacc, dummy_presc,dummy_perssx, dummy_property, dummy_othinstpln,dummy_othdts, dummy_forgnwrkr,credit_continuous,dataset['cost_matrix']],axis=1)"
   ]
  },
  {
   "cell_type": "code",
   "execution_count": 93,
   "metadata": {},
   "outputs": [
    {
     "data": {
      "text/html": [
       "<div>\n",
       "<style scoped>\n",
       "    .dataframe tbody tr th:only-of-type {\n",
       "        vertical-align: middle;\n",
       "    }\n",
       "\n",
       "    .dataframe tbody tr th {\n",
       "        vertical-align: top;\n",
       "    }\n",
       "\n",
       "    .dataframe thead th {\n",
       "        text-align: right;\n",
       "    }\n",
       "</style>\n",
       "<table border=\"1\" class=\"dataframe\">\n",
       "  <thead>\n",
       "    <tr style=\"text-align: right;\">\n",
       "      <th></th>\n",
       "      <th>status_exs_accnt_A11</th>\n",
       "      <th>status_exs_accnt_A12</th>\n",
       "      <th>status_exs_accnt_A13</th>\n",
       "      <th>status_exs_accnt_A14</th>\n",
       "      <th>cred_hist_A30</th>\n",
       "      <th>cred_hist_A31</th>\n",
       "      <th>cred_hist_A32</th>\n",
       "      <th>cred_hist_A33</th>\n",
       "      <th>cred_hist_A34</th>\n",
       "      <th>purpose_A40</th>\n",
       "      <th>...</th>\n",
       "      <th>oth_debtors_A102</th>\n",
       "      <th>oth_debtors_A103</th>\n",
       "      <th>forgn_wrkr_A201</th>\n",
       "      <th>forgn_wrkr_A202</th>\n",
       "      <th>duration_month</th>\n",
       "      <th>credit_amt</th>\n",
       "      <th>inst_rate</th>\n",
       "      <th>Age</th>\n",
       "      <th>existing_credit</th>\n",
       "      <th>cost_matrix</th>\n",
       "    </tr>\n",
       "  </thead>\n",
       "  <tbody>\n",
       "    <tr>\n",
       "      <th>0</th>\n",
       "      <td>1</td>\n",
       "      <td>0</td>\n",
       "      <td>0</td>\n",
       "      <td>0</td>\n",
       "      <td>0</td>\n",
       "      <td>0</td>\n",
       "      <td>0</td>\n",
       "      <td>0</td>\n",
       "      <td>1</td>\n",
       "      <td>0</td>\n",
       "      <td>...</td>\n",
       "      <td>0</td>\n",
       "      <td>0</td>\n",
       "      <td>1</td>\n",
       "      <td>0</td>\n",
       "      <td>6</td>\n",
       "      <td>1169</td>\n",
       "      <td>4</td>\n",
       "      <td>67</td>\n",
       "      <td>2</td>\n",
       "      <td>0</td>\n",
       "    </tr>\n",
       "    <tr>\n",
       "      <th>1</th>\n",
       "      <td>0</td>\n",
       "      <td>1</td>\n",
       "      <td>0</td>\n",
       "      <td>0</td>\n",
       "      <td>0</td>\n",
       "      <td>0</td>\n",
       "      <td>1</td>\n",
       "      <td>0</td>\n",
       "      <td>0</td>\n",
       "      <td>0</td>\n",
       "      <td>...</td>\n",
       "      <td>0</td>\n",
       "      <td>0</td>\n",
       "      <td>1</td>\n",
       "      <td>0</td>\n",
       "      <td>48</td>\n",
       "      <td>5951</td>\n",
       "      <td>2</td>\n",
       "      <td>22</td>\n",
       "      <td>1</td>\n",
       "      <td>1</td>\n",
       "    </tr>\n",
       "    <tr>\n",
       "      <th>2</th>\n",
       "      <td>0</td>\n",
       "      <td>0</td>\n",
       "      <td>0</td>\n",
       "      <td>1</td>\n",
       "      <td>0</td>\n",
       "      <td>0</td>\n",
       "      <td>0</td>\n",
       "      <td>0</td>\n",
       "      <td>1</td>\n",
       "      <td>0</td>\n",
       "      <td>...</td>\n",
       "      <td>0</td>\n",
       "      <td>0</td>\n",
       "      <td>1</td>\n",
       "      <td>0</td>\n",
       "      <td>12</td>\n",
       "      <td>2096</td>\n",
       "      <td>2</td>\n",
       "      <td>49</td>\n",
       "      <td>1</td>\n",
       "      <td>0</td>\n",
       "    </tr>\n",
       "    <tr>\n",
       "      <th>3</th>\n",
       "      <td>1</td>\n",
       "      <td>0</td>\n",
       "      <td>0</td>\n",
       "      <td>0</td>\n",
       "      <td>0</td>\n",
       "      <td>0</td>\n",
       "      <td>1</td>\n",
       "      <td>0</td>\n",
       "      <td>0</td>\n",
       "      <td>0</td>\n",
       "      <td>...</td>\n",
       "      <td>0</td>\n",
       "      <td>1</td>\n",
       "      <td>1</td>\n",
       "      <td>0</td>\n",
       "      <td>42</td>\n",
       "      <td>7882</td>\n",
       "      <td>2</td>\n",
       "      <td>45</td>\n",
       "      <td>1</td>\n",
       "      <td>0</td>\n",
       "    </tr>\n",
       "    <tr>\n",
       "      <th>4</th>\n",
       "      <td>1</td>\n",
       "      <td>0</td>\n",
       "      <td>0</td>\n",
       "      <td>0</td>\n",
       "      <td>0</td>\n",
       "      <td>0</td>\n",
       "      <td>0</td>\n",
       "      <td>1</td>\n",
       "      <td>0</td>\n",
       "      <td>1</td>\n",
       "      <td>...</td>\n",
       "      <td>0</td>\n",
       "      <td>0</td>\n",
       "      <td>1</td>\n",
       "      <td>0</td>\n",
       "      <td>24</td>\n",
       "      <td>4870</td>\n",
       "      <td>3</td>\n",
       "      <td>53</td>\n",
       "      <td>2</td>\n",
       "      <td>1</td>\n",
       "    </tr>\n",
       "  </tbody>\n",
       "</table>\n",
       "<p>5 rows × 51 columns</p>\n",
       "</div>"
      ],
      "text/plain": [
       "   status_exs_accnt_A11  status_exs_accnt_A12  status_exs_accnt_A13  \\\n",
       "0                     1                     0                     0   \n",
       "1                     0                     1                     0   \n",
       "2                     0                     0                     0   \n",
       "3                     1                     0                     0   \n",
       "4                     1                     0                     0   \n",
       "\n",
       "   status_exs_accnt_A14  cred_hist_A30  cred_hist_A31  cred_hist_A32  \\\n",
       "0                     0              0              0              0   \n",
       "1                     0              0              0              1   \n",
       "2                     1              0              0              0   \n",
       "3                     0              0              0              1   \n",
       "4                     0              0              0              0   \n",
       "\n",
       "   cred_hist_A33  cred_hist_A34  purpose_A40     ...       oth_debtors_A102  \\\n",
       "0              0              1            0     ...                      0   \n",
       "1              0              0            0     ...                      0   \n",
       "2              0              1            0     ...                      0   \n",
       "3              0              0            0     ...                      0   \n",
       "4              1              0            1     ...                      0   \n",
       "\n",
       "   oth_debtors_A103  forgn_wrkr_A201  forgn_wrkr_A202  duration_month  \\\n",
       "0                 0                1                0               6   \n",
       "1                 0                1                0              48   \n",
       "2                 0                1                0              12   \n",
       "3                 1                1                0              42   \n",
       "4                 0                1                0              24   \n",
       "\n",
       "   credit_amt  inst_rate  Age  existing_credit  cost_matrix  \n",
       "0        1169          4   67                2            0  \n",
       "1        5951          2   22                1            1  \n",
       "2        2096          2   49                1            0  \n",
       "3        7882          2   45                1            0  \n",
       "4        4870          3   53                2            1  \n",
       "\n",
       "[5 rows x 51 columns]"
      ]
     },
     "execution_count": 93,
     "metadata": {},
     "output_type": "execute_result"
    }
   ],
   "source": [
    "credit_data_new.head()"
   ]
  },
  {
   "cell_type": "markdown",
   "metadata": {},
   "source": [
    "0.666 , chk_acc_status ,type = object\n",
    "0.293 , credit_history ,type = object\n",
    "0.261 , duration_month ,type = int64\n",
    "0.196 , sav_acc_bond ,type = object\n",
    "0.169 , purpose ,type = object\n",
    "0.113 , property ,type = object\n",
    "0.113 , credit_amt ,type = int64\n",
    "0.103 , Age ,type = int64\n",
    "0.098 , existing_credit ,type = int64\n",
    "0.086 , emp_since ,type = object\n",
    "0.083 , housing ,type = object\n",
    "0.062 , inst_rate ,type = int64\n",
    "0.058 , inst_plans ,type = object\n",
    "0.049 , residence_since ,type = int64\n",
    "0.045 , status_sex ,type = object\n",
    "0.044 , foreign_worker ,type = object\n",
    "0.034 , peoplel_liable ,type = int64\n",
    "0.032 , debtors_guarantors ,type = object\n",
    "0.009 , job ,type = object\n",
    "0.006 , telephone ,type = object"
   ]
  },
  {
   "cell_type": "code",
   "execution_count": 94,
   "metadata": {},
   "outputs": [],
   "source": [
    "remove_cols_extra_dummy = [ 'cred_hist_A30', 'purpose_A40', 'sav_acc_A61','pre_emp_snc_A71','per_stat_sx_A91', \n",
    "                           'oth_debtors_A101','property_A121', 'oth_inst_pln_A141',\n",
    "                           'oth_debtors_A102',\n",
    "       'oth_debtors_A103',\n",
    "                           'forgn_wrkr_A201','forgn_wrkr_A202']"
   ]
  },
  {
   "cell_type": "code",
   "execution_count": 95,
   "metadata": {},
   "outputs": [],
   "source": [
    "remove_cols_insig = []\n",
    "remove_cols = list(set(remove_cols_extra_dummy+remove_cols_insig))"
   ]
  },
  {
   "cell_type": "code",
   "execution_count": 96,
   "metadata": {},
   "outputs": [],
   "source": [
    "credit_data_new = credit_data_new.drop( remove_cols_extra_dummy, axis=1)"
   ]
  },
  {
   "cell_type": "code",
   "execution_count": 97,
   "metadata": {},
   "outputs": [],
   "source": [
    "random_dataset = credit_data_new"
   ]
  },
  {
   "cell_type": "code",
   "execution_count": 98,
   "metadata": {},
   "outputs": [
    {
     "data": {
      "text/plain": [
       "Index(['status_exs_accnt_A11', 'status_exs_accnt_A12', 'status_exs_accnt_A13',\n",
       "       'status_exs_accnt_A14', 'cred_hist_A31', 'cred_hist_A32',\n",
       "       'cred_hist_A33', 'cred_hist_A34', 'purpose_A41', 'purpose_A410',\n",
       "       'purpose_A42', 'purpose_A43', 'purpose_A44', 'purpose_A45',\n",
       "       'purpose_A46', 'purpose_A48', 'purpose_A49', 'sav_acc_A62',\n",
       "       'sav_acc_A63', 'sav_acc_A64', 'sav_acc_A65', 'pre_emp_snc_A72',\n",
       "       'pre_emp_snc_A73', 'pre_emp_snc_A74', 'pre_emp_snc_A75',\n",
       "       'per_stat_sx_A92', 'per_stat_sx_A93', 'per_stat_sx_A94',\n",
       "       'property_A122', 'property_A123', 'property_A124', 'oth_inst_pln_A142',\n",
       "       'oth_inst_pln_A143', 'duration_month', 'credit_amt', 'inst_rate', 'Age',\n",
       "       'existing_credit', 'cost_matrix'],\n",
       "      dtype='object')"
      ]
     },
     "execution_count": 98,
     "metadata": {},
     "output_type": "execute_result"
    }
   ],
   "source": [
    "random_dataset.keys()"
   ]
  },
  {
   "cell_type": "markdown",
   "metadata": {},
   "source": [
    "### Random Forest"
   ]
  },
  {
   "cell_type": "code",
   "execution_count": 99,
   "metadata": {},
   "outputs": [],
   "source": [
    "from sklearn.ensemble import RandomForestClassifier"
   ]
  },
  {
   "cell_type": "code",
   "execution_count": 100,
   "metadata": {},
   "outputs": [
    {
     "name": "stderr",
     "output_type": "stream",
     "text": [
      "/anaconda3/lib/python3.6/site-packages/sklearn/model_selection/_split.py:2026: FutureWarning: From version 0.21, test_size will always complement train_size unless both are specified.\n",
      "  FutureWarning)\n"
     ]
    }
   ],
   "source": [
    " x_train,x_test,y_train,y_test = train_test_split( credit_data_new.drop( ['cost_matrix'],axis=1),credit_data_new['cost_matrix'],train_size = 0.7,random_state=42)"
   ]
  },
  {
   "cell_type": "code",
   "execution_count": 101,
   "metadata": {},
   "outputs": [
    {
     "name": "stdout",
     "output_type": "stream",
     "text": [
      "\n",
      "Random Forest -Train Confusion Matrix\n",
      "\n",
      " Predicted    0    1\n",
      "Actual             \n",
      "0          491    0\n",
      "1           35  174\n",
      "\n",
      " Random Forest - Train accuracy 0.95\n",
      "\n",
      "Random Forest - Test Confusion Matrix\n",
      "\n",
      " Predicted    0   1\n",
      "Actual            \n",
      "0          195  14\n",
      "1           56  35\n",
      "\n",
      "Random Forest - Test accuracy 0.767\n"
     ]
    }
   ],
   "source": [
    "rf_fit = RandomForestClassifier( n_estimators=1000, criterion=\"gini\", max_depth=100, min_samples_split=3,min_samples_leaf=2)\n",
    "rf_fit.fit(x_train,y_train)\n",
    "\n",
    "print (\"\\nRandom Forest -Train Confusion Matrix\\n\\n\", pd.crosstab(y_train, rf_fit.predict( x_train),rownames = [\"Actual\"],colnames = [\"Predicted\"]))\n",
    "print (\"\\n Random Forest - Train accuracy\",round(accuracy_score( y_train, rf_fit.predict(x_train)),3))\n",
    "\n",
    "print (\"\\nRandom Forest - Test Confusion Matrix\\n\\n\",pd.crosstab(y_test, rf_fit.predict(x_test),rownames = [\"Actual\"],colnames = [\"Predicted\"]))\n",
    "print (\"\\nRandom Forest - Test accuracy\",round(accuracy_score(y_test, rf_fit.predict(x_test)),3))"
   ]
  },
  {
   "cell_type": "code",
   "execution_count": 349,
   "metadata": {},
   "outputs": [
    {
     "data": {
      "image/png": "[encoded data removed]",
      "text/plain": [
       "<Figure size 432x288 with 1 Axes>"
      ]
     },
     "metadata": {},
     "output_type": "display_data"
    }
   ],
   "source": [
    "predictors = ['status_exs_accnt_A11', 'status_exs_accnt_A12', 'status_exs_accnt_A13',\n",
    "       'status_exs_accnt_A14', 'cred_hist_A31', 'cred_hist_A32',\n",
    "       'cred_hist_A33', 'cred_hist_A34', 'purpose_A41', 'purpose_A410',\n",
    "       'purpose_A42', 'purpose_A43', 'purpose_A44', 'purpose_A45',\n",
    "       'purpose_A46', 'purpose_A48', 'purpose_A49', 'sav_acc_A62',\n",
    "       'sav_acc_A63', 'sav_acc_A64', 'sav_acc_A65', 'pre_emp_snc_A72',\n",
    "       'pre_emp_snc_A73', 'pre_emp_snc_A74', 'pre_emp_snc_A75',\n",
    "       'per_stat_sx_A92', 'per_stat_sx_A93', 'per_stat_sx_A94',\n",
    "       'property_A122', 'property_A123', 'property_A124', 'oth_inst_pln_A142',\n",
    "       'oth_inst_pln_A143', 'duration_month', 'credit_amt', 'inst_rate', 'Age',\n",
    "       'existing_credit']\n",
    "tmp = pd.DataFrame({'Feature': predictors, 'Feature Importance': rf_fit.feature_importances_ })\n",
    "tmp = tmp.sort_values(by='Feature Importance', ascending= False)\n",
    "plt.Figure(figsize= (7,4))\n",
    "plt.title('Feature Importance', fontsize = 14)\n",
    "s = sns.barplot(x = 'Feature', y = 'Feature Importance', data = tmp)\n",
    "s.set_xticklabels(s.get_xticklabels(), rotation = 90)\n",
    "plt.show()"
   ]
  },
  {
   "cell_type": "markdown",
   "metadata": {},
   "source": [
    "### KNN"
   ]
  },
  {
   "cell_type": "code",
   "execution_count": 102,
   "metadata": {},
   "outputs": [
    {
     "data": {
      "text/plain": [
       "Index(['status_exs_accnt_A11', 'status_exs_accnt_A12', 'status_exs_accnt_A13',\n",
       "       'status_exs_accnt_A14', 'cred_hist_A31', 'cred_hist_A32',\n",
       "       'cred_hist_A33', 'cred_hist_A34', 'purpose_A41', 'purpose_A410',\n",
       "       'purpose_A42', 'purpose_A43', 'purpose_A44', 'purpose_A45',\n",
       "       'purpose_A46', 'purpose_A48', 'purpose_A49', 'sav_acc_A62',\n",
       "       'sav_acc_A63', 'sav_acc_A64', 'sav_acc_A65', 'pre_emp_snc_A72',\n",
       "       'pre_emp_snc_A73', 'pre_emp_snc_A74', 'pre_emp_snc_A75',\n",
       "       'per_stat_sx_A92', 'per_stat_sx_A93', 'per_stat_sx_A94',\n",
       "       'property_A122', 'property_A123', 'property_A124', 'oth_inst_pln_A142',\n",
       "       'oth_inst_pln_A143', 'duration_month', 'credit_amt', 'inst_rate', 'Age',\n",
       "       'existing_credit', 'cost_matrix'],\n",
       "      dtype='object')"
      ]
     },
     "execution_count": 102,
     "metadata": {},
     "output_type": "execute_result"
    }
   ],
   "source": [
    "credit_data_new.keys()"
   ]
  },
  {
   "cell_type": "code",
   "execution_count": 103,
   "metadata": {},
   "outputs": [
    {
     "data": {
      "text/plain": [
       "(1000, 39)"
      ]
     },
     "execution_count": 103,
     "metadata": {},
     "output_type": "execute_result"
    }
   ],
   "source": [
    "credit_data_new.shape"
   ]
  },
  {
   "cell_type": "code",
   "execution_count": 104,
   "metadata": {},
   "outputs": [
    {
     "name": "stderr",
     "output_type": "stream",
     "text": [
      "/anaconda3/lib/python3.6/site-packages/sklearn/utils/validation.py:475: DataConversionWarning: Data with input dtype int64 was converted to float64 by StandardScaler.\n",
      "  warnings.warn(msg, DataConversionWarning)\n",
      "/anaconda3/lib/python3.6/site-packages/sklearn/utils/validation.py:475: DataConversionWarning: Data with input dtype int64 was converted to float64 by StandardScaler.\n",
      "  warnings.warn(msg, DataConversionWarning)\n"
     ]
    }
   ],
   "source": [
    "x_vars = credit_data_new.drop(['cost_matrix'],axis=1) \n",
    "y_var = credit_data_new['cost_matrix'] \n",
    "from sklearn.preprocessing import StandardScaler \n",
    "x_vars_stdscle = StandardScaler().fit_transform(x_vars.values) \n",
    "from sklearn.model_selection import train_test_split "
   ]
  },
  {
   "cell_type": "code",
   "execution_count": 105,
   "metadata": {},
   "outputs": [
    {
     "name": "stderr",
     "output_type": "stream",
     "text": [
      "/anaconda3/lib/python3.6/site-packages/sklearn/model_selection/_split.py:2026: FutureWarning: From version 0.21, test_size will always complement train_size unless both are specified.\n",
      "  FutureWarning)\n"
     ]
    }
   ],
   "source": [
    "x_vars_stdscle_df = pd.DataFrame(x_vars_stdscle, index=x_vars.index, columns=x_vars.columns) \n",
    "x_train,x_test,y_train,y_test = train_test_split(x_vars_stdscle_df,y_var, train_size = 0.7,random_state=42)"
   ]
  },
  {
   "cell_type": "code",
   "execution_count": 107,
   "metadata": {},
   "outputs": [
    {
     "name": "stdout",
     "output_type": "stream",
     "text": [
      "\n",
      "K-Nearest Neighbors - Train Confusion Matrix\n",
      "\n",
      " Predicted    0    1\n",
      "Actual             \n",
      "0          443   48\n",
      "1           73  136\n",
      "\n",
      "K-Nearest Neighbors - Train accuracy: 0.827\n",
      "\n",
      "K-Nearest Neighbors - Train Classification Report\n",
      "              precision    recall  f1-score   support\n",
      "\n",
      "          0       0.86      0.90      0.88       491\n",
      "          1       0.74      0.65      0.69       209\n",
      "\n",
      "avg / total       0.82      0.83      0.82       700\n",
      "\n",
      "\n",
      "\n",
      "K-Nearest Neighbors - Test Confusion Matrix\n",
      "\n",
      " Predicted    0   1\n",
      "Actual            \n",
      "0          170  39\n",
      "1           52  39\n",
      "\n",
      "K-Nearest Neighbors - Test accuracy: 0.697\n",
      "\n",
      "K-Nearest Neighbors - Test Classification Report\n",
      "              precision    recall  f1-score   support\n",
      "\n",
      "          0       0.77      0.81      0.79       209\n",
      "          1       0.50      0.43      0.46        91\n",
      "\n",
      "avg / total       0.69      0.70      0.69       300\n",
      "\n"
     ]
    }
   ],
   "source": [
    "from sklearn.neighbors import KNeighborsClassifier \n",
    "knn_fit = KNeighborsClassifier(n_neighbors=3,p=2,metric='minkowski') \n",
    "knn_fit.fit(x_train,y_train) \n",
    " \n",
    "print (\"\\nK-Nearest Neighbors - Train Confusion Matrix\\n\\n\",pd.crosstab(y_train, knn_fit.predict(x_train),rownames = [\"Actual\"],colnames = [\"Predicted\"]) )      \n",
    "print (\"\\nK-Nearest Neighbors - Train accuracy:\",round(accuracy_score(y_train, knn_fit.predict(x_train)),3)) \n",
    "print (\"\\nK-Nearest Neighbors - Train Classification Report\\n\", classification_report( y_train,knn_fit.predict(x_train))) \n",
    " \n",
    "print (\"\\n\\nK-Nearest Neighbors - Test Confusion Matrix\\n\\n\",pd.crosstab(y_test, knn_fit.predict(x_test),rownames = [\"Actual\"],colnames = [\"Predicted\"]))       \n",
    "print (\"\\nK-Nearest Neighbors - Test accuracy:\",round(accuracy_score( y_test,knn_fit.predict(x_test)),3)) \n",
    "print (\"\\nK-Nearest Neighbors - Test Classification Report\\n\", classification_report(y_test,knn_fit.predict(x_test))) \n",
    " "
   ]
  },
  {
   "cell_type": "markdown",
   "metadata": {},
   "source": [
    "### Feature Importance"
   ]
  },
  {
   "cell_type": "code",
   "execution_count": null,
   "metadata": {},
   "outputs": [],
   "source": [
    "tmp = pd.DataFrame({'Feature': predictors, 'Feature Importance': clf3.feature_importances_ })\n",
    "tmp = tmp.sort_values(by='Feature Importance', ascending= False)\n",
    "plt.Figure(figsize= (7,4))\n",
    "plt.title('Feature Importance', fontsize = 14)\n",
    "s = sns.barplot(x = 'Feature', y = 'Feature Importance', data = tmp)\n",
    "s.set_xticklabels(s.get_xticklabels(), rotation = 90)\n",
    "plt.show()"
   ]
  }
 ],
 "metadata": {
  "kernelspec": {
   "display_name": "Python 3",
   "language": "python",
   "name": "python3"
  },
  "language_info": {
   "codemirror_mode": {
    "name": "ipython",
    "version": 3
   },
   "file_extension": ".py",
   "mimetype": "text/x-python",
   "name": "python",
   "nbconvert_exporter": "python",
   "pygments_lexer": "ipython3",
   "version": "3.6.5"
  }
 },
 "nbformat": 4,
 "nbformat_minor": 2
}
