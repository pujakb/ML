{
 "cells": [
  {
   "cell_type": "markdown",
   "metadata": {
    "_uuid": "3ec377e833ae67a08fd3d8cff17e7dbc720e693b"
   },
   "source": [
    "# Amazon Reviews on kindle products"
   ]
  },
  {
   "cell_type": "markdown",
   "metadata": {
    "_uuid": "05fca8a3331acaf07de1fc6c1cd08a4d40b6405b"
   },
   "source": [
    "![alt text](https://i.guim.co.uk/img/media/f5da07b449b6dfe3891a8462b44f4050d272880b/0_0_3200_2360/master/3200.jpg?w=620&q=20&auto=format&usm=12&fit=max&dpr=2&s=211109be6ff35dad62c27fae8ff20797)\n",
    "\n"
   ]
  },
  {
   "cell_type": "markdown",
   "metadata": {
    "_uuid": "98b027f759cdcc3719389bb739e3729938c5a28e"
   },
   "source": [
    "### The scope of the project is to explore the reviews submitted by users and understand in depth about the recommendations"
   ]
  },
  {
   "cell_type": "markdown",
   "metadata": {
    "_uuid": "bdae978bc86d32a515ac3dc03c46b219a9fb64ca"
   },
   "source": [
    "The outline for the project will be as follows- \n",
    "1. Understand and clean the data\n",
    "    - Check for null values\n",
    "    - Drop columns which arent useful\n",
    "2. Speculate whether ratings are genuine ?\n",
    "    - what if the one user is trying to give all rating ?\n",
    "    - How will the distribution look for bulk users ?\n",
    "    - How many users are bulk ?\n",
    "3. Find the NPS net promoter score of amazon\n",
    "    - What's NPS score ?\n",
    "    - How do we calculated for amazon  ?\n",
    "4. Pick a product and deep dive\n",
    "    - We will pick one variation of kindle product drill & analyse its characteristics\n",
    "5. [Paper white kindle] - NPS score  ? \n",
    "6. [Paper white kindle] - Plot time series for review\n",
    "    - How to handle date time text ?\n",
    "    - How to plot time series on a graph ? \n",
    "    - How does the graph look like in small intervals of 5 days or 10 days or 30 days ?\n",
    "    - Did the performance (NPS) go up or down with time ?\n",
    "7. [Paper white kindle] Predict Recommendations based on reviews content\n",
    "    - Make a clean function\n",
    "        - Remove punctuations\n",
    "        - Remove stopwords\n",
    "        - Stem vs Lemmatize\n",
    "    - Create a TFIDF vectorizer\n",
    "    - Create Features\n",
    "    - Understand and explore sentiment analysis\n",
    "        - Use compound feature\n",
    "    - Use RandomForestClassifier\n",
    "    - Check the score \n",
    "        "
   ]
  },
  {
   "cell_type": "markdown",
   "metadata": {
    "_uuid": "b39efe6d619332b97df08bcf940f11098da2e1d4"
   },
   "source": [
    "# 1. Understand and clean the data\n",
    "\n",
    "- Check for null values\n",
    "- Drop columns which arent useful\n"
   ]
  },
  {
   "cell_type": "code",
   "execution_count": 13,
   "metadata": {
    "_uuid": "50c9c147a86568a445448c9d7713691161561c46"
   },
   "outputs": [],
   "source": [
    "import pandas as pd\n",
    "import numpy as np"
   ]
  },
  {
   "cell_type": "code",
   "execution_count": 18,
   "metadata": {
    "_uuid": "a7c8ac6dd6ab64320f69f0d81d4a391d2b539c6a"
   },
   "outputs": [
    {
     "name": "stderr",
     "output_type": "stream",
     "text": [
      "C:\\Users\\PB\\Anaconda3\\lib\\site-packages\\IPython\\core\\interactiveshell.py:2785: DtypeWarning: Columns (1,10) have mixed types. Specify dtype option on import or set low_memory=False.\n",
      "  interactivity=interactivity, compiler=compiler, result=result)\n"
     ]
    }
   ],
   "source": [
    "reviews = pd.read_csv('1429_1.csv')\n",
    "reviews.columns = ['id', 'name', 'asins', 'brand', 'categories', 'keys', 'manufacturer','date', 'dateAdded', 'dateSeen',\n",
    "       'didPurchase', 'doRecommend', 'id','numHelpful', 'rating', 'sourceURLs','text', 'title', 'userCity',\n",
    "       'userProvince', 'username']"
   ]
  },
  {
   "cell_type": "code",
   "execution_count": 19,
   "metadata": {
    "_uuid": "39ddc5d38140fecebec976e0eb1621bb28baf2b1"
   },
   "outputs": [
    {
     "data": {
      "text/plain": [
       "id                 42\n",
       "name               48\n",
       "asins              41\n",
       "brand               6\n",
       "categories         41\n",
       "keys               42\n",
       "manufacturer        2\n",
       "date             1078\n",
       "dateAdded        1941\n",
       "dateSeen         3911\n",
       "didPurchase         1\n",
       "doRecommend         2\n",
       "id                  1\n",
       "numHelpful         97\n",
       "rating              5\n",
       "sourceURLs      11929\n",
       "text            34659\n",
       "title           19767\n",
       "userCity            0\n",
       "userProvince        0\n",
       "username        26789\n",
       "dtype: int64"
      ]
     },
     "execution_count": 19,
     "metadata": {},
     "output_type": "execute_result"
    }
   ],
   "source": [
    "reviews.nunique()"
   ]
  },
  {
   "cell_type": "markdown",
   "metadata": {
    "_uuid": "5d9472079b7d6556982ba0c2ed58472a912406a9"
   },
   "source": [
    "There are lot of null values and irrelevant columns "
   ]
  },
  {
   "cell_type": "code",
   "execution_count": 20,
   "metadata": {
    "_uuid": "7cc69fe22052373447b877c2af4788cfcccaf31a"
   },
   "outputs": [
    {
     "data": {
      "text/plain": [
       "id                  0\n",
       "name             6760\n",
       "asins               2\n",
       "brand               0\n",
       "categories          0\n",
       "keys                0\n",
       "manufacturer        0\n",
       "date               39\n",
       "dateAdded       10621\n",
       "dateSeen            0\n",
       "didPurchase     34659\n",
       "doRecommend       594\n",
       "id              34659\n",
       "numHelpful        529\n",
       "rating             33\n",
       "sourceURLs          0\n",
       "text                1\n",
       "title               5\n",
       "userCity        34660\n",
       "userProvince    34660\n",
       "username            2\n",
       "dtype: int64"
      ]
     },
     "execution_count": 20,
     "metadata": {},
     "output_type": "execute_result"
    }
   ],
   "source": [
    "reviews.isnull().sum()\n",
    "#lets drop usernames, userProvince,id,didPurchase"
   ]
  },
  {
   "cell_type": "code",
   "execution_count": 21,
   "metadata": {
    "_uuid": "1a271773e9c1f492f7cc9953c18a9ff242e0726a"
   },
   "outputs": [],
   "source": [
    "reviews.drop(labels=['didPurchase','id','userCity','userProvince'],axis=1,inplace=True)"
   ]
  },
  {
   "cell_type": "code",
   "execution_count": 22,
   "metadata": {
    "_uuid": "6581a6039a93e27f361791e5f8d61284fbe7f0c2"
   },
   "outputs": [
    {
     "data": {
      "text/plain": [
       "name             6760\n",
       "asins               2\n",
       "brand               0\n",
       "categories          0\n",
       "keys                0\n",
       "manufacturer        0\n",
       "date               39\n",
       "dateAdded       10621\n",
       "dateSeen            0\n",
       "doRecommend       594\n",
       "numHelpful        529\n",
       "rating             33\n",
       "sourceURLs          0\n",
       "text                1\n",
       "title               5\n",
       "username            2\n",
       "dtype: int64"
      ]
     },
     "execution_count": 22,
     "metadata": {},
     "output_type": "execute_result"
    }
   ],
   "source": [
    "reviews.isnull().sum()"
   ]
  },
  {
   "cell_type": "markdown",
   "metadata": {
    "_uuid": "054b8dfd4af2c963bbd83dbb013156ee7da9693c"
   },
   "source": [
    "# 2. Speculate whether ratings are genuine ?\n",
    "- what if the one user is trying to give all rating ?\n",
    "- How will the distribution look for bulk users ?\n",
    "- How many users are bulk ?"
   ]
  },
  {
   "cell_type": "markdown",
   "metadata": {
    "_uuid": "d716ccbc94e11e71a9c4e44efe5bb1351ed185f9"
   },
   "source": [
    "### Are the all the reviews given by same group of users ? "
   ]
  },
  {
   "cell_type": "code",
   "execution_count": 45,
   "metadata": {
    "_uuid": "ba2df8c6596037edadec49c5df75fbadb0a670d1"
   },
   "outputs": [
    {
     "name": "stdout",
     "output_type": "stream",
     "text": [
      "Total ratings : 34658\n",
      "Total users : 26789\n",
      "Users giving bulk ratings (more than 10) : 146\n",
      "Bulk ratings : 3160\n",
      "Populations of bulk ratings : 9.117664031392463\n",
      "Populations of bulk users : 0.5449998133562283\n"
     ]
    },
    {
     "data": {
      "text/plain": [
       "<matplotlib.axes._subplots.AxesSubplot at 0xa9b6470>"
      ]
     },
     "execution_count": 45,
     "metadata": {},
     "output_type": "execute_result"
    },
    {
     "data": {
      "image/png": "[encoded data removed]",
      "text/plain": [
       "<Figure size 720x720 with 1 Axes>"
      ]
     },
     "metadata": {},
     "output_type": "display_data"
    }
   ],
   "source": [
    "rating_perperson=reviews.username.value_counts()\n",
    "# print(rating_perperson.value_counts())\n",
    "print (\"Total ratings : \" + str(sum(rating_perperson)))\n",
    "print (\"Total users : \" + str(len(rating_perperson)))\n",
    "print(\"Users giving bulk ratings (more than 10) : \" + str(sum(rating_perperson >10)))\n",
    "bulk = rating_perperson[rating_perperson >10]\n",
    "bulk_rating = sum(bulk)\n",
    "print (\"Bulk ratings : \" + str(bulk_rating))\n",
    "print (\"Populations of bulk ratings : \" + str(bulk_rating*100/sum(rating_perperson)))\n",
    "print (\"Populations of bulk users : \" + str(sum(rating_perperson >10)*100/len(rating_perperson)))\n",
    "rating_perperson.value_counts().plot(kind='pie',figsize=(10,10), title='Ratings Per User')"
   ]
  },
  {
   "cell_type": "markdown",
   "metadata": {
    "_uuid": "4d073e14716344cb834d4d072da933162b0e2e6f"
   },
   "source": [
    "#### Although the pie chart reveals that most of the users have given single rating but its interesting to note following fact\n",
    " #### 1 : Only 0.55 % of the users are bulk users\n",
    " #### 2 : Around 9 % of the ratings have been submitted by just 0.55% users - Does it seem odd to you ?"
   ]
  },
  {
   "cell_type": "code",
   "execution_count": 46,
   "metadata": {
    "_uuid": "0578dce374371cab6dbb07ad460846f43f00051b"
   },
   "outputs": [
    {
     "name": "stdout",
     "output_type": "stream",
     "text": [
      "[<matplotlib.axes._subplots.AxesSubplot object at 0x000000000A9A8DD8>\n",
      " <matplotlib.axes._subplots.AxesSubplot object at 0x000000000B154B38>]\n",
      "count    3158.000000\n",
      "mean        4.593414\n",
      "std         0.732940\n",
      "min         1.000000\n",
      "25%         4.000000\n",
      "50%         5.000000\n",
      "75%         5.000000\n",
      "max         5.000000\n",
      "Name: rating, dtype: float64\n",
      "count    31469.000000\n",
      "mean         4.583686\n",
      "std          0.735930\n",
      "min          1.000000\n",
      "25%          4.000000\n",
      "50%          5.000000\n",
      "75%          5.000000\n",
      "max          5.000000\n",
      "Name: rating, dtype: float64\n"
     ]
    },
    {
     "data": {
      "image/png": "[encoded data removed]",
      "text/plain": [
       "<Figure size 432x288 with 2 Axes>"
      ]
     },
     "metadata": {},
     "output_type": "display_data"
    }
   ],
   "source": [
    "reviews['bulk']= reviews['username'].apply(lambda x : 1 if x in bulk.index else 0)\n",
    "#gives us the category whether a rating is bulk or not\n",
    "from matplotlib import pyplot\n",
    "#series.hist(by=series)\n",
    "print(reviews.rating.hist(by=reviews.bulk))\n",
    "print(reviews[reviews.bulk==1].rating.describe())\n",
    "print(reviews[reviews.bulk==0].rating.describe())\n"
   ]
  },
  {
   "cell_type": "markdown",
   "metadata": {
    "_uuid": "f9ac0fd94b8321fe55db3ffa50b88365ca3e6d06"
   },
   "source": [
    "### Well ! that picture says it all. Now we dont think that bulk users are spam since the have the same rating distribution as others"
   ]
  },
  {
   "cell_type": "markdown",
   "metadata": {
    "_uuid": "23792a4ee73309b23749d41bb4c115a94c05a7fb"
   },
   "source": [
    "### Distribution of User rating"
   ]
  },
  {
   "cell_type": "code",
   "execution_count": 25,
   "metadata": {
    "_uuid": "6b09c12f0fba457f2e633af7947443c0766bed25"
   },
   "outputs": [
    {
     "name": "stdout",
     "output_type": "stream",
     "text": [
      "*** Rating distribution ***\n",
      "5.0    23775\n",
      "4.0     8541\n",
      "3.0     1499\n",
      "1.0      410\n",
      "2.0      402\n",
      "Name: rating, dtype: int64\n"
     ]
    },
    {
     "data": {
      "text/plain": [
       "<matplotlib.axes._subplots.AxesSubplot at 0x98f04e0>"
      ]
     },
     "execution_count": 25,
     "metadata": {},
     "output_type": "execute_result"
    },
    {
     "data": {
      "image/png": "[encoded data removed]",
      "text/plain": [
       "<Figure size 432x432 with 1 Axes>"
      ]
     },
     "metadata": {},
     "output_type": "display_data"
    }
   ],
   "source": [
    "from matplotlib import pyplot\n",
    "%matplotlib inline\n",
    "\n",
    "star = reviews.rating.value_counts()\n",
    "print(\"*** Rating distribution ***\")\n",
    "print(star)\n",
    "star.sort_index(inplace=True)\n",
    "star.plot(kind='bar',title='Amazon customer ratings',figsize=(6,6),style='Solarize_Light2')"
   ]
  },
  {
   "cell_type": "markdown",
   "metadata": {
    "_uuid": "ad1b5f49515b16bf1d74b40bf9f6a5a4f1e964fd"
   },
   "source": [
    "# 3. Find the NPS net promoter score of amazon\n",
    "- What's NPS score ?\n",
    "- How do we calculated for amazon  ?"
   ]
  },
  {
   "cell_type": "markdown",
   "metadata": {
    "_uuid": "dd59683294bbad05f0246e3aff2499f6061c12af"
   },
   "source": [
    "#### Looks like amazon is really good "
   ]
  },
  {
   "cell_type": "markdown",
   "metadata": {
    "_uuid": "60d3de285a42e5f820342b0a4605f3c13f46d176"
   },
   "source": [
    "# NPS Score ( Net promoter score ) "
   ]
  },
  {
   "cell_type": "code",
   "execution_count": 63,
   "metadata": {},
   "outputs": [
    {
     "name": "stdout",
     "output_type": "stream",
     "text": [
      "23775\n",
      "34627 2\n",
      "61.98631126\n"
     ]
    }
   ],
   "source": [
    "star.loc[5]\n",
    "print(star.loc[5])\n",
    "print(sum(star.loc[:]),2)\n",
    "star.head()\n",
    "NPS_score = round (100*((star.loc[5])-sum(star.loc[1:3]))/sum(star.loc[:]),8)\n",
    "print(NPS_score)"
   ]
  },
  {
   "cell_type": "markdown",
   "metadata": {
    "_uuid": "9de4a437ecdad1698e2762802affb51312615f89"
   },
   "source": [
    "#### Net Promoters Score helps us evaluate customer satisfaction and loyalty\n",
    "\n",
    "Rating 1,2,3 - Detractors <br>\n",
    "Rating 4   - Passive <br>\n",
    "Rating 5 - Promoters <br>\n",
    "\n",
    "NPS = (Promoters - Detractors)/Total ratings * 100"
   ]
  },
  {
   "cell_type": "code",
   "execution_count": 64,
   "metadata": {
    "_uuid": "98863a38fdbe1ec07e67990a94cbf8081689d0ec"
   },
   "outputs": [
    {
     "name": "stdout",
     "output_type": "stream",
     "text": [
      " NPS score of Amazon is : 61.99\n"
     ]
    }
   ],
   "source": [
    "NPS_score = round (100*((star.loc[5])-sum(star.loc[1:3]))/sum(star.loc[:]),2)\n",
    "print (\" NPS score of Amazon is : \"  + str(NPS_score))\n"
   ]
  },
  {
   "cell_type": "markdown",
   "metadata": {
    "_uuid": "fb8adca5e3f84b682ad3fbc562cb7db566813c15"
   },
   "source": [
    "# 4. Pick a product and deep dive\n",
    "- We will pick one variation of kindle product drill & analyse its characteristics"
   ]
  },
  {
   "cell_type": "markdown",
   "metadata": {
    "_uuid": "7dcb7df59c252443016789c04f6a424ae4e5d4b3"
   },
   "source": [
    "Lets deep dive and pick product to analyse"
   ]
  },
  {
   "cell_type": "code",
   "execution_count": 65,
   "metadata": {
    "_uuid": "70d96fd669916c714d64e0cee5991ef8461b7304"
   },
   "outputs": [],
   "source": [
    "kindle = reviews[reviews.name=='Amazon Kindle Paperwhite - eBook reader - 4 GB - 6 monochrome Paperwhite - touchscreen - Wi-Fi - black,,,']"
   ]
  },
  {
   "cell_type": "code",
   "execution_count": 66,
   "metadata": {
    "_uuid": "ea6e70317c76e1550c48673dbbf767b4827651a4"
   },
   "outputs": [
    {
     "data": {
      "text/plain": [
       "name            0\n",
       "asins           0\n",
       "brand           0\n",
       "categories      0\n",
       "keys            0\n",
       "manufacturer    0\n",
       "date            0\n",
       "dateAdded       0\n",
       "dateSeen        0\n",
       "doRecommend     0\n",
       "numHelpful      0\n",
       "rating          0\n",
       "sourceURLs      0\n",
       "text            0\n",
       "title           0\n",
       "username        0\n",
       "bulk            0\n",
       "dtype: int64"
      ]
     },
     "execution_count": 66,
     "metadata": {},
     "output_type": "execute_result"
    }
   ],
   "source": [
    "kindle.isnull().sum()\n",
    "# The dataset looks good to go"
   ]
  },
  {
   "cell_type": "markdown",
   "metadata": {
    "_uuid": "aadad0b6bdd82641885e52f9c1cb2e41c3e7c208"
   },
   "source": [
    "# 5. [Paper white kindle] - NPS score  ? "
   ]
  },
  {
   "cell_type": "code",
   "execution_count": 67,
   "metadata": {
    "_uuid": "2f0a8a777333d8518f2be09cb2b03c7e81bf104b"
   },
   "outputs": [
    {
     "name": "stdout",
     "output_type": "stream",
     "text": [
      " NPS score of Kindle is : 77.08\n"
     ]
    },
    {
     "data": {
      "text/plain": [
       "<matplotlib.axes._subplots.AxesSubplot at 0xd1c9e48>"
      ]
     },
     "execution_count": 67,
     "metadata": {},
     "output_type": "execute_result"
    },
    {
     "data": {
      "image/png": "[encoded data removed]",
      "text/plain": [
       "<Figure size 432x432 with 1 Axes>"
      ]
     },
     "metadata": {},
     "output_type": "display_data"
    }
   ],
   "source": [
    "kindle_s = kindle.rating.value_counts()\n",
    "kindle_s.sort_index(inplace=True)\n",
    "\n",
    "Kindle_NPS_score = round (100*(kindle_s[5]-sum(kindle_s[1:3]))/sum(kindle_s),2)\n",
    "print (\" NPS score of Kindle is : \"  + str(Kindle_NPS_score))\n",
    "#better NPS than overall amazon\n",
    "kindle_s.plot(kind='bar',title='Amazon customer ratings',figsize=(6,6),style='Solarize_Light2')"
   ]
  },
  {
   "cell_type": "markdown",
   "metadata": {
    "_uuid": "bac485b3654eb6cfb580fd0cbe7357302ac48427"
   },
   "source": [
    "### What about recommendations ? How is rating related to recommendation ?"
   ]
  },
  {
   "cell_type": "code",
   "execution_count": 68,
   "metadata": {
    "_uuid": "24bfc09c5cdb072b37a88fd61dda4024f93d1ae7"
   },
   "outputs": [
    {
     "data": {
      "text/plain": [
       "True     3111\n",
       "False      65\n",
       "Name: doRecommend, dtype: int64"
      ]
     },
     "execution_count": 68,
     "metadata": {},
     "output_type": "execute_result"
    }
   ],
   "source": [
    "kindle.doRecommend.value_counts()"
   ]
  },
  {
   "cell_type": "code",
   "execution_count": 69,
   "metadata": {
    "_uuid": "da1488c93d594bcc029f56be8bd76e436252ed2d"
   },
   "outputs": [
    {
     "data": {
      "text/plain": [
       "array([<matplotlib.axes._subplots.AxesSubplot object at 0x000000000D212DD8>,\n",
       "       <matplotlib.axes._subplots.AxesSubplot object at 0x000000000D242A58>],\n",
       "      dtype=object)"
      ]
     },
     "execution_count": 69,
     "metadata": {},
     "output_type": "execute_result"
    },
    {
     "data": {
      "image/png": "[encoded data removed]",
      "text/plain": [
       "<Figure size 864x432 with 2 Axes>"
      ]
     },
     "metadata": {},
     "output_type": "display_data"
    }
   ],
   "source": [
    "kindle.rating.hist(by=kindle.doRecommend,figsize=(12,6))"
   ]
  },
  {
   "cell_type": "code",
   "execution_count": 70,
   "metadata": {
    "_uuid": "5007423ca0b7352bfe9fe3683f47fefaae8fc4cb"
   },
   "outputs": [
    {
     "name": "stdout",
     "output_type": "stream",
     "text": [
      "Those who recommend amazon kindle generate high NPS score of 98.23\n",
      "Those who DO NOT recommend kindle produce a NPS score of -20.0\n",
      " ~ pretty much correct definition of NPS score\n"
     ]
    }
   ],
   "source": [
    "plus_kindle = kindle[kindle.doRecommend==True].rating.value_counts()\n",
    "plus_kindle.sort_index(inplace=True)\n",
    "recomm_NPS = round(100*(sum(plus_kindle[4:5])-sum(plus_kindle[1:2]))/sum(plus_kindle),2)\n",
    "minus_kindle = kindle[kindle.doRecommend==False].rating.value_counts()\n",
    "minus_kindle.sort_index(inplace=True)\n",
    "notrecomm_NPS = round(100*(sum(minus_kindle[4:5])-sum(minus_kindle[1:2]))/sum(minus_kindle),2)\n",
    "print(\"Those who recommend amazon kindle generate high NPS score of \" + str(recomm_NPS))\n",
    "print(\"Those who DO NOT recommend kindle produce a NPS score of \" + str(notrecomm_NPS))\n",
    "print(\" ~ pretty much correct definition of NPS score\")\n"
   ]
  },
  {
   "cell_type": "markdown",
   "metadata": {
    "_uuid": "03b55e4273612a9a8c134f44573847249ece0dcd"
   },
   "source": [
    "# 6. [Paper white kindle] - Plot time series for reviews \n",
    "- How to handle date time text ?\n",
    "- How to plot time series on a graph ? \n",
    "- How does the graph look like in small intervals of 5 days or 10 days or 30 days ?\n",
    "- Did the performance (NPS) go up or down with time ?\n"
   ]
  },
  {
   "cell_type": "code",
   "execution_count": 78,
   "metadata": {
    "_uuid": "a884f211c5d32765d841492d33edc016ce8cc058"
   },
   "outputs": [
    {
     "name": "stderr",
     "output_type": "stream",
     "text": [
      "C:\\Users\\PB\\Anaconda3\\lib\\site-packages\\ipykernel_launcher.py:1: SettingWithCopyWarning: \n",
      "A value is trying to be set on a copy of a slice from a DataFrame.\n",
      "Try using .loc[row_indexer,col_indexer] = value instead\n",
      "\n",
      "See the caveats in the documentation: http://pandas.pydata.org/pandas-docs/stable/indexing.html#indexing-view-versus-copy\n",
      "  \"\"\"Entry point for launching an IPython kernel.\n"
     ]
    },
    {
     "data": {
      "text/html": [
       "<div>\n",
       "<style scoped>\n",
       "    .dataframe tbody tr th:only-of-type {\n",
       "        vertical-align: middle;\n",
       "    }\n",
       "\n",
       "    .dataframe tbody tr th {\n",
       "        vertical-align: top;\n",
       "    }\n",
       "\n",
       "    .dataframe thead th {\n",
       "        text-align: right;\n",
       "    }\n",
       "</style>\n",
       "<table border=\"1\" class=\"dataframe\">\n",
       "  <thead>\n",
       "    <tr style=\"text-align: right;\">\n",
       "      <th></th>\n",
       "      <th>name</th>\n",
       "      <th>asins</th>\n",
       "      <th>brand</th>\n",
       "      <th>categories</th>\n",
       "      <th>keys</th>\n",
       "      <th>manufacturer</th>\n",
       "      <th>date</th>\n",
       "      <th>dateAdded</th>\n",
       "      <th>dateSeen</th>\n",
       "      <th>doRecommend</th>\n",
       "      <th>numHelpful</th>\n",
       "      <th>rating</th>\n",
       "      <th>sourceURLs</th>\n",
       "      <th>text</th>\n",
       "      <th>title</th>\n",
       "      <th>username</th>\n",
       "      <th>bulk</th>\n",
       "      <th>temp</th>\n",
       "    </tr>\n",
       "  </thead>\n",
       "  <tbody>\n",
       "    <tr>\n",
       "      <th>17214</th>\n",
       "      <td>Amazon Kindle Paperwhite - eBook reader - 4 GB...</td>\n",
       "      <td>B018Y23MNM</td>\n",
       "      <td>Amazon</td>\n",
       "      <td>Tablets,Fire Tablets,Computers &amp; Tablets,All T...</td>\n",
       "      <td>firekidseditiontablet7displaywifi16gbgreenkidp...</td>\n",
       "      <td>Amazon</td>\n",
       "      <td>2017-02-05T00:00:00.000Z</td>\n",
       "      <td>2017-06-21T07:38:39Z</td>\n",
       "      <td>2017-06-04T02:18:03.660Z,2017-06-03T18:42:15.341Z</td>\n",
       "      <td>True</td>\n",
       "      <td>0.0</td>\n",
       "      <td>3.0</td>\n",
       "      <td>http://reviews.bestbuy.com/3545/5026300/review...</td>\n",
       "      <td>Its a nice little set up but it's slow. I wish...</td>\n",
       "      <td>I like it but....</td>\n",
       "      <td>ShaesMom</td>\n",
       "      <td>0</td>\n",
       "      <td>2017-02-05</td>\n",
       "    </tr>\n",
       "    <tr>\n",
       "      <th>17215</th>\n",
       "      <td>Amazon Kindle Paperwhite - eBook reader - 4 GB...</td>\n",
       "      <td>B018Y23MNM</td>\n",
       "      <td>Amazon</td>\n",
       "      <td>Tablets,Fire Tablets,Computers &amp; Tablets,All T...</td>\n",
       "      <td>firekidseditiontablet7displaywifi16gbgreenkidp...</td>\n",
       "      <td>Amazon</td>\n",
       "      <td>2017-02-05T00:00:00.000Z</td>\n",
       "      <td>2017-06-21T07:38:39Z</td>\n",
       "      <td>2017-06-04T02:18:03.660Z,2017-06-03T18:42:15.341Z</td>\n",
       "      <td>True</td>\n",
       "      <td>0.0</td>\n",
       "      <td>5.0</td>\n",
       "      <td>http://reviews.bestbuy.com/3545/5026300/review...</td>\n",
       "      <td>As long as apps are downloaded before leaving ...</td>\n",
       "      <td>Great for road trips!</td>\n",
       "      <td>Kellif227</td>\n",
       "      <td>0</td>\n",
       "      <td>2017-02-05</td>\n",
       "    </tr>\n",
       "  </tbody>\n",
       "</table>\n",
       "</div>"
      ],
      "text/plain": [
       "                                                    name       asins   brand  \\\n",
       "17214  Amazon Kindle Paperwhite - eBook reader - 4 GB...  B018Y23MNM  Amazon   \n",
       "17215  Amazon Kindle Paperwhite - eBook reader - 4 GB...  B018Y23MNM  Amazon   \n",
       "\n",
       "                                              categories  \\\n",
       "17214  Tablets,Fire Tablets,Computers & Tablets,All T...   \n",
       "17215  Tablets,Fire Tablets,Computers & Tablets,All T...   \n",
       "\n",
       "                                                    keys manufacturer  \\\n",
       "17214  firekidseditiontablet7displaywifi16gbgreenkidp...       Amazon   \n",
       "17215  firekidseditiontablet7displaywifi16gbgreenkidp...       Amazon   \n",
       "\n",
       "                           date             dateAdded  \\\n",
       "17214  2017-02-05T00:00:00.000Z  2017-06-21T07:38:39Z   \n",
       "17215  2017-02-05T00:00:00.000Z  2017-06-21T07:38:39Z   \n",
       "\n",
       "                                                dateSeen doRecommend  \\\n",
       "17214  2017-06-04T02:18:03.660Z,2017-06-03T18:42:15.341Z        True   \n",
       "17215  2017-06-04T02:18:03.660Z,2017-06-03T18:42:15.341Z        True   \n",
       "\n",
       "       numHelpful  rating                                         sourceURLs  \\\n",
       "17214         0.0     3.0  http://reviews.bestbuy.com/3545/5026300/review...   \n",
       "17215         0.0     5.0  http://reviews.bestbuy.com/3545/5026300/review...   \n",
       "\n",
       "                                                    text  \\\n",
       "17214  Its a nice little set up but it's slow. I wish...   \n",
       "17215  As long as apps are downloaded before leaving ...   \n",
       "\n",
       "                       title   username  bulk       temp  \n",
       "17214      I like it but....   ShaesMom     0 2017-02-05  \n",
       "17215  Great for road trips!  Kellif227     0 2017-02-05  "
      ]
     },
     "execution_count": 78,
     "metadata": {},
     "output_type": "execute_result"
    },
    {
     "data": {
      "image/png": "[encoded data removed]",
      "text/plain": [
       "<Figure size 864x432 with 1 Axes>"
      ]
     },
     "metadata": {},
     "output_type": "display_data"
    }
   ],
   "source": [
    "kindle['temp'] = kindle.date.apply(lambda x : pd.to_datetime(x))\n",
    "kindle_review_dates = kindle.date.value_counts()\n",
    "# print(kindle.date.value_counts())\n",
    "kindle_review_dates.sort_index(inplace=True)\n",
    "kindle_review_dates.plot(kind='area',figsize=(12,6))\n",
    "kindle.head(2)"
   ]
  },
  {
   "cell_type": "code",
   "execution_count": 81,
   "metadata": {
    "_uuid": "165cd1ebcf01251cb426076d738f2c10cf284fb4"
   },
   "outputs": [
    {
     "data": {
      "text/plain": [
       "1     8\n",
       "12    3\n",
       "6     2\n",
       "10    1\n",
       "9     1\n",
       "8     1\n",
       "7     1\n",
       "5     1\n",
       "3     1\n",
       "2     1\n",
       "dtype: int64"
      ]
     },
     "execution_count": 81,
     "metadata": {},
     "output_type": "execute_result"
    }
   ],
   "source": [
    "rating_perdate = kindle_review_dates.sort_values(ascending=False)\n",
    "peakrating = rating_perdate[:20]\n",
    "peak_month=[]\n",
    "for x in peakrating.index:\n",
    "    peak_month.append(pd.to_datetime(x).month)\n",
    "pd.Series(peak_month).value_counts()"
   ]
  },
  {
   "cell_type": "markdown",
   "metadata": {
    "_uuid": "b86b0900cdda8701a6a2652da9132243d171ba01"
   },
   "source": [
    "#### Insight \n",
    "1. January month has the highest number of peaks >> Activity is high >> More Sales during Jan ( We all know)\n",
    "2. There is high degree of variance in reviews added over time\n",
    "\n"
   ]
  },
  {
   "cell_type": "code",
   "execution_count": 86,
   "metadata": {
    "_uuid": "804b60808f2944e3206a5932074a9bfbddebb6b0"
   },
   "outputs": [
    {
     "data": {
      "text/plain": [
       "array([[<matplotlib.axes._subplots.AxesSubplot object at 0x000000000DE07DA0>]],\n",
       "      dtype=object)"
      ]
     },
     "execution_count": 86,
     "metadata": {},
     "output_type": "execute_result"
    },
    {
     "data": {
      "image/png": "[encoded data removed]",
      "text/plain": [
       "<Figure size 720x432 with 1 Axes>"
      ]
     },
     "metadata": {},
     "output_type": "display_data"
    },
    {
     "data": {
      "image/png": "[encoded data removed]",
      "text/plain": [
       "<Figure size 720x432 with 1 Axes>"
      ]
     },
     "metadata": {},
     "output_type": "display_data"
    },
    {
     "data": {
      "image/png": "[encoded data removed]",
      "text/plain": [
       "<Figure size 720x432 with 1 Axes>"
      ]
     },
     "metadata": {},
     "output_type": "display_data"
    }
   ],
   "source": [
    "rating_series = pd.DataFrame(kindle.date)\n",
    "dforms=[]\n",
    "for x in rating_series.date:\n",
    "    dforms.append((pd.to_datetime(x)).value)\n",
    "# now we have dforms which has dates transformed to numeric values\n",
    "rating2 = rating_series.assign(date_min = dforms)\n",
    "# print(rating2)\n",
    "rating2.reset_index(inplace=True)\n",
    "#rating2.set_index('date_min')\n",
    "#rating2.columns=['timestamp_string','review_count','date_min']\n",
    "bins = np.linspace(min(rating2.date_min),max(rating2.date_min),num=50)\n",
    "rating2.hist(column='date_min', bins=20,figsize=(10,6),)\n",
    "rating2.hist(column='date_min', bins=30,figsize=(10,6))\n",
    "rating2.hist(column='date_min', bins=50,figsize=(10,6))\n"
   ]
  },
  {
   "cell_type": "code",
   "execution_count": 87,
   "metadata": {
    "_uuid": "b879f07ed2ec9c5b52c9acab8d0555be25dab670"
   },
   "outputs": [],
   "source": [
    "def NPS_eval (A):\n",
    "    score =0\n",
    "    for x in A[:]:\n",
    "        if (x>4) :\n",
    "            score+=1\n",
    "        elif (x<4) :\n",
    "            score-=1\n",
    "    return 100*score/len(A)    "
   ]
  },
  {
   "cell_type": "code",
   "execution_count": 88,
   "metadata": {
    "_uuid": "98b59108c11a65f2b4d765a5a8efe8824aafa901"
   },
   "outputs": [
    {
     "data": {
      "text/plain": [
       "<matplotlib.axes._subplots.AxesSubplot at 0xdfcc198>"
      ]
     },
     "execution_count": 88,
     "metadata": {},
     "output_type": "execute_result"
    },
    {
     "data": {
      "image/png": "[encoded data removed]",
      "text/plain": [
       "<Figure size 1080x720 with 1 Axes>"
      ]
     },
     "metadata": {},
     "output_type": "display_data"
    }
   ],
   "source": [
    "NPS_overtime = kindle[['temp','rating']]\n",
    "NPS_overtime.groupby(by='temp').agg(NPS_eval).plot(figsize=(15,10))\n"
   ]
  },
  {
   "cell_type": "code",
   "execution_count": 89,
   "metadata": {
    "_uuid": "a400090a87974c7895d0d4c58480b4d2905e7022"
   },
   "outputs": [
    {
     "name": "stdout",
     "output_type": "stream",
     "text": [
      "AxesSubplot(0.125,0.125;0.775x0.755)\n"
     ]
    },
    {
     "name": "stderr",
     "output_type": "stream",
     "text": [
      "C:\\Users\\PB\\Anaconda3\\lib\\site-packages\\ipykernel_launcher.py:1: SettingWithCopyWarning: \n",
      "A value is trying to be set on a copy of a slice from a DataFrame.\n",
      "Try using .loc[row_indexer,col_indexer] = value instead\n",
      "\n",
      "See the caveats in the documentation: http://pandas.pydata.org/pandas-docs/stable/indexing.html#indexing-view-versus-copy\n",
      "  \"\"\"Entry point for launching an IPython kernel.\n"
     ]
    },
    {
     "data": {
      "text/html": [
       "<div>\n",
       "<style scoped>\n",
       "    .dataframe tbody tr th:only-of-type {\n",
       "        vertical-align: middle;\n",
       "    }\n",
       "\n",
       "    .dataframe tbody tr th {\n",
       "        vertical-align: top;\n",
       "    }\n",
       "\n",
       "    .dataframe thead th {\n",
       "        text-align: right;\n",
       "    }\n",
       "</style>\n",
       "<table border=\"1\" class=\"dataframe\">\n",
       "  <thead>\n",
       "    <tr style=\"text-align: right;\">\n",
       "      <th></th>\n",
       "      <th>rating</th>\n",
       "    </tr>\n",
       "    <tr>\n",
       "      <th>timeline</th>\n",
       "      <th></th>\n",
       "    </tr>\n",
       "  </thead>\n",
       "  <tbody>\n",
       "    <tr>\n",
       "      <th>34</th>\n",
       "      <td>37.500000</td>\n",
       "    </tr>\n",
       "    <tr>\n",
       "      <th>26</th>\n",
       "      <td>62.237762</td>\n",
       "    </tr>\n",
       "    <tr>\n",
       "      <th>25</th>\n",
       "      <td>66.000000</td>\n",
       "    </tr>\n",
       "    <tr>\n",
       "      <th>28</th>\n",
       "      <td>68.918919</td>\n",
       "    </tr>\n",
       "    <tr>\n",
       "      <th>14</th>\n",
       "      <td>69.411765</td>\n",
       "    </tr>\n",
       "    <tr>\n",
       "      <th>20</th>\n",
       "      <td>72.277228</td>\n",
       "    </tr>\n",
       "    <tr>\n",
       "      <th>12</th>\n",
       "      <td>73.000000</td>\n",
       "    </tr>\n",
       "    <tr>\n",
       "      <th>31</th>\n",
       "      <td>74.400000</td>\n",
       "    </tr>\n",
       "    <tr>\n",
       "      <th>21</th>\n",
       "      <td>75.324675</td>\n",
       "    </tr>\n",
       "    <tr>\n",
       "      <th>29</th>\n",
       "      <td>76.000000</td>\n",
       "    </tr>\n",
       "    <tr>\n",
       "      <th>9</th>\n",
       "      <td>76.315789</td>\n",
       "    </tr>\n",
       "    <tr>\n",
       "      <th>23</th>\n",
       "      <td>76.744186</td>\n",
       "    </tr>\n",
       "    <tr>\n",
       "      <th>30</th>\n",
       "      <td>77.622378</td>\n",
       "    </tr>\n",
       "    <tr>\n",
       "      <th>24</th>\n",
       "      <td>78.488372</td>\n",
       "    </tr>\n",
       "    <tr>\n",
       "      <th>17</th>\n",
       "      <td>80.000000</td>\n",
       "    </tr>\n",
       "    <tr>\n",
       "      <th>22</th>\n",
       "      <td>80.000000</td>\n",
       "    </tr>\n",
       "    <tr>\n",
       "      <th>10</th>\n",
       "      <td>80.232558</td>\n",
       "    </tr>\n",
       "    <tr>\n",
       "      <th>13</th>\n",
       "      <td>80.269058</td>\n",
       "    </tr>\n",
       "    <tr>\n",
       "      <th>16</th>\n",
       "      <td>81.481481</td>\n",
       "    </tr>\n",
       "    <tr>\n",
       "      <th>18</th>\n",
       "      <td>81.679389</td>\n",
       "    </tr>\n",
       "    <tr>\n",
       "      <th>19</th>\n",
       "      <td>81.896552</td>\n",
       "    </tr>\n",
       "    <tr>\n",
       "      <th>33</th>\n",
       "      <td>83.333333</td>\n",
       "    </tr>\n",
       "    <tr>\n",
       "      <th>32</th>\n",
       "      <td>83.620690</td>\n",
       "    </tr>\n",
       "    <tr>\n",
       "      <th>15</th>\n",
       "      <td>83.962264</td>\n",
       "    </tr>\n",
       "    <tr>\n",
       "      <th>11</th>\n",
       "      <td>85.227273</td>\n",
       "    </tr>\n",
       "    <tr>\n",
       "      <th>27</th>\n",
       "      <td>85.889571</td>\n",
       "    </tr>\n",
       "    <tr>\n",
       "      <th>7</th>\n",
       "      <td>89.285714</td>\n",
       "    </tr>\n",
       "    <tr>\n",
       "      <th>8</th>\n",
       "      <td>89.655172</td>\n",
       "    </tr>\n",
       "  </tbody>\n",
       "</table>\n",
       "</div>"
      ],
      "text/plain": [
       "             rating\n",
       "timeline           \n",
       "34        37.500000\n",
       "26        62.237762\n",
       "25        66.000000\n",
       "28        68.918919\n",
       "14        69.411765\n",
       "20        72.277228\n",
       "12        73.000000\n",
       "31        74.400000\n",
       "21        75.324675\n",
       "29        76.000000\n",
       "9         76.315789\n",
       "23        76.744186\n",
       "30        77.622378\n",
       "24        78.488372\n",
       "17        80.000000\n",
       "22        80.000000\n",
       "10        80.232558\n",
       "13        80.269058\n",
       "16        81.481481\n",
       "18        81.679389\n",
       "19        81.896552\n",
       "33        83.333333\n",
       "32        83.620690\n",
       "15        83.962264\n",
       "11        85.227273\n",
       "27        85.889571\n",
       "7         89.285714\n",
       "8         89.655172"
      ]
     },
     "execution_count": 89,
     "metadata": {},
     "output_type": "execute_result"
    },
    {
     "data": {
      "image/png": "[encoded data removed]",
      "text/plain": [
       "<Figure size 432x288 with 1 Axes>"
      ]
     },
     "metadata": {},
     "output_type": "display_data"
    }
   ],
   "source": [
    "NPS_overtime['timeline']= NPS_overtime['temp'].apply(lambda x : (x.month+(12*(x.year-2015))))\n",
    "NPS_by_month= NPS_overtime.groupby(by='timeline').agg(NPS_eval)\n",
    "print(NPS_by_month.plot())\n",
    "NPS_by_month.sort_values(by='rating')"
   ]
  },
  {
   "cell_type": "markdown",
   "metadata": {
    "_uuid": "64ef47934c2eb391362e1e99f1c02342ce85c353"
   },
   "source": [
    "# 7. [Paper white kindle] Predict Recommendations based on reviews content\n",
    "- Make a clean function\n",
    "  - Remove punctuations\n",
    "  - Remove stopwords\n",
    "  - Stem vs Lemmatize\n",
    "- Create a TFIDF vectorizer\n",
    "- Create Features\n",
    "- Understand and explore sentiment analysis\n",
    "    - Use compound feature\n",
    "- Use RandomForestClassifier\n",
    "- Check the score \n",
    "        "
   ]
  },
  {
   "cell_type": "markdown",
   "metadata": {
    "_uuid": "c1d331f80a542ebab5064c798170ecacbebb4e3c"
   },
   "source": [
    "## Can we predict Recommendations with given comments on product ?"
   ]
  },
  {
   "cell_type": "code",
   "execution_count": 91,
   "metadata": {
    "_uuid": "2db66a9c87c5221b7ed609825dd96a2387239ae4"
   },
   "outputs": [],
   "source": [
    "comments = pd.concat([kindle['text']+\". \"+ kindle['title'],kindle['rating'],kindle['doRecommend']],axis=1)\n",
    "comments.head()\n",
    "comments.columns=['text','rating','recommend']"
   ]
  },
  {
   "cell_type": "code",
   "execution_count": 92,
   "metadata": {
    "_uuid": "003b1faa40c05a6ea1db1ba76f318ad5e90cb0c5"
   },
   "outputs": [
    {
     "name": "stdout",
     "output_type": "stream",
     "text": [
      "Stemmed hello-happiest-place-organ-organ-organ-happi-world-happi-much-happi-\n",
      "Lemmatized hello-happiest-place-organize-organizes-organizing-happy-world-happiness-much-happy-\n"
     ]
    }
   ],
   "source": [
    "import string\n",
    "import nltk\n",
    "from nltk import PorterStemmer\n",
    "import re \n",
    "\n",
    "stopwords = nltk.corpus.stopwords.words('english')\n",
    "ps = PorterStemmer()\n",
    "wn = nltk.WordNetLemmatizer()\n",
    "\n",
    "\n",
    "def clean_stem (sent): \n",
    "    temp1 =\"\".join(x for x in sent if x not in string.punctuation)\n",
    "    temp2 = re.split('\\W+',temp1.lower())\n",
    "    temp3 = [ps.stem(x) for x in temp2 if x not in stopwords]\n",
    "    return temp3\n",
    "\n",
    "def clean_lemma (sent): \n",
    "    temp1 =\"\".join(x for x in sent if x not in string.punctuation)\n",
    "    temp2 = re.split('\\W+',temp1.lower())\n",
    "    temp3 = [wn.lemmatize(x) for x in temp2 if x not in stopwords]\n",
    "    return temp3\n",
    "\n",
    "text=\"Hello this is, my happiest place. organize, organizes, and organizing in Happy world ! with happiness ..\\\n",
    "so much of happy!! \"\n",
    "\n",
    "print(\"Stemmed \" + \"-\".join(clean_stem(text)))\n",
    "print(\"Lemmatized \" + \"-\".join(clean_lemma(text)))"
   ]
  },
  {
   "cell_type": "markdown",
   "metadata": {
    "_uuid": "61f97b513864f8cc6f7bc804e7691704d470fb7e"
   },
   "source": [
    "### Lets create vectors from the text columns"
   ]
  },
  {
   "cell_type": "code",
   "execution_count": 93,
   "metadata": {
    "_uuid": "7e149e7567392e30ed0506fc3241758a616ac1d4"
   },
   "outputs": [
    {
     "name": "stdout",
     "output_type": "stream",
     "text": [
      "Stemmed - 3693\n",
      "Lemmatized - 4547\n"
     ]
    }
   ],
   "source": [
    "from sklearn.feature_extraction.text import TfidfVectorizer\n",
    "\n",
    "vectstem = TfidfVectorizer(analyzer=clean_stem)\n",
    "vectlemm = TfidfVectorizer(analyzer=clean_lemma)\n",
    "\n",
    "textfeatures=vectstem.fit_transform(comments['text'])\n",
    "print(\"Stemmed - \" + str(len(vectstem.get_feature_names())))\n",
    "\n",
    "vectlemm.fit_transform(comments['text'])\n",
    "print(\"Lemmatized - \" + str(len(vectlemm.get_feature_names())))\n"
   ]
  },
  {
   "cell_type": "markdown",
   "metadata": {
    "_uuid": "a7a05259a65c7e97eb7fce1ba42622227d94d6e9"
   },
   "source": [
    "Stemmed has features 18 % lower than that of Lemmatized. \n",
    "    - In the above example in happy line, you can see how ineffective lemmatization can be \n",
    "    - Thus we will be applying cleanstem algo here\n",
    "    - Lower features means more information density in the compressed columns"
   ]
  },
  {
   "cell_type": "markdown",
   "metadata": {
    "_uuid": "1964559e91318ebaae075ab4bba2aa2e4ce470d6"
   },
   "source": [
    "### Lets have a look on our stemmed data"
   ]
  },
  {
   "cell_type": "code",
   "execution_count": 94,
   "metadata": {
    "_uuid": "7ec99fc634647879712d588ba3834ded74dba233"
   },
   "outputs": [
    {
     "data": {
      "text/html": [
       "<div>\n",
       "<style scoped>\n",
       "    .dataframe tbody tr th:only-of-type {\n",
       "        vertical-align: middle;\n",
       "    }\n",
       "\n",
       "    .dataframe tbody tr th {\n",
       "        vertical-align: top;\n",
       "    }\n",
       "\n",
       "    .dataframe thead th {\n",
       "        text-align: right;\n",
       "    }\n",
       "</style>\n",
       "<table border=\"1\" class=\"dataframe\">\n",
       "  <thead>\n",
       "    <tr style=\"text-align: right;\">\n",
       "      <th></th>\n",
       "      <th>0</th>\n",
       "      <th>1</th>\n",
       "      <th>2</th>\n",
       "      <th>3</th>\n",
       "      <th>4</th>\n",
       "      <th>5</th>\n",
       "      <th>6</th>\n",
       "      <th>7</th>\n",
       "      <th>8</th>\n",
       "      <th>9</th>\n",
       "      <th>...</th>\n",
       "      <th>3683</th>\n",
       "      <th>3684</th>\n",
       "      <th>3685</th>\n",
       "      <th>3686</th>\n",
       "      <th>3687</th>\n",
       "      <th>3688</th>\n",
       "      <th>3689</th>\n",
       "      <th>3690</th>\n",
       "      <th>3691</th>\n",
       "      <th>3692</th>\n",
       "    </tr>\n",
       "  </thead>\n",
       "  <tbody>\n",
       "    <tr>\n",
       "      <th>0</th>\n",
       "      <td>0.0</td>\n",
       "      <td>0.0</td>\n",
       "      <td>0.0</td>\n",
       "      <td>0.0</td>\n",
       "      <td>0.0</td>\n",
       "      <td>0.0</td>\n",
       "      <td>0.0</td>\n",
       "      <td>0.0</td>\n",
       "      <td>0.0</td>\n",
       "      <td>0.0</td>\n",
       "      <td>...</td>\n",
       "      <td>0.0</td>\n",
       "      <td>0.0</td>\n",
       "      <td>0.0</td>\n",
       "      <td>0.0</td>\n",
       "      <td>0.0</td>\n",
       "      <td>0.0</td>\n",
       "      <td>0.0</td>\n",
       "      <td>0.0</td>\n",
       "      <td>0.0</td>\n",
       "      <td>0.0</td>\n",
       "    </tr>\n",
       "    <tr>\n",
       "      <th>1</th>\n",
       "      <td>0.0</td>\n",
       "      <td>0.0</td>\n",
       "      <td>0.0</td>\n",
       "      <td>0.0</td>\n",
       "      <td>0.0</td>\n",
       "      <td>0.0</td>\n",
       "      <td>0.0</td>\n",
       "      <td>0.0</td>\n",
       "      <td>0.0</td>\n",
       "      <td>0.0</td>\n",
       "      <td>...</td>\n",
       "      <td>0.0</td>\n",
       "      <td>0.0</td>\n",
       "      <td>0.0</td>\n",
       "      <td>0.0</td>\n",
       "      <td>0.0</td>\n",
       "      <td>0.0</td>\n",
       "      <td>0.0</td>\n",
       "      <td>0.0</td>\n",
       "      <td>0.0</td>\n",
       "      <td>0.0</td>\n",
       "    </tr>\n",
       "    <tr>\n",
       "      <th>2</th>\n",
       "      <td>0.0</td>\n",
       "      <td>0.0</td>\n",
       "      <td>0.0</td>\n",
       "      <td>0.0</td>\n",
       "      <td>0.0</td>\n",
       "      <td>0.0</td>\n",
       "      <td>0.0</td>\n",
       "      <td>0.0</td>\n",
       "      <td>0.0</td>\n",
       "      <td>0.0</td>\n",
       "      <td>...</td>\n",
       "      <td>0.0</td>\n",
       "      <td>0.0</td>\n",
       "      <td>0.0</td>\n",
       "      <td>0.0</td>\n",
       "      <td>0.0</td>\n",
       "      <td>0.0</td>\n",
       "      <td>0.0</td>\n",
       "      <td>0.0</td>\n",
       "      <td>0.0</td>\n",
       "      <td>0.0</td>\n",
       "    </tr>\n",
       "    <tr>\n",
       "      <th>3</th>\n",
       "      <td>0.0</td>\n",
       "      <td>0.0</td>\n",
       "      <td>0.0</td>\n",
       "      <td>0.0</td>\n",
       "      <td>0.0</td>\n",
       "      <td>0.0</td>\n",
       "      <td>0.0</td>\n",
       "      <td>0.0</td>\n",
       "      <td>0.0</td>\n",
       "      <td>0.0</td>\n",
       "      <td>...</td>\n",
       "      <td>0.0</td>\n",
       "      <td>0.0</td>\n",
       "      <td>0.0</td>\n",
       "      <td>0.0</td>\n",
       "      <td>0.0</td>\n",
       "      <td>0.0</td>\n",
       "      <td>0.0</td>\n",
       "      <td>0.0</td>\n",
       "      <td>0.0</td>\n",
       "      <td>0.0</td>\n",
       "    </tr>\n",
       "    <tr>\n",
       "      <th>4</th>\n",
       "      <td>0.0</td>\n",
       "      <td>0.0</td>\n",
       "      <td>0.0</td>\n",
       "      <td>0.0</td>\n",
       "      <td>0.0</td>\n",
       "      <td>0.0</td>\n",
       "      <td>0.0</td>\n",
       "      <td>0.0</td>\n",
       "      <td>0.0</td>\n",
       "      <td>0.0</td>\n",
       "      <td>...</td>\n",
       "      <td>0.0</td>\n",
       "      <td>0.0</td>\n",
       "      <td>0.0</td>\n",
       "      <td>0.0</td>\n",
       "      <td>0.0</td>\n",
       "      <td>0.0</td>\n",
       "      <td>0.0</td>\n",
       "      <td>0.0</td>\n",
       "      <td>0.0</td>\n",
       "      <td>0.0</td>\n",
       "    </tr>\n",
       "    <tr>\n",
       "      <th>5</th>\n",
       "      <td>0.0</td>\n",
       "      <td>0.0</td>\n",
       "      <td>0.0</td>\n",
       "      <td>0.0</td>\n",
       "      <td>0.0</td>\n",
       "      <td>0.0</td>\n",
       "      <td>0.0</td>\n",
       "      <td>0.0</td>\n",
       "      <td>0.0</td>\n",
       "      <td>0.0</td>\n",
       "      <td>...</td>\n",
       "      <td>0.0</td>\n",
       "      <td>0.0</td>\n",
       "      <td>0.0</td>\n",
       "      <td>0.0</td>\n",
       "      <td>0.0</td>\n",
       "      <td>0.0</td>\n",
       "      <td>0.0</td>\n",
       "      <td>0.0</td>\n",
       "      <td>0.0</td>\n",
       "      <td>0.0</td>\n",
       "    </tr>\n",
       "    <tr>\n",
       "      <th>6</th>\n",
       "      <td>0.0</td>\n",
       "      <td>0.0</td>\n",
       "      <td>0.0</td>\n",
       "      <td>0.0</td>\n",
       "      <td>0.0</td>\n",
       "      <td>0.0</td>\n",
       "      <td>0.0</td>\n",
       "      <td>0.0</td>\n",
       "      <td>0.0</td>\n",
       "      <td>0.0</td>\n",
       "      <td>...</td>\n",
       "      <td>0.0</td>\n",
       "      <td>0.0</td>\n",
       "      <td>0.0</td>\n",
       "      <td>0.0</td>\n",
       "      <td>0.0</td>\n",
       "      <td>0.0</td>\n",
       "      <td>0.0</td>\n",
       "      <td>0.0</td>\n",
       "      <td>0.0</td>\n",
       "      <td>0.0</td>\n",
       "    </tr>\n",
       "    <tr>\n",
       "      <th>7</th>\n",
       "      <td>0.0</td>\n",
       "      <td>0.0</td>\n",
       "      <td>0.0</td>\n",
       "      <td>0.0</td>\n",
       "      <td>0.0</td>\n",
       "      <td>0.0</td>\n",
       "      <td>0.0</td>\n",
       "      <td>0.0</td>\n",
       "      <td>0.0</td>\n",
       "      <td>0.0</td>\n",
       "      <td>...</td>\n",
       "      <td>0.0</td>\n",
       "      <td>0.0</td>\n",
       "      <td>0.0</td>\n",
       "      <td>0.0</td>\n",
       "      <td>0.0</td>\n",
       "      <td>0.0</td>\n",
       "      <td>0.0</td>\n",
       "      <td>0.0</td>\n",
       "      <td>0.0</td>\n",
       "      <td>0.0</td>\n",
       "    </tr>\n",
       "    <tr>\n",
       "      <th>8</th>\n",
       "      <td>0.0</td>\n",
       "      <td>0.0</td>\n",
       "      <td>0.0</td>\n",
       "      <td>0.0</td>\n",
       "      <td>0.0</td>\n",
       "      <td>0.0</td>\n",
       "      <td>0.0</td>\n",
       "      <td>0.0</td>\n",
       "      <td>0.0</td>\n",
       "      <td>0.0</td>\n",
       "      <td>...</td>\n",
       "      <td>0.0</td>\n",
       "      <td>0.0</td>\n",
       "      <td>0.0</td>\n",
       "      <td>0.0</td>\n",
       "      <td>0.0</td>\n",
       "      <td>0.0</td>\n",
       "      <td>0.0</td>\n",
       "      <td>0.0</td>\n",
       "      <td>0.0</td>\n",
       "      <td>0.0</td>\n",
       "    </tr>\n",
       "    <tr>\n",
       "      <th>9</th>\n",
       "      <td>0.0</td>\n",
       "      <td>0.0</td>\n",
       "      <td>0.0</td>\n",
       "      <td>0.0</td>\n",
       "      <td>0.0</td>\n",
       "      <td>0.0</td>\n",
       "      <td>0.0</td>\n",
       "      <td>0.0</td>\n",
       "      <td>0.0</td>\n",
       "      <td>0.0</td>\n",
       "      <td>...</td>\n",
       "      <td>0.0</td>\n",
       "      <td>0.0</td>\n",
       "      <td>0.0</td>\n",
       "      <td>0.0</td>\n",
       "      <td>0.0</td>\n",
       "      <td>0.0</td>\n",
       "      <td>0.0</td>\n",
       "      <td>0.0</td>\n",
       "      <td>0.0</td>\n",
       "      <td>0.0</td>\n",
       "    </tr>\n",
       "    <tr>\n",
       "      <th>10</th>\n",
       "      <td>0.0</td>\n",
       "      <td>0.0</td>\n",
       "      <td>0.0</td>\n",
       "      <td>0.0</td>\n",
       "      <td>0.0</td>\n",
       "      <td>0.0</td>\n",
       "      <td>0.0</td>\n",
       "      <td>0.0</td>\n",
       "      <td>0.0</td>\n",
       "      <td>0.0</td>\n",
       "      <td>...</td>\n",
       "      <td>0.0</td>\n",
       "      <td>0.0</td>\n",
       "      <td>0.0</td>\n",
       "      <td>0.0</td>\n",
       "      <td>0.0</td>\n",
       "      <td>0.0</td>\n",
       "      <td>0.0</td>\n",
       "      <td>0.0</td>\n",
       "      <td>0.0</td>\n",
       "      <td>0.0</td>\n",
       "    </tr>\n",
       "    <tr>\n",
       "      <th>11</th>\n",
       "      <td>0.0</td>\n",
       "      <td>0.0</td>\n",
       "      <td>0.0</td>\n",
       "      <td>0.0</td>\n",
       "      <td>0.0</td>\n",
       "      <td>0.0</td>\n",
       "      <td>0.0</td>\n",
       "      <td>0.0</td>\n",
       "      <td>0.0</td>\n",
       "      <td>0.0</td>\n",
       "      <td>...</td>\n",
       "      <td>0.0</td>\n",
       "      <td>0.0</td>\n",
       "      <td>0.0</td>\n",
       "      <td>0.0</td>\n",
       "      <td>0.0</td>\n",
       "      <td>0.0</td>\n",
       "      <td>0.0</td>\n",
       "      <td>0.0</td>\n",
       "      <td>0.0</td>\n",
       "      <td>0.0</td>\n",
       "    </tr>\n",
       "    <tr>\n",
       "      <th>12</th>\n",
       "      <td>0.0</td>\n",
       "      <td>0.0</td>\n",
       "      <td>0.0</td>\n",
       "      <td>0.0</td>\n",
       "      <td>0.0</td>\n",
       "      <td>0.0</td>\n",
       "      <td>0.0</td>\n",
       "      <td>0.0</td>\n",
       "      <td>0.0</td>\n",
       "      <td>0.0</td>\n",
       "      <td>...</td>\n",
       "      <td>0.0</td>\n",
       "      <td>0.0</td>\n",
       "      <td>0.0</td>\n",
       "      <td>0.0</td>\n",
       "      <td>0.0</td>\n",
       "      <td>0.0</td>\n",
       "      <td>0.0</td>\n",
       "      <td>0.0</td>\n",
       "      <td>0.0</td>\n",
       "      <td>0.0</td>\n",
       "    </tr>\n",
       "    <tr>\n",
       "      <th>13</th>\n",
       "      <td>0.0</td>\n",
       "      <td>0.0</td>\n",
       "      <td>0.0</td>\n",
       "      <td>0.0</td>\n",
       "      <td>0.0</td>\n",
       "      <td>0.0</td>\n",
       "      <td>0.0</td>\n",
       "      <td>0.0</td>\n",
       "      <td>0.0</td>\n",
       "      <td>0.0</td>\n",
       "      <td>...</td>\n",
       "      <td>0.0</td>\n",
       "      <td>0.0</td>\n",
       "      <td>0.0</td>\n",
       "      <td>0.0</td>\n",
       "      <td>0.0</td>\n",
       "      <td>0.0</td>\n",
       "      <td>0.0</td>\n",
       "      <td>0.0</td>\n",
       "      <td>0.0</td>\n",
       "      <td>0.0</td>\n",
       "    </tr>\n",
       "    <tr>\n",
       "      <th>14</th>\n",
       "      <td>0.0</td>\n",
       "      <td>0.0</td>\n",
       "      <td>0.0</td>\n",
       "      <td>0.0</td>\n",
       "      <td>0.0</td>\n",
       "      <td>0.0</td>\n",
       "      <td>0.0</td>\n",
       "      <td>0.0</td>\n",
       "      <td>0.0</td>\n",
       "      <td>0.0</td>\n",
       "      <td>...</td>\n",
       "      <td>0.0</td>\n",
       "      <td>0.0</td>\n",
       "      <td>0.0</td>\n",
       "      <td>0.0</td>\n",
       "      <td>0.0</td>\n",
       "      <td>0.0</td>\n",
       "      <td>0.0</td>\n",
       "      <td>0.0</td>\n",
       "      <td>0.0</td>\n",
       "      <td>0.0</td>\n",
       "    </tr>\n",
       "  </tbody>\n",
       "</table>\n",
       "<p>15 rows × 3693 columns</p>\n",
       "</div>"
      ],
      "text/plain": [
       "    0     1     2     3     4     5     6     7     8     9     ...   3683  \\\n",
       "0    0.0   0.0   0.0   0.0   0.0   0.0   0.0   0.0   0.0   0.0  ...    0.0   \n",
       "1    0.0   0.0   0.0   0.0   0.0   0.0   0.0   0.0   0.0   0.0  ...    0.0   \n",
       "2    0.0   0.0   0.0   0.0   0.0   0.0   0.0   0.0   0.0   0.0  ...    0.0   \n",
       "3    0.0   0.0   0.0   0.0   0.0   0.0   0.0   0.0   0.0   0.0  ...    0.0   \n",
       "4    0.0   0.0   0.0   0.0   0.0   0.0   0.0   0.0   0.0   0.0  ...    0.0   \n",
       "5    0.0   0.0   0.0   0.0   0.0   0.0   0.0   0.0   0.0   0.0  ...    0.0   \n",
       "6    0.0   0.0   0.0   0.0   0.0   0.0   0.0   0.0   0.0   0.0  ...    0.0   \n",
       "7    0.0   0.0   0.0   0.0   0.0   0.0   0.0   0.0   0.0   0.0  ...    0.0   \n",
       "8    0.0   0.0   0.0   0.0   0.0   0.0   0.0   0.0   0.0   0.0  ...    0.0   \n",
       "9    0.0   0.0   0.0   0.0   0.0   0.0   0.0   0.0   0.0   0.0  ...    0.0   \n",
       "10   0.0   0.0   0.0   0.0   0.0   0.0   0.0   0.0   0.0   0.0  ...    0.0   \n",
       "11   0.0   0.0   0.0   0.0   0.0   0.0   0.0   0.0   0.0   0.0  ...    0.0   \n",
       "12   0.0   0.0   0.0   0.0   0.0   0.0   0.0   0.0   0.0   0.0  ...    0.0   \n",
       "13   0.0   0.0   0.0   0.0   0.0   0.0   0.0   0.0   0.0   0.0  ...    0.0   \n",
       "14   0.0   0.0   0.0   0.0   0.0   0.0   0.0   0.0   0.0   0.0  ...    0.0   \n",
       "\n",
       "    3684  3685  3686  3687  3688  3689  3690  3691  3692  \n",
       "0    0.0   0.0   0.0   0.0   0.0   0.0   0.0   0.0   0.0  \n",
       "1    0.0   0.0   0.0   0.0   0.0   0.0   0.0   0.0   0.0  \n",
       "2    0.0   0.0   0.0   0.0   0.0   0.0   0.0   0.0   0.0  \n",
       "3    0.0   0.0   0.0   0.0   0.0   0.0   0.0   0.0   0.0  \n",
       "4    0.0   0.0   0.0   0.0   0.0   0.0   0.0   0.0   0.0  \n",
       "5    0.0   0.0   0.0   0.0   0.0   0.0   0.0   0.0   0.0  \n",
       "6    0.0   0.0   0.0   0.0   0.0   0.0   0.0   0.0   0.0  \n",
       "7    0.0   0.0   0.0   0.0   0.0   0.0   0.0   0.0   0.0  \n",
       "8    0.0   0.0   0.0   0.0   0.0   0.0   0.0   0.0   0.0  \n",
       "9    0.0   0.0   0.0   0.0   0.0   0.0   0.0   0.0   0.0  \n",
       "10   0.0   0.0   0.0   0.0   0.0   0.0   0.0   0.0   0.0  \n",
       "11   0.0   0.0   0.0   0.0   0.0   0.0   0.0   0.0   0.0  \n",
       "12   0.0   0.0   0.0   0.0   0.0   0.0   0.0   0.0   0.0  \n",
       "13   0.0   0.0   0.0   0.0   0.0   0.0   0.0   0.0   0.0  \n",
       "14   0.0   0.0   0.0   0.0   0.0   0.0   0.0   0.0   0.0  \n",
       "\n",
       "[15 rows x 3693 columns]"
      ]
     },
     "execution_count": 94,
     "metadata": {},
     "output_type": "execute_result"
    }
   ],
   "source": [
    "pd.DataFrame(textfeatures.toarray()).head(15)"
   ]
  },
  {
   "cell_type": "markdown",
   "metadata": {
    "_uuid": "d143f46990caa9d5957698b120632cd6868a5b12"
   },
   "source": [
    "The column names dont make sense - Need to update them with real words\n",
    "    - for this we use vectstem.vocabulary_ to modify the columns"
   ]
  },
  {
   "cell_type": "code",
   "execution_count": 99,
   "metadata": {
    "_uuid": "ff7ac1bea80947f95340e63782700c433a83ceb9"
   },
   "outputs": [
    {
     "data": {
      "text/html": [
       "<div>\n",
       "<style scoped>\n",
       "    .dataframe tbody tr th:only-of-type {\n",
       "        vertical-align: middle;\n",
       "    }\n",
       "\n",
       "    .dataframe tbody tr th {\n",
       "        vertical-align: top;\n",
       "    }\n",
       "\n",
       "    .dataframe thead th {\n",
       "        text-align: right;\n",
       "    }\n",
       "</style>\n",
       "<table border=\"1\" class=\"dataframe\">\n",
       "  <thead>\n",
       "    <tr style=\"text-align: right;\">\n",
       "      <th></th>\n",
       "      <th>nice</th>\n",
       "      <th>littl</th>\n",
       "      <th>set</th>\n",
       "      <th>slow</th>\n",
       "      <th>wish</th>\n",
       "      <th>would</th>\n",
       "      <th>investig</th>\n",
       "      <th>jump</th>\n",
       "      <th>like</th>\n",
       "      <th>long</th>\n",
       "      <th>...</th>\n",
       "      <th>git</th>\n",
       "      <th>vovag</th>\n",
       "      <th>sinpl</th>\n",
       "      <th>purpl</th>\n",
       "      <th>write</th>\n",
       "      <th>optioni</th>\n",
       "      <th>blackveri</th>\n",
       "      <th>onesveri</th>\n",
       "      <th>reliab</th>\n",
       "      <th>glich</th>\n",
       "    </tr>\n",
       "  </thead>\n",
       "  <tbody>\n",
       "    <tr>\n",
       "      <th>0</th>\n",
       "      <td>0.0</td>\n",
       "      <td>0.0</td>\n",
       "      <td>0.0</td>\n",
       "      <td>0.0</td>\n",
       "      <td>0.0</td>\n",
       "      <td>0.0</td>\n",
       "      <td>0.0</td>\n",
       "      <td>0.0</td>\n",
       "      <td>0.0</td>\n",
       "      <td>0.0</td>\n",
       "      <td>...</td>\n",
       "      <td>0.0</td>\n",
       "      <td>0.0</td>\n",
       "      <td>0.0</td>\n",
       "      <td>0.0</td>\n",
       "      <td>0.0</td>\n",
       "      <td>0.0</td>\n",
       "      <td>0.0</td>\n",
       "      <td>0.0</td>\n",
       "      <td>0.0</td>\n",
       "      <td>0.0</td>\n",
       "    </tr>\n",
       "    <tr>\n",
       "      <th>1</th>\n",
       "      <td>0.0</td>\n",
       "      <td>0.0</td>\n",
       "      <td>0.0</td>\n",
       "      <td>0.0</td>\n",
       "      <td>0.0</td>\n",
       "      <td>0.0</td>\n",
       "      <td>0.0</td>\n",
       "      <td>0.0</td>\n",
       "      <td>0.0</td>\n",
       "      <td>0.0</td>\n",
       "      <td>...</td>\n",
       "      <td>0.0</td>\n",
       "      <td>0.0</td>\n",
       "      <td>0.0</td>\n",
       "      <td>0.0</td>\n",
       "      <td>0.0</td>\n",
       "      <td>0.0</td>\n",
       "      <td>0.0</td>\n",
       "      <td>0.0</td>\n",
       "      <td>0.0</td>\n",
       "      <td>0.0</td>\n",
       "    </tr>\n",
       "    <tr>\n",
       "      <th>2</th>\n",
       "      <td>0.0</td>\n",
       "      <td>0.0</td>\n",
       "      <td>0.0</td>\n",
       "      <td>0.0</td>\n",
       "      <td>0.0</td>\n",
       "      <td>0.0</td>\n",
       "      <td>0.0</td>\n",
       "      <td>0.0</td>\n",
       "      <td>0.0</td>\n",
       "      <td>0.0</td>\n",
       "      <td>...</td>\n",
       "      <td>0.0</td>\n",
       "      <td>0.0</td>\n",
       "      <td>0.0</td>\n",
       "      <td>0.0</td>\n",
       "      <td>0.0</td>\n",
       "      <td>0.0</td>\n",
       "      <td>0.0</td>\n",
       "      <td>0.0</td>\n",
       "      <td>0.0</td>\n",
       "      <td>0.0</td>\n",
       "    </tr>\n",
       "    <tr>\n",
       "      <th>3</th>\n",
       "      <td>0.0</td>\n",
       "      <td>0.0</td>\n",
       "      <td>0.0</td>\n",
       "      <td>0.0</td>\n",
       "      <td>0.0</td>\n",
       "      <td>0.0</td>\n",
       "      <td>0.0</td>\n",
       "      <td>0.0</td>\n",
       "      <td>0.0</td>\n",
       "      <td>0.0</td>\n",
       "      <td>...</td>\n",
       "      <td>0.0</td>\n",
       "      <td>0.0</td>\n",
       "      <td>0.0</td>\n",
       "      <td>0.0</td>\n",
       "      <td>0.0</td>\n",
       "      <td>0.0</td>\n",
       "      <td>0.0</td>\n",
       "      <td>0.0</td>\n",
       "      <td>0.0</td>\n",
       "      <td>0.0</td>\n",
       "    </tr>\n",
       "    <tr>\n",
       "      <th>4</th>\n",
       "      <td>0.0</td>\n",
       "      <td>0.0</td>\n",
       "      <td>0.0</td>\n",
       "      <td>0.0</td>\n",
       "      <td>0.0</td>\n",
       "      <td>0.0</td>\n",
       "      <td>0.0</td>\n",
       "      <td>0.0</td>\n",
       "      <td>0.0</td>\n",
       "      <td>0.0</td>\n",
       "      <td>...</td>\n",
       "      <td>0.0</td>\n",
       "      <td>0.0</td>\n",
       "      <td>0.0</td>\n",
       "      <td>0.0</td>\n",
       "      <td>0.0</td>\n",
       "      <td>0.0</td>\n",
       "      <td>0.0</td>\n",
       "      <td>0.0</td>\n",
       "      <td>0.0</td>\n",
       "      <td>0.0</td>\n",
       "    </tr>\n",
       "  </tbody>\n",
       "</table>\n",
       "<p>5 rows × 3693 columns</p>\n",
       "</div>"
      ],
      "text/plain": [
       "   nice  littl  set  slow  wish  would  investig  jump  like  long  ...    \\\n",
       "0   0.0    0.0  0.0   0.0   0.0    0.0       0.0   0.0   0.0   0.0  ...     \n",
       "1   0.0    0.0  0.0   0.0   0.0    0.0       0.0   0.0   0.0   0.0  ...     \n",
       "2   0.0    0.0  0.0   0.0   0.0    0.0       0.0   0.0   0.0   0.0  ...     \n",
       "3   0.0    0.0  0.0   0.0   0.0    0.0       0.0   0.0   0.0   0.0  ...     \n",
       "4   0.0    0.0  0.0   0.0   0.0    0.0       0.0   0.0   0.0   0.0  ...     \n",
       "\n",
       "   git  vovag  sinpl  purpl  write  optioni  blackveri  onesveri  reliab  \\\n",
       "0  0.0    0.0    0.0    0.0    0.0      0.0        0.0       0.0     0.0   \n",
       "1  0.0    0.0    0.0    0.0    0.0      0.0        0.0       0.0     0.0   \n",
       "2  0.0    0.0    0.0    0.0    0.0      0.0        0.0       0.0     0.0   \n",
       "3  0.0    0.0    0.0    0.0    0.0      0.0        0.0       0.0     0.0   \n",
       "4  0.0    0.0    0.0    0.0    0.0      0.0        0.0       0.0     0.0   \n",
       "\n",
       "   glich  \n",
       "0    0.0  \n",
       "1    0.0  \n",
       "2    0.0  \n",
       "3    0.0  \n",
       "4    0.0  \n",
       "\n",
       "[5 rows x 3693 columns]"
      ]
     },
     "execution_count": 99,
     "metadata": {},
     "output_type": "execute_result"
    }
   ],
   "source": [
    "textmatrix = pd.DataFrame(textfeatures.toarray(),columns=vectstem.vocabulary_)\n",
    "textmatrix.head(5)"
   ]
  },
  {
   "cell_type": "code",
   "execution_count": 96,
   "metadata": {
    "_uuid": "5c900c0527937466c69d234f154b23be1d3bee96"
   },
   "outputs": [
    {
     "data": {
      "text/html": [
       "<div>\n",
       "<style scoped>\n",
       "    .dataframe tbody tr th:only-of-type {\n",
       "        vertical-align: middle;\n",
       "    }\n",
       "\n",
       "    .dataframe tbody tr th {\n",
       "        vertical-align: top;\n",
       "    }\n",
       "\n",
       "    .dataframe thead th {\n",
       "        text-align: right;\n",
       "    }\n",
       "</style>\n",
       "<table border=\"1\" class=\"dataframe\">\n",
       "  <thead>\n",
       "    <tr style=\"text-align: right;\">\n",
       "      <th></th>\n",
       "      <th>sum_scores_TFIDF</th>\n",
       "    </tr>\n",
       "  </thead>\n",
       "  <tbody>\n",
       "    <tr>\n",
       "      <th>nice</th>\n",
       "      <td>4.242392</td>\n",
       "    </tr>\n",
       "    <tr>\n",
       "      <th>littl</th>\n",
       "      <td>0.338632</td>\n",
       "    </tr>\n",
       "    <tr>\n",
       "      <th>set</th>\n",
       "      <td>0.515145</td>\n",
       "    </tr>\n",
       "    <tr>\n",
       "      <th>slow</th>\n",
       "      <td>4.349600</td>\n",
       "    </tr>\n",
       "    <tr>\n",
       "      <th>wish</th>\n",
       "      <td>4.576738</td>\n",
       "    </tr>\n",
       "    <tr>\n",
       "      <th>would</th>\n",
       "      <td>3.383977</td>\n",
       "    </tr>\n",
       "    <tr>\n",
       "      <th>investig</th>\n",
       "      <td>0.990953</td>\n",
       "    </tr>\n",
       "    <tr>\n",
       "      <th>jump</th>\n",
       "      <td>0.179253</td>\n",
       "    </tr>\n",
       "    <tr>\n",
       "      <th>like</th>\n",
       "      <td>0.145790</td>\n",
       "    </tr>\n",
       "    <tr>\n",
       "      <th>long</th>\n",
       "      <td>0.381124</td>\n",
       "    </tr>\n",
       "  </tbody>\n",
       "</table>\n",
       "</div>"
      ],
      "text/plain": [
       "          sum_scores_TFIDF\n",
       "nice              4.242392\n",
       "littl             0.338632\n",
       "set               0.515145\n",
       "slow              4.349600\n",
       "wish              4.576738\n",
       "would             3.383977\n",
       "investig          0.990953\n",
       "jump              0.179253\n",
       "like              0.145790\n",
       "long              0.381124"
      ]
     },
     "execution_count": 96,
     "metadata": {},
     "output_type": "execute_result"
    }
   ],
   "source": [
    "sum_scores = pd.DataFrame(textmatrix.sum(),columns=['sum_scores_TFIDF'])\n",
    "sum_scores.head(10)"
   ]
  },
  {
   "cell_type": "code",
   "execution_count": 100,
   "metadata": {
    "_uuid": "b1f1eec5de28fe000985af8a09f580917a5f4c1e"
   },
   "outputs": [
    {
     "data": {
      "text/html": [
       "<div>\n",
       "<style scoped>\n",
       "    .dataframe tbody tr th:only-of-type {\n",
       "        vertical-align: middle;\n",
       "    }\n",
       "\n",
       "    .dataframe tbody tr th {\n",
       "        vertical-align: top;\n",
       "    }\n",
       "\n",
       "    .dataframe thead th {\n",
       "        text-align: right;\n",
       "    }\n",
       "</style>\n",
       "<table border=\"1\" class=\"dataframe\">\n",
       "  <thead>\n",
       "    <tr style=\"text-align: right;\">\n",
       "      <th></th>\n",
       "      <th>sum_scores_TFIDF</th>\n",
       "    </tr>\n",
       "  </thead>\n",
       "  <tbody>\n",
       "    <tr>\n",
       "      <th>gripe</th>\n",
       "      <td>0.076083</td>\n",
       "    </tr>\n",
       "    <tr>\n",
       "      <th>grandkid</th>\n",
       "      <td>0.076083</td>\n",
       "    </tr>\n",
       "    <tr>\n",
       "      <th>old</th>\n",
       "      <td>0.076083</td>\n",
       "    </tr>\n",
       "    <tr>\n",
       "      <th>cow</th>\n",
       "      <td>0.076083</td>\n",
       "    </tr>\n",
       "    <tr>\n",
       "      <th>felt</th>\n",
       "      <td>0.076083</td>\n",
       "    </tr>\n",
       "  </tbody>\n",
       "</table>\n",
       "</div>"
      ],
      "text/plain": [
       "          sum_scores_TFIDF\n",
       "gripe             0.076083\n",
       "grandkid          0.076083\n",
       "old               0.076083\n",
       "cow               0.076083\n",
       "felt              0.076083"
      ]
     },
     "execution_count": 100,
     "metadata": {},
     "output_type": "execute_result"
    }
   ],
   "source": [
    "# Need to see most important words in the reviews\n",
    "# words used by many people or less frequent in sentences\n",
    "sum_scores.sort_values(by='sum_scores_TFIDF',ascending=True)[:5] "
   ]
  },
  {
   "cell_type": "code",
   "execution_count": 101,
   "metadata": {
    "_uuid": "7d9406f9cfe35e27fa7db9e344471c6aa27950ab"
   },
   "outputs": [
    {
     "data": {
      "text/html": [
       "<div>\n",
       "<style scoped>\n",
       "    .dataframe tbody tr th:only-of-type {\n",
       "        vertical-align: middle;\n",
       "    }\n",
       "\n",
       "    .dataframe tbody tr th {\n",
       "        vertical-align: top;\n",
       "    }\n",
       "\n",
       "    .dataframe thead th {\n",
       "        text-align: right;\n",
       "    }\n",
       "</style>\n",
       "<table border=\"1\" class=\"dataframe\">\n",
       "  <thead>\n",
       "    <tr style=\"text-align: right;\">\n",
       "      <th></th>\n",
       "      <th>sum_scores_TFIDF</th>\n",
       "    </tr>\n",
       "  </thead>\n",
       "  <tbody>\n",
       "    <tr>\n",
       "      <th>fool</th>\n",
       "      <td>217.397630</td>\n",
       "    </tr>\n",
       "    <tr>\n",
       "      <th>summer</th>\n",
       "      <td>209.501804</td>\n",
       "    </tr>\n",
       "    <tr>\n",
       "      <th>matt</th>\n",
       "      <td>198.910788</td>\n",
       "    </tr>\n",
       "    <tr>\n",
       "      <th>lighter</th>\n",
       "      <td>181.218969</td>\n",
       "    </tr>\n",
       "    <tr>\n",
       "      <th>purs</th>\n",
       "      <td>147.851506</td>\n",
       "    </tr>\n",
       "  </tbody>\n",
       "</table>\n",
       "</div>"
      ],
      "text/plain": [
       "         sum_scores_TFIDF\n",
       "fool           217.397630\n",
       "summer         209.501804\n",
       "matt           198.910788\n",
       "lighter        181.218969\n",
       "purs           147.851506"
      ]
     },
     "execution_count": 101,
     "metadata": {},
     "output_type": "execute_result"
    }
   ],
   "source": [
    "#high usage of words in reviews\n",
    "sum_scores.sort_values(by='sum_scores_TFIDF',ascending=False)[:5]"
   ]
  },
  {
   "cell_type": "markdown",
   "metadata": {
    "_uuid": "2b1c3bbee07fc46e7b5c872a79cd97b736146bd0"
   },
   "source": [
    "### Lets build features on our data\n"
   ]
  },
  {
   "cell_type": "code",
   "execution_count": 102,
   "metadata": {
    "_uuid": "d845dc661913110a91f252efc0f0ab498e77949b"
   },
   "outputs": [
    {
     "data": {
      "text/html": [
       "<div>\n",
       "<style scoped>\n",
       "    .dataframe tbody tr th:only-of-type {\n",
       "        vertical-align: middle;\n",
       "    }\n",
       "\n",
       "    .dataframe tbody tr th {\n",
       "        vertical-align: top;\n",
       "    }\n",
       "\n",
       "    .dataframe thead th {\n",
       "        text-align: right;\n",
       "    }\n",
       "</style>\n",
       "<table border=\"1\" class=\"dataframe\">\n",
       "  <thead>\n",
       "    <tr style=\"text-align: right;\">\n",
       "      <th></th>\n",
       "      <th>text</th>\n",
       "      <th>rating</th>\n",
       "      <th>recommend</th>\n",
       "    </tr>\n",
       "  </thead>\n",
       "  <tbody>\n",
       "    <tr>\n",
       "      <th>17214</th>\n",
       "      <td>Its a nice little set up but it's slow. I wish I would have investigated them a little more before just jumping in.. I like it but....</td>\n",
       "      <td>3.0</td>\n",
       "      <td>True</td>\n",
       "    </tr>\n",
       "    <tr>\n",
       "      <th>17215</th>\n",
       "      <td>As long as apps are downloaded before leaving WIFI they work great for road trips or hunting trips!. Great for road trips!</td>\n",
       "      <td>5.0</td>\n",
       "      <td>True</td>\n",
       "    </tr>\n",
       "    <tr>\n",
       "      <th>17216</th>\n",
       "      <td>Was a gift for our 8 year old daughter. Great for kids. Great for kids</td>\n",
       "      <td>5.0</td>\n",
       "      <td>True</td>\n",
       "    </tr>\n",
       "    <tr>\n",
       "      <th>17217</th>\n",
       "      <td>my grandkids love it. This is the 3 one we bought.. kids love it</td>\n",
       "      <td>5.0</td>\n",
       "      <td>True</td>\n",
       "    </tr>\n",
       "    <tr>\n",
       "      <th>17218</th>\n",
       "      <td>Great case ok tablet no Android play store. Weak micro usb port. It's isn't an straight out the box tablet. Had to install Android play store on it. And as far as the charging port goes I'm on my 3rd one but best buy are the best with their return policy.... Tablet not for kids</td>\n",
       "      <td>3.0</td>\n",
       "      <td>True</td>\n",
       "    </tr>\n",
       "  </tbody>\n",
       "</table>\n",
       "</div>"
      ],
      "text/plain": [
       "                                                                                                                                                                                                                                                                                         text  \\\n",
       "17214  Its a nice little set up but it's slow. I wish I would have investigated them a little more before just jumping in.. I like it but....                                                                                                                                                   \n",
       "17215  As long as apps are downloaded before leaving WIFI they work great for road trips or hunting trips!. Great for road trips!                                                                                                                                                               \n",
       "17216  Was a gift for our 8 year old daughter. Great for kids. Great for kids                                                                                                                                                                                                                   \n",
       "17217  my grandkids love it. This is the 3 one we bought.. kids love it                                                                                                                                                                                                                         \n",
       "17218  Great case ok tablet no Android play store. Weak micro usb port. It's isn't an straight out the box tablet. Had to install Android play store on it. And as far as the charging port goes I'm on my 3rd one but best buy are the best with their return policy.... Tablet not for kids   \n",
       "\n",
       "       rating recommend  \n",
       "17214  3.0     True      \n",
       "17215  5.0     True      \n",
       "17216  5.0     True      \n",
       "17217  5.0     True      \n",
       "17218  3.0     True      "
      ]
     },
     "execution_count": 102,
     "metadata": {},
     "output_type": "execute_result"
    }
   ],
   "source": [
    "pd.set_option('display.max_colwidth', 0)\n",
    "comments.head()"
   ]
  },
  {
   "cell_type": "markdown",
   "metadata": {
    "_uuid": "8be0842858f98cea6a2f4ab99348b136ba0e9eb2"
   },
   "source": [
    "**What is sentiment analysis ? No idea ? \n",
    "**Read the next code block"
   ]
  },
  {
   "cell_type": "code",
   "execution_count": 103,
   "metadata": {
    "_uuid": "ec6995eb458d83ed94a991b0d0f18ea0497110a1"
   },
   "outputs": [
    {
     "name": "stdout",
     "output_type": "stream",
     "text": [
      "happy {'neg': 0.0, 'neu': 0.483, 'pos': 0.517, 'compound': 0.9522}\n",
      "sad {'neg': 0.714, 'neu': 0.286, 'pos': 0.0, 'compound': -0.9432}\n",
      "dont care - {'neg': 0.0, 'neu': 1.0, 'pos': 0.0, 'compound': 0.0}\n",
      "dss - {'neg': 0.0, 'neu': 1.0, 'pos': 0.0, 'compound': 0.0}\n"
     ]
    },
    {
     "name": "stderr",
     "output_type": "stream",
     "text": [
      "C:\\Users\\PB\\Anaconda3\\lib\\site-packages\\nltk\\twitter\\__init__.py:20: UserWarning: The twython library has not been installed. Some functionality from the twitter package will not be available.\n",
      "  warnings.warn(\"The twython library has not been installed. \"\n"
     ]
    }
   ],
   "source": [
    "from nltk.sentiment.vader import SentimentIntensityAnalyzer\n",
    "sid = SentimentIntensityAnalyzer()\n",
    "\n",
    "happy = \"I am Happy. this is so awesome. I love life. I will be in heaven\"\n",
    "#when you find free food in university\n",
    "print(\"happy \" + str(sid.polarity_scores(text)))\n",
    "\n",
    "\n",
    "sad = \"i hate this. I am mad this is stupid. I will kill you\"\n",
    "#when your professor gives you a ZERO in assignment\n",
    "print(\"sad \" + str(sid.polarity_scores(sad)))\n",
    "\n",
    "neut = \"I will come. You should go. This is blue color\"\n",
    "#when you state facts and nothing else\n",
    "print(\"dont care - \" + str(sid.polarity_scores(neut)))\n",
    "\n",
    "srishti = \"money\"\n",
    "print(\"dss - \" + str(sid.polarity_scores(srishti)))\n"
   ]
  },
  {
   "cell_type": "markdown",
   "metadata": {
    "_uuid": "6fc635ddfd055812206846cfe547ec84b8e7915a"
   },
   "source": [
    "#### Understand the output\n",
    "    - sid.polarity is a dictionary\n",
    "    - pos and neg indicates - positive and negative emotions in sentence\n",
    "    - we should be interested in compund score which calculates the final effect\n",
    "   "
   ]
  },
  {
   "cell_type": "code",
   "execution_count": 104,
   "metadata": {
    "_uuid": "defae79be4f06cba83c2d18179c818ba461a0549"
   },
   "outputs": [],
   "source": [
    "# Feature 1 : Sentiment compound value\n",
    "def sentiment(x):\n",
    "    score = sid.polarity_scores(x)\n",
    "    return score['compound']\n",
    "    \n",
    "#sentiment(happy)\n",
    "comments['sentiment']= comments['text'].apply(lambda x : sentiment(x))"
   ]
  },
  {
   "cell_type": "code",
   "execution_count": 105,
   "metadata": {
    "_uuid": "8012faf5bb505a2577b11ed23070c3b495ae7e60",
    "scrolled": false
   },
   "outputs": [
    {
     "name": "stdout",
     "output_type": "stream",
     "text": [
      "0\n"
     ]
    },
    {
     "data": {
      "text/html": [
       "<div>\n",
       "<style scoped>\n",
       "    .dataframe tbody tr th:only-of-type {\n",
       "        vertical-align: middle;\n",
       "    }\n",
       "\n",
       "    .dataframe tbody tr th {\n",
       "        vertical-align: top;\n",
       "    }\n",
       "\n",
       "    .dataframe thead th {\n",
       "        text-align: right;\n",
       "    }\n",
       "</style>\n",
       "<table border=\"1\" class=\"dataframe\">\n",
       "  <thead>\n",
       "    <tr style=\"text-align: right;\">\n",
       "      <th></th>\n",
       "      <th>text</th>\n",
       "      <th>rating</th>\n",
       "      <th>recommend</th>\n",
       "      <th>sentiment</th>\n",
       "      <th>length</th>\n",
       "      <th>target_rec</th>\n",
       "    </tr>\n",
       "  </thead>\n",
       "  <tbody>\n",
       "    <tr>\n",
       "      <th>17214</th>\n",
       "      <td>Its a nice little set up but it's slow. I wish I would have investigated them a little more before just jumping in.. I like it but....</td>\n",
       "      <td>3.0</td>\n",
       "      <td>True</td>\n",
       "      <td>0.8271</td>\n",
       "      <td>29</td>\n",
       "      <td>1</td>\n",
       "    </tr>\n",
       "    <tr>\n",
       "      <th>17215</th>\n",
       "      <td>As long as apps are downloaded before leaving WIFI they work great for road trips or hunting trips!. Great for road trips!</td>\n",
       "      <td>5.0</td>\n",
       "      <td>True</td>\n",
       "      <td>0.8684</td>\n",
       "      <td>23</td>\n",
       "      <td>1</td>\n",
       "    </tr>\n",
       "    <tr>\n",
       "      <th>17216</th>\n",
       "      <td>Was a gift for our 8 year old daughter. Great for kids. Great for kids</td>\n",
       "      <td>5.0</td>\n",
       "      <td>True</td>\n",
       "      <td>0.9022</td>\n",
       "      <td>15</td>\n",
       "      <td>1</td>\n",
       "    </tr>\n",
       "    <tr>\n",
       "      <th>17217</th>\n",
       "      <td>my grandkids love it. This is the 3 one we bought.. kids love it</td>\n",
       "      <td>5.0</td>\n",
       "      <td>True</td>\n",
       "      <td>0.8555</td>\n",
       "      <td>14</td>\n",
       "      <td>1</td>\n",
       "    </tr>\n",
       "    <tr>\n",
       "      <th>17218</th>\n",
       "      <td>Great case ok tablet no Android play store. Weak micro usb port. It's isn't an straight out the box tablet. Had to install Android play store on it. And as far as the charging port goes I'm on my 3rd one but best buy are the best with their return policy.... Tablet not for kids</td>\n",
       "      <td>3.0</td>\n",
       "      <td>True</td>\n",
       "      <td>0.9457</td>\n",
       "      <td>58</td>\n",
       "      <td>1</td>\n",
       "    </tr>\n",
       "  </tbody>\n",
       "</table>\n",
       "</div>"
      ],
      "text/plain": [
       "                                                                                                                                                                                                                                                                                         text  \\\n",
       "17214  Its a nice little set up but it's slow. I wish I would have investigated them a little more before just jumping in.. I like it but....                                                                                                                                                   \n",
       "17215  As long as apps are downloaded before leaving WIFI they work great for road trips or hunting trips!. Great for road trips!                                                                                                                                                               \n",
       "17216  Was a gift for our 8 year old daughter. Great for kids. Great for kids                                                                                                                                                                                                                   \n",
       "17217  my grandkids love it. This is the 3 one we bought.. kids love it                                                                                                                                                                                                                         \n",
       "17218  Great case ok tablet no Android play store. Weak micro usb port. It's isn't an straight out the box tablet. Had to install Android play store on it. And as far as the charging port goes I'm on my 3rd one but best buy are the best with their return policy.... Tablet not for kids   \n",
       "\n",
       "       rating recommend  sentiment  length  target_rec  \n",
       "17214  3.0     True      0.8271     29      1           \n",
       "17215  5.0     True      0.8684     23      1           \n",
       "17216  5.0     True      0.9022     15      1           \n",
       "17217  5.0     True      0.8555     14      1           \n",
       "17218  3.0     True      0.9457     58      1           "
      ]
     },
     "execution_count": 105,
     "metadata": {},
     "output_type": "execute_result"
    }
   ],
   "source": [
    "# Feature 2 : Length of string\n",
    "\n",
    "comments['length'] = comments['text'].apply(lambda x : len(re.split('\\W+',x)))\n",
    "comments[comments['rating']==5].head(10)\n",
    "\n",
    "# before we proceed - we need to convert all true >> 1 and false as 0\n",
    "def convert(x):\n",
    "    \n",
    "    if x==True:\n",
    "        return 1\n",
    "    else :\n",
    "        return 0\n",
    "    \n",
    "print(convert(\"False\"))\n",
    "\n",
    "comments['target_rec'] = comments['recommend'].apply(lambda x : convert(x))\n",
    "comments.head(5)"
   ]
  },
  {
   "cell_type": "code",
   "execution_count": 106,
   "metadata": {
    "_uuid": "a4e93ddbd58655cde9a9e1e0b6635e929afba629"
   },
   "outputs": [
    {
     "data": {
      "text/html": [
       "<div>\n",
       "<style scoped>\n",
       "    .dataframe tbody tr th:only-of-type {\n",
       "        vertical-align: middle;\n",
       "    }\n",
       "\n",
       "    .dataframe tbody tr th {\n",
       "        vertical-align: top;\n",
       "    }\n",
       "\n",
       "    .dataframe thead th {\n",
       "        text-align: right;\n",
       "    }\n",
       "</style>\n",
       "<table border=\"1\" class=\"dataframe\">\n",
       "  <thead>\n",
       "    <tr style=\"text-align: right;\">\n",
       "      <th></th>\n",
       "      <th>text</th>\n",
       "      <th>rating</th>\n",
       "      <th>recommend</th>\n",
       "      <th>sentiment</th>\n",
       "      <th>length</th>\n",
       "      <th>target_rec</th>\n",
       "    </tr>\n",
       "  </thead>\n",
       "  <tbody>\n",
       "    <tr>\n",
       "      <th>17220</th>\n",
       "      <td>This product wouldn't turn on nor charge and then store couldn't locate another one for me.. Product Issues</td>\n",
       "      <td>1.0</td>\n",
       "      <td>False</td>\n",
       "      <td>0.0000</td>\n",
       "      <td>20</td>\n",
       "      <td>0</td>\n",
       "    </tr>\n",
       "    <tr>\n",
       "      <th>17423</th>\n",
       "      <td>Would not take a charge, good thing i tried before wrapping it for Christmas.. Had to return this on Christmas eve day</td>\n",
       "      <td>1.0</td>\n",
       "      <td>False</td>\n",
       "      <td>-0.3412</td>\n",
       "      <td>22</td>\n",
       "      <td>0</td>\n",
       "    </tr>\n",
       "    <tr>\n",
       "      <th>17443</th>\n",
       "      <td>I didon't care for this tablet, downloading apps outside of Amazon was really confusing.. Don't like...too hard to download other apps</td>\n",
       "      <td>1.0</td>\n",
       "      <td>False</td>\n",
       "      <td>-0.1611</td>\n",
       "      <td>24</td>\n",
       "      <td>0</td>\n",
       "    </tr>\n",
       "    <tr>\n",
       "      <th>17729</th>\n",
       "      <td>I am really disappointed in this Kindle....I have had many kindles, but I wanted somwthing I thoughtnwould be simple. This kindle doesn't show all my books that are in my cloud..it doesn't matter that they aren't in my device but they should still show up in my cloud...I have to go to my amazon account and transfer the book I want to my device.. Great for someone who doesn't have alot of books</td>\n",
       "      <td>1.0</td>\n",
       "      <td>False</td>\n",
       "      <td>0.7809</td>\n",
       "      <td>80</td>\n",
       "      <td>0</td>\n",
       "    </tr>\n",
       "    <tr>\n",
       "      <th>17887</th>\n",
       "      <td>Paper white does not allow you do use books from the library as you cannot load apps. Only books from Amazon are available to read.. Unable to access library</td>\n",
       "      <td>1.0</td>\n",
       "      <td>False</td>\n",
       "      <td>0.0088</td>\n",
       "      <td>29</td>\n",
       "      <td>0</td>\n",
       "    </tr>\n",
       "  </tbody>\n",
       "</table>\n",
       "</div>"
      ],
      "text/plain": [
       "                                                                                                                                                                                                                                                                                                                                                                                                               text  \\\n",
       "17220  This product wouldn't turn on nor charge and then store couldn't locate another one for me.. Product Issues                                                                                                                                                                                                                                                                                                    \n",
       "17423  Would not take a charge, good thing i tried before wrapping it for Christmas.. Had to return this on Christmas eve day                                                                                                                                                                                                                                                                                         \n",
       "17443  I didon't care for this tablet, downloading apps outside of Amazon was really confusing.. Don't like...too hard to download other apps                                                                                                                                                                                                                                                                         \n",
       "17729  I am really disappointed in this Kindle....I have had many kindles, but I wanted somwthing I thoughtnwould be simple. This kindle doesn't show all my books that are in my cloud..it doesn't matter that they aren't in my device but they should still show up in my cloud...I have to go to my amazon account and transfer the book I want to my device.. Great for someone who doesn't have alot of books   \n",
       "17887  Paper white does not allow you do use books from the library as you cannot load apps. Only books from Amazon are available to read.. Unable to access library                                                                                                                                                                                                                                                  \n",
       "\n",
       "       rating recommend  sentiment  length  target_rec  \n",
       "17220  1.0     False     0.0000     20      0           \n",
       "17423  1.0     False    -0.3412     22      0           \n",
       "17443  1.0     False    -0.1611     24      0           \n",
       "17729  1.0     False     0.7809     80      0           \n",
       "17887  1.0     False     0.0088     29      0           "
      ]
     },
     "execution_count": 106,
     "metadata": {},
     "output_type": "execute_result"
    }
   ],
   "source": [
    "comments[comments['rating']==1].head(5)"
   ]
  },
  {
   "cell_type": "markdown",
   "metadata": {
    "_uuid": "4a524a9773acac2db8f8026b2533a448ea67fa92"
   },
   "source": [
    "### Lets predict recommendation !"
   ]
  },
  {
   "cell_type": "code",
   "execution_count": 109,
   "metadata": {
    "_uuid": "63c917674aa590f3d759e2f2d2178e1827f60c08",
    "scrolled": false
   },
   "outputs": [
    {
     "data": {
      "text/plain": [
       "[(0.027747354065233747, 'sentiment'),\n",
       " (0.015354192356786568, 'length'),\n",
       " (0.013622693475141983, 'reader3'),\n",
       " (0.01328814320192581, 'huge'),\n",
       " (0.01091815561854858, 'effici'),\n",
       " (0.010441459569441367, 'matt'),\n",
       " (0.010071984984690476, 'fool'),\n",
       " (0.008919253561986558, 'carreduc'),\n",
       " (0.008905796130351525, 'shot'),\n",
       " (0.008879178510996722, '119')]"
      ]
     },
     "execution_count": 109,
     "metadata": {},
     "output_type": "execute_result"
    }
   ],
   "source": [
    "from sklearn.ensemble import RandomForestClassifier\n",
    "from sklearn.metrics import precision_recall_fscore_support as score\n",
    "from sklearn.model_selection import train_test_split\n",
    "\n",
    "# need to reset index of the comments column to match with textfeatures\n",
    "new_sentiment = comments.sentiment.reset_index()['sentiment']\n",
    "new_length = comments.length.reset_index()['length']\n",
    "\n",
    "x_features = pd.concat([new_sentiment,new_length,pd.DataFrame(textfeatures.toarray(),columns=vectstem.vocabulary_)],axis=1)\n",
    "x_train, x_test, y_train, y_test = train_test_split(x_features,comments.target_rec,test_size=0.2)\n",
    "\n",
    "rf = RandomForestClassifier(n_jobs=-1,n_estimators=50,max_depth=90)\n",
    "rfmodel=rf.fit(x_train,y_train)\n",
    "\n",
    "y_pred = rfmodel.predict(x_test)\n",
    "sorted(zip(rfmodel.feature_importances_,x_train.columns),reverse=True)[0:10]\n",
    "# print(x_features)"
   ]
  },
  {
   "cell_type": "code",
   "execution_count": 110,
   "metadata": {
    "_uuid": "a3da97992d531570ef6cf7c3fc7664570e0bff10"
   },
   "outputs": [
    {
     "name": "stdout",
     "output_type": "stream",
     "text": [
      "Precision: 0.98 / Recall :1.0 / Accuracy 0.98 \n"
     ]
    }
   ],
   "source": [
    "precision, recall, fscore , support = score(y_test,y_pred,average='binary')\n",
    "print('Precision: {} / Recall :{} / Accuracy {} '.format(round(precision,3),\n",
    "                                                         round(recall,3),\n",
    "                                                         round((y_pred==y_test).sum()/len(y_test),3)))"
   ]
  },
  {
   "cell_type": "markdown",
   "metadata": {
    "_uuid": "b12f86e866602f6f2e4b1436a07da9a998a3cf05"
   },
   "source": [
    "## CHEERS !"
   ]
  }
 ],
 "metadata": {
  "kernelspec": {
   "display_name": "Python 3",
   "language": "python",
   "name": "python3"
  },
  "language_info": {
   "codemirror_mode": {
    "name": "ipython",
    "version": 3
   },
   "file_extension": ".py",
   "mimetype": "text/x-python",
   "name": "python",
   "nbconvert_exporter": "python",
   "pygments_lexer": "ipython3",
   "version": "3.6.5"
  }
 },
 "nbformat": 4,
 "nbformat_minor": 1
}
